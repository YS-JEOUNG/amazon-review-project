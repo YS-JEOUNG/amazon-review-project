{
  "nbformat": 4,
  "nbformat_minor": 0,
  "metadata": {
    "colab": {
      "name": "final_1_preprocessing.ipynb",
      "provenance": [],
      "collapsed_sections": [],
      "mount_file_id": "1G1vCVhd4tU_gz7uC1rjdfJRUR8ni03-Y",
      "authorship_tag": "ABX9TyM5cGXq2c8OZbPBfWFRc6Pr",
      "include_colab_link": true
    },
    "kernelspec": {
      "name": "python3",
      "display_name": "Python 3"
    },
    "language_info": {
      "name": "python"
    },
    "accelerator": "GPU"
  },
  "cells": [
    {
      "cell_type": "markdown",
      "metadata": {
        "id": "view-in-github",
        "colab_type": "text"
      },
      "source": [
        "<a href=\"https://colab.research.google.com/github/YS-JEOUNG/amazon-review-project/blob/main/final_1_preprocessing.ipynb\" target=\"_parent\"><img src=\"https://colab.research.google.com/assets/colab-badge.svg\" alt=\"Open In Colab\"/></a>"
      ]
    },
    {
      "cell_type": "markdown",
      "metadata": {
        "id": "ymn7TPAtPaAC"
      },
      "source": [
        "# Imports"
      ]
    },
    {
      "cell_type": "code",
      "metadata": {
        "id": "zl0JGNwiO9UX"
      },
      "source": [
        "# 기본\n",
        "import pandas as pd\n",
        "import numpy as np\n",
        "\n",
        "# 파일 오픈\n",
        "import gzip\n",
        "import json\n",
        "\n",
        "# datetime\n",
        "from datetime import datetime\n",
        "\n",
        "# Warnings       ###### 왜 넣지?\n",
        "import warnings\n",
        "from scipy import stats\n",
        "warnings.filterwarnings('ignore')"
      ],
      "execution_count": null,
      "outputs": []
    },
    {
      "cell_type": "markdown",
      "metadata": {
        "id": "LA7XLafbQIto"
      },
      "source": [
        "# Data"
      ]
    },
    {
      "cell_type": "code",
      "metadata": {
        "id": "mPswjmA5QH_u"
      },
      "source": [
        "def parse(path):\n",
        "    g = gzip.open(path, 'rb')\n",
        "    for l in g:\n",
        "        yield json.loads(l)\n",
        "\n",
        "def getDF(path):\n",
        "    i = 0\n",
        "    df = {}\n",
        "    for d in parse(path):\n",
        "        df[i] = d\n",
        "        i += 1\n",
        "    return pd.DataFrame.from_dict(df, orient='index')"
      ],
      "execution_count": null,
      "outputs": []
    },
    {
      "cell_type": "code",
      "metadata": {
        "id": "7UXFr2QCQY4H"
      },
      "source": [
        "df = getDF('/content/drive/MyDrive/Colab Notebooks/project/data/Arts_Crafts_and_Sewing.json.gz')"
      ],
      "execution_count": null,
      "outputs": []
    },
    {
      "cell_type": "code",
      "metadata": {
        "id": "011C8_oMQaxH"
      },
      "source": [
        "metadf = getDF('/content/drive/MyDrive/Colab Notebooks/project/data/meta_Arts_Crafts_and_Sewing.json.gz')"
      ],
      "execution_count": null,
      "outputs": []
    },
    {
      "cell_type": "code",
      "metadata": {
        "id": "vvjPfti6QxCg"
      },
      "source": [
        "total = pd.merge(df, metadf, how='left', on='asin')"
      ],
      "execution_count": null,
      "outputs": []
    },
    {
      "cell_type": "code",
      "metadata": {
        "colab": {
          "base_uri": "https://localhost:8080/"
        },
        "id": "8oW_dWbgQ4Pw",
        "outputId": "85d8dfc2-c325-4615-ab0a-9a84a188448d"
      },
      "source": [
        "total.info()"
      ],
      "execution_count": null,
      "outputs": [
        {
          "output_type": "stream",
          "text": [
            "<class 'pandas.core.frame.DataFrame'>\n",
            "Int64Index: 2911389 entries, 0 to 2911388\n",
            "Data columns (total 29 columns):\n",
            " #   Column          Dtype  \n",
            "---  ------          -----  \n",
            " 0   overall         float64\n",
            " 1   vote            object \n",
            " 2   verified        bool   \n",
            " 3   reviewTime      object \n",
            " 4   reviewerID      object \n",
            " 5   asin            object \n",
            " 6   style           object \n",
            " 7   reviewerName    object \n",
            " 8   reviewText      object \n",
            " 9   summary         object \n",
            " 10  unixReviewTime  int64  \n",
            " 11  image_x         object \n",
            " 12  category        object \n",
            " 13  tech1           object \n",
            " 14  description     object \n",
            " 15  fit             object \n",
            " 16  title           object \n",
            " 17  also_buy        object \n",
            " 18  image_y         object \n",
            " 19  tech2           object \n",
            " 20  brand           object \n",
            " 21  feature         object \n",
            " 22  rank            object \n",
            " 23  also_view       object \n",
            " 24  details         object \n",
            " 25  main_cat        object \n",
            " 26  similar_item    object \n",
            " 27  date            object \n",
            " 28  price           object \n",
            "dtypes: bool(1), float64(1), int64(1), object(26)\n",
            "memory usage: 646.9+ MB\n"
          ],
          "name": "stdout"
        }
      ]
    },
    {
      "cell_type": "code",
      "metadata": {
        "id": "cx1j8244RBda"
      },
      "source": [
        "# 필요없는 column 제거\n",
        "total = total.drop(['style', 'image_x', 'category', 'tech1', 'description', 'fit', 'also_buy', 'image_y', 'date',\n",
        "                    'tech2', 'brand', 'feature', 'rank', 'also_view', 'details', 'main_cat', 'similar_item'], axis=1)"
      ],
      "execution_count": null,
      "outputs": []
    },
    {
      "cell_type": "code",
      "metadata": {
        "colab": {
          "base_uri": "https://localhost:8080/"
        },
        "id": "9wakgSuKRUMu",
        "outputId": "8a49fa20-bfbf-4d04-a71a-6278016f3713"
      },
      "source": [
        "# null 값 존재여부 확인\n",
        "total.isnull().sum()"
      ],
      "execution_count": null,
      "outputs": [
        {
          "output_type": "execute_result",
          "data": {
            "text/plain": [
              "overall                 0\n",
              "vote              2534349\n",
              "verified                0\n",
              "reviewTime              0\n",
              "reviewerID              0\n",
              "asin                    0\n",
              "reviewerName          201\n",
              "reviewText           2544\n",
              "summary               965\n",
              "unixReviewTime          0\n",
              "title                8668\n",
              "price                8668\n",
              "dtype: int64"
            ]
          },
          "metadata": {
            "tags": []
          },
          "execution_count": 8
        }
      ]
    },
    {
      "cell_type": "code",
      "metadata": {
        "id": "RO35350yReAA"
      },
      "source": [
        "# 제품명이 중요하므로, 제품명(title) 기준으로 null값 제거\n",
        "total = total.dropna(subset=['title'])"
      ],
      "execution_count": null,
      "outputs": []
    },
    {
      "cell_type": "code",
      "metadata": {
        "colab": {
          "base_uri": "https://localhost:8080/"
        },
        "id": "74benQr5Ry3V",
        "outputId": "e8ec0a71-4067-4249-83cb-59e0f908c8a9"
      },
      "source": [
        "# null값 존재여부 재확인\n",
        "total.isnull().sum()"
      ],
      "execution_count": null,
      "outputs": [
        {
          "output_type": "execute_result",
          "data": {
            "text/plain": [
              "overall                 0\n",
              "vote              2527428\n",
              "verified                0\n",
              "reviewTime              0\n",
              "reviewerID              0\n",
              "asin                    0\n",
              "reviewerName          201\n",
              "reviewText           2540\n",
              "summary               963\n",
              "unixReviewTime          0\n",
              "title                   0\n",
              "price                   0\n",
              "dtype: int64"
            ]
          },
          "metadata": {
            "tags": []
          },
          "execution_count": 10
        }
      ]
    },
    {
      "cell_type": "code",
      "metadata": {
        "id": "Ni8Kotp6S0Gf"
      },
      "source": [
        "# vote는 리뷰 추천수. NaN을 0으로 변환\n",
        "total['vote'] = total['vote'].fillna(0)"
      ],
      "execution_count": null,
      "outputs": []
    },
    {
      "cell_type": "code",
      "metadata": {
        "colab": {
          "base_uri": "https://localhost:8080/"
        },
        "id": "89tNIq_PR2ie",
        "outputId": "a262b385-8651-4b27-c438-4894d6319655"
      },
      "source": [
        "# null값 존재여부 재확인\n",
        "total.isnull().sum()"
      ],
      "execution_count": null,
      "outputs": [
        {
          "output_type": "execute_result",
          "data": {
            "text/plain": [
              "overall              0\n",
              "vote                 0\n",
              "verified             0\n",
              "reviewTime           0\n",
              "reviewerID           0\n",
              "asin                 0\n",
              "reviewerName       201\n",
              "reviewText        2540\n",
              "summary            963\n",
              "unixReviewTime       0\n",
              "title                0\n",
              "price                0\n",
              "dtype: int64"
            ]
          },
          "metadata": {
            "tags": []
          },
          "execution_count": 12
        }
      ]
    },
    {
      "cell_type": "code",
      "metadata": {
        "id": "hQYb7XLKS_fj"
      },
      "source": [
        "# 남아있는 null값 제거\n",
        "total = total.dropna(subset=['reviewerName', 'reviewText', 'summary'])"
      ],
      "execution_count": null,
      "outputs": []
    },
    {
      "cell_type": "code",
      "metadata": {
        "colab": {
          "base_uri": "https://localhost:8080/"
        },
        "id": "LqedKyPOTQOE",
        "outputId": "b984dd08-886b-4598-fc0e-0dcd7bfae5f8"
      },
      "source": [
        "# null값 존재여부 최종확인\n",
        "total.isnull().sum()"
      ],
      "execution_count": null,
      "outputs": [
        {
          "output_type": "execute_result",
          "data": {
            "text/plain": [
              "overall           0\n",
              "vote              0\n",
              "verified          0\n",
              "reviewTime        0\n",
              "reviewerID        0\n",
              "asin              0\n",
              "reviewerName      0\n",
              "reviewText        0\n",
              "summary           0\n",
              "unixReviewTime    0\n",
              "title             0\n",
              "price             0\n",
              "dtype: int64"
            ]
          },
          "metadata": {
            "tags": []
          },
          "execution_count": 14
        }
      ]
    },
    {
      "cell_type": "code",
      "metadata": {
        "id": "M9c_Lc2YTUMk"
      },
      "source": [
        "# summary와 reviewText를 합쳐 'review_text' 컬럼 생성\n",
        "total['review_text'] = total[['summary', 'reviewText']].apply(lambda x: ' '.join(str(y) for y in x if str(y) != 'nan'), axis=1)"
      ],
      "execution_count": null,
      "outputs": []
    },
    {
      "cell_type": "code",
      "metadata": {
        "id": "spDJ_affTppH"
      },
      "source": [
        "# summary와 reviewText는 필요 없으니까 제거\n",
        "total = total.drop(['summary', 'reviewText'], axis=1)"
      ],
      "execution_count": null,
      "outputs": []
    },
    {
      "cell_type": "code",
      "metadata": {
        "colab": {
          "base_uri": "https://localhost:8080/",
          "height": 35
        },
        "id": "8bTJ8wPZTzq3",
        "outputId": "02795b26-aae6-4eee-e7bf-c4ffa8e543bd"
      },
      "source": [
        "# review_text가 제대로 만들어졌는지 확인\n",
        "total['review_text'][2041]"
      ],
      "execution_count": null,
      "outputs": [
        {
          "output_type": "execute_result",
          "data": {
            "application/vnd.google.colaboratory.intrinsic+json": {
              "type": "string"
            },
            "text/plain": [
              "'Five Stars Great quality product, and top notch service from the seller!'"
            ]
          },
          "metadata": {
            "tags": []
          },
          "execution_count": 17
        }
      ]
    },
    {
      "cell_type": "code",
      "metadata": {
        "colab": {
          "base_uri": "https://localhost:8080/",
          "height": 142
        },
        "id": "2iHFRab8T6lS",
        "outputId": "b24a5cb9-7593-44f5-e06a-767d430a2509"
      },
      "source": [
        "# 별점(overall)이 3점 이상이면 good, 미만이면 bad로 하는 rating_class column 생성\n",
        "total['rating_class'] = total['overall'].apply(lambda x: 'bad' if x < 3 else 'good')\n",
        "total.head(3)"
      ],
      "execution_count": null,
      "outputs": [
        {
          "output_type": "execute_result",
          "data": {
            "text/html": [
              "<div>\n",
              "<style scoped>\n",
              "    .dataframe tbody tr th:only-of-type {\n",
              "        vertical-align: middle;\n",
              "    }\n",
              "\n",
              "    .dataframe tbody tr th {\n",
              "        vertical-align: top;\n",
              "    }\n",
              "\n",
              "    .dataframe thead th {\n",
              "        text-align: right;\n",
              "    }\n",
              "</style>\n",
              "<table border=\"1\" class=\"dataframe\">\n",
              "  <thead>\n",
              "    <tr style=\"text-align: right;\">\n",
              "      <th></th>\n",
              "      <th>overall</th>\n",
              "      <th>vote</th>\n",
              "      <th>verified</th>\n",
              "      <th>reviewTime</th>\n",
              "      <th>reviewerID</th>\n",
              "      <th>asin</th>\n",
              "      <th>reviewerName</th>\n",
              "      <th>unixReviewTime</th>\n",
              "      <th>title</th>\n",
              "      <th>price</th>\n",
              "      <th>review_text</th>\n",
              "      <th>rating_class</th>\n",
              "    </tr>\n",
              "  </thead>\n",
              "  <tbody>\n",
              "    <tr>\n",
              "      <th>2041</th>\n",
              "      <td>5.0</td>\n",
              "      <td>0</td>\n",
              "      <td>True</td>\n",
              "      <td>03 13, 2017</td>\n",
              "      <td>A3DKYRF9YGF6A6</td>\n",
              "      <td>6665560953</td>\n",
              "      <td>Amazon Customer</td>\n",
              "      <td>1489363200</td>\n",
              "      <td>You Son of a Bitch! 1987 Embroidered Patch</td>\n",
              "      <td>$6.41</td>\n",
              "      <td>Five Stars Great quality product, and top notc...</td>\n",
              "      <td>good</td>\n",
              "    </tr>\n",
              "    <tr>\n",
              "      <th>2042</th>\n",
              "      <td>5.0</td>\n",
              "      <td>0</td>\n",
              "      <td>True</td>\n",
              "      <td>02 6, 2017</td>\n",
              "      <td>A1I2TJ3PQ4WHK1</td>\n",
              "      <td>6665560953</td>\n",
              "      <td>Eric Breneman</td>\n",
              "      <td>1486339200</td>\n",
              "      <td>You Son of a Bitch! 1987 Embroidered Patch</td>\n",
              "      <td>$6.41</td>\n",
              "      <td>don't push too many pencils details on this pa...</td>\n",
              "      <td>good</td>\n",
              "    </tr>\n",
              "    <tr>\n",
              "      <th>2043</th>\n",
              "      <td>5.0</td>\n",
              "      <td>0</td>\n",
              "      <td>True</td>\n",
              "      <td>12 23, 2016</td>\n",
              "      <td>A1ZDJ2BYZXZHLQ</td>\n",
              "      <td>6665560953</td>\n",
              "      <td>Kirkja</td>\n",
              "      <td>1482451200</td>\n",
              "      <td>You Son of a Bitch! 1987 Embroidered Patch</td>\n",
              "      <td>$6.41</td>\n",
              "      <td>Great deal if you buy in bulk! Bought these as...</td>\n",
              "      <td>good</td>\n",
              "    </tr>\n",
              "  </tbody>\n",
              "</table>\n",
              "</div>"
            ],
            "text/plain": [
              "      overall  ... rating_class\n",
              "2041      5.0  ...         good\n",
              "2042      5.0  ...         good\n",
              "2043      5.0  ...         good\n",
              "\n",
              "[3 rows x 12 columns]"
            ]
          },
          "metadata": {
            "tags": []
          },
          "execution_count": 18
        }
      ]
    },
    {
      "cell_type": "code",
      "metadata": {
        "id": "R_6gKzhFUP21"
      },
      "source": [
        "# asin, reviewName, unixReviewTime 컬럼을 사용해서 중복된 리뷰 존재가 있으면 그 중 첫번째 것만 남기기\n",
        "total = total.drop_duplicates(['asin', 'reviewerName', 'unixReviewTime'], keep='first')"
      ],
      "execution_count": null,
      "outputs": []
    },
    {
      "cell_type": "code",
      "metadata": {
        "colab": {
          "base_uri": "https://localhost:8080/",
          "height": 142
        },
        "id": "61PAsz8aUjDN",
        "outputId": "6f5acf7e-15f9-41a8-efc1-4a2a7138d60e"
      },
      "source": [
        "# reviewTime 컬럼의 날짜 표현형식을 바꿔서 time 컬럼 생성 및 reviewTime 제거\n",
        "total['time'] = total.reviewTime.str.replace(',', '')\n",
        "total['time'] = pd.to_datetime(total['time'], format='%m %d %Y')\n",
        "total = total.drop('reviewTime', axis=1)\n",
        "total.head(3)"
      ],
      "execution_count": null,
      "outputs": [
        {
          "output_type": "execute_result",
          "data": {
            "text/html": [
              "<div>\n",
              "<style scoped>\n",
              "    .dataframe tbody tr th:only-of-type {\n",
              "        vertical-align: middle;\n",
              "    }\n",
              "\n",
              "    .dataframe tbody tr th {\n",
              "        vertical-align: top;\n",
              "    }\n",
              "\n",
              "    .dataframe thead th {\n",
              "        text-align: right;\n",
              "    }\n",
              "</style>\n",
              "<table border=\"1\" class=\"dataframe\">\n",
              "  <thead>\n",
              "    <tr style=\"text-align: right;\">\n",
              "      <th></th>\n",
              "      <th>overall</th>\n",
              "      <th>vote</th>\n",
              "      <th>verified</th>\n",
              "      <th>reviewerID</th>\n",
              "      <th>asin</th>\n",
              "      <th>reviewerName</th>\n",
              "      <th>unixReviewTime</th>\n",
              "      <th>title</th>\n",
              "      <th>price</th>\n",
              "      <th>review_text</th>\n",
              "      <th>rating_class</th>\n",
              "      <th>time</th>\n",
              "    </tr>\n",
              "  </thead>\n",
              "  <tbody>\n",
              "    <tr>\n",
              "      <th>2041</th>\n",
              "      <td>5.0</td>\n",
              "      <td>0</td>\n",
              "      <td>True</td>\n",
              "      <td>A3DKYRF9YGF6A6</td>\n",
              "      <td>6665560953</td>\n",
              "      <td>Amazon Customer</td>\n",
              "      <td>1489363200</td>\n",
              "      <td>You Son of a Bitch! 1987 Embroidered Patch</td>\n",
              "      <td>$6.41</td>\n",
              "      <td>Five Stars Great quality product, and top notc...</td>\n",
              "      <td>good</td>\n",
              "      <td>2017-03-13</td>\n",
              "    </tr>\n",
              "    <tr>\n",
              "      <th>2042</th>\n",
              "      <td>5.0</td>\n",
              "      <td>0</td>\n",
              "      <td>True</td>\n",
              "      <td>A1I2TJ3PQ4WHK1</td>\n",
              "      <td>6665560953</td>\n",
              "      <td>Eric Breneman</td>\n",
              "      <td>1486339200</td>\n",
              "      <td>You Son of a Bitch! 1987 Embroidered Patch</td>\n",
              "      <td>$6.41</td>\n",
              "      <td>don't push too many pencils details on this pa...</td>\n",
              "      <td>good</td>\n",
              "      <td>2017-02-06</td>\n",
              "    </tr>\n",
              "    <tr>\n",
              "      <th>2043</th>\n",
              "      <td>5.0</td>\n",
              "      <td>0</td>\n",
              "      <td>True</td>\n",
              "      <td>A1ZDJ2BYZXZHLQ</td>\n",
              "      <td>6665560953</td>\n",
              "      <td>Kirkja</td>\n",
              "      <td>1482451200</td>\n",
              "      <td>You Son of a Bitch! 1987 Embroidered Patch</td>\n",
              "      <td>$6.41</td>\n",
              "      <td>Great deal if you buy in bulk! Bought these as...</td>\n",
              "      <td>good</td>\n",
              "      <td>2016-12-23</td>\n",
              "    </tr>\n",
              "  </tbody>\n",
              "</table>\n",
              "</div>"
            ],
            "text/plain": [
              "      overall vote  ...  rating_class       time\n",
              "2041      5.0    0  ...          good 2017-03-13\n",
              "2042      5.0    0  ...          good 2017-02-06\n",
              "2043      5.0    0  ...          good 2016-12-23\n",
              "\n",
              "[3 rows x 12 columns]"
            ]
          },
          "metadata": {
            "tags": []
          },
          "execution_count": 20
        }
      ]
    },
    {
      "cell_type": "code",
      "metadata": {
        "id": "iAfGcQSwU5CP"
      },
      "source": [
        "# 컬럼 이름 수정\n",
        "total.columns = ['ratings', 'vote', 'verified', 'reviewer_id', 'prod_id', 'reviewer_name', 'unix_review_time', 'prod_name', 'price', 'review_text', 'rating_class', 'time']"
      ],
      "execution_count": null,
      "outputs": []
    },
    {
      "cell_type": "code",
      "metadata": {
        "colab": {
          "base_uri": "https://localhost:8080/",
          "height": 142
        },
        "id": "HrmcsH30ViuQ",
        "outputId": "342005ed-aa7d-4435-d57b-c067603d14a2"
      },
      "source": [
        "total.head(3)"
      ],
      "execution_count": null,
      "outputs": [
        {
          "output_type": "execute_result",
          "data": {
            "text/html": [
              "<div>\n",
              "<style scoped>\n",
              "    .dataframe tbody tr th:only-of-type {\n",
              "        vertical-align: middle;\n",
              "    }\n",
              "\n",
              "    .dataframe tbody tr th {\n",
              "        vertical-align: top;\n",
              "    }\n",
              "\n",
              "    .dataframe thead th {\n",
              "        text-align: right;\n",
              "    }\n",
              "</style>\n",
              "<table border=\"1\" class=\"dataframe\">\n",
              "  <thead>\n",
              "    <tr style=\"text-align: right;\">\n",
              "      <th></th>\n",
              "      <th>ratings</th>\n",
              "      <th>vote</th>\n",
              "      <th>verified</th>\n",
              "      <th>reviewer_id</th>\n",
              "      <th>prod_id</th>\n",
              "      <th>reviewer_name</th>\n",
              "      <th>unix_review_time</th>\n",
              "      <th>prod_name</th>\n",
              "      <th>price</th>\n",
              "      <th>review_text</th>\n",
              "      <th>rating_class</th>\n",
              "      <th>time</th>\n",
              "    </tr>\n",
              "  </thead>\n",
              "  <tbody>\n",
              "    <tr>\n",
              "      <th>2041</th>\n",
              "      <td>5.0</td>\n",
              "      <td>0</td>\n",
              "      <td>True</td>\n",
              "      <td>A3DKYRF9YGF6A6</td>\n",
              "      <td>6665560953</td>\n",
              "      <td>Amazon Customer</td>\n",
              "      <td>1489363200</td>\n",
              "      <td>You Son of a Bitch! 1987 Embroidered Patch</td>\n",
              "      <td>$6.41</td>\n",
              "      <td>Five Stars Great quality product, and top notc...</td>\n",
              "      <td>good</td>\n",
              "      <td>2017-03-13</td>\n",
              "    </tr>\n",
              "    <tr>\n",
              "      <th>2042</th>\n",
              "      <td>5.0</td>\n",
              "      <td>0</td>\n",
              "      <td>True</td>\n",
              "      <td>A1I2TJ3PQ4WHK1</td>\n",
              "      <td>6665560953</td>\n",
              "      <td>Eric Breneman</td>\n",
              "      <td>1486339200</td>\n",
              "      <td>You Son of a Bitch! 1987 Embroidered Patch</td>\n",
              "      <td>$6.41</td>\n",
              "      <td>don't push too many pencils details on this pa...</td>\n",
              "      <td>good</td>\n",
              "      <td>2017-02-06</td>\n",
              "    </tr>\n",
              "    <tr>\n",
              "      <th>2043</th>\n",
              "      <td>5.0</td>\n",
              "      <td>0</td>\n",
              "      <td>True</td>\n",
              "      <td>A1ZDJ2BYZXZHLQ</td>\n",
              "      <td>6665560953</td>\n",
              "      <td>Kirkja</td>\n",
              "      <td>1482451200</td>\n",
              "      <td>You Son of a Bitch! 1987 Embroidered Patch</td>\n",
              "      <td>$6.41</td>\n",
              "      <td>Great deal if you buy in bulk! Bought these as...</td>\n",
              "      <td>good</td>\n",
              "      <td>2016-12-23</td>\n",
              "    </tr>\n",
              "  </tbody>\n",
              "</table>\n",
              "</div>"
            ],
            "text/plain": [
              "      ratings vote  ...  rating_class       time\n",
              "2041      5.0    0  ...          good 2017-03-13\n",
              "2042      5.0    0  ...          good 2017-02-06\n",
              "2043      5.0    0  ...          good 2016-12-23\n",
              "\n",
              "[3 rows x 12 columns]"
            ]
          },
          "metadata": {
            "tags": []
          },
          "execution_count": 22
        }
      ]
    },
    {
      "cell_type": "code",
      "metadata": {
        "id": "k-q0MaVpVl9R",
        "colab": {
          "base_uri": "https://localhost:8080/",
          "height": 340
        },
        "outputId": "13dabc9a-1de3-4d69-dabf-9f5250758df0"
      },
      "source": [
        "# 파일 저장\n",
        "total.to_csv('/content/drive/MyDrive/Colab Notebooks/project/final_data.csv', sep=',', encoding='utf-8', index=False)"
      ],
      "execution_count": null,
      "outputs": [
        {
          "output_type": "error",
          "ename": "KeyboardInterrupt",
          "evalue": "ignored",
          "traceback": [
            "\u001b[0;31m---------------------------------------------------------------------------\u001b[0m",
            "\u001b[0;31mKeyboardInterrupt\u001b[0m                         Traceback (most recent call last)",
            "\u001b[0;32m<ipython-input-23-83545e08b01c>\u001b[0m in \u001b[0;36m<module>\u001b[0;34m()\u001b[0m\n\u001b[1;32m      1\u001b[0m \u001b[0;31m# 파일 저장\u001b[0m\u001b[0;34m\u001b[0m\u001b[0;34m\u001b[0m\u001b[0;34m\u001b[0m\u001b[0m\n\u001b[0;32m----> 2\u001b[0;31m \u001b[0mtotal\u001b[0m\u001b[0;34m.\u001b[0m\u001b[0mto_csv\u001b[0m\u001b[0;34m(\u001b[0m\u001b[0;34m'/content/drive/MyDrive/Colab Notebooks/project/final_data.csv'\u001b[0m\u001b[0;34m,\u001b[0m \u001b[0msep\u001b[0m\u001b[0;34m=\u001b[0m\u001b[0;34m','\u001b[0m\u001b[0;34m,\u001b[0m \u001b[0mencoding\u001b[0m\u001b[0;34m=\u001b[0m\u001b[0;34m'utf-8'\u001b[0m\u001b[0;34m,\u001b[0m \u001b[0mindex\u001b[0m\u001b[0;34m=\u001b[0m\u001b[0;32mFalse\u001b[0m\u001b[0;34m)\u001b[0m\u001b[0;34m\u001b[0m\u001b[0;34m\u001b[0m\u001b[0m\n\u001b[0m",
            "\u001b[0;32m/usr/local/lib/python3.7/dist-packages/pandas/core/generic.py\u001b[0m in \u001b[0;36mto_csv\u001b[0;34m(self, path_or_buf, sep, na_rep, float_format, columns, header, index, index_label, mode, encoding, compression, quoting, quotechar, line_terminator, chunksize, date_format, doublequote, escapechar, decimal, errors)\u001b[0m\n\u001b[1;32m   3168\u001b[0m             \u001b[0mdecimal\u001b[0m\u001b[0;34m=\u001b[0m\u001b[0mdecimal\u001b[0m\u001b[0;34m,\u001b[0m\u001b[0;34m\u001b[0m\u001b[0;34m\u001b[0m\u001b[0m\n\u001b[1;32m   3169\u001b[0m         )\n\u001b[0;32m-> 3170\u001b[0;31m         \u001b[0mformatter\u001b[0m\u001b[0;34m.\u001b[0m\u001b[0msave\u001b[0m\u001b[0;34m(\u001b[0m\u001b[0;34m)\u001b[0m\u001b[0;34m\u001b[0m\u001b[0;34m\u001b[0m\u001b[0m\n\u001b[0m\u001b[1;32m   3171\u001b[0m \u001b[0;34m\u001b[0m\u001b[0m\n\u001b[1;32m   3172\u001b[0m         \u001b[0;32mif\u001b[0m \u001b[0mpath_or_buf\u001b[0m \u001b[0;32mis\u001b[0m \u001b[0;32mNone\u001b[0m\u001b[0;34m:\u001b[0m\u001b[0;34m\u001b[0m\u001b[0;34m\u001b[0m\u001b[0m\n",
            "\u001b[0;32m/usr/local/lib/python3.7/dist-packages/pandas/io/formats/csvs.py\u001b[0m in \u001b[0;36msave\u001b[0;34m(self)\u001b[0m\n\u001b[1;32m    204\u001b[0m             )\n\u001b[1;32m    205\u001b[0m \u001b[0;34m\u001b[0m\u001b[0m\n\u001b[0;32m--> 206\u001b[0;31m             \u001b[0mself\u001b[0m\u001b[0;34m.\u001b[0m\u001b[0m_save\u001b[0m\u001b[0;34m(\u001b[0m\u001b[0;34m)\u001b[0m\u001b[0;34m\u001b[0m\u001b[0;34m\u001b[0m\u001b[0m\n\u001b[0m\u001b[1;32m    207\u001b[0m \u001b[0;34m\u001b[0m\u001b[0m\n\u001b[1;32m    208\u001b[0m         \u001b[0;32mfinally\u001b[0m\u001b[0;34m:\u001b[0m\u001b[0;34m\u001b[0m\u001b[0;34m\u001b[0m\u001b[0m\n",
            "\u001b[0;32m/usr/local/lib/python3.7/dist-packages/pandas/io/formats/csvs.py\u001b[0m in \u001b[0;36m_save\u001b[0;34m(self)\u001b[0m\n\u001b[1;32m    326\u001b[0m                 \u001b[0;32mbreak\u001b[0m\u001b[0;34m\u001b[0m\u001b[0;34m\u001b[0m\u001b[0m\n\u001b[1;32m    327\u001b[0m \u001b[0;34m\u001b[0m\u001b[0m\n\u001b[0;32m--> 328\u001b[0;31m             \u001b[0mself\u001b[0m\u001b[0;34m.\u001b[0m\u001b[0m_save_chunk\u001b[0m\u001b[0;34m(\u001b[0m\u001b[0mstart_i\u001b[0m\u001b[0;34m,\u001b[0m \u001b[0mend_i\u001b[0m\u001b[0;34m)\u001b[0m\u001b[0;34m\u001b[0m\u001b[0;34m\u001b[0m\u001b[0m\n\u001b[0m\u001b[1;32m    329\u001b[0m \u001b[0;34m\u001b[0m\u001b[0m\n\u001b[1;32m    330\u001b[0m     \u001b[0;32mdef\u001b[0m \u001b[0m_save_chunk\u001b[0m\u001b[0;34m(\u001b[0m\u001b[0mself\u001b[0m\u001b[0;34m,\u001b[0m \u001b[0mstart_i\u001b[0m\u001b[0;34m:\u001b[0m \u001b[0mint\u001b[0m\u001b[0;34m,\u001b[0m \u001b[0mend_i\u001b[0m\u001b[0;34m:\u001b[0m \u001b[0mint\u001b[0m\u001b[0;34m)\u001b[0m \u001b[0;34m->\u001b[0m \u001b[0;32mNone\u001b[0m\u001b[0;34m:\u001b[0m\u001b[0;34m\u001b[0m\u001b[0;34m\u001b[0m\u001b[0m\n",
            "\u001b[0;32m/usr/local/lib/python3.7/dist-packages/pandas/io/formats/csvs.py\u001b[0m in \u001b[0;36m_save_chunk\u001b[0;34m(self, start_i, end_i)\u001b[0m\n\u001b[1;32m    357\u001b[0m             \u001b[0mdecimal\u001b[0m\u001b[0;34m=\u001b[0m\u001b[0mself\u001b[0m\u001b[0;34m.\u001b[0m\u001b[0mdecimal\u001b[0m\u001b[0;34m,\u001b[0m\u001b[0;34m\u001b[0m\u001b[0;34m\u001b[0m\u001b[0m\n\u001b[1;32m    358\u001b[0m             \u001b[0mdate_format\u001b[0m\u001b[0;34m=\u001b[0m\u001b[0mself\u001b[0m\u001b[0;34m.\u001b[0m\u001b[0mdate_format\u001b[0m\u001b[0;34m,\u001b[0m\u001b[0;34m\u001b[0m\u001b[0;34m\u001b[0m\u001b[0m\n\u001b[0;32m--> 359\u001b[0;31m             \u001b[0mquoting\u001b[0m\u001b[0;34m=\u001b[0m\u001b[0mself\u001b[0m\u001b[0;34m.\u001b[0m\u001b[0mquoting\u001b[0m\u001b[0;34m,\u001b[0m\u001b[0;34m\u001b[0m\u001b[0;34m\u001b[0m\u001b[0m\n\u001b[0m\u001b[1;32m    360\u001b[0m         )\n\u001b[1;32m    361\u001b[0m \u001b[0;34m\u001b[0m\u001b[0m\n",
            "\u001b[0;32m/usr/local/lib/python3.7/dist-packages/pandas/core/indexes/base.py\u001b[0m in \u001b[0;36mto_native_types\u001b[0;34m(self, slicer, **kwargs)\u001b[0m\n\u001b[1;32m    980\u001b[0m         \u001b[0;32mif\u001b[0m \u001b[0mslicer\u001b[0m \u001b[0;32mis\u001b[0m \u001b[0;32mnot\u001b[0m \u001b[0;32mNone\u001b[0m\u001b[0;34m:\u001b[0m\u001b[0;34m\u001b[0m\u001b[0;34m\u001b[0m\u001b[0m\n\u001b[1;32m    981\u001b[0m             \u001b[0mvalues\u001b[0m \u001b[0;34m=\u001b[0m \u001b[0mvalues\u001b[0m\u001b[0;34m[\u001b[0m\u001b[0mslicer\u001b[0m\u001b[0;34m]\u001b[0m\u001b[0;34m\u001b[0m\u001b[0;34m\u001b[0m\u001b[0m\n\u001b[0;32m--> 982\u001b[0;31m         \u001b[0;32mreturn\u001b[0m \u001b[0mvalues\u001b[0m\u001b[0;34m.\u001b[0m\u001b[0m_format_native_types\u001b[0m\u001b[0;34m(\u001b[0m\u001b[0;34m**\u001b[0m\u001b[0mkwargs\u001b[0m\u001b[0;34m)\u001b[0m\u001b[0;34m\u001b[0m\u001b[0;34m\u001b[0m\u001b[0m\n\u001b[0m\u001b[1;32m    983\u001b[0m \u001b[0;34m\u001b[0m\u001b[0m\n\u001b[1;32m    984\u001b[0m     \u001b[0;32mdef\u001b[0m \u001b[0m_format_native_types\u001b[0m\u001b[0;34m(\u001b[0m\u001b[0mself\u001b[0m\u001b[0;34m,\u001b[0m \u001b[0mna_rep\u001b[0m\u001b[0;34m=\u001b[0m\u001b[0;34m\"\"\u001b[0m\u001b[0;34m,\u001b[0m \u001b[0mquoting\u001b[0m\u001b[0;34m=\u001b[0m\u001b[0;32mNone\u001b[0m\u001b[0;34m,\u001b[0m \u001b[0;34m**\u001b[0m\u001b[0mkwargs\u001b[0m\u001b[0;34m)\u001b[0m\u001b[0;34m:\u001b[0m\u001b[0;34m\u001b[0m\u001b[0;34m\u001b[0m\u001b[0m\n",
            "\u001b[0;32m/usr/local/lib/python3.7/dist-packages/pandas/core/indexes/base.py\u001b[0m in \u001b[0;36m_format_native_types\u001b[0;34m(self, na_rep, quoting, **kwargs)\u001b[0m\n\u001b[1;32m    988\u001b[0m         \u001b[0mmask\u001b[0m \u001b[0;34m=\u001b[0m \u001b[0misna\u001b[0m\u001b[0;34m(\u001b[0m\u001b[0mself\u001b[0m\u001b[0;34m)\u001b[0m\u001b[0;34m\u001b[0m\u001b[0;34m\u001b[0m\u001b[0m\n\u001b[1;32m    989\u001b[0m         \u001b[0;32mif\u001b[0m \u001b[0;32mnot\u001b[0m \u001b[0mself\u001b[0m\u001b[0;34m.\u001b[0m\u001b[0mis_object\u001b[0m\u001b[0;34m(\u001b[0m\u001b[0;34m)\u001b[0m \u001b[0;32mand\u001b[0m \u001b[0;32mnot\u001b[0m \u001b[0mquoting\u001b[0m\u001b[0;34m:\u001b[0m\u001b[0;34m\u001b[0m\u001b[0;34m\u001b[0m\u001b[0m\n\u001b[0;32m--> 990\u001b[0;31m             \u001b[0mvalues\u001b[0m \u001b[0;34m=\u001b[0m \u001b[0mnp\u001b[0m\u001b[0;34m.\u001b[0m\u001b[0masarray\u001b[0m\u001b[0;34m(\u001b[0m\u001b[0mself\u001b[0m\u001b[0;34m)\u001b[0m\u001b[0;34m.\u001b[0m\u001b[0mastype\u001b[0m\u001b[0;34m(\u001b[0m\u001b[0mstr\u001b[0m\u001b[0;34m)\u001b[0m\u001b[0;34m\u001b[0m\u001b[0;34m\u001b[0m\u001b[0m\n\u001b[0m\u001b[1;32m    991\u001b[0m         \u001b[0;32melse\u001b[0m\u001b[0;34m:\u001b[0m\u001b[0;34m\u001b[0m\u001b[0;34m\u001b[0m\u001b[0m\n\u001b[1;32m    992\u001b[0m             \u001b[0mvalues\u001b[0m \u001b[0;34m=\u001b[0m \u001b[0mnp\u001b[0m\u001b[0;34m.\u001b[0m\u001b[0marray\u001b[0m\u001b[0;34m(\u001b[0m\u001b[0mself\u001b[0m\u001b[0;34m,\u001b[0m \u001b[0mdtype\u001b[0m\u001b[0;34m=\u001b[0m\u001b[0mobject\u001b[0m\u001b[0;34m,\u001b[0m \u001b[0mcopy\u001b[0m\u001b[0;34m=\u001b[0m\u001b[0;32mTrue\u001b[0m\u001b[0;34m)\u001b[0m\u001b[0;34m\u001b[0m\u001b[0;34m\u001b[0m\u001b[0m\n",
            "\u001b[0;31mKeyboardInterrupt\u001b[0m: "
          ]
        }
      ]
    },
    {
      "cell_type": "markdown",
      "metadata": {
        "id": "IYGvj-oDW_Ev"
      },
      "source": [
        "# 텍스트 전처리"
      ]
    },
    {
      "cell_type": "code",
      "metadata": {
        "id": "pf06b9t4snYk"
      },
      "source": [
        "# 파일 불러오기\n",
        "total = pd.read_csv('/content/drive/MyDrive/Colab Notebooks/project/final_data.csv')"
      ],
      "execution_count": null,
      "outputs": []
    },
    {
      "cell_type": "markdown",
      "metadata": {
        "id": "USK3M_33YDeH"
      },
      "source": [
        "## Import"
      ]
    },
    {
      "cell_type": "code",
      "metadata": {
        "colab": {
          "base_uri": "https://localhost:8080/"
        },
        "id": "7VdF7whxYFZG",
        "outputId": "9d0813a5-5c7b-4dd0-9501-a3c690e6e7fa"
      },
      "source": [
        "import re\n",
        "import urllib.request       # 왜 넣는걸까\n",
        "\n",
        "# 시각화\n",
        "%matplotlib inline\n",
        "import matplotlib.pyplot as plt\n",
        "\n",
        "# nltk\n",
        "import nltk\n",
        "nltk.download('punkt')\n",
        "nltk.download('stopwords')\n",
        "nltk.download('wordnet')\n",
        "from nltk import word_tokenize, sent_tokenize, regexp_tokenize\n",
        "from nltk.corpus import stopwords\n",
        "from nltk.stem.lancaster import LancasterStemmer\n",
        "from nltk.stem import WordNetLemmatizer, PorterStemmer\n",
        "\n",
        "import string, unicodedata\n",
        "from bs4 import BeautifulSoup\n",
        "\n",
        "!pip install contractions\n",
        "from contractions import contractions_dict"
      ],
      "execution_count": null,
      "outputs": [
        {
          "output_type": "stream",
          "text": [
            "[nltk_data] Downloading package punkt to /root/nltk_data...\n",
            "[nltk_data]   Unzipping tokenizers/punkt.zip.\n",
            "[nltk_data] Downloading package stopwords to /root/nltk_data...\n",
            "[nltk_data]   Unzipping corpora/stopwords.zip.\n",
            "[nltk_data] Downloading package wordnet to /root/nltk_data...\n",
            "[nltk_data]   Unzipping corpora/wordnet.zip.\n",
            "Collecting contractions\n",
            "  Downloading https://files.pythonhosted.org/packages/0a/04/d5e0bb9f2cef5d15616ebf68087a725c5dbdd71bd422bcfb35d709f98ce7/contractions-0.0.48-py2.py3-none-any.whl\n",
            "Collecting textsearch>=0.0.21\n",
            "  Downloading https://files.pythonhosted.org/packages/d3/fe/021d7d76961b5ceb9f8d022c4138461d83beff36c3938dc424586085e559/textsearch-0.0.21-py2.py3-none-any.whl\n",
            "Collecting pyahocorasick\n",
            "\u001b[?25l  Downloading https://files.pythonhosted.org/packages/7f/c2/eae730037ae1cbbfaa229d27030d1d5e34a1e41114b21447d1202ae9c220/pyahocorasick-1.4.2.tar.gz (321kB)\n",
            "\u001b[K     |████████████████████████████████| 327kB 8.7MB/s \n",
            "\u001b[?25hCollecting anyascii\n",
            "\u001b[?25l  Downloading https://files.pythonhosted.org/packages/a3/14/666cd44bf53f36a961544af592cb5c5c800013f9c51a4745af8d7c17362a/anyascii-0.2.0-py3-none-any.whl (283kB)\n",
            "\u001b[K     |████████████████████████████████| 286kB 16.3MB/s \n",
            "\u001b[?25hBuilding wheels for collected packages: pyahocorasick\n",
            "  Building wheel for pyahocorasick (setup.py) ... \u001b[?25l\u001b[?25hdone\n",
            "  Created wheel for pyahocorasick: filename=pyahocorasick-1.4.2-cp37-cp37m-linux_x86_64.whl size=85394 sha256=451efe2c1b0e8c943ad34078527219425fa6e8d92a61d6a01827d25d69c46177\n",
            "  Stored in directory: /root/.cache/pip/wheels/3a/03/34/77e3ece0bba8b86bfac88a79f923b36d805cad63caeba38842\n",
            "Successfully built pyahocorasick\n",
            "Installing collected packages: pyahocorasick, anyascii, textsearch, contractions\n",
            "Successfully installed anyascii-0.2.0 contractions-0.0.48 pyahocorasick-1.4.2 textsearch-0.0.21\n"
          ],
          "name": "stdout"
        }
      ]
    },
    {
      "cell_type": "code",
      "metadata": {
        "colab": {
          "base_uri": "https://localhost:8080/"
        },
        "id": "KsSW0MvUV73D",
        "outputId": "af4ce7cb-9e90-4b49-9593-5e1df8cca2b6"
      },
      "source": [
        "# 긍정/부정리뷰 비율 확인 긍정/부정리뷰 비율 확인\n",
        "total['rating_class'].value_counts()"
      ],
      "execution_count": null,
      "outputs": [
        {
          "output_type": "execute_result",
          "data": {
            "text/plain": [
              "good    2407786\n",
              "bad      315538\n",
              "Name: rating_class, dtype: int64"
            ]
          },
          "metadata": {
            "tags": []
          },
          "execution_count": 25
        }
      ]
    },
    {
      "cell_type": "markdown",
      "metadata": {
        "id": "cJL_6WwVlQ_c"
      },
      "source": [
        "## 전처리"
      ]
    },
    {
      "cell_type": "code",
      "metadata": {
        "colab": {
          "base_uri": "https://localhost:8080/"
        },
        "id": "qLTRKIrLXzdg",
        "outputId": "26abf808-7420-4e82-a5fb-809f5510d87f"
      },
      "source": [
        "total['review_text']"
      ],
      "execution_count": null,
      "outputs": [
        {
          "output_type": "execute_result",
          "data": {
            "text/plain": [
              "2041       Five Stars Great quality product, and top notc...\n",
              "2042       don't push too many pencils details on this pa...\n",
              "2043       Great deal if you buy in bulk! Bought these as...\n",
              "2044       It's made extremely well and looks GREAT! I've...\n",
              "2045       Nice and perfect for an address book Thin, you...\n",
              "                                 ...                        \n",
              "2911384    ... took weeks to arrive and ran out of ink pr...\n",
              "2911385    Great product!! Used these on our wedding canv...\n",
              "2911386                            Five Stars LOVE LOVE LOVE\n",
              "2911387    One Star color won't stop running once you act...\n",
              "2911388    One color I received these earlier than expect...\n",
              "Name: review_text, Length: 2723324, dtype: object"
            ]
          },
          "metadata": {
            "tags": []
          },
          "execution_count": 26
        }
      ]
    },
    {
      "cell_type": "code",
      "metadata": {
        "id": "73WKEQ6BmROY"
      },
      "source": [
        "def strip_html(text):\n",
        "  # html코드 제거 함수\n",
        "    soup = BeautifulSoup(text, \"html.parser\")\n",
        "    return soup.get_text()\n",
        "\n",
        "def remove_between_square_brackets(text):\n",
        "  # 괄호로 묶여있는 단어 제거\n",
        "    return re.sub('\\[[^]]*\\]', '', text)\n",
        "\n",
        "def denoise_text(text):\n",
        "  # 위에 함수 두개 과정 진행하는 함수\n",
        "    text = strip_html(text)\n",
        "    text = remove_between_square_brackets(text)\n",
        "    return text\n",
        "\n",
        "\n",
        "# Define function to expand contractions\n",
        "def expand_contractions(text):\n",
        "  # IGNORECASE =  대소문자 관련 없이, DOTALL = 줄바꿈기호 상관없이 매칭해달라는 의미\n",
        "  # re를 이용하여 정규표현식으로 매칭을 할 때 contractions_dict의 키를   \n",
        "  # 찾고자 하는 형태를 만든뒤 매칭하여 축약문들을 확장 시키는 과정인듯\n",
        "    contractions_pattern = re.compile('({})'.format('|'.join(contractions_dict.keys())),flags=re.IGNORECASE|re.DOTALL)\n",
        "    def expand_match(contraction):\n",
        "        match = contraction.group(0)\n",
        "        first_char = match[0]\n",
        "        expanded_contraction = contractions_dict.get(match)\\\n",
        "                        if contractions_dict.get(match)\\\n",
        "                        else contractions_dict.get(match.lower())\n",
        "        expanded_contraction = first_char+expanded_contraction[1:]\n",
        "        return expanded_contraction\n",
        "    \n",
        "    try:\n",
        "      expanded_text = contractions_pattern.sub(expand_match, text)\n",
        "      expanded_text = re.sub(\"'\", \"\", expanded_text)\n",
        "    except:\n",
        "      return text\n",
        "    return expanded_text\n",
        "\n",
        "\n",
        "# special_characters removal\n",
        "def remove_special_characters(text, remove_digits=True):\n",
        "  # 문자, 숫자가 아닌것들을 제거\n",
        "  # r은 정규 표현식을 쓸 때 가독성을 위한 장치 raw string이라는 의미\n",
        "    pattern = r'[^a-zA-z0-9\\s]' if not remove_digits else r'[^a-zA-z\\s]'\n",
        "    text = re.sub(pattern, '', text)\n",
        "    return text\n",
        "\n",
        "\n",
        "def remove_non_ascii(words):\n",
        "    \"\"\"Remove non-ASCII characters from list of tokenized words\"\"\"\n",
        "    new_words = []\n",
        "    for word in words:\n",
        "        new_word = unicodedata.normalize('NFKD', word).encode('ascii', 'ignore').decode('utf-8', 'ignore')\n",
        "        new_words.append(new_word)\n",
        "    return new_words\n",
        "\n",
        "def to_lowercase(words):\n",
        "    \"\"\"Convert all characters to lowercase from list of tokenized words\"\"\"\n",
        "    new_words = []\n",
        "    for word in words:\n",
        "        new_word = word.lower()\n",
        "        new_words.append(new_word)\n",
        "    return new_words\n",
        "\n",
        "\n",
        "def remove_punctuation_and_splchars(words):\n",
        "    \"\"\"Remove punctuation from list of tokenized words\"\"\"\n",
        "    new_words = []\n",
        "    for word in words:\n",
        "        new_word = re.sub(r'[^\\w\\s]', '', word)\n",
        "        if new_word != '':\n",
        "            new_word = remove_special_characters(new_word, True)\n",
        "            new_words.append(new_word)\n",
        "    return new_words\n",
        "\n",
        "def replace_numbers(words):\n",
        "    \"\"\"Replace all interger occurrences in list of tokenized words with textual representation\"\"\"\n",
        "    p = inflect.engine()\n",
        "    new_words = []\n",
        "    for word in words:\n",
        "        if word.isdigit():\n",
        "            new_word = p.number_to_words(word)\n",
        "            new_words.append(new_word)\n",
        "        else:\n",
        "            new_words.append(word)\n",
        "    return new_words\n",
        "\n",
        "stopword_list= stopwords.words('english')\n",
        "stopword_list.remove('no')\n",
        "stopword_list.remove('not')\n",
        "#stopword_list.remove('headphone')\n",
        "#stopword_list.remove('headphones')\n",
        "#stopword_list.remove('earbuds')\n",
        "#stopword_list.remove('bud')\n",
        "#stopword_list.remove('ear')\n",
        "#stopword_list.remove('sony')\n",
        "#stopword_list.remove('product')\n",
        "\n",
        "\n",
        "def remove_stopwords(words):\n",
        "    \"\"\"Remove stop words from list of tokenized words\"\"\"\n",
        "    new_words = []\n",
        "    for word in words:\n",
        "        if word not in stopword_list:\n",
        "            new_words.append(word)\n",
        "    return new_words\n",
        "\n",
        "# 어간 추출\n",
        "def stem_words(words):      \n",
        "    \"\"\"Stem words in list of tokenized words\"\"\"\n",
        "    stemmer = LancasterStemmer()\n",
        "    stems = []\n",
        "    for word in words:\n",
        "        stem = stemmer.stem(word)\n",
        "        stems.append(stem)\n",
        "    return stems\n",
        "\n",
        "# 표제어 추출\n",
        "def lemmatize_verbs(words): \n",
        "    \"\"\"Lemmatize verbs in list of tokenized words\"\"\"\n",
        "    lemmatizer = WordNetLemmatizer()\n",
        "    lemmas = []\n",
        "    for word in words:\n",
        "        lemma = lemmatizer.lemmatize(word, pos='v')\n",
        "        lemmas.append(lemma)\n",
        "    return lemmas"
      ],
      "execution_count": null,
      "outputs": []
    },
    {
      "cell_type": "code",
      "metadata": {
        "id": "1wBx5QpdpTSj"
      },
      "source": [
        "def normalize(words):\n",
        "    words = remove_non_ascii(words)\n",
        "    words = to_lowercase(words)\n",
        "    words = remove_punctuation_and_splchars(words)\n",
        "    words = remove_stopwords(words)\n",
        "    return words\n",
        "\n",
        "def lemmatize(words):\n",
        "    lemmas = lemmatize_verbs(words)\n",
        "    return lemmas"
      ],
      "execution_count": null,
      "outputs": []
    },
    {
      "cell_type": "code",
      "metadata": {
        "id": "cBVYsYwnpW9i"
      },
      "source": [
        "def normalize_and_lemmatize(input):\n",
        "    sample = denoise_text(input)\n",
        "    sample = expand_contractions(sample)\n",
        "    sample = remove_special_characters(sample)\n",
        "    words = nltk.word_tokenize(sample)\n",
        "    words = normalize(words)\n",
        "    lemmas = lemmatize(words)\n",
        "    return ' '.join(lemmas)"
      ],
      "execution_count": null,
      "outputs": []
    },
    {
      "cell_type": "code",
      "metadata": {
        "id": "lcIyZ2Jfpaxl"
      },
      "source": [
        "total['clean_text'] = total['review_text'].map(lambda text: normalize_and_lemmatize(text))"
      ],
      "execution_count": null,
      "outputs": []
    },
    {
      "cell_type": "code",
      "metadata": {
        "id": "cCKDx1LUplCD"
      },
      "source": [
        "# 파일 저장\n",
        "total.to_csv('/content/drive/MyDrive/Colab Notebooks/project/final_data_clean.csv', sep=',', encoding='utf-8', index=False)"
      ],
      "execution_count": null,
      "outputs": []
    }
  ]
}