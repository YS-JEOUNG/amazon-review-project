{
  "nbformat": 4,
  "nbformat_minor": 0,
  "metadata": {
    "colab": {
      "name": "artscrafts_rec.ipynb",
      "provenance": [],
      "collapsed_sections": [],
      "include_colab_link": true
    },
    "kernelspec": {
      "name": "python3",
      "display_name": "Python 3"
    },
    "language_info": {
      "name": "python"
    }
  },
  "cells": [
    {
      "cell_type": "markdown",
      "metadata": {
        "id": "view-in-github",
        "colab_type": "text"
      },
      "source": [
        "<a href=\"https://colab.research.google.com/github/YS-JEOUNG/amazon-review-project/blob/main/code/artscrafts_code/artscrafts_rec.ipynb\" target=\"_parent\"><img src=\"https://colab.research.google.com/assets/colab-badge.svg\" alt=\"Open In Colab\"/></a>"
      ]
    },
    {
      "cell_type": "markdown",
      "metadata": {
        "id": "ZqvRF208nmeX"
      },
      "source": [
        "# Imports"
      ]
    },
    {
      "cell_type": "code",
      "metadata": {
        "colab": {
          "base_uri": "https://localhost:8080/"
        },
        "id": "yEBVzcwhnXvz",
        "outputId": "3d2dda59-2d05-485e-92e8-8fe80dc96429"
      },
      "source": [
        "%matplotlib inline\n",
        "import pandas as pd\n",
        "import numpy as np\n",
        "import matplotlib.pyplot as plt\n",
        "import time\n",
        "import os\n",
        "import seaborn as sns\n",
        "from sklearn.externals import joblib\n",
        "from sklearn.model_selection import train_test_split\n",
        "import gzip\n",
        "import dask as dd"
      ],
      "execution_count": null,
      "outputs": [
        {
          "output_type": "stream",
          "text": [
            "/usr/local/lib/python3.7/dist-packages/sklearn/externals/joblib/__init__.py:15: FutureWarning: sklearn.externals.joblib is deprecated in 0.21 and will be removed in 0.23. Please import this functionality directly from joblib, which can be installed with: pip install joblib. If this warning is raised when loading pickled models, you may need to re-serialize those models with scikit-learn 0.21+.\n",
            "  warnings.warn(msg, category=FutureWarning)\n"
          ],
          "name": "stderr"
        }
      ]
    },
    {
      "cell_type": "code",
      "metadata": {
        "id": "-_5fDUOYn4bv"
      },
      "source": [
        "# 이전 과정은 이미 맨 처음에 했던 것이므로 패스. 바로 해당 파일 저장본 불러오겠음.\n",
        "df = pd.read_csv('/content/drive/MyDrive/Colab Notebooks/project/arts_total.csv')"
      ],
      "execution_count": null,
      "outputs": []
    },
    {
      "cell_type": "code",
      "metadata": {
        "colab": {
          "base_uri": "https://localhost:8080/"
        },
        "id": "w0U6RMw7oiYq",
        "outputId": "b4f1e272-28d8-4437-ac96-1fe88abea6f4"
      },
      "source": [
        "df.info()"
      ],
      "execution_count": null,
      "outputs": [
        {
          "output_type": "stream",
          "text": [
            "<class 'pandas.core.frame.DataFrame'>\n",
            "RangeIndex: 130133 entries, 0 to 130132\n",
            "Data columns (total 19 columns):\n",
            " #   Column            Non-Null Count   Dtype  \n",
            "---  ------            --------------   -----  \n",
            " 0   overall           130133 non-null  float64\n",
            " 1   vote              130133 non-null  int64  \n",
            " 2   verified          130133 non-null  bool   \n",
            " 3   reviewer_id       130133 non-null  object \n",
            " 4   asin              130133 non-null  object \n",
            " 5   style             130133 non-null  object \n",
            " 6   reviewer_name     130128 non-null  object \n",
            " 7   unix_review_time  130133 non-null  int64  \n",
            " 8   category          130133 non-null  object \n",
            " 9   description       130133 non-null  object \n",
            " 10  title             130133 non-null  object \n",
            " 11  brand             129770 non-null  object \n",
            " 12  rank              130133 non-null  object \n",
            " 13  main_cat          129791 non-null  object \n",
            " 14  date              20908 non-null   object \n",
            " 15  price             115105 non-null  object \n",
            " 16  review_text       130133 non-null  object \n",
            " 17  rating_class      130133 non-null  object \n",
            " 18  time              130133 non-null  object \n",
            "dtypes: bool(1), float64(1), int64(2), object(15)\n",
            "memory usage: 18.0+ MB\n"
          ],
          "name": "stdout"
        }
      ]
    },
    {
      "cell_type": "code",
      "metadata": {
        "colab": {
          "base_uri": "https://localhost:8080/"
        },
        "id": "i1G_pYO4opzr",
        "outputId": "37915029-59e8-46ef-a994-1f6560475696"
      },
      "source": [
        "df = df.drop(['vote', 'verified', 'style', 'reviewer_name', 'unix_review_time', 'category',\n",
        "              'description', 'brand', 'rank', 'main_cat', 'date', 'price', 'review_text',\n",
        "              'rating_class', 'time'], axis=1)\n",
        "df.info()"
      ],
      "execution_count": null,
      "outputs": [
        {
          "output_type": "stream",
          "text": [
            "<class 'pandas.core.frame.DataFrame'>\n",
            "RangeIndex: 130133 entries, 0 to 130132\n",
            "Data columns (total 4 columns):\n",
            " #   Column       Non-Null Count   Dtype  \n",
            "---  ------       --------------   -----  \n",
            " 0   overall      130133 non-null  float64\n",
            " 1   reviewer_id  130133 non-null  object \n",
            " 2   asin         130133 non-null  object \n",
            " 3   title        130133 non-null  object \n",
            "dtypes: float64(1), object(3)\n",
            "memory usage: 4.0+ MB\n"
          ],
          "name": "stdout"
        }
      ]
    },
    {
      "cell_type": "code",
      "metadata": {
        "id": "fQWndGNLo_YN"
      },
      "source": [
        "counts_reviewer=df['reviewer_id'].value_counts()\n",
        "counts_product=df['asin'].value_counts()"
      ],
      "execution_count": null,
      "outputs": []
    },
    {
      "cell_type": "code",
      "metadata": {
        "colab": {
          "base_uri": "https://localhost:8080/"
        },
        "id": "aLaaxsiYpOzh",
        "outputId": "9995ca0f-61a8-4f73-de4d-b797bc4bc414"
      },
      "source": [
        "counts_reviewer"
      ],
      "execution_count": null,
      "outputs": [
        {
          "output_type": "execute_result",
          "data": {
            "text/plain": [
              "A1PAGHECG401K1    55\n",
              "ALYZJ7W14YS26     54\n",
              "A13OFOB1394G31    47\n",
              "A2GJX2KCUSR0EI    45\n",
              "A1GYEGLX3P2Y7P    37\n",
              "                  ..\n",
              "A2HVJLHQFK152E     1\n",
              "A1CT1L7C4Y1C3C     1\n",
              "AN6L4MHFEU98Z      1\n",
              "A3TLJWAV1WNI7V     1\n",
              "A3FEDCN23EW1KF     1\n",
              "Name: reviewer_id, Length: 111107, dtype: int64"
            ]
          },
          "metadata": {
            "tags": []
          },
          "execution_count": 6
        }
      ]
    },
    {
      "cell_type": "code",
      "metadata": {
        "colab": {
          "base_uri": "https://localhost:8080/"
        },
        "id": "04Sk5gSypPsN",
        "outputId": "d559d416-3208-49c3-a676-53e8b9656d74"
      },
      "source": [
        "counts_product"
      ],
      "execution_count": null,
      "outputs": [
        {
          "output_type": "execute_result",
          "data": {
            "text/plain": [
              "B005HR1JMO    728\n",
              "B004RDH7Y8    710\n",
              "B003AVMZA4    708\n",
              "B000F7DPEQ    575\n",
              "B01D3MWPU4    420\n",
              "             ... \n",
              "B00433201C      1\n",
              "B00WUC3B6G      1\n",
              "B013FHO9X8      1\n",
              "B01E391UVG      1\n",
              "B000GERNNM      1\n",
              "Name: asin, Length: 14060, dtype: int64"
            ]
          },
          "metadata": {
            "tags": []
          },
          "execution_count": 7
        }
      ]
    },
    {
      "cell_type": "code",
      "metadata": {
        "colab": {
          "base_uri": "https://localhost:8080/"
        },
        "id": "n2U17wBNpk-k",
        "outputId": "5d74359b-a8a8-4eed-80d2-ac9810b6a547"
      },
      "source": [
        "len(counts_reviewer[counts_reviewer>=50].index)"
      ],
      "execution_count": null,
      "outputs": [
        {
          "output_type": "execute_result",
          "data": {
            "text/plain": [
              "2"
            ]
          },
          "metadata": {
            "tags": []
          },
          "execution_count": 8
        }
      ]
    },
    {
      "cell_type": "code",
      "metadata": {
        "colab": {
          "base_uri": "https://localhost:8080/"
        },
        "id": "dQ3-zbZDpoAR",
        "outputId": "36d5cc7d-dc37-4b32-c850-a7c729ed920a"
      },
      "source": [
        "len(counts_product[counts_product>=50].index)"
      ],
      "execution_count": null,
      "outputs": [
        {
          "output_type": "execute_result",
          "data": {
            "text/plain": [
              "398"
            ]
          },
          "metadata": {
            "tags": []
          },
          "execution_count": 9
        }
      ]
    },
    {
      "cell_type": "code",
      "metadata": {
        "colab": {
          "base_uri": "https://localhost:8080/"
        },
        "id": "4DEzBsi4p0Ee",
        "outputId": "a41eb4d3-dc2b-4430-8dc6-8aa163634f23"
      },
      "source": [
        "# 얘는 왜 한걸까?\n",
        "df1 = df[df['reviewer_id'].isin(counts_reviewer[counts_reviewer>=50].index)]\n",
        "df1.shape"
      ],
      "execution_count": null,
      "outputs": [
        {
          "output_type": "execute_result",
          "data": {
            "text/plain": [
              "(109, 4)"
            ]
          },
          "metadata": {
            "tags": []
          },
          "execution_count": 10
        }
      ]
    },
    {
      "cell_type": "code",
      "metadata": {
        "colab": {
          "base_uri": "https://localhost:8080/"
        },
        "id": "Tf4m4RVMqKcb",
        "outputId": "55484722-35ba-40ac-ccb5-833a0577079e"
      },
      "source": [
        "df1 = df[df['asin'].isin(counts_product[counts_product>=50].index)]\n",
        "df1.shape"
      ],
      "execution_count": null,
      "outputs": [
        {
          "output_type": "execute_result",
          "data": {
            "text/plain": [
              "(38597, 4)"
            ]
          },
          "metadata": {
            "tags": []
          },
          "execution_count": 11
        }
      ]
    },
    {
      "cell_type": "code",
      "metadata": {
        "colab": {
          "base_uri": "https://localhost:8080/",
          "height": 193
        },
        "id": "IGzroF4KrRCc",
        "outputId": "09c2f5bf-4577-40ae-e9a3-24907efe43c6"
      },
      "source": [
        "df1.head(3)"
      ],
      "execution_count": null,
      "outputs": [
        {
          "output_type": "execute_result",
          "data": {
            "text/html": [
              "<div>\n",
              "<style scoped>\n",
              "    .dataframe tbody tr th:only-of-type {\n",
              "        vertical-align: middle;\n",
              "    }\n",
              "\n",
              "    .dataframe tbody tr th {\n",
              "        vertical-align: top;\n",
              "    }\n",
              "\n",
              "    .dataframe thead th {\n",
              "        text-align: right;\n",
              "    }\n",
              "</style>\n",
              "<table border=\"1\" class=\"dataframe\">\n",
              "  <thead>\n",
              "    <tr style=\"text-align: right;\">\n",
              "      <th></th>\n",
              "      <th>overall</th>\n",
              "      <th>reviewer_id</th>\n",
              "      <th>asin</th>\n",
              "      <th>title</th>\n",
              "    </tr>\n",
              "  </thead>\n",
              "  <tbody>\n",
              "    <tr>\n",
              "      <th>96</th>\n",
              "      <td>5.0</td>\n",
              "      <td>A33QFZUZ8YHYX</td>\n",
              "      <td>B0000302YN</td>\n",
              "      <td>Dremel 290-01 0.2 Amp 7,200 Stroke Per Minute ...</td>\n",
              "    </tr>\n",
              "    <tr>\n",
              "      <th>97</th>\n",
              "      <td>2.0</td>\n",
              "      <td>A1H7LBUH5BSJRV</td>\n",
              "      <td>B0000302YN</td>\n",
              "      <td>Dremel 290-01 0.2 Amp 7,200 Stroke Per Minute ...</td>\n",
              "    </tr>\n",
              "    <tr>\n",
              "      <th>98</th>\n",
              "      <td>1.0</td>\n",
              "      <td>A6SVJNBB9UZLF</td>\n",
              "      <td>B0000302YN</td>\n",
              "      <td>Dremel 290-01 0.2 Amp 7,200 Stroke Per Minute ...</td>\n",
              "    </tr>\n",
              "  </tbody>\n",
              "</table>\n",
              "</div>"
            ],
            "text/plain": [
              "    overall  ...                                              title\n",
              "96      5.0  ...  Dremel 290-01 0.2 Amp 7,200 Stroke Per Minute ...\n",
              "97      2.0  ...  Dremel 290-01 0.2 Amp 7,200 Stroke Per Minute ...\n",
              "98      1.0  ...  Dremel 290-01 0.2 Amp 7,200 Stroke Per Minute ...\n",
              "\n",
              "[3 rows x 4 columns]"
            ]
          },
          "metadata": {
            "tags": []
          },
          "execution_count": 12
        }
      ]
    },
    {
      "cell_type": "code",
      "metadata": {
        "colab": {
          "base_uri": "https://localhost:8080/",
          "height": 390
        },
        "id": "XimOYTVGrStV",
        "outputId": "d20af846-8e72-45d4-b80b-088a63845f58"
      },
      "source": [
        "ratings_sum = pd.DataFrame(df1.groupby(['asin'])['overall'].sum()).rename(columns = {'overall': 'ratings_sum'})\n",
        "top10 = ratings_sum.sort_values('ratings_sum', ascending=False).head(10)\n",
        "top10"
      ],
      "execution_count": null,
      "outputs": [
        {
          "output_type": "execute_result",
          "data": {
            "text/html": [
              "<div>\n",
              "<style scoped>\n",
              "    .dataframe tbody tr th:only-of-type {\n",
              "        vertical-align: middle;\n",
              "    }\n",
              "\n",
              "    .dataframe tbody tr th {\n",
              "        vertical-align: top;\n",
              "    }\n",
              "\n",
              "    .dataframe thead th {\n",
              "        text-align: right;\n",
              "    }\n",
              "</style>\n",
              "<table border=\"1\" class=\"dataframe\">\n",
              "  <thead>\n",
              "    <tr style=\"text-align: right;\">\n",
              "      <th></th>\n",
              "      <th>ratings_sum</th>\n",
              "    </tr>\n",
              "    <tr>\n",
              "      <th>asin</th>\n",
              "      <th></th>\n",
              "    </tr>\n",
              "  </thead>\n",
              "  <tbody>\n",
              "    <tr>\n",
              "      <th>B003AVMZA4</th>\n",
              "      <td>2956.0</td>\n",
              "    </tr>\n",
              "    <tr>\n",
              "      <th>B004RDH7Y8</th>\n",
              "      <td>2671.0</td>\n",
              "    </tr>\n",
              "    <tr>\n",
              "      <th>B005HR1JMO</th>\n",
              "      <td>2598.0</td>\n",
              "    </tr>\n",
              "    <tr>\n",
              "      <th>B000F7DPEQ</th>\n",
              "      <td>2283.0</td>\n",
              "    </tr>\n",
              "    <tr>\n",
              "      <th>B01D3MWPU4</th>\n",
              "      <td>1483.0</td>\n",
              "    </tr>\n",
              "    <tr>\n",
              "      <th>B00WW8KIRI</th>\n",
              "      <td>1411.0</td>\n",
              "    </tr>\n",
              "    <tr>\n",
              "      <th>B009CCVS4E</th>\n",
              "      <td>1382.0</td>\n",
              "    </tr>\n",
              "    <tr>\n",
              "      <th>B005GXPOAM</th>\n",
              "      <td>1338.0</td>\n",
              "    </tr>\n",
              "    <tr>\n",
              "      <th>B000980L02</th>\n",
              "      <td>1234.0</td>\n",
              "    </tr>\n",
              "    <tr>\n",
              "      <th>B002HR4CW6</th>\n",
              "      <td>1231.0</td>\n",
              "    </tr>\n",
              "  </tbody>\n",
              "</table>\n",
              "</div>"
            ],
            "text/plain": [
              "            ratings_sum\n",
              "asin                   \n",
              "B003AVMZA4       2956.0\n",
              "B004RDH7Y8       2671.0\n",
              "B005HR1JMO       2598.0\n",
              "B000F7DPEQ       2283.0\n",
              "B01D3MWPU4       1483.0\n",
              "B00WW8KIRI       1411.0\n",
              "B009CCVS4E       1382.0\n",
              "B005GXPOAM       1338.0\n",
              "B000980L02       1234.0\n",
              "B002HR4CW6       1231.0"
            ]
          },
          "metadata": {
            "tags": []
          },
          "execution_count": 13
        }
      ]
    },
    {
      "cell_type": "code",
      "metadata": {
        "id": "PKF67L_5r48t"
      },
      "source": [
        "top10_popular = top10.merge(df1, left_index=True, right_on='asin').drop_duplicates(\n",
        "    ['asin', 'title'])[['asin', 'title', 'ratings_sum']]"
      ],
      "execution_count": null,
      "outputs": []
    },
    {
      "cell_type": "code",
      "metadata": {
        "colab": {
          "base_uri": "https://localhost:8080/",
          "height": 359
        },
        "id": "0Rlcoa_DsHqy",
        "outputId": "e912718f-11e1-4946-ba98-5d9f68653e38"
      },
      "source": [
        "top10_popular"
      ],
      "execution_count": null,
      "outputs": [
        {
          "output_type": "execute_result",
          "data": {
            "text/html": [
              "<div>\n",
              "<style scoped>\n",
              "    .dataframe tbody tr th:only-of-type {\n",
              "        vertical-align: middle;\n",
              "    }\n",
              "\n",
              "    .dataframe tbody tr th {\n",
              "        vertical-align: top;\n",
              "    }\n",
              "\n",
              "    .dataframe thead th {\n",
              "        text-align: right;\n",
              "    }\n",
              "</style>\n",
              "<table border=\"1\" class=\"dataframe\">\n",
              "  <thead>\n",
              "    <tr style=\"text-align: right;\">\n",
              "      <th></th>\n",
              "      <th>asin</th>\n",
              "      <th>title</th>\n",
              "      <th>ratings_sum</th>\n",
              "    </tr>\n",
              "  </thead>\n",
              "  <tbody>\n",
              "    <tr>\n",
              "      <th>41399</th>\n",
              "      <td>B003AVMZA4</td>\n",
              "      <td>Brother SE400 Combination Computerized Sewing ...</td>\n",
              "      <td>2956.0</td>\n",
              "    </tr>\n",
              "    <tr>\n",
              "      <th>49352</th>\n",
              "      <td>B004RDH7Y8</td>\n",
              "      <td>SINGER Quantum Stylist 9960 Computerized Porta...</td>\n",
              "      <td>2671.0</td>\n",
              "    </tr>\n",
              "    <tr>\n",
              "      <th>55369</th>\n",
              "      <td>B005HR1JMO</td>\n",
              "      <td>Singer | 7258 100-Stitch Computerized Sewing M...</td>\n",
              "      <td>2598.0</td>\n",
              "    </tr>\n",
              "    <tr>\n",
              "      <th>7378</th>\n",
              "      <td>B000F7DPEQ</td>\n",
              "      <td>Brother XL2600I Sew Advance Sew Affordable 25-...</td>\n",
              "      <td>2283.0</td>\n",
              "    </tr>\n",
              "    <tr>\n",
              "      <th>111128</th>\n",
              "      <td>B01D3MWPU4</td>\n",
              "      <td>Singer | Heavy Duty 4411 Sewing Machine with 1...</td>\n",
              "      <td>1483.0</td>\n",
              "    </tr>\n",
              "    <tr>\n",
              "      <th>95015</th>\n",
              "      <td>B00WW8KIRI</td>\n",
              "      <td>Sugru Moldable Glue - Original Formula - New C...</td>\n",
              "      <td>1411.0</td>\n",
              "    </tr>\n",
              "    <tr>\n",
              "      <th>64372</th>\n",
              "      <td>B009CCVS4E</td>\n",
              "      <td>PowerPress HPM-1515-BK Industrial-Quality Digi...</td>\n",
              "      <td>1382.0</td>\n",
              "    </tr>\n",
              "    <tr>\n",
              "      <th>54838</th>\n",
              "      <td>B005GXPOAM</td>\n",
              "      <td>Brother XR9500PRW Project Runway Limited Editi...</td>\n",
              "      <td>1338.0</td>\n",
              "    </tr>\n",
              "    <tr>\n",
              "      <th>3665</th>\n",
              "      <td>B000980L02</td>\n",
              "      <td>Clover Soft Jumbo Stitch Ring Markers</td>\n",
              "      <td>1234.0</td>\n",
              "    </tr>\n",
              "    <tr>\n",
              "      <th>38901</th>\n",
              "      <td>B002HR4CW6</td>\n",
              "      <td>Clover 3142 Yarn Threader</td>\n",
              "      <td>1231.0</td>\n",
              "    </tr>\n",
              "  </tbody>\n",
              "</table>\n",
              "</div>"
            ],
            "text/plain": [
              "              asin  ... ratings_sum\n",
              "41399   B003AVMZA4  ...      2956.0\n",
              "49352   B004RDH7Y8  ...      2671.0\n",
              "55369   B005HR1JMO  ...      2598.0\n",
              "7378    B000F7DPEQ  ...      2283.0\n",
              "111128  B01D3MWPU4  ...      1483.0\n",
              "95015   B00WW8KIRI  ...      1411.0\n",
              "64372   B009CCVS4E  ...      1382.0\n",
              "54838   B005GXPOAM  ...      1338.0\n",
              "3665    B000980L02  ...      1234.0\n",
              "38901   B002HR4CW6  ...      1231.0\n",
              "\n",
              "[10 rows x 3 columns]"
            ]
          },
          "metadata": {
            "tags": []
          },
          "execution_count": 15
        }
      ]
    },
    {
      "cell_type": "code",
      "metadata": {
        "colab": {
          "base_uri": "https://localhost:8080/",
          "height": 193
        },
        "id": "mpjzYljTtBNn",
        "outputId": "47550933-d43c-4ac5-f588-86619cda0f23"
      },
      "source": [
        "df1.head(3)"
      ],
      "execution_count": null,
      "outputs": [
        {
          "output_type": "execute_result",
          "data": {
            "text/html": [
              "<div>\n",
              "<style scoped>\n",
              "    .dataframe tbody tr th:only-of-type {\n",
              "        vertical-align: middle;\n",
              "    }\n",
              "\n",
              "    .dataframe tbody tr th {\n",
              "        vertical-align: top;\n",
              "    }\n",
              "\n",
              "    .dataframe thead th {\n",
              "        text-align: right;\n",
              "    }\n",
              "</style>\n",
              "<table border=\"1\" class=\"dataframe\">\n",
              "  <thead>\n",
              "    <tr style=\"text-align: right;\">\n",
              "      <th></th>\n",
              "      <th>overall</th>\n",
              "      <th>reviewer_id</th>\n",
              "      <th>asin</th>\n",
              "      <th>title</th>\n",
              "    </tr>\n",
              "  </thead>\n",
              "  <tbody>\n",
              "    <tr>\n",
              "      <th>96</th>\n",
              "      <td>5.0</td>\n",
              "      <td>A33QFZUZ8YHYX</td>\n",
              "      <td>B0000302YN</td>\n",
              "      <td>Dremel 290-01 0.2 Amp 7,200 Stroke Per Minute ...</td>\n",
              "    </tr>\n",
              "    <tr>\n",
              "      <th>97</th>\n",
              "      <td>2.0</td>\n",
              "      <td>A1H7LBUH5BSJRV</td>\n",
              "      <td>B0000302YN</td>\n",
              "      <td>Dremel 290-01 0.2 Amp 7,200 Stroke Per Minute ...</td>\n",
              "    </tr>\n",
              "    <tr>\n",
              "      <th>98</th>\n",
              "      <td>1.0</td>\n",
              "      <td>A6SVJNBB9UZLF</td>\n",
              "      <td>B0000302YN</td>\n",
              "      <td>Dremel 290-01 0.2 Amp 7,200 Stroke Per Minute ...</td>\n",
              "    </tr>\n",
              "  </tbody>\n",
              "</table>\n",
              "</div>"
            ],
            "text/plain": [
              "    overall  ...                                              title\n",
              "96      5.0  ...  Dremel 290-01 0.2 Amp 7,200 Stroke Per Minute ...\n",
              "97      2.0  ...  Dremel 290-01 0.2 Amp 7,200 Stroke Per Minute ...\n",
              "98      1.0  ...  Dremel 290-01 0.2 Amp 7,200 Stroke Per Minute ...\n",
              "\n",
              "[3 rows x 4 columns]"
            ]
          },
          "metadata": {
            "tags": []
          },
          "execution_count": 16
        }
      ]
    },
    {
      "cell_type": "code",
      "metadata": {
        "colab": {
          "base_uri": "https://localhost:8080/",
          "height": 284
        },
        "id": "IMiOET6ushdR",
        "outputId": "41b505d3-5faf-4790-e602-5ee397110d30"
      },
      "source": [
        "# df1.pivot() 하니까 index contains duplicate entries, cannot reshape 에러 발생\n",
        "# pd.pivot_table() 이용\n",
        "ratingsd = pd.pivot_table(data=df1, index='asin', columns='reviewer_id', values='overall').fillna(0)\n",
        "ratingsd.head()"
      ],
      "execution_count": null,
      "outputs": [
        {
          "output_type": "execute_result",
          "data": {
            "text/html": [
              "<div>\n",
              "<style scoped>\n",
              "    .dataframe tbody tr th:only-of-type {\n",
              "        vertical-align: middle;\n",
              "    }\n",
              "\n",
              "    .dataframe tbody tr th {\n",
              "        vertical-align: top;\n",
              "    }\n",
              "\n",
              "    .dataframe thead th {\n",
              "        text-align: right;\n",
              "    }\n",
              "</style>\n",
              "<table border=\"1\" class=\"dataframe\">\n",
              "  <thead>\n",
              "    <tr style=\"text-align: right;\">\n",
              "      <th>reviewer_id</th>\n",
              "      <th>A0193442L7IJXD7HANDM</th>\n",
              "      <th>A02049035W9C30B2NBJM</th>\n",
              "      <th>A0228801ER3IBSLNOT5W</th>\n",
              "      <th>A0345137PWD0TJ09QK1A</th>\n",
              "      <th>A0429690KG9J3JO6LSSH</th>\n",
              "      <th>A04454666ZIS4FUX7ZME</th>\n",
              "      <th>A0479295RXACIYIXRLRF</th>\n",
              "      <th>A0483767C53I9DYB5TMS</th>\n",
              "      <th>A0490453AYGB1BAAOG64</th>\n",
              "      <th>A0516005NLXNKCMT2YI9</th>\n",
              "      <th>A05848286122ZISVU9YI</th>\n",
              "      <th>A06254038DV28169YE30</th>\n",
              "      <th>A0802864SYTA93AK0XMU</th>\n",
              "      <th>A0944456Z3LN62I2DT3O</th>\n",
              "      <th>A1002BMQTTW5F8</th>\n",
              "      <th>A100434D2BHASB</th>\n",
              "      <th>A1004HHMSDY5IP</th>\n",
              "      <th>A100DKGJDUFS2I</th>\n",
              "      <th>A100FCW9HQ1I0X</th>\n",
              "      <th>A100GZTO7FXSS</th>\n",
              "      <th>A100IBOIJVW7H0</th>\n",
              "      <th>A100TXY7M5TVDW</th>\n",
              "      <th>A100UD67AHFODS</th>\n",
              "      <th>A101AAU7AWNKOS</th>\n",
              "      <th>A101DANINH0Q5M</th>\n",
              "      <th>A101GN97A47S1P</th>\n",
              "      <th>A101HP0PZ5CDQ9</th>\n",
              "      <th>A101I1C4TRSKNO</th>\n",
              "      <th>A101UPLI45LNM4</th>\n",
              "      <th>A101UVGO0HK7UQ</th>\n",
              "      <th>A101YLHRFE7879</th>\n",
              "      <th>A1029QPGAKN80T</th>\n",
              "      <th>A102D6PSQ6WBSA</th>\n",
              "      <th>A102W91CO98O9K</th>\n",
              "      <th>A102Z2PGSWNASB</th>\n",
              "      <th>A1034HJ8RNL6IT</th>\n",
              "      <th>A103IHKE6M8G6T</th>\n",
              "      <th>A1040HFRWSVPUC</th>\n",
              "      <th>A1043NRH5KAJZ3</th>\n",
              "      <th>A1047B34OFNS4H</th>\n",
              "      <th>...</th>\n",
              "      <th>AZTSEQPENAZGP</th>\n",
              "      <th>AZTT49875VXW4</th>\n",
              "      <th>AZTZ7SIIRXLXE</th>\n",
              "      <th>AZUB5DZWOP9GT</th>\n",
              "      <th>AZUBFRR5L0634</th>\n",
              "      <th>AZUEE0CPOMXIH</th>\n",
              "      <th>AZUNCDOLPFSL6</th>\n",
              "      <th>AZV2U6GU5QA6C</th>\n",
              "      <th>AZVNM2QDUFOG5</th>\n",
              "      <th>AZVPZ2GHRH6X0</th>\n",
              "      <th>AZVRA7LJO8EHB</th>\n",
              "      <th>AZW0FW3EQEJX1</th>\n",
              "      <th>AZWAE29GBXK0X</th>\n",
              "      <th>AZWD2KSANOM4K</th>\n",
              "      <th>AZWDTS5SV9GXM</th>\n",
              "      <th>AZWIWTDWY5YMA</th>\n",
              "      <th>AZWKT8OC3HAG</th>\n",
              "      <th>AZWMC45FXG08Q</th>\n",
              "      <th>AZWNYVPZYPTOZ</th>\n",
              "      <th>AZWPGMYE3MRT1</th>\n",
              "      <th>AZWR3B15A5KL</th>\n",
              "      <th>AZWX64GPQSRHR</th>\n",
              "      <th>AZWZAV7FVO3G0</th>\n",
              "      <th>AZX5A3VEXIZWU</th>\n",
              "      <th>AZXAUT22JQQDH</th>\n",
              "      <th>AZXAVVT71RR7J</th>\n",
              "      <th>AZXDJYGX4S0IV</th>\n",
              "      <th>AZXKAH2DE6C8A</th>\n",
              "      <th>AZXO0J5CHBJ1I</th>\n",
              "      <th>AZYBGMYKQH8HR</th>\n",
              "      <th>AZYKTPOHMZX7N</th>\n",
              "      <th>AZYML1QLCY4U8</th>\n",
              "      <th>AZYP4FQ2L2C4O</th>\n",
              "      <th>AZYQ60ZR354HC</th>\n",
              "      <th>AZYW27SS60XQY</th>\n",
              "      <th>AZZ1CC0BCXZ9H</th>\n",
              "      <th>AZZ74XTNQCOS4</th>\n",
              "      <th>AZZXNFW30OVPU</th>\n",
              "      <th>AZZXW4PH4OEEK</th>\n",
              "      <th>AZZZPAB0MBZ69</th>\n",
              "    </tr>\n",
              "    <tr>\n",
              "      <th>asin</th>\n",
              "      <th></th>\n",
              "      <th></th>\n",
              "      <th></th>\n",
              "      <th></th>\n",
              "      <th></th>\n",
              "      <th></th>\n",
              "      <th></th>\n",
              "      <th></th>\n",
              "      <th></th>\n",
              "      <th></th>\n",
              "      <th></th>\n",
              "      <th></th>\n",
              "      <th></th>\n",
              "      <th></th>\n",
              "      <th></th>\n",
              "      <th></th>\n",
              "      <th></th>\n",
              "      <th></th>\n",
              "      <th></th>\n",
              "      <th></th>\n",
              "      <th></th>\n",
              "      <th></th>\n",
              "      <th></th>\n",
              "      <th></th>\n",
              "      <th></th>\n",
              "      <th></th>\n",
              "      <th></th>\n",
              "      <th></th>\n",
              "      <th></th>\n",
              "      <th></th>\n",
              "      <th></th>\n",
              "      <th></th>\n",
              "      <th></th>\n",
              "      <th></th>\n",
              "      <th></th>\n",
              "      <th></th>\n",
              "      <th></th>\n",
              "      <th></th>\n",
              "      <th></th>\n",
              "      <th></th>\n",
              "      <th></th>\n",
              "      <th></th>\n",
              "      <th></th>\n",
              "      <th></th>\n",
              "      <th></th>\n",
              "      <th></th>\n",
              "      <th></th>\n",
              "      <th></th>\n",
              "      <th></th>\n",
              "      <th></th>\n",
              "      <th></th>\n",
              "      <th></th>\n",
              "      <th></th>\n",
              "      <th></th>\n",
              "      <th></th>\n",
              "      <th></th>\n",
              "      <th></th>\n",
              "      <th></th>\n",
              "      <th></th>\n",
              "      <th></th>\n",
              "      <th></th>\n",
              "      <th></th>\n",
              "      <th></th>\n",
              "      <th></th>\n",
              "      <th></th>\n",
              "      <th></th>\n",
              "      <th></th>\n",
              "      <th></th>\n",
              "      <th></th>\n",
              "      <th></th>\n",
              "      <th></th>\n",
              "      <th></th>\n",
              "      <th></th>\n",
              "      <th></th>\n",
              "      <th></th>\n",
              "      <th></th>\n",
              "      <th></th>\n",
              "      <th></th>\n",
              "      <th></th>\n",
              "      <th></th>\n",
              "      <th></th>\n",
              "    </tr>\n",
              "  </thead>\n",
              "  <tbody>\n",
              "    <tr>\n",
              "      <th>B0000302YN</th>\n",
              "      <td>0.0</td>\n",
              "      <td>0.0</td>\n",
              "      <td>0.0</td>\n",
              "      <td>0.0</td>\n",
              "      <td>0.0</td>\n",
              "      <td>0.0</td>\n",
              "      <td>0.0</td>\n",
              "      <td>0.0</td>\n",
              "      <td>0.0</td>\n",
              "      <td>0.0</td>\n",
              "      <td>0.0</td>\n",
              "      <td>0.0</td>\n",
              "      <td>0.0</td>\n",
              "      <td>0.0</td>\n",
              "      <td>0.0</td>\n",
              "      <td>0.0</td>\n",
              "      <td>0.0</td>\n",
              "      <td>0.0</td>\n",
              "      <td>0.0</td>\n",
              "      <td>0.0</td>\n",
              "      <td>0.0</td>\n",
              "      <td>0.0</td>\n",
              "      <td>0.0</td>\n",
              "      <td>0.0</td>\n",
              "      <td>0.0</td>\n",
              "      <td>0.0</td>\n",
              "      <td>0.0</td>\n",
              "      <td>0.0</td>\n",
              "      <td>0.0</td>\n",
              "      <td>0.0</td>\n",
              "      <td>0.0</td>\n",
              "      <td>0.0</td>\n",
              "      <td>0.0</td>\n",
              "      <td>0.0</td>\n",
              "      <td>0.0</td>\n",
              "      <td>0.0</td>\n",
              "      <td>0.0</td>\n",
              "      <td>0.0</td>\n",
              "      <td>0.0</td>\n",
              "      <td>0.0</td>\n",
              "      <td>...</td>\n",
              "      <td>0.0</td>\n",
              "      <td>0.0</td>\n",
              "      <td>0.0</td>\n",
              "      <td>0.0</td>\n",
              "      <td>0.0</td>\n",
              "      <td>0.0</td>\n",
              "      <td>0.0</td>\n",
              "      <td>0.0</td>\n",
              "      <td>0.0</td>\n",
              "      <td>0.0</td>\n",
              "      <td>0.0</td>\n",
              "      <td>0.0</td>\n",
              "      <td>0.0</td>\n",
              "      <td>0.0</td>\n",
              "      <td>0.0</td>\n",
              "      <td>0.0</td>\n",
              "      <td>0.0</td>\n",
              "      <td>0.0</td>\n",
              "      <td>0.0</td>\n",
              "      <td>0.0</td>\n",
              "      <td>0.0</td>\n",
              "      <td>0.0</td>\n",
              "      <td>0.0</td>\n",
              "      <td>0.0</td>\n",
              "      <td>0.0</td>\n",
              "      <td>0.0</td>\n",
              "      <td>0.0</td>\n",
              "      <td>0.0</td>\n",
              "      <td>0.0</td>\n",
              "      <td>0.0</td>\n",
              "      <td>0.0</td>\n",
              "      <td>0.0</td>\n",
              "      <td>0.0</td>\n",
              "      <td>0.0</td>\n",
              "      <td>0.0</td>\n",
              "      <td>0.0</td>\n",
              "      <td>0.0</td>\n",
              "      <td>0.0</td>\n",
              "      <td>0.0</td>\n",
              "      <td>0.0</td>\n",
              "    </tr>\n",
              "    <tr>\n",
              "      <th>B00004THXH</th>\n",
              "      <td>0.0</td>\n",
              "      <td>0.0</td>\n",
              "      <td>0.0</td>\n",
              "      <td>0.0</td>\n",
              "      <td>0.0</td>\n",
              "      <td>0.0</td>\n",
              "      <td>0.0</td>\n",
              "      <td>0.0</td>\n",
              "      <td>0.0</td>\n",
              "      <td>0.0</td>\n",
              "      <td>0.0</td>\n",
              "      <td>0.0</td>\n",
              "      <td>0.0</td>\n",
              "      <td>0.0</td>\n",
              "      <td>0.0</td>\n",
              "      <td>0.0</td>\n",
              "      <td>0.0</td>\n",
              "      <td>0.0</td>\n",
              "      <td>0.0</td>\n",
              "      <td>0.0</td>\n",
              "      <td>0.0</td>\n",
              "      <td>0.0</td>\n",
              "      <td>0.0</td>\n",
              "      <td>0.0</td>\n",
              "      <td>0.0</td>\n",
              "      <td>0.0</td>\n",
              "      <td>4.0</td>\n",
              "      <td>0.0</td>\n",
              "      <td>0.0</td>\n",
              "      <td>0.0</td>\n",
              "      <td>0.0</td>\n",
              "      <td>0.0</td>\n",
              "      <td>0.0</td>\n",
              "      <td>0.0</td>\n",
              "      <td>0.0</td>\n",
              "      <td>0.0</td>\n",
              "      <td>0.0</td>\n",
              "      <td>0.0</td>\n",
              "      <td>0.0</td>\n",
              "      <td>0.0</td>\n",
              "      <td>...</td>\n",
              "      <td>0.0</td>\n",
              "      <td>0.0</td>\n",
              "      <td>0.0</td>\n",
              "      <td>0.0</td>\n",
              "      <td>0.0</td>\n",
              "      <td>0.0</td>\n",
              "      <td>0.0</td>\n",
              "      <td>0.0</td>\n",
              "      <td>0.0</td>\n",
              "      <td>0.0</td>\n",
              "      <td>0.0</td>\n",
              "      <td>0.0</td>\n",
              "      <td>0.0</td>\n",
              "      <td>0.0</td>\n",
              "      <td>0.0</td>\n",
              "      <td>0.0</td>\n",
              "      <td>0.0</td>\n",
              "      <td>0.0</td>\n",
              "      <td>0.0</td>\n",
              "      <td>0.0</td>\n",
              "      <td>0.0</td>\n",
              "      <td>0.0</td>\n",
              "      <td>0.0</td>\n",
              "      <td>0.0</td>\n",
              "      <td>0.0</td>\n",
              "      <td>0.0</td>\n",
              "      <td>0.0</td>\n",
              "      <td>0.0</td>\n",
              "      <td>0.0</td>\n",
              "      <td>0.0</td>\n",
              "      <td>0.0</td>\n",
              "      <td>0.0</td>\n",
              "      <td>0.0</td>\n",
              "      <td>0.0</td>\n",
              "      <td>0.0</td>\n",
              "      <td>0.0</td>\n",
              "      <td>0.0</td>\n",
              "      <td>0.0</td>\n",
              "      <td>0.0</td>\n",
              "      <td>0.0</td>\n",
              "    </tr>\n",
              "    <tr>\n",
              "      <th>B00004Z2UB</th>\n",
              "      <td>0.0</td>\n",
              "      <td>0.0</td>\n",
              "      <td>0.0</td>\n",
              "      <td>0.0</td>\n",
              "      <td>0.0</td>\n",
              "      <td>0.0</td>\n",
              "      <td>0.0</td>\n",
              "      <td>0.0</td>\n",
              "      <td>0.0</td>\n",
              "      <td>0.0</td>\n",
              "      <td>0.0</td>\n",
              "      <td>0.0</td>\n",
              "      <td>0.0</td>\n",
              "      <td>0.0</td>\n",
              "      <td>0.0</td>\n",
              "      <td>0.0</td>\n",
              "      <td>0.0</td>\n",
              "      <td>0.0</td>\n",
              "      <td>0.0</td>\n",
              "      <td>0.0</td>\n",
              "      <td>0.0</td>\n",
              "      <td>0.0</td>\n",
              "      <td>0.0</td>\n",
              "      <td>0.0</td>\n",
              "      <td>0.0</td>\n",
              "      <td>0.0</td>\n",
              "      <td>0.0</td>\n",
              "      <td>0.0</td>\n",
              "      <td>0.0</td>\n",
              "      <td>0.0</td>\n",
              "      <td>0.0</td>\n",
              "      <td>0.0</td>\n",
              "      <td>0.0</td>\n",
              "      <td>0.0</td>\n",
              "      <td>0.0</td>\n",
              "      <td>0.0</td>\n",
              "      <td>0.0</td>\n",
              "      <td>0.0</td>\n",
              "      <td>0.0</td>\n",
              "      <td>0.0</td>\n",
              "      <td>...</td>\n",
              "      <td>0.0</td>\n",
              "      <td>0.0</td>\n",
              "      <td>0.0</td>\n",
              "      <td>0.0</td>\n",
              "      <td>0.0</td>\n",
              "      <td>0.0</td>\n",
              "      <td>0.0</td>\n",
              "      <td>0.0</td>\n",
              "      <td>0.0</td>\n",
              "      <td>0.0</td>\n",
              "      <td>0.0</td>\n",
              "      <td>0.0</td>\n",
              "      <td>0.0</td>\n",
              "      <td>0.0</td>\n",
              "      <td>0.0</td>\n",
              "      <td>0.0</td>\n",
              "      <td>0.0</td>\n",
              "      <td>0.0</td>\n",
              "      <td>0.0</td>\n",
              "      <td>0.0</td>\n",
              "      <td>0.0</td>\n",
              "      <td>0.0</td>\n",
              "      <td>0.0</td>\n",
              "      <td>0.0</td>\n",
              "      <td>0.0</td>\n",
              "      <td>0.0</td>\n",
              "      <td>0.0</td>\n",
              "      <td>0.0</td>\n",
              "      <td>0.0</td>\n",
              "      <td>0.0</td>\n",
              "      <td>0.0</td>\n",
              "      <td>0.0</td>\n",
              "      <td>0.0</td>\n",
              "      <td>0.0</td>\n",
              "      <td>0.0</td>\n",
              "      <td>0.0</td>\n",
              "      <td>0.0</td>\n",
              "      <td>0.0</td>\n",
              "      <td>0.0</td>\n",
              "      <td>0.0</td>\n",
              "    </tr>\n",
              "    <tr>\n",
              "      <th>B00004Z2UD</th>\n",
              "      <td>0.0</td>\n",
              "      <td>0.0</td>\n",
              "      <td>0.0</td>\n",
              "      <td>0.0</td>\n",
              "      <td>0.0</td>\n",
              "      <td>0.0</td>\n",
              "      <td>0.0</td>\n",
              "      <td>0.0</td>\n",
              "      <td>0.0</td>\n",
              "      <td>0.0</td>\n",
              "      <td>0.0</td>\n",
              "      <td>0.0</td>\n",
              "      <td>0.0</td>\n",
              "      <td>0.0</td>\n",
              "      <td>0.0</td>\n",
              "      <td>0.0</td>\n",
              "      <td>0.0</td>\n",
              "      <td>0.0</td>\n",
              "      <td>0.0</td>\n",
              "      <td>0.0</td>\n",
              "      <td>0.0</td>\n",
              "      <td>0.0</td>\n",
              "      <td>0.0</td>\n",
              "      <td>0.0</td>\n",
              "      <td>0.0</td>\n",
              "      <td>0.0</td>\n",
              "      <td>0.0</td>\n",
              "      <td>0.0</td>\n",
              "      <td>0.0</td>\n",
              "      <td>0.0</td>\n",
              "      <td>0.0</td>\n",
              "      <td>0.0</td>\n",
              "      <td>0.0</td>\n",
              "      <td>0.0</td>\n",
              "      <td>0.0</td>\n",
              "      <td>0.0</td>\n",
              "      <td>0.0</td>\n",
              "      <td>0.0</td>\n",
              "      <td>0.0</td>\n",
              "      <td>0.0</td>\n",
              "      <td>...</td>\n",
              "      <td>0.0</td>\n",
              "      <td>0.0</td>\n",
              "      <td>0.0</td>\n",
              "      <td>0.0</td>\n",
              "      <td>0.0</td>\n",
              "      <td>0.0</td>\n",
              "      <td>0.0</td>\n",
              "      <td>0.0</td>\n",
              "      <td>0.0</td>\n",
              "      <td>0.0</td>\n",
              "      <td>0.0</td>\n",
              "      <td>0.0</td>\n",
              "      <td>0.0</td>\n",
              "      <td>0.0</td>\n",
              "      <td>0.0</td>\n",
              "      <td>0.0</td>\n",
              "      <td>0.0</td>\n",
              "      <td>0.0</td>\n",
              "      <td>0.0</td>\n",
              "      <td>0.0</td>\n",
              "      <td>0.0</td>\n",
              "      <td>0.0</td>\n",
              "      <td>0.0</td>\n",
              "      <td>0.0</td>\n",
              "      <td>0.0</td>\n",
              "      <td>0.0</td>\n",
              "      <td>0.0</td>\n",
              "      <td>0.0</td>\n",
              "      <td>0.0</td>\n",
              "      <td>0.0</td>\n",
              "      <td>0.0</td>\n",
              "      <td>0.0</td>\n",
              "      <td>0.0</td>\n",
              "      <td>0.0</td>\n",
              "      <td>0.0</td>\n",
              "      <td>0.0</td>\n",
              "      <td>0.0</td>\n",
              "      <td>0.0</td>\n",
              "      <td>0.0</td>\n",
              "      <td>0.0</td>\n",
              "    </tr>\n",
              "    <tr>\n",
              "      <th>B00006B8FS</th>\n",
              "      <td>0.0</td>\n",
              "      <td>0.0</td>\n",
              "      <td>0.0</td>\n",
              "      <td>0.0</td>\n",
              "      <td>0.0</td>\n",
              "      <td>0.0</td>\n",
              "      <td>0.0</td>\n",
              "      <td>0.0</td>\n",
              "      <td>0.0</td>\n",
              "      <td>0.0</td>\n",
              "      <td>0.0</td>\n",
              "      <td>0.0</td>\n",
              "      <td>0.0</td>\n",
              "      <td>0.0</td>\n",
              "      <td>0.0</td>\n",
              "      <td>0.0</td>\n",
              "      <td>0.0</td>\n",
              "      <td>0.0</td>\n",
              "      <td>0.0</td>\n",
              "      <td>0.0</td>\n",
              "      <td>0.0</td>\n",
              "      <td>0.0</td>\n",
              "      <td>0.0</td>\n",
              "      <td>0.0</td>\n",
              "      <td>0.0</td>\n",
              "      <td>0.0</td>\n",
              "      <td>0.0</td>\n",
              "      <td>0.0</td>\n",
              "      <td>0.0</td>\n",
              "      <td>0.0</td>\n",
              "      <td>0.0</td>\n",
              "      <td>0.0</td>\n",
              "      <td>0.0</td>\n",
              "      <td>0.0</td>\n",
              "      <td>0.0</td>\n",
              "      <td>0.0</td>\n",
              "      <td>0.0</td>\n",
              "      <td>0.0</td>\n",
              "      <td>0.0</td>\n",
              "      <td>0.0</td>\n",
              "      <td>...</td>\n",
              "      <td>0.0</td>\n",
              "      <td>0.0</td>\n",
              "      <td>0.0</td>\n",
              "      <td>0.0</td>\n",
              "      <td>0.0</td>\n",
              "      <td>0.0</td>\n",
              "      <td>0.0</td>\n",
              "      <td>0.0</td>\n",
              "      <td>0.0</td>\n",
              "      <td>0.0</td>\n",
              "      <td>0.0</td>\n",
              "      <td>0.0</td>\n",
              "      <td>0.0</td>\n",
              "      <td>0.0</td>\n",
              "      <td>0.0</td>\n",
              "      <td>0.0</td>\n",
              "      <td>0.0</td>\n",
              "      <td>0.0</td>\n",
              "      <td>0.0</td>\n",
              "      <td>0.0</td>\n",
              "      <td>0.0</td>\n",
              "      <td>0.0</td>\n",
              "      <td>0.0</td>\n",
              "      <td>0.0</td>\n",
              "      <td>0.0</td>\n",
              "      <td>0.0</td>\n",
              "      <td>0.0</td>\n",
              "      <td>0.0</td>\n",
              "      <td>0.0</td>\n",
              "      <td>0.0</td>\n",
              "      <td>0.0</td>\n",
              "      <td>0.0</td>\n",
              "      <td>0.0</td>\n",
              "      <td>0.0</td>\n",
              "      <td>0.0</td>\n",
              "      <td>0.0</td>\n",
              "      <td>0.0</td>\n",
              "      <td>0.0</td>\n",
              "      <td>0.0</td>\n",
              "      <td>0.0</td>\n",
              "    </tr>\n",
              "  </tbody>\n",
              "</table>\n",
              "<p>5 rows × 34594 columns</p>\n",
              "</div>"
            ],
            "text/plain": [
              "reviewer_id  A0193442L7IJXD7HANDM  ...  AZZZPAB0MBZ69\n",
              "asin                               ...               \n",
              "B0000302YN                    0.0  ...            0.0\n",
              "B00004THXH                    0.0  ...            0.0\n",
              "B00004Z2UB                    0.0  ...            0.0\n",
              "B00004Z2UD                    0.0  ...            0.0\n",
              "B00006B8FS                    0.0  ...            0.0\n",
              "\n",
              "[5 rows x 34594 columns]"
            ]
          },
          "metadata": {
            "tags": []
          },
          "execution_count": 17
        }
      ]
    },
    {
      "cell_type": "code",
      "metadata": {
        "colab": {
          "base_uri": "https://localhost:8080/"
        },
        "id": "_xUwHksUswaP",
        "outputId": "0b1b3c2b-ff55-4c0c-edcb-24fc68d9045d"
      },
      "source": [
        "ratingsd.shape"
      ],
      "execution_count": null,
      "outputs": [
        {
          "output_type": "execute_result",
          "data": {
            "text/plain": [
              "(398, 34594)"
            ]
          },
          "metadata": {
            "tags": []
          },
          "execution_count": 18
        }
      ]
    },
    {
      "cell_type": "code",
      "metadata": {
        "id": "rJg72zYOuOH-"
      },
      "source": [
        "traind, testd = train_test_split(ratingsd, test_size=0.3, random_state=42)"
      ],
      "execution_count": null,
      "outputs": []
    },
    {
      "cell_type": "code",
      "metadata": {
        "id": "TsAiKcRQuUHC"
      },
      "source": [
        "# DataFrame.as_matrix()는 지원 안 함. DataFrame.values로 해야 함.\n",
        "train = traind.values\n",
        "test = testd.values"
      ],
      "execution_count": null,
      "outputs": []
    },
    {
      "cell_type": "code",
      "metadata": {
        "colab": {
          "base_uri": "https://localhost:8080/"
        },
        "id": "nSSbLLrTNQ5F",
        "outputId": "de4d6569-db39-4061-fe05-f930925ebd42"
      },
      "source": [
        "train.shape"
      ],
      "execution_count": null,
      "outputs": [
        {
          "output_type": "execute_result",
          "data": {
            "text/plain": [
              "(278, 34594)"
            ]
          },
          "metadata": {
            "tags": []
          },
          "execution_count": 21
        }
      ]
    },
    {
      "cell_type": "code",
      "metadata": {
        "id": "xRs5PzsbNs_z"
      },
      "source": [
        "train_short = train[:50,:]"
      ],
      "execution_count": null,
      "outputs": []
    },
    {
      "cell_type": "code",
      "metadata": {
        "colab": {
          "base_uri": "https://localhost:8080/"
        },
        "id": "gBTOvhqaP6gp",
        "outputId": "94637446-69ab-417f-bfb2-9ac3baae5868"
      },
      "source": [
        "train_short.shape"
      ],
      "execution_count": null,
      "outputs": [
        {
          "output_type": "execute_result",
          "data": {
            "text/plain": [
              "(50, 34594)"
            ]
          },
          "metadata": {
            "tags": []
          },
          "execution_count": 23
        }
      ]
    },
    {
      "cell_type": "code",
      "metadata": {
        "colab": {
          "base_uri": "https://localhost:8080/"
        },
        "id": "fIdKlVGbuX2_",
        "outputId": "c15afcd1-b4d1-44e9-e018-4fdc9e93440c"
      },
      "source": [
        "sparsity = float(len(train_short.nonzero()[0]))\n",
        "sparsity /= (train_short.shape[0]*train_short.shape[1])\n",
        "sparsity *= 100\n",
        "print(f'sparsity: {sparsity}%')"
      ],
      "execution_count": null,
      "outputs": [
        {
          "output_type": "stream",
          "text": [
            "sparsity: 0.2477886338671446%\n"
          ],
          "name": "stdout"
        }
      ]
    },
    {
      "cell_type": "code",
      "metadata": {
        "id": "uZ2jlGA9u6ao"
      },
      "source": [
        "def item_similarity(ratings, epsilon=1e-3):\n",
        "    sim = ratings.T.dot(ratings)+epsilon\n",
        "    norms = np.array([np.sqrt(np.diagonal(sim))])\n",
        "    return (sim/norms/norms.T)"
      ],
      "execution_count": null,
      "outputs": []
    },
    {
      "cell_type": "code",
      "metadata": {
        "id": "O2TO55ybvKRW"
      },
      "source": [
        "# 코랩이 죽어버렸네\n",
        "item_sim = item_similarity(train_short)"
      ],
      "execution_count": null,
      "outputs": []
    },
    {
      "cell_type": "code",
      "metadata": {
        "id": "CEw2CJfrvOzB"
      },
      "source": [
        "def predict_item(ratings, similarity):\n",
        "    return ratings.dot(similarity) / np.array([np.abs(similarity).sum(axis=1)])"
      ],
      "execution_count": null,
      "outputs": []
    },
    {
      "cell_type": "code",
      "metadata": {
        "id": "GnlONfJqvZJL"
      },
      "source": [
        "item_predic"
      ],
      "execution_count": null,
      "outputs": []
    }
  ]
}