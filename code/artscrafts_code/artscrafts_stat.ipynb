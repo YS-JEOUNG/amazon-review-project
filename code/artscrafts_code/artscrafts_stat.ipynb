{
  "nbformat": 4,
  "nbformat_minor": 0,
  "metadata": {
    "colab": {
      "name": "artscrafts_stat.ipynb",
      "provenance": [],
      "include_colab_link": true
    },
    "kernelspec": {
      "name": "python3",
      "display_name": "Python 3"
    },
    "language_info": {
      "name": "python"
    }
  },
  "cells": [
    {
      "cell_type": "markdown",
      "metadata": {
        "id": "view-in-github",
        "colab_type": "text"
      },
      "source": [
        "<a href=\"https://colab.research.google.com/github/YS-JEOUNG/amazon-review-project/blob/main/code/artscrafts_stat.ipynb\" target=\"_parent\"><img src=\"https://colab.research.google.com/assets/colab-badge.svg\" alt=\"Open In Colab\"/></a>"
      ]
    },
    {
      "cell_type": "markdown",
      "metadata": {
        "id": "lZLgMJNCwGjJ"
      },
      "source": [
        "# Import"
      ]
    },
    {
      "cell_type": "code",
      "metadata": {
        "id": "EYGCSjviwEOB"
      },
      "source": [
        "import pandas as pd\n",
        "import numpy as np\n",
        "import gzip\n",
        "import json\n",
        "\n",
        "from datetime import datetime\n",
        "\n",
        "import matplotlib.pyplot as plt\n",
        "from matplotlib.colors import ListedColormap\n",
        "import seaborn as sns\n",
        "import matplotlib.colors as colors\n",
        "%matplotlib inline\n",
        "\n",
        "import warnings\n",
        "from scipy import stats\n",
        "warnings.filterwarnings('ignore')"
      ],
      "execution_count": null,
      "outputs": []
    },
    {
      "cell_type": "markdown",
      "metadata": {
        "id": "y9qDeYXRwVy4"
      },
      "source": [
        "# Data"
      ]
    },
    {
      "cell_type": "code",
      "metadata": {
        "id": "El_xlFQhwPzT"
      },
      "source": [
        "def parse(path):\n",
        "    g = gzip.open(path, 'rb')\n",
        "    for l in g:\n",
        "        yield json.loads(l)\n",
        "\n",
        "def getDF(path):\n",
        "    i = 0\n",
        "    df = {}\n",
        "    for d in parse(path):\n",
        "        df[i] = d\n",
        "        i += 1\n",
        "    return pd.DataFrame.from_dict(df, orient='index')"
      ],
      "execution_count": null,
      "outputs": []
    },
    {
      "cell_type": "code",
      "metadata": {
        "id": "Kn6TGniSwX2l"
      },
      "source": [
        "df = getDF('/content/drive/MyDrive/Colab Notebooks/project/Arts_Crafts_and_Sewing.json.gz')"
      ],
      "execution_count": null,
      "outputs": []
    },
    {
      "cell_type": "code",
      "metadata": {
        "id": "z2nioK91wZYe"
      },
      "source": [
        "metadf = getDF('/content/drive/MyDrive/Colab Notebooks/project/meta_Arts_Crafts_and_Sewing.json.gz')"
      ],
      "execution_count": null,
      "outputs": []
    },
    {
      "cell_type": "code",
      "metadata": {
        "colab": {
          "base_uri": "https://localhost:8080/"
        },
        "id": "A3gPrwyxwzdU",
        "outputId": "6b48fc67-5f43-41da-b831-8877cb3bd553"
      },
      "source": [
        "df.info()"
      ],
      "execution_count": null,
      "outputs": [
        {
          "output_type": "stream",
          "text": [
            "<class 'pandas.core.frame.DataFrame'>\n",
            "Int64Index: 2875917 entries, 0 to 2875916\n",
            "Data columns (total 12 columns):\n",
            " #   Column          Dtype  \n",
            "---  ------          -----  \n",
            " 0   overall         float64\n",
            " 1   vote            object \n",
            " 2   verified        bool   \n",
            " 3   reviewTime      object \n",
            " 4   reviewerID      object \n",
            " 5   asin            object \n",
            " 6   style           object \n",
            " 7   reviewerName    object \n",
            " 8   reviewText      object \n",
            " 9   summary         object \n",
            " 10  unixReviewTime  int64  \n",
            " 11  image           object \n",
            "dtypes: bool(1), float64(1), int64(1), object(9)\n",
            "memory usage: 266.0+ MB\n"
          ],
          "name": "stdout"
        }
      ]
    },
    {
      "cell_type": "code",
      "metadata": {
        "colab": {
          "base_uri": "https://localhost:8080/"
        },
        "id": "xYxZYbhww4wA",
        "outputId": "0b72f318-91a0-48b7-e9af-cd7c22a050fa"
      },
      "source": [
        "metadf.info()"
      ],
      "execution_count": null,
      "outputs": [
        {
          "output_type": "stream",
          "text": [
            "<class 'pandas.core.frame.DataFrame'>\n",
            "Int64Index: 302988 entries, 0 to 302987\n",
            "Data columns (total 18 columns):\n",
            " #   Column        Non-Null Count   Dtype \n",
            "---  ------        --------------   ----- \n",
            " 0   category      302988 non-null  object\n",
            " 1   tech1         302988 non-null  object\n",
            " 2   description   302988 non-null  object\n",
            " 3   fit           302988 non-null  object\n",
            " 4   title         302988 non-null  object\n",
            " 5   also_buy      302988 non-null  object\n",
            " 6   image         302988 non-null  object\n",
            " 7   tech2         302988 non-null  object\n",
            " 8   brand         302988 non-null  object\n",
            " 9   feature       302988 non-null  object\n",
            " 10  rank          302988 non-null  object\n",
            " 11  also_view     302988 non-null  object\n",
            " 12  details       302988 non-null  object\n",
            " 13  main_cat      302988 non-null  object\n",
            " 14  similar_item  302988 non-null  object\n",
            " 15  date          302988 non-null  object\n",
            " 16  price         302988 non-null  object\n",
            " 17  asin          302988 non-null  object\n",
            "dtypes: object(18)\n",
            "memory usage: 43.9+ MB\n"
          ],
          "name": "stdout"
        }
      ]
    },
    {
      "cell_type": "code",
      "metadata": {
        "id": "yQld83X3w7CN"
      },
      "source": [
        "total = pd.merge(df, metadf, how='left', on='asin')"
      ],
      "execution_count": null,
      "outputs": []
    },
    {
      "cell_type": "code",
      "metadata": {
        "id": "s1qJR9mAw9Ss"
      },
      "source": [
        "total = total.drop(['image_x', 'tech1', 'fit', 'also_buy', 'tech2', 'image_y', 'also_view', 'similar_item', 'feature', 'details'], axis=1)"
      ],
      "execution_count": null,
      "outputs": []
    },
    {
      "cell_type": "code",
      "metadata": {
        "colab": {
          "base_uri": "https://localhost:8080/"
        },
        "id": "lWZa6kUtxs5m",
        "outputId": "a537fe33-7107-4fa5-ba2e-fa72a56c92e4"
      },
      "source": [
        "total.info()"
      ],
      "execution_count": null,
      "outputs": [
        {
          "output_type": "stream",
          "text": [
            "<class 'pandas.core.frame.DataFrame'>\n",
            "Int64Index: 2911389 entries, 0 to 2911388\n",
            "Data columns (total 19 columns):\n",
            " #   Column          Dtype  \n",
            "---  ------          -----  \n",
            " 0   overall         float64\n",
            " 1   vote            object \n",
            " 2   verified        bool   \n",
            " 3   reviewTime      object \n",
            " 4   reviewerID      object \n",
            " 5   asin            object \n",
            " 6   style           object \n",
            " 7   reviewerName    object \n",
            " 8   reviewText      object \n",
            " 9   summary         object \n",
            " 10  unixReviewTime  int64  \n",
            " 11  category        object \n",
            " 12  description     object \n",
            " 13  title           object \n",
            " 14  brand           object \n",
            " 15  rank            object \n",
            " 16  main_cat        object \n",
            " 17  date            object \n",
            " 18  price           object \n",
            "dtypes: bool(1), float64(1), int64(1), object(16)\n",
            "memory usage: 424.8+ MB\n"
          ],
          "name": "stdout"
        }
      ]
    },
    {
      "cell_type": "code",
      "metadata": {
        "colab": {
          "base_uri": "https://localhost:8080/"
        },
        "id": "F6MPSVQaxwS1",
        "outputId": "624b4b62-6af1-4c23-a526-6db6e9ff2853"
      },
      "source": [
        "# check for missing values\n",
        "total.isnull().sum()"
      ],
      "execution_count": null,
      "outputs": [
        {
          "output_type": "execute_result",
          "data": {
            "text/plain": [
              "overall                 0\n",
              "vote              2534349\n",
              "verified                0\n",
              "reviewTime              0\n",
              "reviewerID              0\n",
              "asin                    0\n",
              "style             1764066\n",
              "reviewerName          201\n",
              "reviewText           2544\n",
              "summary               965\n",
              "unixReviewTime          0\n",
              "category             8668\n",
              "description          8668\n",
              "title                8668\n",
              "brand                8668\n",
              "rank                 8668\n",
              "main_cat             8668\n",
              "date                 8668\n",
              "price                8668\n",
              "dtype: int64"
            ]
          },
          "metadata": {
            "tags": []
          },
          "execution_count": 10
        }
      ]
    },
    {
      "cell_type": "code",
      "metadata": {
        "id": "lA1zjllJx3Gh"
      },
      "source": [
        "# drop null values in product title column in pandas\n",
        "total = total.dropna(subset=['title'])"
      ],
      "execution_count": null,
      "outputs": []
    },
    {
      "cell_type": "code",
      "metadata": {
        "colab": {
          "base_uri": "https://localhost:8080/"
        },
        "id": "xaJwPfR8x-uS",
        "outputId": "2834c5cd-7366-4d9f-cfda-9dc29322729f"
      },
      "source": [
        "# check missing values\n",
        "total.isnull().sum()"
      ],
      "execution_count": null,
      "outputs": [
        {
          "output_type": "execute_result",
          "data": {
            "text/plain": [
              "overall                 0\n",
              "vote              2527428\n",
              "verified                0\n",
              "reviewTime              0\n",
              "reviewerID              0\n",
              "asin                    0\n",
              "style             1760927\n",
              "reviewerName          201\n",
              "reviewText           2540\n",
              "summary               963\n",
              "unixReviewTime          0\n",
              "category                0\n",
              "description             0\n",
              "title                   0\n",
              "brand                   0\n",
              "rank                    0\n",
              "main_cat                0\n",
              "date                    0\n",
              "price                   0\n",
              "dtype: int64"
            ]
          },
          "metadata": {
            "tags": []
          },
          "execution_count": 12
        }
      ]
    },
    {
      "cell_type": "code",
      "metadata": {
        "id": "hgNKhwYtyIeb"
      },
      "source": [
        "# fill null values in brand name with first word from title\n",
        "total.loc[total.brand.isnull(), 'brand'] = total.title.str.split().str.get(0)"
      ],
      "execution_count": null,
      "outputs": []
    },
    {
      "cell_type": "code",
      "metadata": {
        "id": "8uqBMorlyawS"
      },
      "source": [
        "total = total.dropna(subset=['vote', 'style', 'reviewerName', 'reviewText', 'summary'])"
      ],
      "execution_count": null,
      "outputs": []
    },
    {
      "cell_type": "code",
      "metadata": {
        "colab": {
          "base_uri": "https://localhost:8080/"
        },
        "id": "AO0x6KPQyjcR",
        "outputId": "5509909b-8b4c-4da9-bc76-9f73ef6cf749"
      },
      "source": [
        "total.isnull().sum()"
      ],
      "execution_count": null,
      "outputs": [
        {
          "output_type": "execute_result",
          "data": {
            "text/plain": [
              "overall           0\n",
              "vote              0\n",
              "verified          0\n",
              "reviewTime        0\n",
              "reviewerID        0\n",
              "asin              0\n",
              "style             0\n",
              "reviewerName      0\n",
              "reviewText        0\n",
              "summary           0\n",
              "unixReviewTime    0\n",
              "category          0\n",
              "description       0\n",
              "title             0\n",
              "brand             0\n",
              "rank              0\n",
              "main_cat          0\n",
              "date              0\n",
              "price             0\n",
              "dtype: int64"
            ]
          },
          "metadata": {
            "tags": []
          },
          "execution_count": 15
        }
      ]
    },
    {
      "cell_type": "code",
      "metadata": {
        "id": "so6AAURIylzZ"
      },
      "source": [
        "# 'summary'와 'reviewText' 합치기\n",
        "total['review_text'] = total[['summary', 'reviewText']].apply(lambda x: \" \".join(str(y) for y in x if str(y) != 'nan'), axis=1)"
      ],
      "execution_count": null,
      "outputs": []
    },
    {
      "cell_type": "code",
      "metadata": {
        "id": "9KZSw12iy_s_"
      },
      "source": [
        "total = total.drop(['summary', 'reviewText'], axis=1)"
      ],
      "execution_count": null,
      "outputs": []
    },
    {
      "cell_type": "code",
      "metadata": {
        "colab": {
          "base_uri": "https://localhost:8080/"
        },
        "id": "_RklU7ZVzJnh",
        "outputId": "8f60653a-addb-4b96-f66d-8445e8aad368"
      },
      "source": [
        "total['review_text'][2046]"
      ],
      "execution_count": null,
      "outputs": [
        {
          "output_type": "execute_result",
          "data": {
            "application/vnd.google.colaboratory.intrinsic+json": {
              "type": "string"
            },
            "text/plain": [
              "\"Solid buy, few small gripes about page layout I have to be honest - I already have quite a collection of Moleskine notebooks and love them all. However, I will say that I found this recipe journal to be the perfect companion. I consider myself a home cook with a penchant for collecting, organizing and categorizing my recipes into favorites folders within Firefox. However, it isn't always safe for my computer on the kitchen counter.\\n\\nThe pages in the recipe journal give you enough room to record a standard recipe if you don't mind keeping your handwriting pretty small. I had to shrink mine a bit after a few of my longer recipes had ingredients squeezed into the margins. I found the space for rating the recipes - 0 to 5 stars - a little unnecessary. If I think a recipe is worth anything BUT 5 stars, I'm not wasting any Moleskine pages on it at all.\\n\\nLoved the blank tabbed pages in the back and the adjoining stickers - there are LOTS to choose from - that let you create your own sections. However, the actual layout of those pages isn't really conducive to writing more recipes. You get a page split up into smaller sections horizontally and none of the nifty layout from the pre-labeled recipe sections.\\n\\nI should also mention that the wine pairing space provided didn't get much use. I actually took it upon myself to LOOK UP wine pairings for some of my favorite recipes though, and to that end at least I've been prompted to learn something about wine/food.\\n\\nAll in all, this is a great companion for any foodie who has an appreciation for Moleskine's craftsmanship. If you ask me, sure beats having a tin full of index cards or a box full of clipped recipes.\\n\\nAssuming I eventually fill up my recipe journal - I've just begun - I would definitely buy another one. Lets me take ownership of recipes and add my own variations.\""
            ]
          },
          "metadata": {
            "tags": []
          },
          "execution_count": 18
        }
      ]
    },
    {
      "cell_type": "code",
      "metadata": {
        "id": "_eQzjsGazNdu"
      },
      "source": [
        "# 리뷰 추천수 vote, NaN은 0으로 변환\n",
        "total['vote'] = total['vote'].fillna(0)"
      ],
      "execution_count": null,
      "outputs": []
    },
    {
      "cell_type": "code",
      "metadata": {
        "colab": {
          "base_uri": "https://localhost:8080/"
        },
        "id": "IIzGaRP2zZ2H",
        "outputId": "ff2216b8-e89f-4c77-c3b3-43866854ed93"
      },
      "source": [
        "# classify ratings as good\n",
        "good_rate = len(total[total['overall'] >= 3])\n",
        "bad_rate = len(total[total['overall'] < 3])\n",
        "\n",
        "# printing rates and their total numbers\n",
        "print(f'Good ratings: {good_rate} reviews')\n",
        "print(f'Bad ratings: {bad_rate} reviews')"
      ],
      "execution_count": null,
      "outputs": [
        {
          "output_type": "stream",
          "text": [
            "Good ratings: 112992 reviews\n",
            "Bad ratings: 30239 reviews\n"
          ],
          "name": "stdout"
        }
      ]
    },
    {
      "cell_type": "code",
      "metadata": {
        "colab": {
          "base_uri": "https://localhost:8080/"
        },
        "id": "ZKeebcfxznc9",
        "outputId": "0c6a33f9-7f54-4ce3-aa53-f074ed7411fc"
      },
      "source": [
        "# apply the new classification to the ratings column\n",
        "total['rating_class'] = total['overall'].apply(lambda x: 'bad' if x < 3 else 'good')\n",
        "total.shape"
      ],
      "execution_count": null,
      "outputs": [
        {
          "output_type": "execute_result",
          "data": {
            "text/plain": [
              "(143231, 19)"
            ]
          },
          "metadata": {
            "tags": []
          },
          "execution_count": 21
        }
      ]
    },
    {
      "cell_type": "code",
      "metadata": {
        "colab": {
          "base_uri": "https://localhost:8080/",
          "height": 1000
        },
        "id": "pNFT-3J5zsaL",
        "outputId": "a15505c8-c76a-4f7a-afbc-219e0da580d7"
      },
      "source": [
        "# checking duplicates based on 'asin', 'reviweName', and 'unixReviewTime' columns: 중복된 리뷰 확인\n",
        "total[total.duplicated(['reviewerName', 'unixReviewTime', 'asin'], keep=False)]"
      ],
      "execution_count": null,
      "outputs": [
        {
          "output_type": "execute_result",
          "data": {
            "text/html": [
              "<div>\n",
              "<style scoped>\n",
              "    .dataframe tbody tr th:only-of-type {\n",
              "        vertical-align: middle;\n",
              "    }\n",
              "\n",
              "    .dataframe tbody tr th {\n",
              "        vertical-align: top;\n",
              "    }\n",
              "\n",
              "    .dataframe thead th {\n",
              "        text-align: right;\n",
              "    }\n",
              "</style>\n",
              "<table border=\"1\" class=\"dataframe\">\n",
              "  <thead>\n",
              "    <tr style=\"text-align: right;\">\n",
              "      <th></th>\n",
              "      <th>overall</th>\n",
              "      <th>vote</th>\n",
              "      <th>verified</th>\n",
              "      <th>reviewTime</th>\n",
              "      <th>reviewerID</th>\n",
              "      <th>asin</th>\n",
              "      <th>style</th>\n",
              "      <th>reviewerName</th>\n",
              "      <th>unixReviewTime</th>\n",
              "      <th>category</th>\n",
              "      <th>description</th>\n",
              "      <th>title</th>\n",
              "      <th>brand</th>\n",
              "      <th>rank</th>\n",
              "      <th>main_cat</th>\n",
              "      <th>date</th>\n",
              "      <th>price</th>\n",
              "      <th>review_text</th>\n",
              "      <th>rating_class</th>\n",
              "    </tr>\n",
              "  </thead>\n",
              "  <tbody>\n",
              "    <tr>\n",
              "      <th>4396</th>\n",
              "      <td>5.0</td>\n",
              "      <td>2</td>\n",
              "      <td>True</td>\n",
              "      <td>12 26, 2012</td>\n",
              "      <td>A1HQLS79C6VCS1</td>\n",
              "      <td>B00002N6GD</td>\n",
              "      <td>{'Size Name:': ' Pack of 24'}</td>\n",
              "      <td>Carmen Cordova</td>\n",
              "      <td>1356480000</td>\n",
              "      <td>[Arts, Crafts &amp; Sewing, Painting, Drawing &amp; Ar...</td>\n",
              "      <td>[This item is Jen Mfg. Foam Brush Poly Foam Br...</td>\n",
              "      <td>Jen Manufacturing 8500-D  4&amp;quot; Foam Brush w...</td>\n",
              "      <td>Jen Mfg., Inc.</td>\n",
              "      <td>[&gt;#111,766 in Tools &amp; Home Improvement (See To...</td>\n",
              "      <td>Tools &amp; Home Improvement</td>\n",
              "      <td></td>\n",
              "      <td>$13.50</td>\n",
              "      <td>Only brush l use I love them paint  put in zip...</td>\n",
              "      <td>good</td>\n",
              "    </tr>\n",
              "    <tr>\n",
              "      <th>4397</th>\n",
              "      <td>5.0</td>\n",
              "      <td>2</td>\n",
              "      <td>True</td>\n",
              "      <td>12 26, 2012</td>\n",
              "      <td>A1HQLS79C6VCS1</td>\n",
              "      <td>B00002N6GD</td>\n",
              "      <td>{'Size Name:': ' Pack of 24'}</td>\n",
              "      <td>Carmen Cordova</td>\n",
              "      <td>1356480000</td>\n",
              "      <td>[Arts, Crafts &amp; Sewing, Painting, Drawing &amp; Ar...</td>\n",
              "      <td>[This item is Jen Mfg. Foam Brush Poly Foam Br...</td>\n",
              "      <td>Jen Manufacturing 8500-D  4&amp;quot; Foam Brush w...</td>\n",
              "      <td>Jen Mfg., Inc.</td>\n",
              "      <td>[&gt;#111,766 in Tools &amp; Home Improvement (See To...</td>\n",
              "      <td>Tools &amp; Home Improvement</td>\n",
              "      <td></td>\n",
              "      <td>$13.50</td>\n",
              "      <td>Only brush l use I love them paint  put in zip...</td>\n",
              "      <td>good</td>\n",
              "    </tr>\n",
              "    <tr>\n",
              "      <th>4498</th>\n",
              "      <td>5.0</td>\n",
              "      <td>2</td>\n",
              "      <td>True</td>\n",
              "      <td>07 25, 2014</td>\n",
              "      <td>A1CS41KME12RQ8</td>\n",
              "      <td>B00002N6GD</td>\n",
              "      <td>{'Size Name:': ' Pack of 24'}</td>\n",
              "      <td>Jon Myers</td>\n",
              "      <td>1406246400</td>\n",
              "      <td>[Arts, Crafts &amp; Sewing, Painting, Drawing &amp; Ar...</td>\n",
              "      <td>[This item is Jen Mfg. Foam Brush Poly Foam Br...</td>\n",
              "      <td>Jen Manufacturing 8500-D  4&amp;quot; Foam Brush w...</td>\n",
              "      <td>Jen Mfg., Inc.</td>\n",
              "      <td>[&gt;#111,766 in Tools &amp; Home Improvement (See To...</td>\n",
              "      <td>Tools &amp; Home Improvement</td>\n",
              "      <td></td>\n",
              "      <td>$13.50</td>\n",
              "      <td>Best Foam Brush I have ever used I have been u...</td>\n",
              "      <td>good</td>\n",
              "    </tr>\n",
              "    <tr>\n",
              "      <th>4499</th>\n",
              "      <td>5.0</td>\n",
              "      <td>2</td>\n",
              "      <td>True</td>\n",
              "      <td>07 25, 2014</td>\n",
              "      <td>A1CS41KME12RQ8</td>\n",
              "      <td>B00002N6GD</td>\n",
              "      <td>{'Size Name:': ' Pack of 24'}</td>\n",
              "      <td>Jon Myers</td>\n",
              "      <td>1406246400</td>\n",
              "      <td>[Arts, Crafts &amp; Sewing, Painting, Drawing &amp; Ar...</td>\n",
              "      <td>[This item is Jen Mfg. Foam Brush Poly Foam Br...</td>\n",
              "      <td>Jen Manufacturing 8500-D  4&amp;quot; Foam Brush w...</td>\n",
              "      <td>Jen Mfg., Inc.</td>\n",
              "      <td>[&gt;#111,766 in Tools &amp; Home Improvement (See To...</td>\n",
              "      <td>Tools &amp; Home Improvement</td>\n",
              "      <td></td>\n",
              "      <td>$13.50</td>\n",
              "      <td>Best Foam Brush I have ever used I have been u...</td>\n",
              "      <td>good</td>\n",
              "    </tr>\n",
              "    <tr>\n",
              "      <th>4504</th>\n",
              "      <td>5.0</td>\n",
              "      <td>2</td>\n",
              "      <td>True</td>\n",
              "      <td>05 22, 2014</td>\n",
              "      <td>A3076BNRCXCXLM</td>\n",
              "      <td>B00002N6GD</td>\n",
              "      <td>{'Size Name:': ' Pack of 24'}</td>\n",
              "      <td>EvenMax</td>\n",
              "      <td>1400716800</td>\n",
              "      <td>[Arts, Crafts &amp; Sewing, Painting, Drawing &amp; Ar...</td>\n",
              "      <td>[This item is Jen Mfg. Foam Brush Poly Foam Br...</td>\n",
              "      <td>Jen Manufacturing 8500-D  4&amp;quot; Foam Brush w...</td>\n",
              "      <td>Jen Mfg., Inc.</td>\n",
              "      <td>[&gt;#111,766 in Tools &amp; Home Improvement (See To...</td>\n",
              "      <td>Tools &amp; Home Improvement</td>\n",
              "      <td></td>\n",
              "      <td>$13.50</td>\n",
              "      <td>Best foam brushes out there Jen foam brushes a...</td>\n",
              "      <td>good</td>\n",
              "    </tr>\n",
              "    <tr>\n",
              "      <th>...</th>\n",
              "      <td>...</td>\n",
              "      <td>...</td>\n",
              "      <td>...</td>\n",
              "      <td>...</td>\n",
              "      <td>...</td>\n",
              "      <td>...</td>\n",
              "      <td>...</td>\n",
              "      <td>...</td>\n",
              "      <td>...</td>\n",
              "      <td>...</td>\n",
              "      <td>...</td>\n",
              "      <td>...</td>\n",
              "      <td>...</td>\n",
              "      <td>...</td>\n",
              "      <td>...</td>\n",
              "      <td>...</td>\n",
              "      <td>...</td>\n",
              "      <td>...</td>\n",
              "      <td>...</td>\n",
              "    </tr>\n",
              "    <tr>\n",
              "      <th>2432978</th>\n",
              "      <td>5.0</td>\n",
              "      <td>2</td>\n",
              "      <td>True</td>\n",
              "      <td>12 16, 2017</td>\n",
              "      <td>A1XDBKP1IYWKYB</td>\n",
              "      <td>B0000CAPBW</td>\n",
              "      <td>{'Color:': ' pccat-18'}</td>\n",
              "      <td>Dominique</td>\n",
              "      <td>1513382400</td>\n",
              "      <td>[Arts, Crafts &amp; Sewing, Organization, Storage ...</td>\n",
              "      <td>[Imge Series Front Load Stacking Desk TraysCon...</td>\n",
              "      <td>Eldon(R) Image(R) Legal Tray, Clear</td>\n",
              "      <td>Eldon</td>\n",
              "      <td>[&gt;#727,912 in Office Products (See top 100), &gt;...</td>\n",
              "      <td>Office Products</td>\n",
              "      <td>April 18, 2008</td>\n",
              "      <td></td>\n",
              "      <td>Best gift for a dog lover. This is so awesome....</td>\n",
              "      <td>good</td>\n",
              "    </tr>\n",
              "    <tr>\n",
              "      <th>2432979</th>\n",
              "      <td>5.0</td>\n",
              "      <td>2</td>\n",
              "      <td>True</td>\n",
              "      <td>12 16, 2017</td>\n",
              "      <td>A1XDBKP1IYWKYB</td>\n",
              "      <td>B0000CAPBW</td>\n",
              "      <td>{'Color:': ' pccat-18'}</td>\n",
              "      <td>Dominique</td>\n",
              "      <td>1513382400</td>\n",
              "      <td>[Arts, Crafts &amp; Sewing, Organization, Storage ...</td>\n",
              "      <td>[Imge Series Front Load Stacking Desk TraysCon...</td>\n",
              "      <td>Eldon(R) Image(R) Legal Tray, Clear</td>\n",
              "      <td>Eldon</td>\n",
              "      <td>[&gt;#727,912 in Office Products (See top 100), &gt;...</td>\n",
              "      <td>Office Products</td>\n",
              "      <td>April 18, 2008</td>\n",
              "      <td></td>\n",
              "      <td>Best gift for a dog lover. This is so awesome....</td>\n",
              "      <td>good</td>\n",
              "    </tr>\n",
              "    <tr>\n",
              "      <th>2432980</th>\n",
              "      <td>4.0</td>\n",
              "      <td>2</td>\n",
              "      <td>True</td>\n",
              "      <td>09 28, 2017</td>\n",
              "      <td>AHSYSCPS9ASBG</td>\n",
              "      <td>B0000CAPBW</td>\n",
              "      <td>{'Color:': ' pccat-20'}</td>\n",
              "      <td>Amazon Customer</td>\n",
              "      <td>1506556800</td>\n",
              "      <td>[Arts, Crafts &amp; Sewing, Organization, Storage ...</td>\n",
              "      <td>[Imge Series Front Load Stacking Desk TraysCon...</td>\n",
              "      <td>Eldon(R) Image(R) Legal Tray, Clear</td>\n",
              "      <td>Eldon</td>\n",
              "      <td>[&gt;#727,912 in Office Products (See top 100), &gt;...</td>\n",
              "      <td>Office Products</td>\n",
              "      <td>April 18, 2008</td>\n",
              "      <td></td>\n",
              "      <td>Four Stars Worked as it should.</td>\n",
              "      <td>good</td>\n",
              "    </tr>\n",
              "    <tr>\n",
              "      <th>2432981</th>\n",
              "      <td>4.0</td>\n",
              "      <td>2</td>\n",
              "      <td>True</td>\n",
              "      <td>09 28, 2017</td>\n",
              "      <td>AHSYSCPS9ASBG</td>\n",
              "      <td>B0000CAPBW</td>\n",
              "      <td>{'Color:': ' pccat-20'}</td>\n",
              "      <td>Amazon Customer</td>\n",
              "      <td>1506556800</td>\n",
              "      <td>[Arts, Crafts &amp; Sewing, Organization, Storage ...</td>\n",
              "      <td>[Imge Series Front Load Stacking Desk TraysCon...</td>\n",
              "      <td>Eldon(R) Image(R) Legal Tray, Clear</td>\n",
              "      <td>Eldon</td>\n",
              "      <td>[&gt;#727,912 in Office Products (See top 100), &gt;...</td>\n",
              "      <td>Office Products</td>\n",
              "      <td>April 18, 2008</td>\n",
              "      <td></td>\n",
              "      <td>Four Stars Worked as it should.</td>\n",
              "      <td>good</td>\n",
              "    </tr>\n",
              "    <tr>\n",
              "      <th>2658608</th>\n",
              "      <td>5.0</td>\n",
              "      <td>4</td>\n",
              "      <td>False</td>\n",
              "      <td>08 27, 2015</td>\n",
              "      <td>ALYZJ7W14YS26</td>\n",
              "      <td>B00USK32J8</td>\n",
              "      <td>{'Color:': ' Blueprint'}</td>\n",
              "      <td>iiiireader</td>\n",
              "      <td>1440633600</td>\n",
              "      <td>[Arts, Crafts &amp; Sewing, Knitting &amp; Crochet, Yarn]</td>\n",
              "      <td>[RED HEART Boulevard yard has a unique constru...</td>\n",
              "      <td>Red Heart Rhb Boulevard Blueprint</td>\n",
              "      <td>Red Heart</td>\n",
              "      <td>[&gt;#397,689 in Arts, Crafts &amp; Sewing (See Top 1...</td>\n",
              "      <td>Arts, Crafts &amp; Sewing</td>\n",
              "      <td></td>\n",
              "      <td>$7.89</td>\n",
              "      <td>Beautiful new blue thick and quick to stitch y...</td>\n",
              "      <td>good</td>\n",
              "    </tr>\n",
              "  </tbody>\n",
              "</table>\n",
              "<p>26048 rows × 19 columns</p>\n",
              "</div>"
            ],
            "text/plain": [
              "         overall  ... rating_class\n",
              "4396         5.0  ...         good\n",
              "4397         5.0  ...         good\n",
              "4498         5.0  ...         good\n",
              "4499         5.0  ...         good\n",
              "4504         5.0  ...         good\n",
              "...          ...  ...          ...\n",
              "2432978      5.0  ...         good\n",
              "2432979      5.0  ...         good\n",
              "2432980      4.0  ...         good\n",
              "2432981      4.0  ...         good\n",
              "2658608      5.0  ...         good\n",
              "\n",
              "[26048 rows x 19 columns]"
            ]
          },
          "metadata": {
            "tags": []
          },
          "execution_count": 22
        }
      ]
    },
    {
      "cell_type": "code",
      "metadata": {
        "id": "GVshZBuYzv3x"
      },
      "source": [
        "# 중복되는 리뷰들은 그 중 첫 번째것만 남기기\n",
        "total = total.drop_duplicates(['asin', 'reviewerName', 'unixReviewTime'], keep='first')"
      ],
      "execution_count": null,
      "outputs": []
    },
    {
      "cell_type": "code",
      "metadata": {
        "colab": {
          "base_uri": "https://localhost:8080/"
        },
        "id": "4Hz3_2kszzXQ",
        "outputId": "6abff8a0-6d9f-4fa6-cc88-cf1246202c03"
      },
      "source": [
        "total.shape"
      ],
      "execution_count": null,
      "outputs": [
        {
          "output_type": "execute_result",
          "data": {
            "text/plain": [
              "(130133, 19)"
            ]
          },
          "metadata": {
            "tags": []
          },
          "execution_count": 24
        }
      ]
    },
    {
      "cell_type": "code",
      "metadata": {
        "colab": {
          "base_uri": "https://localhost:8080/"
        },
        "id": "J2jsNMbzz0Sd",
        "outputId": "0c3d0bda-a408-4f14-c5f0-06c25e4d10f7"
      },
      "source": [
        "# convert time object to datetime and create a new column named 'time'\n",
        "total['time'] = total.reviewTime.str.replace(',', \"\")\n",
        "total['time'] = pd.to_datetime(total['time'], format = '%m %d %Y')\n",
        "total = total.drop('reviewTime', axis=1)\n",
        "total.head()"
      ],
      "execution_count": null,
      "outputs": [
        {
          "output_type": "execute_result",
          "data": {
            "text/html": [
              "<div>\n",
              "<style scoped>\n",
              "    .dataframe tbody tr th:only-of-type {\n",
              "        vertical-align: middle;\n",
              "    }\n",
              "\n",
              "    .dataframe tbody tr th {\n",
              "        vertical-align: top;\n",
              "    }\n",
              "\n",
              "    .dataframe thead th {\n",
              "        text-align: right;\n",
              "    }\n",
              "</style>\n",
              "<table border=\"1\" class=\"dataframe\">\n",
              "  <thead>\n",
              "    <tr style=\"text-align: right;\">\n",
              "      <th></th>\n",
              "      <th>overall</th>\n",
              "      <th>vote</th>\n",
              "      <th>verified</th>\n",
              "      <th>reviewerID</th>\n",
              "      <th>asin</th>\n",
              "      <th>style</th>\n",
              "      <th>reviewerName</th>\n",
              "      <th>unixReviewTime</th>\n",
              "      <th>category</th>\n",
              "      <th>description</th>\n",
              "      <th>title</th>\n",
              "      <th>brand</th>\n",
              "      <th>rank</th>\n",
              "      <th>main_cat</th>\n",
              "      <th>date</th>\n",
              "      <th>price</th>\n",
              "      <th>review_text</th>\n",
              "      <th>rating_class</th>\n",
              "      <th>time</th>\n",
              "    </tr>\n",
              "  </thead>\n",
              "  <tbody>\n",
              "    <tr>\n",
              "      <th>2045</th>\n",
              "      <td>5.0</td>\n",
              "      <td>9</td>\n",
              "      <td>True</td>\n",
              "      <td>APVFJYDRTYNK5</td>\n",
              "      <td>886293162X</td>\n",
              "      <td>{'Format:': ' Paperback'}</td>\n",
              "      <td>Mrs. Sally L. C. Marsh</td>\n",
              "      <td>1290816000</td>\n",
              "      <td>[Arts, Crafts &amp; Sewing, Crafting, Paper &amp; Pape...</td>\n",
              "      <td>[The new Volant Address Book has ruled pages w...</td>\n",
              "      <td>Moleskine Volant Address Book, Large, Magenta,...</td>\n",
              "      <td>Moleskine</td>\n",
              "      <td>[&gt;#514,989 in Office Products (See top 100), &gt;...</td>\n",
              "      <td>Office Products</td>\n",
              "      <td>January 10, 2009</td>\n",
              "      <td></td>\n",
              "      <td>Nice and perfect for an address book Thin, you...</td>\n",
              "      <td>good</td>\n",
              "      <td>2010-11-27</td>\n",
              "    </tr>\n",
              "    <tr>\n",
              "      <th>2046</th>\n",
              "      <td>4.0</td>\n",
              "      <td>69</td>\n",
              "      <td>True</td>\n",
              "      <td>A3BQSWC3801JNI</td>\n",
              "      <td>8862933177</td>\n",
              "      <td>{'Format:': ' Hardcover'}</td>\n",
              "      <td>Stacy A. Jones</td>\n",
              "      <td>1267660800</td>\n",
              "      <td>[Arts, Crafts &amp; Sewing, Crafting, Paper &amp; Pape...</td>\n",
              "      <td>[Build your very own film archive. Fully embos...</td>\n",
              "      <td>Moleskine Passion Journal - Film, Large, Hard ...</td>\n",
              "      <td>Moleskine</td>\n",
              "      <td>[&gt;#229,441 in Office Products (See top 100), &gt;...</td>\n",
              "      <td>Office Products</td>\n",
              "      <td>November 3, 2009</td>\n",
              "      <td>$137.58</td>\n",
              "      <td>Solid buy, few small gripes about page layout ...</td>\n",
              "      <td>good</td>\n",
              "      <td>2010-03-04</td>\n",
              "    </tr>\n",
              "    <tr>\n",
              "      <th>2047</th>\n",
              "      <td>5.0</td>\n",
              "      <td>5</td>\n",
              "      <td>True</td>\n",
              "      <td>A1RY2FJR0TVP85</td>\n",
              "      <td>8862933177</td>\n",
              "      <td>{'Format:': ' Hardcover'}</td>\n",
              "      <td>N. M. Patterson</td>\n",
              "      <td>1267056000</td>\n",
              "      <td>[Arts, Crafts &amp; Sewing, Crafting, Paper &amp; Pape...</td>\n",
              "      <td>[Build your very own film archive. Fully embos...</td>\n",
              "      <td>Moleskine Passion Journal - Film, Large, Hard ...</td>\n",
              "      <td>Moleskine</td>\n",
              "      <td>[&gt;#229,441 in Office Products (See top 100), &gt;...</td>\n",
              "      <td>Office Products</td>\n",
              "      <td>November 3, 2009</td>\n",
              "      <td>$137.58</td>\n",
              "      <td>Cool place to Catalog Your Recipes I purchased...</td>\n",
              "      <td>good</td>\n",
              "      <td>2010-02-25</td>\n",
              "    </tr>\n",
              "    <tr>\n",
              "      <th>2055</th>\n",
              "      <td>2.0</td>\n",
              "      <td>2</td>\n",
              "      <td>True</td>\n",
              "      <td>A12GULZW3W4W3P</td>\n",
              "      <td>8862933177</td>\n",
              "      <td>{'Format:': ' Hardcover'}</td>\n",
              "      <td>Jazz</td>\n",
              "      <td>1499299200</td>\n",
              "      <td>[Arts, Crafts &amp; Sewing, Crafting, Paper &amp; Pape...</td>\n",
              "      <td>[Build your very own film archive. Fully embos...</td>\n",
              "      <td>Moleskine Passion Journal - Film, Large, Hard ...</td>\n",
              "      <td>Moleskine</td>\n",
              "      <td>[&gt;#229,441 in Office Products (See top 100), &gt;...</td>\n",
              "      <td>Office Products</td>\n",
              "      <td>November 3, 2009</td>\n",
              "      <td>$137.58</td>\n",
              "      <td>Its ok read for specifications I did not like ...</td>\n",
              "      <td>bad</td>\n",
              "      <td>2017-07-06</td>\n",
              "    </tr>\n",
              "    <tr>\n",
              "      <th>2056</th>\n",
              "      <td>5.0</td>\n",
              "      <td>2</td>\n",
              "      <td>True</td>\n",
              "      <td>A2G1BD6F2WR4YW</td>\n",
              "      <td>8862933177</td>\n",
              "      <td>{'Format:': ' Hardcover'}</td>\n",
              "      <td>rrobey619</td>\n",
              "      <td>1498003200</td>\n",
              "      <td>[Arts, Crafts &amp; Sewing, Crafting, Paper &amp; Pape...</td>\n",
              "      <td>[Build your very own film archive. Fully embos...</td>\n",
              "      <td>Moleskine Passion Journal - Film, Large, Hard ...</td>\n",
              "      <td>Moleskine</td>\n",
              "      <td>[&gt;#229,441 in Office Products (See top 100), &gt;...</td>\n",
              "      <td>Office Products</td>\n",
              "      <td>November 3, 2009</td>\n",
              "      <td>$137.58</td>\n",
              "      <td>Great for Chefs. I'm a chef and I was looking ...</td>\n",
              "      <td>good</td>\n",
              "      <td>2017-06-21</td>\n",
              "    </tr>\n",
              "  </tbody>\n",
              "</table>\n",
              "</div>"
            ],
            "text/plain": [
              "      overall vote  ...  rating_class       time\n",
              "2045      5.0    9  ...          good 2010-11-27\n",
              "2046      4.0   69  ...          good 2010-03-04\n",
              "2047      5.0    5  ...          good 2010-02-25\n",
              "2055      2.0    2  ...           bad 2017-07-06\n",
              "2056      5.0    2  ...          good 2017-06-21\n",
              "\n",
              "[5 rows x 19 columns]"
            ]
          },
          "metadata": {
            "tags": []
          },
          "execution_count": 25
        }
      ]
    },
    {
      "cell_type": "code",
      "metadata": {
        "colab": {
          "base_uri": "https://localhost:8080/"
        },
        "id": "vRWBC0skz9vC",
        "outputId": "ff49306d-9dd8-4553-b51a-f4d2987adb06"
      },
      "source": [
        "# rename the columns\n",
        "total.columns = ['overall', 'vote', 'verified', 'reviewer_id', 'asin', 'style', 'reviewer_name', 'unix_review_time', 'category', 'description', 'title', 'brand', 'rank', 'main_cat', 'date', 'price', 'review_text', 'rating_class', 'time']\n",
        "total.head()"
      ],
      "execution_count": null,
      "outputs": [
        {
          "output_type": "execute_result",
          "data": {
            "text/html": [
              "<div>\n",
              "<style scoped>\n",
              "    .dataframe tbody tr th:only-of-type {\n",
              "        vertical-align: middle;\n",
              "    }\n",
              "\n",
              "    .dataframe tbody tr th {\n",
              "        vertical-align: top;\n",
              "    }\n",
              "\n",
              "    .dataframe thead th {\n",
              "        text-align: right;\n",
              "    }\n",
              "</style>\n",
              "<table border=\"1\" class=\"dataframe\">\n",
              "  <thead>\n",
              "    <tr style=\"text-align: right;\">\n",
              "      <th></th>\n",
              "      <th>overall</th>\n",
              "      <th>vote</th>\n",
              "      <th>verified</th>\n",
              "      <th>reviewer_id</th>\n",
              "      <th>asin</th>\n",
              "      <th>style</th>\n",
              "      <th>reviewer_name</th>\n",
              "      <th>unix_review_time</th>\n",
              "      <th>category</th>\n",
              "      <th>description</th>\n",
              "      <th>title</th>\n",
              "      <th>brand</th>\n",
              "      <th>rank</th>\n",
              "      <th>main_cat</th>\n",
              "      <th>date</th>\n",
              "      <th>price</th>\n",
              "      <th>review_text</th>\n",
              "      <th>rating_class</th>\n",
              "      <th>time</th>\n",
              "    </tr>\n",
              "  </thead>\n",
              "  <tbody>\n",
              "    <tr>\n",
              "      <th>2045</th>\n",
              "      <td>5.0</td>\n",
              "      <td>9</td>\n",
              "      <td>True</td>\n",
              "      <td>APVFJYDRTYNK5</td>\n",
              "      <td>886293162X</td>\n",
              "      <td>{'Format:': ' Paperback'}</td>\n",
              "      <td>Mrs. Sally L. C. Marsh</td>\n",
              "      <td>1290816000</td>\n",
              "      <td>[Arts, Crafts &amp; Sewing, Crafting, Paper &amp; Pape...</td>\n",
              "      <td>[The new Volant Address Book has ruled pages w...</td>\n",
              "      <td>Moleskine Volant Address Book, Large, Magenta,...</td>\n",
              "      <td>Moleskine</td>\n",
              "      <td>[&gt;#514,989 in Office Products (See top 100), &gt;...</td>\n",
              "      <td>Office Products</td>\n",
              "      <td>January 10, 2009</td>\n",
              "      <td></td>\n",
              "      <td>Nice and perfect for an address book Thin, you...</td>\n",
              "      <td>good</td>\n",
              "      <td>2010-11-27</td>\n",
              "    </tr>\n",
              "    <tr>\n",
              "      <th>2046</th>\n",
              "      <td>4.0</td>\n",
              "      <td>69</td>\n",
              "      <td>True</td>\n",
              "      <td>A3BQSWC3801JNI</td>\n",
              "      <td>8862933177</td>\n",
              "      <td>{'Format:': ' Hardcover'}</td>\n",
              "      <td>Stacy A. Jones</td>\n",
              "      <td>1267660800</td>\n",
              "      <td>[Arts, Crafts &amp; Sewing, Crafting, Paper &amp; Pape...</td>\n",
              "      <td>[Build your very own film archive. Fully embos...</td>\n",
              "      <td>Moleskine Passion Journal - Film, Large, Hard ...</td>\n",
              "      <td>Moleskine</td>\n",
              "      <td>[&gt;#229,441 in Office Products (See top 100), &gt;...</td>\n",
              "      <td>Office Products</td>\n",
              "      <td>November 3, 2009</td>\n",
              "      <td>$137.58</td>\n",
              "      <td>Solid buy, few small gripes about page layout ...</td>\n",
              "      <td>good</td>\n",
              "      <td>2010-03-04</td>\n",
              "    </tr>\n",
              "    <tr>\n",
              "      <th>2047</th>\n",
              "      <td>5.0</td>\n",
              "      <td>5</td>\n",
              "      <td>True</td>\n",
              "      <td>A1RY2FJR0TVP85</td>\n",
              "      <td>8862933177</td>\n",
              "      <td>{'Format:': ' Hardcover'}</td>\n",
              "      <td>N. M. Patterson</td>\n",
              "      <td>1267056000</td>\n",
              "      <td>[Arts, Crafts &amp; Sewing, Crafting, Paper &amp; Pape...</td>\n",
              "      <td>[Build your very own film archive. Fully embos...</td>\n",
              "      <td>Moleskine Passion Journal - Film, Large, Hard ...</td>\n",
              "      <td>Moleskine</td>\n",
              "      <td>[&gt;#229,441 in Office Products (See top 100), &gt;...</td>\n",
              "      <td>Office Products</td>\n",
              "      <td>November 3, 2009</td>\n",
              "      <td>$137.58</td>\n",
              "      <td>Cool place to Catalog Your Recipes I purchased...</td>\n",
              "      <td>good</td>\n",
              "      <td>2010-02-25</td>\n",
              "    </tr>\n",
              "    <tr>\n",
              "      <th>2055</th>\n",
              "      <td>2.0</td>\n",
              "      <td>2</td>\n",
              "      <td>True</td>\n",
              "      <td>A12GULZW3W4W3P</td>\n",
              "      <td>8862933177</td>\n",
              "      <td>{'Format:': ' Hardcover'}</td>\n",
              "      <td>Jazz</td>\n",
              "      <td>1499299200</td>\n",
              "      <td>[Arts, Crafts &amp; Sewing, Crafting, Paper &amp; Pape...</td>\n",
              "      <td>[Build your very own film archive. Fully embos...</td>\n",
              "      <td>Moleskine Passion Journal - Film, Large, Hard ...</td>\n",
              "      <td>Moleskine</td>\n",
              "      <td>[&gt;#229,441 in Office Products (See top 100), &gt;...</td>\n",
              "      <td>Office Products</td>\n",
              "      <td>November 3, 2009</td>\n",
              "      <td>$137.58</td>\n",
              "      <td>Its ok read for specifications I did not like ...</td>\n",
              "      <td>bad</td>\n",
              "      <td>2017-07-06</td>\n",
              "    </tr>\n",
              "    <tr>\n",
              "      <th>2056</th>\n",
              "      <td>5.0</td>\n",
              "      <td>2</td>\n",
              "      <td>True</td>\n",
              "      <td>A2G1BD6F2WR4YW</td>\n",
              "      <td>8862933177</td>\n",
              "      <td>{'Format:': ' Hardcover'}</td>\n",
              "      <td>rrobey619</td>\n",
              "      <td>1498003200</td>\n",
              "      <td>[Arts, Crafts &amp; Sewing, Crafting, Paper &amp; Pape...</td>\n",
              "      <td>[Build your very own film archive. Fully embos...</td>\n",
              "      <td>Moleskine Passion Journal - Film, Large, Hard ...</td>\n",
              "      <td>Moleskine</td>\n",
              "      <td>[&gt;#229,441 in Office Products (See top 100), &gt;...</td>\n",
              "      <td>Office Products</td>\n",
              "      <td>November 3, 2009</td>\n",
              "      <td>$137.58</td>\n",
              "      <td>Great for Chefs. I'm a chef and I was looking ...</td>\n",
              "      <td>good</td>\n",
              "      <td>2017-06-21</td>\n",
              "    </tr>\n",
              "  </tbody>\n",
              "</table>\n",
              "</div>"
            ],
            "text/plain": [
              "      overall vote  ...  rating_class       time\n",
              "2045      5.0    9  ...          good 2010-11-27\n",
              "2046      4.0   69  ...          good 2010-03-04\n",
              "2047      5.0    5  ...          good 2010-02-25\n",
              "2055      2.0    2  ...           bad 2017-07-06\n",
              "2056      5.0    2  ...          good 2017-06-21\n",
              "\n",
              "[5 rows x 19 columns]"
            ]
          },
          "metadata": {
            "tags": []
          },
          "execution_count": 26
        }
      ]
    },
    {
      "cell_type": "code",
      "metadata": {
        "id": "878vqT4W0Nv_"
      },
      "source": [
        "total['vote'] = total['vote'].str.replace(',', '').astype(int)"
      ],
      "execution_count": null,
      "outputs": []
    },
    {
      "cell_type": "markdown",
      "metadata": {
        "id": "50nbq36J0aXV"
      },
      "source": [
        "# Descriptive statistics"
      ]
    },
    {
      "cell_type": "code",
      "metadata": {
        "colab": {
          "base_uri": "https://localhost:8080/"
        },
        "id": "qgow9ztO0X4R",
        "outputId": "c3679c86-c6b6-4ca2-e335-f82b26faf611"
      },
      "source": [
        "# descriptive statistics\n",
        "\n",
        "print('=====================')\n",
        "\n",
        "# total reviews\n",
        "print('number of reviews:', len(total))\n",
        "print()\n",
        "\n",
        "# How many unique reviewers?\n",
        "print('number of reviewers:', len(total.reviewer_id.unique()))\n",
        "reviewer_prop = float(len(total.reviewer_id.unique())/len(total))\n",
        "print('prop of unique reviewers:', round(reviewer_prop, 3))\n",
        "print()\n",
        "\n",
        "# How many unique products?\n",
        "print('number of unique products:', len(total.asin.unique()))\n",
        "product_prop = float(len(total.asin.unique())/len(total))\n",
        "print('prop of unique products:', round(product_prop, 3))\n",
        "print()\n",
        "\n",
        "# average star score\n",
        "print('average rating score:', round(total.overall.mean(), 3))\n",
        "\n",
        "# average helpful ratio\n",
        "print('average helpful ratio score:', round(total.vote.mean(), 3))"
      ],
      "execution_count": null,
      "outputs": [
        {
          "output_type": "stream",
          "text": [
            "=====================\n",
            "number of reviews: 130133\n",
            "\n",
            "number of reviewers: 111107\n",
            "prop of unique reviewers: 0.854\n",
            "\n",
            "number of unique products: 14060\n",
            "prop of unique products: 0.108\n",
            "\n",
            "average rating score: 3.907\n",
            "average helpful ratio score: 8.02\n"
          ],
          "name": "stdout"
        }
      ]
    },
    {
      "cell_type": "code",
      "metadata": {
        "colab": {
          "base_uri": "https://localhost:8080/"
        },
        "id": "7v3QCUSu0luP",
        "outputId": "2f17c8ae-9b8a-447c-c636-cf8a94d9967e"
      },
      "source": [
        "# read statistics of numeric variables\n",
        "total[['overall', 'vote']].describe()"
      ],
      "execution_count": null,
      "outputs": [
        {
          "output_type": "execute_result",
          "data": {
            "text/html": [
              "<div>\n",
              "<style scoped>\n",
              "    .dataframe tbody tr th:only-of-type {\n",
              "        vertical-align: middle;\n",
              "    }\n",
              "\n",
              "    .dataframe tbody tr th {\n",
              "        vertical-align: top;\n",
              "    }\n",
              "\n",
              "    .dataframe thead th {\n",
              "        text-align: right;\n",
              "    }\n",
              "</style>\n",
              "<table border=\"1\" class=\"dataframe\">\n",
              "  <thead>\n",
              "    <tr style=\"text-align: right;\">\n",
              "      <th></th>\n",
              "      <th>overall</th>\n",
              "      <th>vote</th>\n",
              "    </tr>\n",
              "  </thead>\n",
              "  <tbody>\n",
              "    <tr>\n",
              "      <th>count</th>\n",
              "      <td>130133.000000</td>\n",
              "      <td>130133.000000</td>\n",
              "    </tr>\n",
              "    <tr>\n",
              "      <th>mean</th>\n",
              "      <td>3.907034</td>\n",
              "      <td>8.020164</td>\n",
              "    </tr>\n",
              "    <tr>\n",
              "      <th>std</th>\n",
              "      <td>1.490606</td>\n",
              "      <td>32.370262</td>\n",
              "    </tr>\n",
              "    <tr>\n",
              "      <th>min</th>\n",
              "      <td>1.000000</td>\n",
              "      <td>2.000000</td>\n",
              "    </tr>\n",
              "    <tr>\n",
              "      <th>25%</th>\n",
              "      <td>3.000000</td>\n",
              "      <td>2.000000</td>\n",
              "    </tr>\n",
              "    <tr>\n",
              "      <th>50%</th>\n",
              "      <td>5.000000</td>\n",
              "      <td>3.000000</td>\n",
              "    </tr>\n",
              "    <tr>\n",
              "      <th>75%</th>\n",
              "      <td>5.000000</td>\n",
              "      <td>6.000000</td>\n",
              "    </tr>\n",
              "    <tr>\n",
              "      <th>max</th>\n",
              "      <td>5.000000</td>\n",
              "      <td>3783.000000</td>\n",
              "    </tr>\n",
              "  </tbody>\n",
              "</table>\n",
              "</div>"
            ],
            "text/plain": [
              "             overall           vote\n",
              "count  130133.000000  130133.000000\n",
              "mean        3.907034       8.020164\n",
              "std         1.490606      32.370262\n",
              "min         1.000000       2.000000\n",
              "25%         3.000000       2.000000\n",
              "50%         5.000000       3.000000\n",
              "75%         5.000000       6.000000\n",
              "max         5.000000    3783.000000"
            ]
          },
          "metadata": {
            "tags": []
          },
          "execution_count": 29
        }
      ]
    },
    {
      "cell_type": "code",
      "metadata": {
        "colab": {
          "base_uri": "https://localhost:8080/"
        },
        "id": "ri4s4UwA0o7w",
        "outputId": "bfa09228-299d-454e-dc2f-04111ee33043"
      },
      "source": [
        "# plot distribution of rating\n",
        "\n",
        "plt.figure(figsize=(12, 8))\n",
        "total['overall'].value_counts().sort_index().plot(kind='bar')\n",
        "plt.title('distribution of rating')\n",
        "plt.xlabel('rating')\n",
        "plt.ylabel('number of reviews')"
      ],
      "execution_count": null,
      "outputs": [
        {
          "output_type": "execute_result",
          "data": {
            "text/plain": [
              "Text(0, 0.5, 'number of reviews')"
            ]
          },
          "metadata": {
            "tags": []
          },
          "execution_count": 30
        },
        {
          "output_type": "display_data",
          "data": {
            "image/png": "[encoded data removed]",
            "text/plain": [
              "<Figure size 864x576 with 1 Axes>"
            ]
          },
          "metadata": {
            "tags": [],
            "needs_background": "light"
          }
        }
      ]
    },
    {
      "cell_type": "code",
      "metadata": {
        "colab": {
          "base_uri": "https://localhost:8080/"
        },
        "id": "_TAZtH-g0roq",
        "outputId": "4e864098-ee6f-44d6-86ca-fab7da9c3827"
      },
      "source": [
        "# distribution of helpfullness\n",
        "\n",
        "plt.figure(figsize=(12, 8))\n",
        "cutoff = np.arange(0, 300, 10)\n",
        "\n",
        "dist_help = total.groupby([pd.cut(total['vote'], bins=cutoff)]).size()\n",
        "dist_help.plot(kind='bar')\n",
        "\n",
        "plt.title('distribution of helpfullness')\n",
        "plt.xlabel('helpful proportion')\n",
        "plt.ylabel('number of reviewes')\n",
        "plt.show()"
      ],
      "execution_count": null,
      "outputs": [
        {
          "output_type": "display_data",
          "data": {
            "image/png": "[encoded data removed]",
            "text/plain": [
              "<Figure size 864x576 with 1 Axes>"
            ]
          },
          "metadata": {
            "tags": [],
            "needs_background": "light"
          }
        }
      ]
    },
    {
      "cell_type": "code",
      "metadata": {
        "colab": {
          "base_uri": "https://localhost:8080/"
        },
        "id": "CfuxMnek0v8w",
        "outputId": "cad76872-e844-4ae9-bf87-3491fba012f9"
      },
      "source": [
        "# distribution of rating score\n",
        "\n",
        "class_counts = total.groupby('overall').size()\n",
        "class_counts"
      ],
      "execution_count": null,
      "outputs": [
        {
          "output_type": "execute_result",
          "data": {
            "text/plain": [
              "overall\n",
              "1.0    18995\n",
              "2.0     8538\n",
              "3.0    11598\n",
              "4.0    17441\n",
              "5.0    73561\n",
              "dtype: int64"
            ]
          },
          "metadata": {
            "tags": []
          },
          "execution_count": 32
        }
      ]
    },
    {
      "cell_type": "code",
      "metadata": {
        "colab": {
          "base_uri": "https://localhost:8080/"
        },
        "id": "DheXv-Ju0y6J",
        "outputId": "ea760287-1f0a-45bb-a817-7bffdb98f767"
      },
      "source": [
        "# customer totals for each rating class\n",
        "total['rating_class'].value_counts()"
      ],
      "execution_count": null,
      "outputs": [
        {
          "output_type": "execute_result",
          "data": {
            "text/plain": [
              "good    102600\n",
              "bad      27533\n",
              "Name: rating_class, dtype: int64"
            ]
          },
          "metadata": {
            "tags": []
          },
          "execution_count": 33
        }
      ]
    },
    {
      "cell_type": "code",
      "metadata": {
        "colab": {
          "base_uri": "https://localhost:8080/"
        },
        "id": "y8AUa6kOA6YH",
        "outputId": "c8e0a7a1-c8e8-4f60-d17b-636ba98d28c2"
      },
      "source": [
        "total['rating_class'].value_counts().sort_index().plot(kind='bar')"
      ],
      "execution_count": null,
      "outputs": [
        {
          "output_type": "execute_result",
          "data": {
            "text/plain": [
              "<matplotlib.axes._subplots.AxesSubplot at 0x7fde9bcaf290>"
            ]
          },
          "metadata": {
            "tags": []
          },
          "execution_count": 34
        },
        {
          "output_type": "display_data",
          "data": {
            "image/png": "[encoded data removed]",
            "text/plain": [
              "<Figure size 432x288 with 1 Axes>"
            ]
          },
          "metadata": {
            "tags": [],
            "needs_background": "light"
          }
        }
      ]
    },
    {
      "cell_type": "code",
      "metadata": {
        "colab": {
          "base_uri": "https://localhost:8080/"
        },
        "id": "oSZ7vDbd004y",
        "outputId": "50053341-5292-4d80-a9fc-bbb7aad445b1"
      },
      "source": [
        "# statistics of non-numeric variables\n",
        "\n",
        "# number of unique customers\n",
        "print(f'number of unique customers: {len(total.reviewer_id.unique())}')\n",
        "\n",
        "# number of unique products\n",
        "print(f'number of unique products: {len(total.asin.unique())}')\n",
        "\n",
        "# review number per unique customer\n",
        "print(f'review per customer: {len(total)/len(total.reviewer_id.unique())}')\n",
        "\n",
        "# review number per unique product\n",
        "print(f'review per product: {len(total)/len(total.asin.unique())}')"
      ],
      "execution_count": null,
      "outputs": [
        {
          "output_type": "stream",
          "text": [
            "number of unique customers: 111107\n",
            "number of unique products: 14060\n",
            "review per customer: 1.171240335892428\n",
            "review per product: 9.255547652916073\n"
          ],
          "name": "stdout"
        }
      ]
    },
    {
      "cell_type": "markdown",
      "metadata": {
        "id": "W3fnjTE_4bhD"
      },
      "source": [
        "# 파일 저장"
      ]
    },
    {
      "cell_type": "code",
      "metadata": {
        "id": "XRXV9NWX05ys"
      },
      "source": [
        "total.to_csv('/content/drive/MyDrive/Colab Notebooks/project/arts_total.csv', sep=',', encoding='utf-8', index=False)"
      ],
      "execution_count": null,
      "outputs": []
    },
    {
      "cell_type": "code",
      "metadata": {
        "id": "UVhk9mDV4lCy"
      },
      "source": [
        ""
      ],
      "execution_count": null,
      "outputs": []
    }
  ]
}
