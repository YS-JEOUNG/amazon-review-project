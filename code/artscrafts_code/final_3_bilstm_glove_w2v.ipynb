{
  "nbformat": 4,
  "nbformat_minor": 0,
  "metadata": {
    "colab": {
      "name": "final_3_bilstm_glove_w2v.ipynb",
      "provenance": [],
      "include_colab_link": true
    },
    "kernelspec": {
      "name": "python3",
      "display_name": "Python 3"
    },
    "language_info": {
      "name": "python"
    },
    "accelerator": "GPU"
  },
  "cells": [
    {
      "cell_type": "markdown",
      "metadata": {
        "id": "view-in-github",
        "colab_type": "text"
      },
      "source": [
        "<a href=\"https://colab.research.google.com/github/YS-JEOUNG/amazon-review-project/blob/main/code/final_3_bilstm_glove_w2v.ipynb\" target=\"_parent\"><img src=\"https://colab.research.google.com/assets/colab-badge.svg\" alt=\"Open In Colab\"/></a>"
      ]
    },
    {
      "cell_type": "markdown",
      "metadata": {
        "id": "h963VDrS1ePC"
      },
      "source": [
        "# Import"
      ]
    },
    {
      "cell_type": "code",
      "metadata": {
        "colab": {
          "base_uri": "https://localhost:8080/"
        },
        "id": "Bt_S004G1OpD",
        "outputId": "eab0c0b5-1ba0-4f3f-d84f-308a1e5876af"
      },
      "source": [
        "# 기본\n",
        "import pandas as pd\n",
        "import numpy as np\n",
        "\n",
        "# Warnings   \n",
        "import warnings\n",
        "from scipy import stats\n",
        "warnings.filterwarnings('ignore')\n",
        "\n",
        "import re\n",
        "import urllib.request       # 왜 넣는걸까\n",
        "\n",
        "# 시각화\n",
        "%matplotlib inline\n",
        "import matplotlib.pyplot as plt\n",
        "\n",
        "# nltk\n",
        "import nltk\n",
        "nltk.download('punkt')\n",
        "nltk.download('stopwords')\n",
        "nltk.download('wordnet')\n",
        "from nltk import word_tokenize, sent_tokenize, regexp_tokenize\n",
        "from nltk.corpus import stopwords\n",
        "from nltk.stem.lancaster import LancasterStemmer\n",
        "from nltk.stem import WordNetLemmatizer, PorterStemmer\n",
        "\n",
        "import string, unicodedata\n",
        "from bs4 import BeautifulSoup\n",
        "\n",
        "!pip install contractions\n",
        "from contractions import contractions_dict\n",
        "\n",
        "from keras.preprocessing.text import Tokenizer\n",
        "from keras.preprocessing.sequence import pad_sequences\n",
        "from keras.models import Sequential\n",
        "from keras.layers import Embedding, Flatten, Dense"
      ],
      "execution_count": null,
      "outputs": [
        {
          "output_type": "stream",
          "text": [
            "[nltk_data] Downloading package punkt to /root/nltk_data...\n",
            "[nltk_data]   Package punkt is already up-to-date!\n",
            "[nltk_data] Downloading package stopwords to /root/nltk_data...\n",
            "[nltk_data]   Package stopwords is already up-to-date!\n",
            "[nltk_data] Downloading package wordnet to /root/nltk_data...\n",
            "[nltk_data]   Package wordnet is already up-to-date!\n",
            "Requirement already satisfied: contractions in /usr/local/lib/python3.7/dist-packages (0.0.48)\n",
            "Requirement already satisfied: textsearch>=0.0.21 in /usr/local/lib/python3.7/dist-packages (from contractions) (0.0.21)\n",
            "Requirement already satisfied: anyascii in /usr/local/lib/python3.7/dist-packages (from textsearch>=0.0.21->contractions) (0.2.0)\n",
            "Requirement already satisfied: pyahocorasick in /usr/local/lib/python3.7/dist-packages (from textsearch>=0.0.21->contractions) (1.4.2)\n"
          ],
          "name": "stdout"
        }
      ]
    },
    {
      "cell_type": "code",
      "metadata": {
        "id": "4ZwPMpZd15iQ"
      },
      "source": [
        "import sklearn\n",
        "import keras"
      ],
      "execution_count": null,
      "outputs": []
    },
    {
      "cell_type": "code",
      "metadata": {
        "id": "Ldr8w-3G2qIz"
      },
      "source": [
        "# 훈련\n",
        "from sklearn.model_selection import train_test_split\n",
        "\n",
        "from tensorflow.keras.layers import Embedding, Dense, LSTM, Bidirectional\n",
        "from tensorflow.keras.models import Sequential, load_model\n",
        "from tensorflow.keras.callbacks import EarlyStopping, ModelCheckpoint\n",
        "from sklearn.model_selection import train_test_split"
      ],
      "execution_count": null,
      "outputs": []
    },
    {
      "cell_type": "code",
      "metadata": {
        "id": "tkPMi5J60jMJ"
      },
      "source": [
        "# confusion matrix\n",
        "from sklearn.metrics import confusion_matrix      \n",
        "import seaborn as sns"
      ],
      "execution_count": null,
      "outputs": []
    },
    {
      "cell_type": "code",
      "metadata": {
        "id": "vPGm_-30XmzR"
      },
      "source": [
        "# pre-trained word2vec\n",
        "import gensim"
      ],
      "execution_count": null,
      "outputs": []
    },
    {
      "cell_type": "markdown",
      "metadata": {
        "id": "8IBh9NZj1fxa"
      },
      "source": [
        "# Data"
      ]
    },
    {
      "cell_type": "code",
      "metadata": {
        "id": "umYAMHG11k-B"
      },
      "source": [
        "# 파일 불러오기\n",
        "total = pd.read_csv('/content/drive/MyDrive/Colab Notebooks/project/final_data_clean.csv')"
      ],
      "execution_count": null,
      "outputs": []
    },
    {
      "cell_type": "markdown",
      "metadata": {
        "id": "1OMDPoAo1mTS"
      },
      "source": [
        "# final_2에서와 같은 전처리"
      ]
    },
    {
      "cell_type": "code",
      "metadata": {
        "colab": {
          "base_uri": "https://localhost:8080/",
          "height": 204
        },
        "id": "H-rZ5Zxv1lzq",
        "outputId": "92dd01f1-0f85-4b0d-eaee-dc0ebecee8e0"
      },
      "source": [
        "total = total.sort_values(by='rating_class')\n",
        "total = total[:700_000]\n",
        "total = total[['clean_text', 'rating_class']]\n",
        "total['rating_class'] = total['rating_class'].apply(lambda x: 0 if x == 'bad' else 1)\n",
        "total = total.dropna(subset=['clean_text'])\n",
        "total = sklearn.utils.shuffle(total)\n",
        "total.head()"
      ],
      "execution_count": null,
      "outputs": [
        {
          "output_type": "execute_result",
          "data": {
            "text/html": [
              "<div>\n",
              "<style scoped>\n",
              "    .dataframe tbody tr th:only-of-type {\n",
              "        vertical-align: middle;\n",
              "    }\n",
              "\n",
              "    .dataframe tbody tr th {\n",
              "        vertical-align: top;\n",
              "    }\n",
              "\n",
              "    .dataframe thead th {\n",
              "        text-align: right;\n",
              "    }\n",
              "</style>\n",
              "<table border=\"1\" class=\"dataframe\">\n",
              "  <thead>\n",
              "    <tr style=\"text-align: right;\">\n",
              "      <th></th>\n",
              "      <th>clean_text</th>\n",
              "      <th>rating_class</th>\n",
              "    </tr>\n",
              "  </thead>\n",
              "  <tbody>\n",
              "    <tr>\n",
              "      <th>1525011</th>\n",
              "      <td>two star look really great glitter come touch</td>\n",
              "      <td>0</td>\n",
              "    </tr>\n",
              "    <tr>\n",
              "      <th>1400231</th>\n",
              "      <td>one star amazon seriously need check review st...</td>\n",
              "      <td>0</td>\n",
              "    </tr>\n",
              "    <tr>\n",
              "      <th>1956602</th>\n",
              "      <td>three star not good wood buy thehem</td>\n",
              "      <td>1</td>\n",
              "    </tr>\n",
              "    <tr>\n",
              "      <th>1849075</th>\n",
              "      <td>christmas ornament make last year daughter fin...</td>\n",
              "      <td>1</td>\n",
              "    </tr>\n",
              "    <tr>\n",
              "      <th>1648927</th>\n",
              "      <td>pin really appreciate awesome share thehem fri...</td>\n",
              "      <td>1</td>\n",
              "    </tr>\n",
              "  </tbody>\n",
              "</table>\n",
              "</div>"
            ],
            "text/plain": [
              "                                                clean_text  rating_class\n",
              "1525011      two star look really great glitter come touch             0\n",
              "1400231  one star amazon seriously need check review st...             0\n",
              "1956602                three star not good wood buy thehem             1\n",
              "1849075  christmas ornament make last year daughter fin...             1\n",
              "1648927  pin really appreciate awesome share thehem fri...             1"
            ]
          },
          "metadata": {
            "tags": []
          },
          "execution_count": 7
        }
      ]
    },
    {
      "cell_type": "code",
      "metadata": {
        "id": "NJiDLjwf2Aay"
      },
      "source": [
        "X = total['clean_text']\n",
        "y = total['rating_class']"
      ],
      "execution_count": null,
      "outputs": []
    },
    {
      "cell_type": "code",
      "metadata": {
        "id": "CAO1vV9s2EsH"
      },
      "source": [
        "tokenizer = Tokenizer(split=' ')\n",
        "tokenizer.fit_on_texts(X)\n",
        "sequences = tokenizer.texts_to_sequences(X)\n",
        "word_index = tokenizer.word_index"
      ],
      "execution_count": null,
      "outputs": []
    },
    {
      "cell_type": "code",
      "metadata": {
        "colab": {
          "base_uri": "https://localhost:8080/"
        },
        "id": "0AZ5vuEG2J3z",
        "outputId": "9da9efd5-a10c-4626-ac94-97c3ff538b7f"
      },
      "source": [
        "# 등장 빈도수가 15 미만인 단어들이 차지하는 비중\n",
        "threshold = 15\n",
        "total_cnt = len(word_index)\n",
        "rare_cnt = 0      # 등장 빈도수가 threshold보다 작은 단어의 개수를 카운트\n",
        "total_freq = 0    # 훈련 데이터의 전체 단어 빈도수 총합\n",
        "rare_freq = 0     # 등장 빈도수가 threshold보다 작은 단어의 등장 빈도수의 총합\n",
        "\n",
        "# 단어와 빈도수 > key, value\n",
        "for key, value in tokenizer.word_counts.items():\n",
        "    total_freq = total_freq + value\n",
        "\n",
        "    # 단어 등장 빈도수가 threshold보다 작으면\n",
        "    if value < threshold:\n",
        "        rare_cnt = rare_cnt + 1\n",
        "        rare_freq = rare_freq + value\n",
        "\n",
        "print('단어 집합의 크기:', total_cnt)\n",
        "print(f'등장 빈도가 {threshold}번 미만인 희귀 단어의 수:', rare_cnt)\n",
        "print('단어 집합에서 희귀 단어의 비율:', (rare_cnt / total_cnt) * 100)\n",
        "print('전체 등장 빈도에서 희귀 단어 등장 빈도 비율:', (rare_freq / total_freq) * 100)"
      ],
      "execution_count": null,
      "outputs": [
        {
          "output_type": "stream",
          "text": [
            "단어 집합의 크기: 132670\n",
            "등장 빈도가 15번 미만인 희귀 단어의 수: 119516\n",
            "단어 집합에서 희귀 단어의 비율: 90.08517373935328\n",
            "전체 등장 빈도에서 희귀 단어 등장 빈도 비율: 1.7197218589865317\n"
          ],
          "name": "stdout"
        }
      ]
    },
    {
      "cell_type": "code",
      "metadata": {
        "colab": {
          "base_uri": "https://localhost:8080/"
        },
        "id": "kycvw0Ku2M-x",
        "outputId": "a1fcb7b9-0fa1-40f6-f515-fa17e159ac7b"
      },
      "source": [
        "# 등장 빈도수가 15 미만인 단어는 제거\n",
        "# 0번 패딩 토큰을 고려하여 +1\n",
        "vocab_size = total_cnt - rare_cnt + 1\n",
        "print('단어 집합의 크기:', vocab_size)\n",
        "# 이렇게 하면 단어집합이 작아져 걸리는 시간이 줄어든다# 등장 빈도수가 15 미만인 단어는 제거\n",
        "# 0번 패딩 토큰을 고려하여 +1\n",
        "vocab_size = total_cnt - rare_cnt + 1\n",
        "print('단어 집합의 크기:', vocab_size)\n",
        "# 이렇게 하면 단어집합이 작아져 걸리는 시간이 줄어든다"
      ],
      "execution_count": null,
      "outputs": [
        {
          "output_type": "stream",
          "text": [
            "단어 집합의 크기: 13155\n",
            "단어 집합의 크기: 13155\n"
          ],
          "name": "stdout"
        }
      ]
    },
    {
      "cell_type": "code",
      "metadata": {
        "id": "gLbBIZfN2Z7R"
      },
      "source": [
        "# 토큰화\n",
        "tokenizer = Tokenizer(vocab_size)\n",
        "tokenizer.fit_on_texts(X)\n",
        "X = tokenizer.texts_to_sequences(X)"
      ],
      "execution_count": null,
      "outputs": []
    },
    {
      "cell_type": "code",
      "metadata": {
        "id": "8XvFJbjo2giB"
      },
      "source": [
        "# 패딩\n",
        "X = pad_sequences(X, maxlen=100)"
      ],
      "execution_count": null,
      "outputs": []
    },
    {
      "cell_type": "code",
      "metadata": {
        "colab": {
          "base_uri": "https://localhost:8080/"
        },
        "id": "qYXRytdb2t3S",
        "outputId": "ff6f97d9-adb7-41d8-9581-088ba9e02082"
      },
      "source": [
        "X_train, X_test, y_train, y_test = train_test_split(X, y, test_size=0.25, stratify=y)\n",
        "X_train.shape, X_test.shape"
      ],
      "execution_count": null,
      "outputs": [
        {
          "output_type": "execute_result",
          "data": {
            "text/plain": [
              "((524971, 100), (174991, 100))"
            ]
          },
          "metadata": {
            "tags": []
          },
          "execution_count": 14
        }
      ]
    },
    {
      "cell_type": "code",
      "metadata": {
        "colab": {
          "base_uri": "https://localhost:8080/"
        },
        "id": "HnQGtbJV2uWC",
        "outputId": "785435cd-24d2-4a8e-8e70-bf2934b24548"
      },
      "source": [
        "y_train.shape, y_test.shape"
      ],
      "execution_count": null,
      "outputs": [
        {
          "output_type": "execute_result",
          "data": {
            "text/plain": [
              "((524971,), (174991,))"
            ]
          },
          "metadata": {
            "tags": []
          },
          "execution_count": 15
        }
      ]
    },
    {
      "cell_type": "markdown",
      "metadata": {
        "id": "epm_tsQJ3GH6"
      },
      "source": [
        "# BiLSTM"
      ]
    },
    {
      "cell_type": "markdown",
      "metadata": {
        "id": "6PnuRmDFbGK9"
      },
      "source": [
        "## 256"
      ]
    },
    {
      "cell_type": "code",
      "metadata": {
        "id": "oRfS_gy_xi1R"
      },
      "source": [
        "model = Sequential()\n",
        "model.add(Embedding(vocab_size, 100))\n",
        "model.add(Bidirectional(LSTM(100, dropout=0.2)))\n",
        "model.add(Dense(1, activation='sigmoid'))"
      ],
      "execution_count": null,
      "outputs": []
    },
    {
      "cell_type": "code",
      "metadata": {
        "colab": {
          "base_uri": "https://localhost:8080/"
        },
        "id": "eMMRjZDCyt3A",
        "outputId": "08b4453b-d325-4a3f-a340-a4eec5cfc920"
      },
      "source": [
        "model.compile(optimizer='adam', loss='binary_crossentropy', metrics='acc')\n",
        "history = model.fit(X_train, y_train, epochs=100, callbacks=[es, mc], batch_size=256, validation_split=0.2)"
      ],
      "execution_count": null,
      "outputs": [
        {
          "output_type": "stream",
          "text": [
            "Epoch 1/100\n"
          ],
          "name": "stdout"
        }
      ]
    },
    {
      "cell_type": "code",
      "metadata": {
        "id": "T3r0R66_12fA"
      },
      "source": [
        "best_model = load_model('best_model.h5')\n",
        "print('accuracy:', best_model.evaluate(X_test, y_test)[1])"
      ],
      "execution_count": null,
      "outputs": []
    },
    {
      "cell_type": "code",
      "metadata": {
        "id": "tOaLHf992PgH"
      },
      "source": [
        "import keras"
      ],
      "execution_count": null,
      "outputs": []
    },
    {
      "cell_type": "code",
      "metadata": {
        "id": "_2AhRuOH5ZDE"
      },
      "source": [
        "import keras.backend as K\n",
        "from keras.callbacks import Callback"
      ],
      "execution_count": null,
      "outputs": []
    },
    {
      "cell_type": "code",
      "metadata": {
        "id": "aD1JTXTX5gJR"
      },
      "source": [
        "class lrfinder(Callback):\n",
        "    \"\"\"\n",
        "    A simple callback for finding the optimal learning rate range for your model and dataset.\n",
        "    # min_lr: the lower bound of the learning rate range for the experiment.\n",
        "    # max_lr: the upper bound of the learning rate range for the experiment.\n",
        "    # steps_per_epoch: number of mini-batches in the dataset. calculated as `np.ceil(epoch_size/batch_size)`.\n",
        "    # epochs: number of epochs to run experiment. Usually between 2 and 4 epochs is sufficient.\n",
        "    \"\"\"\n",
        "    def __init__(self, min_lr=1e-5, max_lr=1e-2, steps_per_epoch=None, epochs=None):\n",
        "        super().__init__()\n",
        "        self.min_lr = min_lr\n",
        "        self.max_lr = max_lr\n",
        "        self.total_iterations = steps_per_epoch * epochs\n",
        "        self.iteration = 0\n",
        "        self.history = {}\n",
        "\n",
        "    def clr(self):\n",
        "        \"\"\" Calculate the learning rate.\"\"\"\n",
        "        x = self.iteration / self.total_iterations\n",
        "        return self.min_lr + (self.max_lr-self.min_lr)*x\n",
        "\n",
        "    def on_train_begin(self, logs=None):\n",
        "        \"\"\" Initialize the learning rate to the minimum value at the start of training.\"\"\"\n",
        "        logs = logs or {}\n",
        "        K.set_value(self.model.optimizer.lr, self.min_lr)\n",
        "\n",
        "    def on_batch_end(self, epoch, logs=None):\n",
        "        \"\"\" Record previous batch statistics and update the learning rate.\"\"\"\n",
        "        logs = logs or {}\n",
        "        self.iteration += 1\n",
        "\n",
        "        self.history.setdefault('lr', []).append(K.get_value(self.model.optimizer.lr))\n",
        "        self.history.setdefault('iterations', []).append(self.iteration)\n",
        "\n",
        "        for k, v in logs.items():\n",
        "            self.history.setdefault(k, []).append(v)\n",
        "        \n",
        "        K.set_value(self.model.optimizer.lr, self.clr())\n",
        "\n",
        "    def plot_lr(self):\n",
        "        \"\"\" Helper function to quickly inspect the learning rate schedule.\"\"\"\n",
        "        plt.plot(self.history['iterations'], self.history['lr'])\n",
        "        plt.yscale('log')\n",
        "        plt.xlabel('iteration')\n",
        "        plt.ylabel('learning rate')\n",
        "        plt.show()\n",
        "\n",
        "    def plot_loss(self):\n",
        "        \"\"\" Helper function to quickly observe the learning rate experiment results.\"\"\"\n",
        "        plt.plot(self.history['lr'], self.history['loss'])\n",
        "        plt.xscale('log')\n",
        "        plt.xlabel('learning rate')\n",
        "        plt.ylabel('loss')\n",
        "        plt.show()"
      ],
      "execution_count": null,
      "outputs": []
    },
    {
      "cell_type": "code",
      "metadata": {
        "id": "iaGQ2u9H7k22"
      },
      "source": [
        "lr_finder = lrfinder(steps_per_epoch=np.ceil(3/256), epochs=3)"
      ],
      "execution_count": null,
      "outputs": []
    },
    {
      "cell_type": "code",
      "metadata": {
        "id": "GEIC-21388Zt"
      },
      "source": [
        "from keras.callbacks import LearningRateScheduler\n",
        "\n",
        "def step_decay_schedule(initial_lr=1e-3, decay_factor=0.75, step_size=10):\n",
        "    \"\"\"Wrapper function to create a LearningRateScheduler with step decay schedule.\"\"\"\n",
        "    def schedule(epoch):\n",
        "        return initial_lr * (decay_factor ** np.floor(epoch/step_size))\n",
        "    return LearningRateScheduler(schedule)\n",
        "\n",
        "lr_sched = step_decay_schedule(initial_lr=1e-4, decay_factor=0.75, step_size=2)"
      ],
      "execution_count": null,
      "outputs": []
    },
    {
      "cell_type": "code",
      "metadata": {
        "colab": {
          "base_uri": "https://localhost:8080/"
        },
        "id": "0drp_1ha9Wa1",
        "outputId": "40d4b1e8-b81d-4f84-cc3f-8de8a3b4dbe0"
      },
      "source": [
        "model.compile(optimizer='adam', loss='binary_crossentropy', metrics='acc')\n",
        "history = model.fit(X_train, y_train, epochs=20, callbacks=[lr_sched], batch_size=256, validation_split=0.2)"
      ],
      "execution_count": null,
      "outputs": [
        {
          "output_type": "stream",
          "text": [
            "Epoch 1/20\n",
            "1641/1641 [==============================] - 74s 38ms/step - loss: 0.4004 - acc: 0.7994 - val_loss: 0.1802 - val_acc: 0.9315\n",
            "Epoch 2/20\n",
            "1641/1641 [==============================] - 62s 38ms/step - loss: 0.1757 - acc: 0.9344 - val_loss: 0.1692 - val_acc: 0.9355\n",
            "Epoch 3/20\n",
            "1641/1641 [==============================] - 62s 38ms/step - loss: 0.1617 - acc: 0.9392 - val_loss: 0.1651 - val_acc: 0.9374\n",
            "Epoch 4/20\n",
            "1641/1641 [==============================] - 63s 38ms/step - loss: 0.1558 - acc: 0.9414 - val_loss: 0.1611 - val_acc: 0.9381\n",
            "Epoch 5/20\n",
            "1641/1641 [==============================] - 63s 39ms/step - loss: 0.1519 - acc: 0.9430 - val_loss: 0.1596 - val_acc: 0.9388\n",
            "Epoch 6/20\n",
            "1641/1641 [==============================] - 63s 39ms/step - loss: 0.1472 - acc: 0.9447 - val_loss: 0.1591 - val_acc: 0.9385\n",
            "Epoch 7/20\n",
            "1641/1641 [==============================] - 64s 39ms/step - loss: 0.1446 - acc: 0.9451 - val_loss: 0.1562 - val_acc: 0.9398\n",
            "Epoch 8/20\n",
            "1641/1641 [==============================] - 63s 39ms/step - loss: 0.1408 - acc: 0.9465 - val_loss: 0.1551 - val_acc: 0.9401\n",
            "Epoch 9/20\n",
            "1641/1641 [==============================] - 63s 38ms/step - loss: 0.1400 - acc: 0.9470 - val_loss: 0.1549 - val_acc: 0.9404\n",
            "Epoch 10/20\n",
            "1641/1641 [==============================] - 63s 38ms/step - loss: 0.1371 - acc: 0.9484 - val_loss: 0.1553 - val_acc: 0.9408\n",
            "Epoch 11/20\n",
            "1641/1641 [==============================] - 63s 38ms/step - loss: 0.1354 - acc: 0.9488 - val_loss: 0.1535 - val_acc: 0.9411\n",
            "Epoch 12/20\n",
            "1641/1641 [==============================] - 63s 38ms/step - loss: 0.1349 - acc: 0.9490 - val_loss: 0.1531 - val_acc: 0.9409\n",
            "Epoch 13/20\n",
            "1641/1641 [==============================] - 63s 38ms/step - loss: 0.1322 - acc: 0.9496 - val_loss: 0.1535 - val_acc: 0.9404\n",
            "Epoch 14/20\n",
            "1641/1641 [==============================] - 63s 38ms/step - loss: 0.1318 - acc: 0.9499 - val_loss: 0.1533 - val_acc: 0.9407\n",
            "Epoch 15/20\n",
            "1641/1641 [==============================] - 62s 38ms/step - loss: 0.1313 - acc: 0.9508 - val_loss: 0.1529 - val_acc: 0.9408\n",
            "Epoch 16/20\n",
            "1641/1641 [==============================] - 61s 37ms/step - loss: 0.1299 - acc: 0.9513 - val_loss: 0.1532 - val_acc: 0.9412\n",
            "Epoch 17/20\n",
            "1641/1641 [==============================] - 61s 37ms/step - loss: 0.1287 - acc: 0.9514 - val_loss: 0.1535 - val_acc: 0.9408\n",
            "Epoch 18/20\n",
            "1641/1641 [==============================] - 61s 37ms/step - loss: 0.1281 - acc: 0.9516 - val_loss: 0.1539 - val_acc: 0.9405\n",
            "Epoch 19/20\n",
            "1641/1641 [==============================] - 61s 37ms/step - loss: 0.1282 - acc: 0.9512 - val_loss: 0.1536 - val_acc: 0.9408\n",
            "Epoch 20/20\n",
            "1641/1641 [==============================] - 61s 37ms/step - loss: 0.1285 - acc: 0.9514 - val_loss: 0.1539 - val_acc: 0.9407\n"
          ],
          "name": "stdout"
        }
      ]
    },
    {
      "cell_type": "code",
      "metadata": {
        "id": "d0StSu7f44qW"
      },
      "source": [
        "adam = keras.optimizers.Adam(learning_rate=0.0001)"
      ],
      "execution_count": null,
      "outputs": []
    },
    {
      "cell_type": "code",
      "metadata": {
        "id": "-cFrLZ5u5MV0"
      },
      "source": [
        "model = Sequential()\n",
        "model.add(Embedding(vocab_size, 100))\n",
        "model.add(Bidirectional(LSTM(100)))\n",
        "model.add(Dense(1, activation='sigmoid'))"
      ],
      "execution_count": null,
      "outputs": []
    },
    {
      "cell_type": "code",
      "metadata": {
        "id": "qC8KVnAV5O3t"
      },
      "source": [
        "es = EarlyStopping(monitor='val_loss', mode='min', verbose=1, patience=4)\n",
        "mc = ModelCheckpoint('best_model.h5', monitor='val_acc', mode='max', verbose=1, save_best_only=True)"
      ],
      "execution_count": null,
      "outputs": []
    },
    {
      "cell_type": "code",
      "metadata": {
        "colab": {
          "base_uri": "https://localhost:8080/"
        },
        "id": "qBlOcF685RMM",
        "outputId": "5985e008-d44a-4a10-a619-73ede3c9486f"
      },
      "source": [
        "model.compile(optimizer=adam, loss='binary_crossentropy', metrics='acc')\n",
        "history = model.fit(X_train, y_train, epochs=100, callbacks=[es, mc], batch_size=256, validation_split=0.2)"
      ],
      "execution_count": null,
      "outputs": [
        {
          "output_type": "stream",
          "text": [
            "Epoch 1/100\n",
            "1641/1641 [==============================] - 72s 37ms/step - loss: 0.4027 - acc: 0.7987 - val_loss: 0.1883 - val_acc: 0.9313\n",
            "\n",
            "Epoch 00001: val_acc improved from -inf to 0.93126, saving model to best_model.h5\n",
            "Epoch 2/100\n",
            "1641/1641 [==============================] - 60s 37ms/step - loss: 0.1754 - acc: 0.9360 - val_loss: 0.1688 - val_acc: 0.9363\n",
            "\n",
            "Epoch 00002: val_acc improved from 0.93126 to 0.93635, saving model to best_model.h5\n",
            "Epoch 3/100\n",
            "1641/1641 [==============================] - 61s 37ms/step - loss: 0.1629 - acc: 0.9395 - val_loss: 0.1639 - val_acc: 0.9375\n",
            "\n",
            "Epoch 00003: val_acc improved from 0.93635 to 0.93749, saving model to best_model.h5\n",
            "Epoch 4/100\n",
            "1641/1641 [==============================] - 61s 37ms/step - loss: 0.1520 - acc: 0.9432 - val_loss: 0.1599 - val_acc: 0.9387\n",
            "\n",
            "Epoch 00004: val_acc improved from 0.93749 to 0.93869, saving model to best_model.h5\n",
            "Epoch 5/100\n",
            "1641/1641 [==============================] - 61s 37ms/step - loss: 0.1482 - acc: 0.9444 - val_loss: 0.1582 - val_acc: 0.9389\n",
            "\n",
            "Epoch 00005: val_acc improved from 0.93869 to 0.93886, saving model to best_model.h5\n",
            "Epoch 6/100\n",
            "1641/1641 [==============================] - 61s 37ms/step - loss: 0.1446 - acc: 0.9459 - val_loss: 0.1566 - val_acc: 0.9394\n",
            "\n",
            "Epoch 00006: val_acc improved from 0.93886 to 0.93942, saving model to best_model.h5\n",
            "Epoch 7/100\n",
            "1641/1641 [==============================] - 61s 37ms/step - loss: 0.1384 - acc: 0.9478 - val_loss: 0.1620 - val_acc: 0.9386\n",
            "\n",
            "Epoch 00007: val_acc did not improve from 0.93942\n",
            "Epoch 8/100\n",
            "1641/1641 [==============================] - 61s 37ms/step - loss: 0.1328 - acc: 0.9495 - val_loss: 0.1546 - val_acc: 0.9405\n",
            "\n",
            "Epoch 00008: val_acc improved from 0.93942 to 0.94049, saving model to best_model.h5\n",
            "Epoch 9/100\n",
            "1641/1641 [==============================] - 61s 37ms/step - loss: 0.1286 - acc: 0.9514 - val_loss: 0.1553 - val_acc: 0.9400\n",
            "\n",
            "Epoch 00009: val_acc did not improve from 0.94049\n",
            "Epoch 10/100\n",
            "1641/1641 [==============================] - 61s 37ms/step - loss: 0.1241 - acc: 0.9531 - val_loss: 0.1542 - val_acc: 0.9406\n",
            "\n",
            "Epoch 00010: val_acc improved from 0.94049 to 0.94060, saving model to best_model.h5\n",
            "Epoch 11/100\n",
            "1641/1641 [==============================] - 61s 37ms/step - loss: 0.1200 - acc: 0.9545 - val_loss: 0.1596 - val_acc: 0.9391\n",
            "\n",
            "Epoch 00011: val_acc did not improve from 0.94060\n",
            "Epoch 12/100\n",
            "1641/1641 [==============================] - 61s 37ms/step - loss: 0.1170 - acc: 0.9556 - val_loss: 0.1579 - val_acc: 0.9401\n",
            "\n",
            "Epoch 00012: val_acc did not improve from 0.94060\n",
            "Epoch 13/100\n",
            "1641/1641 [==============================] - 61s 37ms/step - loss: 0.1139 - acc: 0.9573 - val_loss: 0.1632 - val_acc: 0.9387\n",
            "\n",
            "Epoch 00013: val_acc did not improve from 0.94060\n",
            "Epoch 14/100\n",
            "1641/1641 [==============================] - 61s 37ms/step - loss: 0.1103 - acc: 0.9589 - val_loss: 0.1623 - val_acc: 0.9398\n",
            "\n",
            "Epoch 00014: val_acc did not improve from 0.94060\n",
            "Epoch 00014: early stopping\n"
          ],
          "name": "stdout"
        }
      ]
    },
    {
      "cell_type": "code",
      "metadata": {
        "colab": {
          "base_uri": "https://localhost:8080/"
        },
        "id": "2QbyIB4X7zP8",
        "outputId": "429bfde0-10fa-4211-a2c9-b570e8330485"
      },
      "source": [
        "best_model = load_model('best_model.h5')\n",
        "print('accuracy:', best_model.evaluate(X_test, y_test)[1])"
      ],
      "execution_count": null,
      "outputs": [
        {
          "output_type": "stream",
          "text": [
            "5469/5469 [==============================] - 32s 6ms/step - loss: 0.1540 - acc: 0.9406\n",
            "accuracy: 0.9405626654624939\n"
          ],
          "name": "stdout"
        }
      ]
    },
    {
      "cell_type": "code",
      "metadata": {
        "id": "DClod83u8mnI"
      },
      "source": [
        "adam2 = keras.optimizers.Adam(learning_rate=0.0005)"
      ],
      "execution_count": null,
      "outputs": []
    },
    {
      "cell_type": "code",
      "metadata": {
        "id": "KSpXyWr0A5qq"
      },
      "source": [
        "es = EarlyStopping(monitor='val_loss', mode='min', verbose=1, patience=4)\n",
        "mc = ModelCheckpoint('best_model2.h5', monitor='val_acc', mode='max', verbose=1, save_best_only=True)"
      ],
      "execution_count": null,
      "outputs": []
    },
    {
      "cell_type": "code",
      "metadata": {
        "id": "Axb5VQHc8ofz"
      },
      "source": [
        "model = Sequential()\n",
        "model.add(Embedding(vocab_size, 100))\n",
        "model.add(Bidirectional(LSTM(100)))\n",
        "model.add(Dense(1, activation='sigmoid'))"
      ],
      "execution_count": null,
      "outputs": []
    },
    {
      "cell_type": "code",
      "metadata": {
        "colab": {
          "base_uri": "https://localhost:8080/"
        },
        "id": "PDAo-fTL8tn9",
        "outputId": "566a1c38-fd72-4bcb-b9a1-0770ff3f7fba"
      },
      "source": [
        "model.compile(optimizer=adam2, loss='binary_crossentropy', metrics='acc')\n",
        "history = model.fit(X_train, y_train, epochs=100, callbacks=[es, mc], batch_size=256, validation_split=0.2)"
      ],
      "execution_count": null,
      "outputs": [
        {
          "output_type": "stream",
          "text": [
            "Epoch 1/100\n",
            "1641/1641 [==============================] - 64s 37ms/step - loss: 0.2808 - acc: 0.8741 - val_loss: 0.1585 - val_acc: 0.9380\n",
            "\n",
            "Epoch 00001: val_acc improved from -inf to 0.93803, saving model to best_model2.h5\n",
            "Epoch 2/100\n",
            "1641/1641 [==============================] - 60s 37ms/step - loss: 0.1475 - acc: 0.9432 - val_loss: 0.1498 - val_acc: 0.9425\n",
            "\n",
            "Epoch 00002: val_acc improved from 0.93803 to 0.94250, saving model to best_model2.h5\n",
            "Epoch 3/100\n",
            "1641/1641 [==============================] - 61s 37ms/step - loss: 0.1315 - acc: 0.9495 - val_loss: 0.1471 - val_acc: 0.9445\n",
            "\n",
            "Epoch 00003: val_acc improved from 0.94250 to 0.94454, saving model to best_model2.h5\n",
            "Epoch 4/100\n",
            "1641/1641 [==============================] - 62s 38ms/step - loss: 0.1178 - acc: 0.9551 - val_loss: 0.1478 - val_acc: 0.9452\n",
            "\n",
            "Epoch 00004: val_acc improved from 0.94454 to 0.94521, saving model to best_model2.h5\n",
            "Epoch 5/100\n",
            "1641/1641 [==============================] - 61s 37ms/step - loss: 0.1069 - acc: 0.9599 - val_loss: 0.1525 - val_acc: 0.9446\n",
            "\n",
            "Epoch 00005: val_acc did not improve from 0.94521\n",
            "Epoch 6/100\n",
            "1641/1641 [==============================] - 61s 37ms/step - loss: 0.0982 - acc: 0.9634 - val_loss: 0.1611 - val_acc: 0.9445\n",
            "\n",
            "Epoch 00006: val_acc did not improve from 0.94521\n",
            "Epoch 7/100\n",
            "1641/1641 [==============================] - 61s 37ms/step - loss: 0.0891 - acc: 0.9670 - val_loss: 0.1614 - val_acc: 0.9430\n",
            "\n",
            "Epoch 00007: val_acc did not improve from 0.94521\n",
            "Epoch 00007: early stopping\n"
          ],
          "name": "stdout"
        }
      ]
    },
    {
      "cell_type": "code",
      "metadata": {
        "colab": {
          "base_uri": "https://localhost:8080/"
        },
        "id": "6AGVS1C4-wPf",
        "outputId": "0892eb2a-fa9e-43dc-ca19-0e3dbaf2c9a8"
      },
      "source": [
        "best_model2 = load_model('best_model2.h5')\n",
        "print('accuracy:', best_model2.evaluate(X_test, y_test)[1])"
      ],
      "execution_count": null,
      "outputs": [
        {
          "output_type": "stream",
          "text": [
            "5469/5469 [==============================] - 33s 6ms/step - loss: 0.1461 - acc: 0.9448\n",
            "accuracy: 0.9448200464248657\n"
          ],
          "name": "stdout"
        }
      ]
    },
    {
      "cell_type": "markdown",
      "metadata": {
        "id": "8JQCqGw95T42"
      },
      "source": [
        "### 위에는 그냥 해본거. 이게 진짜."
      ]
    },
    {
      "cell_type": "code",
      "metadata": {
        "id": "SBO90EtS3SbR"
      },
      "source": [
        "model = Sequential()\n",
        "model.add(Embedding(vocab_size, 100))\n",
        "model.add(Bidirectional(LSTM(100)))\n",
        "model.add(Dense(1, activation='sigmoid'))"
      ],
      "execution_count": null,
      "outputs": []
    },
    {
      "cell_type": "code",
      "metadata": {
        "id": "8h0ZYHxc3bj9"
      },
      "source": [
        "es = EarlyStopping(monitor='val_loss', mode='min', verbose=1, patience=4)\n",
        "mc = ModelCheckpoint('best_model3.h5', monitor='val_acc', mode='max', verbose=1, save_best_only=True)"
      ],
      "execution_count": null,
      "outputs": []
    },
    {
      "cell_type": "code",
      "metadata": {
        "colab": {
          "base_uri": "https://localhost:8080/"
        },
        "id": "2Rz8Ss0d3pUy",
        "outputId": "c882ae76-ce3f-47bf-c516-df26bb613719"
      },
      "source": [
        "model.compile(optimizer='adam', loss='binary_crossentropy', metrics='acc')\n",
        "history = model.fit(X_train, y_train, epochs=100, callbacks=[es, mc], batch_size=256, validation_split=0.2)"
      ],
      "execution_count": null,
      "outputs": [
        {
          "output_type": "stream",
          "text": [
            "Epoch 1/100\n",
            "1641/1641 [==============================] - 64s 38ms/step - loss: 0.2524 - acc: 0.8921 - val_loss: 0.1496 - val_acc: 0.9418\n",
            "\n",
            "Epoch 00001: val_acc improved from -inf to 0.94177, saving model to best_model3.h5\n",
            "Epoch 2/100\n",
            "1641/1641 [==============================] - 61s 37ms/step - loss: 0.1366 - acc: 0.9479 - val_loss: 0.1440 - val_acc: 0.9467\n",
            "\n",
            "Epoch 00002: val_acc improved from 0.94177 to 0.94666, saving model to best_model3.h5\n",
            "Epoch 3/100\n",
            "1641/1641 [==============================] - 61s 37ms/step - loss: 0.1195 - acc: 0.9551 - val_loss: 0.1442 - val_acc: 0.9462\n",
            "\n",
            "Epoch 00003: val_acc did not improve from 0.94666\n",
            "Epoch 4/100\n",
            "1641/1641 [==============================] - 61s 37ms/step - loss: 0.1061 - acc: 0.9598 - val_loss: 0.1470 - val_acc: 0.9452\n",
            "\n",
            "Epoch 00004: val_acc did not improve from 0.94666\n",
            "Epoch 5/100\n",
            "1641/1641 [==============================] - 61s 37ms/step - loss: 0.0955 - acc: 0.9642 - val_loss: 0.1547 - val_acc: 0.9434\n",
            "\n",
            "Epoch 00005: val_acc did not improve from 0.94666\n",
            "Epoch 6/100\n",
            "1641/1641 [==============================] - 61s 37ms/step - loss: 0.0850 - acc: 0.9684 - val_loss: 0.1684 - val_acc: 0.9441\n",
            "\n",
            "Epoch 00006: val_acc did not improve from 0.94666\n",
            "Epoch 00006: early stopping\n"
          ],
          "name": "stdout"
        }
      ]
    },
    {
      "cell_type": "code",
      "metadata": {
        "colab": {
          "base_uri": "https://localhost:8080/"
        },
        "id": "YTAlLmo935Rq",
        "outputId": "cbc1037b-b7be-460c-fd4e-f1a3874eab02"
      },
      "source": [
        "best_model3 = load_model('best_model3.h5')\n",
        "print('accuracy:', best_model3.evaluate(X_test, y_test)[1])"
      ],
      "execution_count": null,
      "outputs": [
        {
          "output_type": "stream",
          "text": [
            "5469/5469 [==============================] - 33s 6ms/step - loss: 0.1427 - acc: 0.9457\n",
            "accuracy: 0.9457343816757202\n"
          ],
          "name": "stdout"
        }
      ]
    },
    {
      "cell_type": "code",
      "metadata": {
        "id": "A4YTLUh2xouu"
      },
      "source": [
        "hist = pd.DataFrame(history.history)"
      ],
      "execution_count": null,
      "outputs": []
    },
    {
      "cell_type": "code",
      "metadata": {
        "colab": {
          "base_uri": "https://localhost:8080/",
          "height": 281
        },
        "id": "gQ6Sh7AwyB0T",
        "outputId": "97ceebcc-72ac-4a79-d394-4febba900d85"
      },
      "source": [
        "hist[['loss', 'val_loss']].plot()\n",
        "plt.title('BiLSTM loss')\n",
        "plt.grid()\n",
        "plt.show()"
      ],
      "execution_count": null,
      "outputs": [
        {
          "output_type": "display_data",
          "data": {
            "image/png": "[encoded data removed]",
            "text/plain": [
              "<Figure size 432x288 with 1 Axes>"
            ]
          },
          "metadata": {
            "tags": [],
            "needs_background": "light"
          }
        }
      ]
    },
    {
      "cell_type": "code",
      "metadata": {
        "colab": {
          "base_uri": "https://localhost:8080/",
          "height": 281
        },
        "id": "ldexs0o3yMfi",
        "outputId": "21ede93c-a4e7-487c-f7e5-3ca6e8b9b64e"
      },
      "source": [
        "hist[['acc', 'val_acc']].plot()\n",
        "plt.title('BiLSTM accuracy')\n",
        "plt.grid()\n",
        "plt.show()"
      ],
      "execution_count": null,
      "outputs": [
        {
          "output_type": "display_data",
          "data": {
            "image/png": "[encoded data removed]",
            "text/plain": [
              "<Figure size 432x288 with 1 Axes>"
            ]
          },
          "metadata": {
            "tags": [],
            "needs_background": "light"
          }
        }
      ]
    },
    {
      "cell_type": "code",
      "metadata": {
        "colab": {
          "base_uri": "https://localhost:8080/"
        },
        "id": "aVcSDyuAyZlK",
        "outputId": "44bff087-27f1-49a2-cfca-144790681f6a"
      },
      "source": [
        "test_loss, test_acc = best_model3.evaluate(X_test, y_test, verbose=1)\n",
        "pred = best_model3.predict(X_test)\n",
        "print('model accuracy:', test_acc)"
      ],
      "execution_count": null,
      "outputs": [
        {
          "output_type": "stream",
          "text": [
            "5469/5469 [==============================] - 32s 6ms/step - loss: 0.1427 - acc: 0.9457\n",
            "model accuracy: 0.9457343816757202\n"
          ],
          "name": "stdout"
        }
      ]
    },
    {
      "cell_type": "code",
      "metadata": {
        "id": "tshzEHh2yooh"
      },
      "source": [
        "a = y_test.to_numpy(int)\n",
        "b = np.around(pred, 0).astype(int).reshape(-1,)"
      ],
      "execution_count": null,
      "outputs": []
    },
    {
      "cell_type": "code",
      "metadata": {
        "id": "qit6m7aiyrcT"
      },
      "source": [
        "# confusion matrix 만들기\n",
        "conf_matrix = pd.DataFrame(confusion_matrix(a, b), index = ['bad', 'good'], columns=['bad', 'good'])\n",
        "\n",
        "# normalize\n",
        "conf_matrix = conf_matrix.astype('float') / conf_matrix.sum(axis=1)[:, np.newaxis]"
      ],
      "execution_count": null,
      "outputs": []
    },
    {
      "cell_type": "code",
      "metadata": {
        "colab": {
          "base_uri": "https://localhost:8080/",
          "height": 609
        },
        "id": "JF5BM6UWytVJ",
        "outputId": "61f1ec49-004f-41d7-d54e-e2b18788dcff"
      },
      "source": [
        "# 시각화\n",
        "plt.figure(figsize=(10, 10))\n",
        "sns.heatmap(conf_matrix, annot=True, annot_kws={'size':15})     # annot=True: 각 셀에 숫자 입력\n",
        "plt.title('1D CNN rmsprop confusion matrix', fontsize=15)\n",
        "plt.show()"
      ],
      "execution_count": null,
      "outputs": [
        {
          "output_type": "display_data",
          "data": {
            "image/png": "[encoded data removed]",
            "text/plain": [
              "<Figure size 720x720 with 2 Axes>"
            ]
          },
          "metadata": {
            "tags": [],
            "needs_background": "light"
          }
        }
      ]
    },
    {
      "cell_type": "markdown",
      "metadata": {
        "id": "19JvzPAGbJFK"
      },
      "source": [
        "## 512"
      ]
    },
    {
      "cell_type": "code",
      "metadata": {
        "id": "SnsZQk9hbKXc"
      },
      "source": [
        "model2 = Sequential()\n",
        "model2.add(Embedding(vocab_size, 100))\n",
        "model2.add(Bidirectional(LSTM(100)))\n",
        "model2.add(Dense(1, activation='sigmoid'))"
      ],
      "execution_count": null,
      "outputs": []
    },
    {
      "cell_type": "code",
      "metadata": {
        "id": "gZUHqfEpbPQB"
      },
      "source": [
        "es = EarlyStopping(monitor='val_loss', mode='min', verbose=1, patience=4)\n",
        "mc = ModelCheckpoint('best_model4.h5', monitor='val_acc', mode='max', verbose=1, save_best_only=True)"
      ],
      "execution_count": null,
      "outputs": []
    },
    {
      "cell_type": "code",
      "metadata": {
        "colab": {
          "base_uri": "https://localhost:8080/"
        },
        "id": "QFeRR9BxbR_G",
        "outputId": "6b8679ef-0e60-4179-9cc4-8dd8b05018b2"
      },
      "source": [
        "model2.compile(optimizer='adam', loss='binary_crossentropy', metrics='acc')\n",
        "history2 = model2.fit(X_train, y_train, epochs=100, callbacks=[es, mc], batch_size=512, validation_split=0.2)"
      ],
      "execution_count": null,
      "outputs": [
        {
          "output_type": "stream",
          "text": [
            "Epoch 1/100\n",
            "821/821 [==============================] - 50s 57ms/step - loss: 0.2927 - acc: 0.8689 - val_loss: 0.1571 - val_acc: 0.9391\n",
            "\n",
            "Epoch 00001: val_acc improved from -inf to 0.93905, saving model to best_model4.h5\n",
            "Epoch 2/100\n",
            "821/821 [==============================] - 47s 57ms/step - loss: 0.1444 - acc: 0.9441 - val_loss: 0.1462 - val_acc: 0.9432\n",
            "\n",
            "Epoch 00002: val_acc improved from 0.93905 to 0.94323, saving model to best_model4.h5\n",
            "Epoch 3/100\n",
            "821/821 [==============================] - 47s 57ms/step - loss: 0.1278 - acc: 0.9511 - val_loss: 0.1466 - val_acc: 0.9448\n",
            "\n",
            "Epoch 00003: val_acc improved from 0.94323 to 0.94478, saving model to best_model4.h5\n",
            "Epoch 4/100\n",
            "821/821 [==============================] - 47s 57ms/step - loss: 0.1136 - acc: 0.9571 - val_loss: 0.1464 - val_acc: 0.9444\n",
            "\n",
            "Epoch 00004: val_acc did not improve from 0.94478\n",
            "Epoch 5/100\n",
            "821/821 [==============================] - 47s 57ms/step - loss: 0.1037 - acc: 0.9610 - val_loss: 0.1563 - val_acc: 0.9430\n",
            "\n",
            "Epoch 00005: val_acc did not improve from 0.94478\n",
            "Epoch 6/100\n",
            "821/821 [==============================] - 47s 57ms/step - loss: 0.0933 - acc: 0.9657 - val_loss: 0.1579 - val_acc: 0.9437\n",
            "\n",
            "Epoch 00006: val_acc did not improve from 0.94478\n",
            "Epoch 00006: early stopping\n"
          ],
          "name": "stdout"
        }
      ]
    },
    {
      "cell_type": "code",
      "metadata": {
        "colab": {
          "base_uri": "https://localhost:8080/"
        },
        "id": "fUKlas_ObWJ1",
        "outputId": "a363a512-f243-44bf-d068-0795153deee4"
      },
      "source": [
        "best_model4 = load_model('best_model4.h5')\n",
        "print('accuracy:', best_model4.evaluate(X_test, y_test)[1])"
      ],
      "execution_count": null,
      "outputs": [
        {
          "output_type": "stream",
          "text": [
            "5469/5469 [==============================] - 33s 6ms/step - loss: 0.1460 - acc: 0.9445\n",
            "accuracy: 0.9444771409034729\n"
          ],
          "name": "stdout"
        }
      ]
    },
    {
      "cell_type": "code",
      "metadata": {
        "id": "vrUEIhGXbaPl"
      },
      "source": [
        "hist2 = pd.DataFrame(history2.history)"
      ],
      "execution_count": null,
      "outputs": []
    },
    {
      "cell_type": "code",
      "metadata": {
        "colab": {
          "base_uri": "https://localhost:8080/",
          "height": 281
        },
        "id": "6bwUwMEvbhzm",
        "outputId": "4e5dd857-6daf-4d2e-8636-f1098dd832b0"
      },
      "source": [
        "hist2[['loss', 'val_loss']].plot()\n",
        "plt.title('BiLSTM 512 loss')\n",
        "plt.grid()\n",
        "plt.show()"
      ],
      "execution_count": null,
      "outputs": [
        {
          "output_type": "display_data",
          "data": {
            "image/png": "[encoded data removed]",
            "text/plain": [
              "<Figure size 432x288 with 1 Axes>"
            ]
          },
          "metadata": {
            "tags": [],
            "needs_background": "light"
          }
        }
      ]
    },
    {
      "cell_type": "code",
      "metadata": {
        "colab": {
          "base_uri": "https://localhost:8080/",
          "height": 281
        },
        "id": "HDyYtP6dbmJt",
        "outputId": "ed1498ce-6233-41c8-a0f3-cd8a418abc90"
      },
      "source": [
        "hist2[['acc', 'val_acc']].plot()\n",
        "plt.title('BiLSTM 512 accuracy')\n",
        "plt.grid()\n",
        "plt.show()"
      ],
      "execution_count": null,
      "outputs": [
        {
          "output_type": "display_data",
          "data": {
            "image/png": "[encoded data removed]",
            "text/plain": [
              "<Figure size 432x288 with 1 Axes>"
            ]
          },
          "metadata": {
            "tags": [],
            "needs_background": "light"
          }
        }
      ]
    },
    {
      "cell_type": "code",
      "metadata": {
        "colab": {
          "base_uri": "https://localhost:8080/"
        },
        "id": "q_bcLegebrVc",
        "outputId": "97506edf-80b7-4c0d-f30a-e7f41f813492"
      },
      "source": [
        "test_loss, test_acc = best_model4.evaluate(X_test, y_test, verbose=1)\n",
        "pred = best_model4.predict(X_test)\n",
        "print('model accuracy:', test_acc)"
      ],
      "execution_count": null,
      "outputs": [
        {
          "output_type": "stream",
          "text": [
            "5469/5469 [==============================] - 32s 6ms/step - loss: 0.1460 - acc: 0.9445\n",
            "model accuracy: 0.9444771409034729\n"
          ],
          "name": "stdout"
        }
      ]
    },
    {
      "cell_type": "code",
      "metadata": {
        "id": "RnmAAxMBbuJF"
      },
      "source": [
        "a = y_test.to_numpy(int)\n",
        "b = np.around(pred, 0).astype(int).reshape(-1,)"
      ],
      "execution_count": null,
      "outputs": []
    },
    {
      "cell_type": "code",
      "metadata": {
        "id": "oQCvkk6ybyyd"
      },
      "source": [
        "# confusion matrix 만들기\n",
        "conf_matrix = pd.DataFrame(confusion_matrix(a, b), index = ['bad', 'good'], columns=['bad', 'good'])\n",
        "\n",
        "# normalize\n",
        "conf_matrix = conf_matrix.astype('float') / conf_matrix.sum(axis=1)[:, np.newaxis]"
      ],
      "execution_count": null,
      "outputs": []
    },
    {
      "cell_type": "code",
      "metadata": {
        "colab": {
          "base_uri": "https://localhost:8080/",
          "height": 609
        },
        "id": "aXx0-Se_b0Vd",
        "outputId": "b3dae0da-95c5-4a12-dcf5-711e1775a3ea"
      },
      "source": [
        "# 시각화\n",
        "plt.figure(figsize=(10, 10))\n",
        "sns.heatmap(conf_matrix, annot=True, annot_kws={'size':15})     # annot=True: 각 셀에 숫자 입력\n",
        "plt.title('BiLSTM 512 confusion matrix', fontsize=15)\n",
        "plt.show()"
      ],
      "execution_count": null,
      "outputs": [
        {
          "output_type": "display_data",
          "data": {
            "image/png": "[encoded data removed]",
            "text/plain": [
              "<Figure size 720x720 with 2 Axes>"
            ]
          },
          "metadata": {
            "tags": [],
            "needs_background": "light"
          }
        }
      ]
    },
    {
      "cell_type": "markdown",
      "metadata": {
        "id": "IQD8YJY45NQl"
      },
      "source": [
        "# GloVe"
      ]
    },
    {
      "cell_type": "markdown",
      "metadata": {
        "id": "chvlzLQUA3FD"
      },
      "source": [
        "## 100d"
      ]
    },
    {
      "cell_type": "markdown",
      "metadata": {
        "id": "xWKHfoCye_jj"
      },
      "source": [
        "### 32"
      ]
    },
    {
      "cell_type": "code",
      "metadata": {
        "id": "7IakLgVU5XOj"
      },
      "source": [
        "# GloVe 100d 파일 파싱하기(50, 100, 200, 300 중 일단 예제대로 해보겠음)\n",
        "embeddings_index = {}\n",
        "f = open('/content/drive/MyDrive/Colab Notebooks/project/data/glove.6B.100d.txt', encoding='utf8')\n",
        "for line in f:\n",
        "    values = line.split()\n",
        "    word = values[0]\n",
        "    coefs = np.asarray(values[1:], dtype='float32')\n",
        "    embeddings_index[word] = coefs\n",
        "f.close()"
      ],
      "execution_count": null,
      "outputs": []
    },
    {
      "cell_type": "code",
      "metadata": {
        "id": "Bw3Qerfz5sdj"
      },
      "source": [
        "# GloVe 단어 임베딩 행렬 준비\n",
        "embedding_dim = 100\n",
        "\n",
        "embedding_matrix = np.zeros((vocab_size, embedding_dim))\n",
        "for word, i in word_index.items():\n",
        "    embedding_vector = embeddings_index.get(word)\n",
        "    if i < vocab_size:\n",
        "        if embedding_vector is not None:\n",
        "            # 임베딩 인덱스에 없는 단어는 모두 0이 된다.\n",
        "            embedding_matrix[i] = embedding_vector"
      ],
      "execution_count": null,
      "outputs": []
    },
    {
      "cell_type": "code",
      "metadata": {
        "id": "ya6JW1ar6WLb"
      },
      "source": [
        "# 모델 만들기\n",
        "model = Sequential()\n",
        "model.add(Embedding(vocab_size, embedding_dim, input_length=100))    # 100=maxlen\n",
        "model.add(Flatten())\n",
        "model.add(Dense(32, activation='relu'))\n",
        "model.add(Dense(1, activation='sigmoid'))"
      ],
      "execution_count": null,
      "outputs": []
    },
    {
      "cell_type": "code",
      "metadata": {
        "id": "krRyI2JU65IL"
      },
      "source": [
        "# 사전 훈련된 단어 임베딩을 Embedding 층에 로드하기\n",
        "model.layers[0].set_weights([embedding_matrix])\n",
        "model.layers[0].trainable = False"
      ],
      "execution_count": null,
      "outputs": []
    },
    {
      "cell_type": "code",
      "metadata": {
        "id": "DI4XUq517TpE"
      },
      "source": [
        "es = EarlyStopping(monitor='val_loss', mode='min', verbose=1, patience=4)\n",
        "mc = ModelCheckpoint('best_model5.h5', monitor='val_acc', mode='max', verbose=1, save_best_only=True)"
      ],
      "execution_count": null,
      "outputs": []
    },
    {
      "cell_type": "code",
      "metadata": {
        "colab": {
          "base_uri": "https://localhost:8080/"
        },
        "id": "9YGxAEKN7EfD",
        "outputId": "9e3a5071-8233-438f-dd13-3da3d6168d28"
      },
      "source": [
        "model.compile(optimizer='adam', loss='binary_crossentropy', metrics='acc')\n",
        "history = model.fit(X_train, y_train, epochs=100, callbacks=[es, mc], batch_size=32, validation_split=0.2)"
      ],
      "execution_count": null,
      "outputs": [
        {
          "output_type": "stream",
          "text": [
            "Epoch 1/100\n",
            "13125/13125 [==============================] - 43s 3ms/step - loss: 0.3158 - acc: 0.8598 - val_loss: 0.2558 - val_acc: 0.8907\n",
            "\n",
            "Epoch 00001: val_acc improved from -inf to 0.89068, saving model to best_model5.h5\n",
            "Epoch 2/100\n",
            "13125/13125 [==============================] - 43s 3ms/step - loss: 0.2310 - acc: 0.9017 - val_loss: 0.2453 - val_acc: 0.8952\n",
            "\n",
            "Epoch 00002: val_acc improved from 0.89068 to 0.89517, saving model to best_model5.h5\n",
            "Epoch 3/100\n",
            "13125/13125 [==============================] - 43s 3ms/step - loss: 0.2066 - acc: 0.9133 - val_loss: 0.2407 - val_acc: 0.8978\n",
            "\n",
            "Epoch 00003: val_acc improved from 0.89517 to 0.89781, saving model to best_model5.h5\n",
            "Epoch 4/100\n",
            "13125/13125 [==============================] - 43s 3ms/step - loss: 0.1901 - acc: 0.9212 - val_loss: 0.2482 - val_acc: 0.8972\n",
            "\n",
            "Epoch 00004: val_acc did not improve from 0.89781\n",
            "Epoch 5/100\n",
            "13125/13125 [==============================] - 42s 3ms/step - loss: 0.1761 - acc: 0.9279 - val_loss: 0.2545 - val_acc: 0.8974\n",
            "\n",
            "Epoch 00005: val_acc did not improve from 0.89781\n",
            "Epoch 6/100\n",
            "13125/13125 [==============================] - 41s 3ms/step - loss: 0.1639 - acc: 0.9332 - val_loss: 0.2633 - val_acc: 0.8967\n",
            "\n",
            "Epoch 00006: val_acc did not improve from 0.89781\n",
            "Epoch 7/100\n",
            "13125/13125 [==============================] - 41s 3ms/step - loss: 0.1547 - acc: 0.9370 - val_loss: 0.2766 - val_acc: 0.8937\n",
            "\n",
            "Epoch 00007: val_acc did not improve from 0.89781\n",
            "Epoch 00007: early stopping\n"
          ],
          "name": "stdout"
        }
      ]
    },
    {
      "cell_type": "code",
      "metadata": {
        "colab": {
          "base_uri": "https://localhost:8080/"
        },
        "id": "3Gx1GOxP7cNX",
        "outputId": "749d5a0d-d584-4697-b6a6-b7fd81a5cba7"
      },
      "source": [
        "best_model5 = load_model('best_model5.h5')\n",
        "print('accuracy:', best_model5.evaluate(X_test, y_test)[1])"
      ],
      "execution_count": null,
      "outputs": [
        {
          "output_type": "stream",
          "text": [
            "5469/5469 [==============================] - 11s 2ms/step - loss: 0.2432 - acc: 0.8970\n",
            "accuracy: 0.8970061540603638\n"
          ],
          "name": "stdout"
        }
      ]
    },
    {
      "cell_type": "code",
      "metadata": {
        "id": "-tiD-YQp7kRc"
      },
      "source": [
        "hist = pd.DataFrame(history.history)"
      ],
      "execution_count": null,
      "outputs": []
    },
    {
      "cell_type": "code",
      "metadata": {
        "colab": {
          "base_uri": "https://localhost:8080/",
          "height": 281
        },
        "id": "zA3c8W907mQw",
        "outputId": "8cf363ad-d06a-4ab4-e4f7-01a721525f0c"
      },
      "source": [
        "hist[['loss', 'val_loss']].plot()\n",
        "plt.title('GloVe loss')\n",
        "plt.grid()\n",
        "plt.show()"
      ],
      "execution_count": null,
      "outputs": [
        {
          "output_type": "display_data",
          "data": {
            "image/png": "[encoded data removed]",
            "text/plain": [
              "<Figure size 432x288 with 1 Axes>"
            ]
          },
          "metadata": {
            "tags": [],
            "needs_background": "light"
          }
        }
      ]
    },
    {
      "cell_type": "code",
      "metadata": {
        "colab": {
          "base_uri": "https://localhost:8080/",
          "height": 281
        },
        "id": "KLX0a76X7qr8",
        "outputId": "f66c8288-61d8-428d-8ad0-43400a96695f"
      },
      "source": [
        "hist[['acc', 'val_acc']].plot()\n",
        "plt.title('GloVe accuracy')\n",
        "plt.grid()\n",
        "plt.show()"
      ],
      "execution_count": null,
      "outputs": [
        {
          "output_type": "display_data",
          "data": {
            "image/png": "[encoded data removed]",
            "text/plain": [
              "<Figure size 432x288 with 1 Axes>"
            ]
          },
          "metadata": {
            "tags": [],
            "needs_background": "light"
          }
        }
      ]
    },
    {
      "cell_type": "code",
      "metadata": {
        "colab": {
          "base_uri": "https://localhost:8080/"
        },
        "id": "ay4sNt_RBtYZ",
        "outputId": "65b1b1b6-d197-4bbc-ee9f-892c1879b3fa"
      },
      "source": [
        "test_loss, test_acc = best_model5.evaluate(X_test, y_test, verbose=1)\n",
        "pred = best_model5.predict(X_test)\n",
        "print('model accuracy:', test_acc)"
      ],
      "execution_count": null,
      "outputs": [
        {
          "output_type": "stream",
          "text": [
            "5469/5469 [==============================] - 11s 2ms/step - loss: 0.2432 - acc: 0.8970\n",
            "model accuracy: 0.8970061540603638\n"
          ],
          "name": "stdout"
        }
      ]
    },
    {
      "cell_type": "code",
      "metadata": {
        "colab": {
          "base_uri": "https://localhost:8080/",
          "height": 609
        },
        "id": "sAtqhlB4BzA9",
        "outputId": "9cecf7e1-a7c2-480b-c9be-3fcb410ee6ea"
      },
      "source": [
        "a = y_test.to_numpy(int)\n",
        "b = np.around(pred, 0).astype(int).reshape(-1,)\n",
        "conf_matrix = pd.DataFrame(confusion_matrix(a, b), index = ['bad', 'good'], columns=['bad', 'good'])\n",
        "conf_matrix = conf_matrix.astype('float') / conf_matrix.sum(axis=1)[:, np.newaxis]\n",
        "\n",
        "# 시각화\n",
        "plt.figure(figsize=(10, 10))\n",
        "sns.heatmap(conf_matrix, annot=True, annot_kws={'size':15})     # annot=True: 각 셀에 숫자 입력\n",
        "plt.title('GloVe 100d 32 confusion matrix', fontsize=15)\n",
        "plt.show()"
      ],
      "execution_count": null,
      "outputs": [
        {
          "output_type": "display_data",
          "data": {
            "image/png": "[encoded data removed]",
            "text/plain": [
              "<Figure size 720x720 with 2 Axes>"
            ]
          },
          "metadata": {
            "tags": [],
            "needs_background": "light"
          }
        }
      ]
    },
    {
      "cell_type": "markdown",
      "metadata": {
        "id": "_G-vkBOhe7o-"
      },
      "source": [
        "### 256"
      ]
    },
    {
      "cell_type": "code",
      "metadata": {
        "id": "AonAKQ8Je-jl"
      },
      "source": [
        "# 모델 만들기\n",
        "model2 = Sequential()\n",
        "model2.add(Embedding(vocab_size, embedding_dim, weights=[embedding_matrix], input_length=100, trainable=False))    # 100=maxlen\n",
        "model2.add(Flatten())\n",
        "model2.add(Dense(32, activation='relu'))\n",
        "model2.add(Dense(1, activation='sigmoid'))"
      ],
      "execution_count": null,
      "outputs": []
    },
    {
      "cell_type": "code",
      "metadata": {
        "id": "xjhZSoTvf5wM"
      },
      "source": [
        "es = EarlyStopping(monitor='val_loss', mode='min', verbose=1, patience=4)\n",
        "mc = ModelCheckpoint('best_model6.h5', monitor='val_acc', mode='max', verbose=1, save_best_only=True)"
      ],
      "execution_count": null,
      "outputs": []
    },
    {
      "cell_type": "code",
      "metadata": {
        "colab": {
          "base_uri": "https://localhost:8080/"
        },
        "id": "kZn7yVPcf79j",
        "outputId": "e5d839be-89c4-41cc-b846-0954527e342c"
      },
      "source": [
        "model2.compile(optimizer='adam', loss='binary_crossentropy', metrics='acc')\n",
        "history2 = model2.fit(X_train, y_train, epochs=100, callbacks=[es, mc], batch_size=256, validation_split=0.2)"
      ],
      "execution_count": null,
      "outputs": [
        {
          "output_type": "stream",
          "text": [
            "Epoch 1/100\n",
            "1641/1641 [==============================] - 10s 6ms/step - loss: 0.3467 - acc: 0.8450 - val_loss: 0.2606 - val_acc: 0.8901\n",
            "\n",
            "Epoch 00001: val_acc improved from -inf to 0.89015, saving model to best_model6.h5\n",
            "Epoch 2/100\n",
            "1641/1641 [==============================] - 8s 5ms/step - loss: 0.2393 - acc: 0.8993 - val_loss: 0.2483 - val_acc: 0.8954\n",
            "\n",
            "Epoch 00002: val_acc improved from 0.89015 to 0.89544, saving model to best_model6.h5\n",
            "Epoch 3/100\n",
            "1641/1641 [==============================] - 8s 5ms/step - loss: 0.2128 - acc: 0.9117 - val_loss: 0.2449 - val_acc: 0.8964\n",
            "\n",
            "Epoch 00003: val_acc improved from 0.89544 to 0.89643, saving model to best_model6.h5\n",
            "Epoch 4/100\n",
            "1641/1641 [==============================] - 8s 5ms/step - loss: 0.1923 - acc: 0.9217 - val_loss: 0.2509 - val_acc: 0.8973\n",
            "\n",
            "Epoch 00004: val_acc improved from 0.89643 to 0.89732, saving model to best_model6.h5\n",
            "Epoch 5/100\n",
            "1641/1641 [==============================] - 8s 5ms/step - loss: 0.1749 - acc: 0.9292 - val_loss: 0.2586 - val_acc: 0.8955\n",
            "\n",
            "Epoch 00005: val_acc did not improve from 0.89732\n",
            "Epoch 6/100\n",
            "1641/1641 [==============================] - 8s 5ms/step - loss: 0.1611 - acc: 0.9348 - val_loss: 0.2617 - val_acc: 0.8960\n",
            "\n",
            "Epoch 00006: val_acc did not improve from 0.89732\n",
            "Epoch 7/100\n",
            "1641/1641 [==============================] - 8s 5ms/step - loss: 0.1484 - acc: 0.9406 - val_loss: 0.2847 - val_acc: 0.8929\n",
            "\n",
            "Epoch 00007: val_acc did not improve from 0.89732\n",
            "Epoch 00007: early stopping\n"
          ],
          "name": "stdout"
        }
      ]
    },
    {
      "cell_type": "code",
      "metadata": {
        "colab": {
          "base_uri": "https://localhost:8080/"
        },
        "id": "bg0wloaGgADL",
        "outputId": "baddfd49-66e0-48ba-e436-db484d486eed"
      },
      "source": [
        "best_model6 = load_model('best_model6.h5')\n",
        "print('accuracy:', best_model6.evaluate(X_test, y_test)[1])"
      ],
      "execution_count": null,
      "outputs": [
        {
          "output_type": "stream",
          "text": [
            "5469/5469 [==============================] - 12s 2ms/step - loss: 0.2508 - acc: 0.8968\n",
            "accuracy: 0.8968175649642944\n"
          ],
          "name": "stdout"
        }
      ]
    },
    {
      "cell_type": "code",
      "metadata": {
        "id": "flA3wdzvgJeM"
      },
      "source": [
        "hist2 = pd.DataFrame(history2.history)"
      ],
      "execution_count": null,
      "outputs": []
    },
    {
      "cell_type": "code",
      "metadata": {
        "colab": {
          "base_uri": "https://localhost:8080/",
          "height": 281
        },
        "id": "2Y0ySY8FgLa8",
        "outputId": "86a9c59b-15c4-49eb-eb98-94a11df2d9c6"
      },
      "source": [
        "hist2[['loss', 'val_loss']].plot()\n",
        "plt.title('GloVe 100d 256 loss')\n",
        "plt.grid()\n",
        "plt.show()"
      ],
      "execution_count": null,
      "outputs": [
        {
          "output_type": "display_data",
          "data": {
            "image/png": "[encoded data removed]",
            "text/plain": [
              "<Figure size 432x288 with 1 Axes>"
            ]
          },
          "metadata": {
            "tags": [],
            "needs_background": "light"
          }
        }
      ]
    },
    {
      "cell_type": "code",
      "metadata": {
        "colab": {
          "base_uri": "https://localhost:8080/",
          "height": 281
        },
        "id": "qfdpniV6gREA",
        "outputId": "12d53f0b-2493-44ac-ef75-ece54f9f812f"
      },
      "source": [
        "hist2[['acc', 'val_acc']].plot()\n",
        "plt.title('GloVe 100d 256 loss')\n",
        "plt.grid()\n",
        "plt.show()"
      ],
      "execution_count": null,
      "outputs": [
        {
          "output_type": "display_data",
          "data": {
            "image/png": "[encoded data removed]",
            "text/plain": [
              "<Figure size 432x288 with 1 Axes>"
            ]
          },
          "metadata": {
            "tags": [],
            "needs_background": "light"
          }
        }
      ]
    },
    {
      "cell_type": "code",
      "metadata": {
        "colab": {
          "base_uri": "https://localhost:8080/"
        },
        "id": "KV_zJZ82gWVT",
        "outputId": "d24ccb37-d757-4640-c47e-bc23869da7cf"
      },
      "source": [
        "test_loss, test_acc = best_model6.evaluate(X_test, y_test, verbose=1)\n",
        "pred = best_model6.predict(X_test)\n",
        "print('model accuracy:', test_acc)"
      ],
      "execution_count": null,
      "outputs": [
        {
          "output_type": "stream",
          "text": [
            "5469/5469 [==============================] - 12s 2ms/step - loss: 0.2508 - acc: 0.8968\n",
            "model accuracy: 0.8968175649642944\n"
          ],
          "name": "stdout"
        }
      ]
    },
    {
      "cell_type": "code",
      "metadata": {
        "id": "zr-7bP3UgZcL"
      },
      "source": [
        "a = y_test.to_numpy(int)\n",
        "b = np.around(pred, 0).astype(int).reshape(-1,)\n",
        "# confusion matrix 만들기\n",
        "conf_matrix = pd.DataFrame(confusion_matrix(a, b), index = ['bad', 'good'], columns=['bad', 'good'])\n",
        "# normalize\n",
        "conf_matrix = conf_matrix.astype('float') / conf_matrix.sum(axis=1)[:, np.newaxis]"
      ],
      "execution_count": null,
      "outputs": []
    },
    {
      "cell_type": "code",
      "metadata": {
        "colab": {
          "base_uri": "https://localhost:8080/",
          "height": 609
        },
        "id": "kIUYU0-9gdA_",
        "outputId": "dd8fe481-75ca-4a19-c954-3a43f99167e8"
      },
      "source": [
        "# 시각화\n",
        "plt.figure(figsize=(10, 10))\n",
        "sns.heatmap(conf_matrix, annot=True, annot_kws={'size':15})     # annot=True: 각 셀에 숫자 입력\n",
        "plt.title('GloVe 100d 256 adam confusion matrix', fontsize=15)\n",
        "plt.show()"
      ],
      "execution_count": null,
      "outputs": [
        {
          "output_type": "display_data",
          "data": {
            "image/png": "[encoded data removed]",
            "text/plain": [
              "<Figure size 720x720 with 2 Axes>"
            ]
          },
          "metadata": {
            "tags": [],
            "needs_background": "light"
          }
        }
      ]
    },
    {
      "cell_type": "markdown",
      "metadata": {
        "id": "34owU_lomRZq"
      },
      "source": [
        "### 512"
      ]
    },
    {
      "cell_type": "code",
      "metadata": {
        "id": "2QwztTGUmQK1"
      },
      "source": [
        "# 모델 만들기\n",
        "model3 = Sequential()\n",
        "model3.add(Embedding(vocab_size, embedding_dim, weights=[embedding_matrix], input_length=100, trainable=False))    # 100=maxlen\n",
        "model3.add(Flatten())\n",
        "model3.add(Dense(32, activation='relu'))\n",
        "model3.add(Dense(1, activation='sigmoid'))"
      ],
      "execution_count": null,
      "outputs": []
    },
    {
      "cell_type": "code",
      "metadata": {
        "id": "bhUGuYS3CQgY"
      },
      "source": [
        "es = EarlyStopping(monitor='val_loss', mode='min', verbose=1, patience=4)\n",
        "mc = ModelCheckpoint('best_model7.h5', monitor='val_acc', mode='max', verbose=1, save_best_only=True)"
      ],
      "execution_count": null,
      "outputs": []
    },
    {
      "cell_type": "code",
      "metadata": {
        "colab": {
          "base_uri": "https://localhost:8080/"
        },
        "id": "uDW6W2mUmcuU",
        "outputId": "dfdf85a8-ba2d-46a7-d819-b1a6786e5c54"
      },
      "source": [
        "model3.compile(optimizer='adam', loss='binary_crossentropy', metrics='acc')\n",
        "history3 = model3.fit(X_train, y_train, epochs=100, callbacks=[es, mc], batch_size=512, validation_split=0.2)"
      ],
      "execution_count": null,
      "outputs": [
        {
          "output_type": "stream",
          "text": [
            "Epoch 1/100\n",
            "821/821 [==============================] - 7s 8ms/step - loss: 0.3668 - acc: 0.8352 - val_loss: 0.2738 - val_acc: 0.8836\n",
            "\n",
            "Epoch 00001: val_acc improved from -inf to 0.88358, saving model to best_model7.h5\n",
            "Epoch 2/100\n",
            "821/821 [==============================] - 6s 7ms/step - loss: 0.2530 - acc: 0.8930 - val_loss: 0.2528 - val_acc: 0.8931\n",
            "\n",
            "Epoch 00002: val_acc improved from 0.88358 to 0.89311, saving model to best_model7.h5\n",
            "Epoch 3/100\n",
            "821/821 [==============================] - 6s 7ms/step - loss: 0.2219 - acc: 0.9081 - val_loss: 0.2453 - val_acc: 0.8970\n",
            "\n",
            "Epoch 00003: val_acc improved from 0.89311 to 0.89700, saving model to best_model7.h5\n",
            "Epoch 4/100\n",
            "821/821 [==============================] - 6s 7ms/step - loss: 0.1997 - acc: 0.9186 - val_loss: 0.2479 - val_acc: 0.8960\n",
            "\n",
            "Epoch 00004: val_acc did not improve from 0.89700\n",
            "Epoch 5/100\n",
            "821/821 [==============================] - 6s 7ms/step - loss: 0.1812 - acc: 0.9270 - val_loss: 0.2532 - val_acc: 0.8971\n",
            "\n",
            "Epoch 00005: val_acc improved from 0.89700 to 0.89715, saving model to best_model7.h5\n",
            "Epoch 6/100\n",
            "821/821 [==============================] - 6s 7ms/step - loss: 0.1669 - acc: 0.9333 - val_loss: 0.2615 - val_acc: 0.8964\n",
            "\n",
            "Epoch 00006: val_acc did not improve from 0.89715\n",
            "Epoch 7/100\n",
            "821/821 [==============================] - 6s 7ms/step - loss: 0.1545 - acc: 0.9387 - val_loss: 0.2753 - val_acc: 0.8950\n",
            "\n",
            "Epoch 00007: val_acc did not improve from 0.89715\n",
            "Epoch 00007: early stopping\n"
          ],
          "name": "stdout"
        }
      ]
    },
    {
      "cell_type": "code",
      "metadata": {
        "colab": {
          "base_uri": "https://localhost:8080/"
        },
        "id": "KTbEuhb5mhla",
        "outputId": "74133346-86d5-444f-d307-898bcb77b40d"
      },
      "source": [
        "best_model7 = load_model('best_model7.h5')\n",
        "print('accuracy:', best_model7.evaluate(X_test, y_test)[1])"
      ],
      "execution_count": null,
      "outputs": [
        {
          "output_type": "stream",
          "text": [
            "5469/5469 [==============================] - 12s 2ms/step - loss: 0.2529 - acc: 0.8980\n",
            "accuracy: 0.8980119228363037\n"
          ],
          "name": "stdout"
        }
      ]
    },
    {
      "cell_type": "code",
      "metadata": {
        "id": "b8T18h9Jmk_q"
      },
      "source": [
        "hist3 = pd.DataFrame(history3.history)"
      ],
      "execution_count": null,
      "outputs": []
    },
    {
      "cell_type": "code",
      "metadata": {
        "colab": {
          "base_uri": "https://localhost:8080/",
          "height": 281
        },
        "id": "_eQeuBCNmqWR",
        "outputId": "6815f2f6-1ad1-4129-f4a1-7e5c1d3e2cee"
      },
      "source": [
        "hist3[['loss', 'val_loss']].plot()\n",
        "plt.title('GloVe 100d 512 loss')\n",
        "plt.grid()\n",
        "plt.show()"
      ],
      "execution_count": null,
      "outputs": [
        {
          "output_type": "display_data",
          "data": {
            "image/png": "[encoded data removed]",
            "text/plain": [
              "<Figure size 432x288 with 1 Axes>"
            ]
          },
          "metadata": {
            "tags": [],
            "needs_background": "light"
          }
        }
      ]
    },
    {
      "cell_type": "code",
      "metadata": {
        "colab": {
          "base_uri": "https://localhost:8080/",
          "height": 281
        },
        "id": "3AzNFGShmuKr",
        "outputId": "4bfde133-9ad4-443d-aac7-a6db90f27566"
      },
      "source": [
        "hist3[['acc', 'val_acc']].plot()\n",
        "plt.title('GloVe 100d 512 accuracy')\n",
        "plt.grid()\n",
        "plt.show()"
      ],
      "execution_count": null,
      "outputs": [
        {
          "output_type": "display_data",
          "data": {
            "image/png": "[encoded data removed]",
            "text/plain": [
              "<Figure size 432x288 with 1 Axes>"
            ]
          },
          "metadata": {
            "tags": [],
            "needs_background": "light"
          }
        }
      ]
    },
    {
      "cell_type": "code",
      "metadata": {
        "colab": {
          "base_uri": "https://localhost:8080/"
        },
        "id": "l7sFr_pRmzzV",
        "outputId": "7c494729-0155-4443-be17-5f7167d0c54d"
      },
      "source": [
        "test_loss, test_acc = best_model7.evaluate(X_test, y_test, verbose=1)\n",
        "pred = best_model7.predict(X_test)\n",
        "print('model accuracy:', test_acc)"
      ],
      "execution_count": null,
      "outputs": [
        {
          "output_type": "stream",
          "text": [
            "5469/5469 [==============================] - 12s 2ms/step - loss: 0.2529 - acc: 0.8980\n",
            "model accuracy: 0.8980119228363037\n"
          ],
          "name": "stdout"
        }
      ]
    },
    {
      "cell_type": "code",
      "metadata": {
        "id": "RCJr_7nDm3Td"
      },
      "source": [
        "a = y_test.to_numpy(int)\n",
        "b = np.around(pred, 0).astype(int).reshape(-1,)\n",
        "# confusion matrix 만들기\n",
        "conf_matrix = pd.DataFrame(confusion_matrix(a, b), index = ['bad', 'good'], columns=['bad', 'good'])\n",
        "# normalize\n",
        "conf_matrix = conf_matrix.astype('float') / conf_matrix.sum(axis=1)[:, np.newaxis]"
      ],
      "execution_count": null,
      "outputs": []
    },
    {
      "cell_type": "code",
      "metadata": {
        "colab": {
          "base_uri": "https://localhost:8080/",
          "height": 609
        },
        "id": "tnsusMPPm5me",
        "outputId": "aaeb9a0d-549b-465c-bae0-8ce1fb5804c0"
      },
      "source": [
        "# 시각화\n",
        "plt.figure(figsize=(10, 10))\n",
        "sns.heatmap(conf_matrix, annot=True, annot_kws={'size':15})     # annot=True: 각 셀에 숫자 입력\n",
        "plt.title('GloVe 100d 512 adam confusion matrix', fontsize=15)\n",
        "plt.show()"
      ],
      "execution_count": null,
      "outputs": [
        {
          "output_type": "display_data",
          "data": {
            "image/png": "[encoded data removed]",
            "text/plain": [
              "<Figure size 720x720 with 2 Axes>"
            ]
          },
          "metadata": {
            "tags": [],
            "needs_background": "light"
          }
        }
      ]
    },
    {
      "cell_type": "markdown",
      "metadata": {
        "id": "Qb-ueBHlA9ij"
      },
      "source": [
        "## 300d"
      ]
    },
    {
      "cell_type": "code",
      "metadata": {
        "id": "EcM3uvpD_zxj"
      },
      "source": [
        "# GloVe 300d 파일 파싱하기\n",
        "embeddings_index = {}\n",
        "f = open('/content/drive/MyDrive/Colab Notebooks/project/data/glove.6B.300d.txt', encoding='utf8')\n",
        "for line in f:\n",
        "    values = line.split()\n",
        "    word = values[0]\n",
        "    coefs = np.asarray(values[1:], dtype='float32')\n",
        "    embeddings_index[word] = coefs\n",
        "f.close()"
      ],
      "execution_count": null,
      "outputs": []
    },
    {
      "cell_type": "code",
      "metadata": {
        "id": "2DfPBSLqBE9x"
      },
      "source": [
        "# GloVe 단어 임베딩 행렬 준비\n",
        "embedding_dim = 300\n",
        "\n",
        "embedding_matrix = np.zeros((vocab_size, embedding_dim))\n",
        "for word, i in word_index.items():\n",
        "    embedding_vector = embeddings_index.get(word)\n",
        "    if i < vocab_size:\n",
        "        if embedding_vector is not None:\n",
        "            # 임베딩 인덱스에 없는 단어는 모두 0이 된다.\n",
        "            embedding_matrix[i] = embedding_vector"
      ],
      "execution_count": null,
      "outputs": []
    },
    {
      "cell_type": "markdown",
      "metadata": {
        "id": "CNGJ_sxyhLNG"
      },
      "source": [
        "### 32"
      ]
    },
    {
      "cell_type": "code",
      "metadata": {
        "id": "UN2MbuURBQqC"
      },
      "source": [
        "# 모델 만들기\n",
        "model_300d = Sequential()\n",
        "# 사전훈련된 임베딩을 사용하므로 별도의 훈련을 하지 않기 위해 trainable=False\n",
        "model_300d.add(Embedding(vocab_size, embedding_dim, weights=[embedding_matrix], input_length=100, trainable=False))    # 100=maxlen\n",
        "model_300d.add(Flatten())\n",
        "model_300d.add(Dense(32, activation='relu'))\n",
        "model_300d.add(Dense(1, activation='sigmoid'))"
      ],
      "execution_count": null,
      "outputs": []
    },
    {
      "cell_type": "code",
      "metadata": {
        "id": "-rYiSKYSCdiq"
      },
      "source": [
        "es = EarlyStopping(monitor='val_loss', mode='min', verbose=1, patience=4)\n",
        "mc = ModelCheckpoint('best_model8.h5', monitor='val_acc', mode='max', verbose=1, save_best_only=True)"
      ],
      "execution_count": null,
      "outputs": []
    },
    {
      "cell_type": "code",
      "metadata": {
        "id": "fHXOg9CXBdXC",
        "colab": {
          "base_uri": "https://localhost:8080/"
        },
        "outputId": "2781817f-c3f5-4002-8149-945f09c3b705"
      },
      "source": [
        "model_300d.compile(optimizer='adam', loss='binary_crossentropy', metrics='acc')\n",
        "history_300d = model_300d.fit(X_train, y_train, epochs=100, callbacks=[es, mc], batch_size=32, validation_split=0.2)"
      ],
      "execution_count": null,
      "outputs": [
        {
          "output_type": "stream",
          "text": [
            "Epoch 1/100\n",
            "13125/13125 [==============================] - 48s 4ms/step - loss: 0.2783 - acc: 0.8795 - val_loss: 0.2241 - val_acc: 0.9056\n",
            "\n",
            "Epoch 00001: val_acc improved from -inf to 0.90559, saving model to best_model8.h5\n",
            "Epoch 2/100\n",
            "13125/13125 [==============================] - 47s 4ms/step - loss: 0.1905 - acc: 0.9211 - val_loss: 0.2179 - val_acc: 0.9096\n",
            "\n",
            "Epoch 00002: val_acc improved from 0.90559 to 0.90957, saving model to best_model8.h5\n",
            "Epoch 3/100\n",
            "13125/13125 [==============================] - 47s 4ms/step - loss: 0.1578 - acc: 0.9362 - val_loss: 0.2364 - val_acc: 0.9064\n",
            "\n",
            "Epoch 00003: val_acc did not improve from 0.90957\n",
            "Epoch 4/100\n",
            "13125/13125 [==============================] - 47s 4ms/step - loss: 0.1305 - acc: 0.9478 - val_loss: 0.2621 - val_acc: 0.9029\n",
            "\n",
            "Epoch 00004: val_acc did not improve from 0.90957\n",
            "Epoch 5/100\n",
            "13125/13125 [==============================] - 47s 4ms/step - loss: 0.1084 - acc: 0.9574 - val_loss: 0.2853 - val_acc: 0.9024\n",
            "\n",
            "Epoch 00005: val_acc did not improve from 0.90957\n",
            "Epoch 6/100\n",
            "13125/13125 [==============================] - 47s 4ms/step - loss: 0.0907 - acc: 0.9648 - val_loss: 0.3278 - val_acc: 0.8998\n",
            "\n",
            "Epoch 00006: val_acc did not improve from 0.90957\n",
            "Epoch 00006: early stopping\n"
          ],
          "name": "stdout"
        }
      ]
    },
    {
      "cell_type": "code",
      "metadata": {
        "id": "JQjMBptnBkpx",
        "colab": {
          "base_uri": "https://localhost:8080/"
        },
        "outputId": "e2bc6d06-4bab-42f8-c4da-f81ecbe0f541"
      },
      "source": [
        "best_model_300d = load_model('best_model8.h5')\n",
        "print('accuracy:', best_model_300d.evaluate(X_test, y_test)[1])"
      ],
      "execution_count": null,
      "outputs": [
        {
          "output_type": "stream",
          "text": [
            "5469/5469 [==============================] - 14s 3ms/step - loss: 0.2189 - acc: 0.9093\n",
            "accuracy: 0.9093153476715088\n"
          ],
          "name": "stdout"
        }
      ]
    },
    {
      "cell_type": "code",
      "metadata": {
        "id": "uPZV2NgcQcMM"
      },
      "source": [
        "hist_300d = pd.DataFrame(history_300d.history)"
      ],
      "execution_count": null,
      "outputs": []
    },
    {
      "cell_type": "code",
      "metadata": {
        "id": "Gnh_YTcFQg9r",
        "colab": {
          "base_uri": "https://localhost:8080/",
          "height": 281
        },
        "outputId": "dccf8a77-65c1-47c4-d22e-c7dba5683a2d"
      },
      "source": [
        "hist_300d[['loss', 'val_loss']].plot()\n",
        "plt.title('GloVe 300d 32 loss')\n",
        "plt.grid()\n",
        "plt.show()"
      ],
      "execution_count": null,
      "outputs": [
        {
          "output_type": "display_data",
          "data": {
            "image/png": "[encoded data removed]",
            "text/plain": [
              "<Figure size 432x288 with 1 Axes>"
            ]
          },
          "metadata": {
            "tags": [],
            "needs_background": "light"
          }
        }
      ]
    },
    {
      "cell_type": "code",
      "metadata": {
        "id": "bOqVS94aQxpd",
        "colab": {
          "base_uri": "https://localhost:8080/",
          "height": 281
        },
        "outputId": "8cff955d-6b32-43ff-b58a-a3ed9953c7bc"
      },
      "source": [
        "hist_300d[['acc', 'val_acc']].plot()\n",
        "plt.title('GloVe 300d 32 acc')\n",
        "plt.grid()\n",
        "plt.show()"
      ],
      "execution_count": null,
      "outputs": [
        {
          "output_type": "display_data",
          "data": {
            "image/png": "[encoded data removed]",
            "text/plain": [
              "<Figure size 432x288 with 1 Axes>"
            ]
          },
          "metadata": {
            "tags": [],
            "needs_background": "light"
          }
        }
      ]
    },
    {
      "cell_type": "code",
      "metadata": {
        "id": "iU5OMsJkQ1tC",
        "colab": {
          "base_uri": "https://localhost:8080/"
        },
        "outputId": "0a8c058f-1766-4cef-d61c-2e9364fec4cf"
      },
      "source": [
        "test_loss, test_acc = best_model_300d.evaluate(X_test, y_test, verbose=1)\n",
        "pred = best_model_300d.predict(X_test)\n",
        "print('model accuracy:', test_acc)"
      ],
      "execution_count": null,
      "outputs": [
        {
          "output_type": "stream",
          "text": [
            "5469/5469 [==============================] - 14s 2ms/step - loss: 0.2189 - acc: 0.9093\n",
            "model accuracy: 0.9093153476715088\n"
          ],
          "name": "stdout"
        }
      ]
    },
    {
      "cell_type": "code",
      "metadata": {
        "id": "0nn79SRYRBWm"
      },
      "source": [
        "a = y_test.to_numpy(int)\n",
        "b = np.around(pred, 0).astype(int).reshape(-1,)"
      ],
      "execution_count": null,
      "outputs": []
    },
    {
      "cell_type": "code",
      "metadata": {
        "id": "oI-FAniHREr1"
      },
      "source": [
        "# confusion matrix 만들기\n",
        "conf_matrix = pd.DataFrame(confusion_matrix(a, b), index = ['bad', 'good'], columns=['bad', 'good'])\n",
        "\n",
        "# normalize\n",
        "conf_matrix = conf_matrix.astype('float') / conf_matrix.sum(axis=1)[:, np.newaxis]"
      ],
      "execution_count": null,
      "outputs": []
    },
    {
      "cell_type": "code",
      "metadata": {
        "id": "1WcMsAyYRIN1",
        "colab": {
          "base_uri": "https://localhost:8080/",
          "height": 609
        },
        "outputId": "6d6bc8a1-a7a9-4a83-9612-de6af2cd6d1c"
      },
      "source": [
        "# 시각화\n",
        "plt.figure(figsize=(10, 10))\n",
        "sns.heatmap(conf_matrix, annot=True, annot_kws={'size':15})     # annot=True: 각 셀에 숫자 입력\n",
        "plt.title('GloVe 300d 32 adam confusion matrix', fontsize=15)\n",
        "plt.show()"
      ],
      "execution_count": null,
      "outputs": [
        {
          "output_type": "display_data",
          "data": {
            "image/png": "[encoded data removed]",
            "text/plain": [
              "<Figure size 720x720 with 2 Axes>"
            ]
          },
          "metadata": {
            "tags": [],
            "needs_background": "light"
          }
        }
      ]
    },
    {
      "cell_type": "markdown",
      "metadata": {
        "id": "dVW9OwGShI1L"
      },
      "source": [
        "### 256"
      ]
    },
    {
      "cell_type": "code",
      "metadata": {
        "id": "lZwbswSDhIjc"
      },
      "source": [
        "# 모델 만들기\n",
        "model_300d_2 = Sequential()\n",
        "# 사전훈련된 임베딩을 사용하므로 별도의 훈련을 하지 않기 위해 trainable=False\n",
        "model_300d_2.add(Embedding(vocab_size, embedding_dim, weights=[embedding_matrix], input_length=100, trainable=False))    # 100=maxlen\n",
        "model_300d_2.add(Flatten())\n",
        "model_300d_2.add(Dense(32, activation='relu'))\n",
        "model_300d_2.add(Dense(1, activation='sigmoid'))"
      ],
      "execution_count": null,
      "outputs": []
    },
    {
      "cell_type": "code",
      "metadata": {
        "id": "6_3-2pRCCuK2"
      },
      "source": [
        "es = EarlyStopping(monitor='val_loss', mode='min', verbose=1, patience=4)\n",
        "mc = ModelCheckpoint('best_model9.h5', monitor='val_acc', mode='max', verbose=1, save_best_only=True)"
      ],
      "execution_count": null,
      "outputs": []
    },
    {
      "cell_type": "code",
      "metadata": {
        "id": "wnwlHZkihaPX",
        "colab": {
          "base_uri": "https://localhost:8080/"
        },
        "outputId": "a8df7ebd-02a9-42dd-b86f-7bb332cb917e"
      },
      "source": [
        "model_300d_2.compile(optimizer='adam', loss='binary_crossentropy', metrics='acc')\n",
        "history_300d_2 = model_300d_2.fit(X_train, y_train, epochs=100, callbacks=[es, mc], batch_size=256, validation_split=0.2)"
      ],
      "execution_count": null,
      "outputs": [
        {
          "output_type": "stream",
          "text": [
            "Epoch 1/100\n",
            "1641/1641 [==============================] - 19s 11ms/step - loss: 0.2977 - acc: 0.8705 - val_loss: 0.2264 - val_acc: 0.9051\n",
            "\n",
            "Epoch 00001: val_acc improved from -inf to 0.90508, saving model to best_model9.h5\n",
            "Epoch 2/100\n",
            "1641/1641 [==============================] - 18s 11ms/step - loss: 0.1943 - acc: 0.9203 - val_loss: 0.2233 - val_acc: 0.9069\n",
            "\n",
            "Epoch 00002: val_acc improved from 0.90508 to 0.90688, saving model to best_model9.h5\n",
            "Epoch 3/100\n",
            "1641/1641 [==============================] - 18s 11ms/step - loss: 0.1623 - acc: 0.9359 - val_loss: 0.2326 - val_acc: 0.9069\n",
            "\n",
            "Epoch 00003: val_acc did not improve from 0.90688\n",
            "Epoch 4/100\n",
            "1641/1641 [==============================] - 19s 12ms/step - loss: 0.1351 - acc: 0.9473 - val_loss: 0.2530 - val_acc: 0.9043\n",
            "\n",
            "Epoch 00004: val_acc did not improve from 0.90688\n",
            "Epoch 5/100\n",
            "1641/1641 [==============================] - 19s 12ms/step - loss: 0.1117 - acc: 0.9572 - val_loss: 0.2870 - val_acc: 0.9019\n",
            "\n",
            "Epoch 00005: val_acc did not improve from 0.90688\n",
            "Epoch 6/100\n",
            "1641/1641 [==============================] - 19s 12ms/step - loss: 0.0950 - acc: 0.9641 - val_loss: 0.3216 - val_acc: 0.9016\n",
            "\n",
            "Epoch 00006: val_acc did not improve from 0.90688\n",
            "Epoch 00006: early stopping\n"
          ],
          "name": "stdout"
        }
      ]
    },
    {
      "cell_type": "code",
      "metadata": {
        "id": "vykt9eMphf9i",
        "colab": {
          "base_uri": "https://localhost:8080/"
        },
        "outputId": "af0dc3e1-d2d6-404a-fbc4-6cc16c80958a"
      },
      "source": [
        "best_model_300d_2 = load_model('best_model9.h5')\n",
        "print('accuracy:', best_model_300d_2.evaluate(X_test, y_test)[1])"
      ],
      "execution_count": null,
      "outputs": [
        {
          "output_type": "stream",
          "text": [
            "5469/5469 [==============================] - 14s 3ms/step - loss: 0.2225 - acc: 0.9071\n",
            "accuracy: 0.90705806016922\n"
          ],
          "name": "stdout"
        }
      ]
    },
    {
      "cell_type": "code",
      "metadata": {
        "id": "dHr2Bj0khjmB"
      },
      "source": [
        "hist_300d_2 = pd.DataFrame(history_300d_2.history)"
      ],
      "execution_count": null,
      "outputs": []
    },
    {
      "cell_type": "code",
      "metadata": {
        "id": "AGRShmlfhnby",
        "colab": {
          "base_uri": "https://localhost:8080/",
          "height": 281
        },
        "outputId": "d4652d7f-f7b8-4019-bc06-d3ed685814e1"
      },
      "source": [
        "hist_300d_2[['loss', 'val_loss']].plot()\n",
        "plt.title('GloVe 300d 256 loss')\n",
        "plt.grid()\n",
        "plt.show()"
      ],
      "execution_count": null,
      "outputs": [
        {
          "output_type": "display_data",
          "data": {
            "image/png": "[encoded data removed]",
            "text/plain": [
              "<Figure size 432x288 with 1 Axes>"
            ]
          },
          "metadata": {
            "tags": [],
            "needs_background": "light"
          }
        }
      ]
    },
    {
      "cell_type": "code",
      "metadata": {
        "id": "sdM_bHA9hrIC",
        "colab": {
          "base_uri": "https://localhost:8080/",
          "height": 281
        },
        "outputId": "e491503a-c634-4990-8de0-65a0f507440a"
      },
      "source": [
        "hist_300d_2[['acc', 'val_acc']].plot()\n",
        "plt.title('GloVe 300d 256 accuracy')\n",
        "plt.grid()\n",
        "plt.show()"
      ],
      "execution_count": null,
      "outputs": [
        {
          "output_type": "display_data",
          "data": {
            "image/png": "[encoded data removed]",
            "text/plain": [
              "<Figure size 432x288 with 1 Axes>"
            ]
          },
          "metadata": {
            "tags": [],
            "needs_background": "light"
          }
        }
      ]
    },
    {
      "cell_type": "code",
      "metadata": {
        "id": "zwWNPn6RhuaC",
        "colab": {
          "base_uri": "https://localhost:8080/"
        },
        "outputId": "0298cf5c-13b1-4781-911f-4565ef5c0f4c"
      },
      "source": [
        "test_loss, test_acc = best_model_300d_2.evaluate(X_test, y_test, verbose=1)\n",
        "pred = best_model_300d_2.predict(X_test)\n",
        "print('model accuracy:', test_acc)"
      ],
      "execution_count": null,
      "outputs": [
        {
          "output_type": "stream",
          "text": [
            "5469/5469 [==============================] - 14s 3ms/step - loss: 0.2225 - acc: 0.9071\n",
            "model accuracy: 0.90705806016922\n"
          ],
          "name": "stdout"
        }
      ]
    },
    {
      "cell_type": "code",
      "metadata": {
        "id": "urh7VEpNh0tT"
      },
      "source": [
        "a = y_test.to_numpy(int)\n",
        "b = np.around(pred, 0).astype(int).reshape(-1,)\n",
        "# confusion matrix 만들기\n",
        "conf_matrix = pd.DataFrame(confusion_matrix(a, b), index = ['bad', 'good'], columns=['bad', 'good'])\n",
        "# normalize\n",
        "conf_matrix = conf_matrix.astype('float') / conf_matrix.sum(axis=1)[:, np.newaxis]"
      ],
      "execution_count": null,
      "outputs": []
    },
    {
      "cell_type": "code",
      "metadata": {
        "id": "3UzP_7mzh4OL",
        "colab": {
          "base_uri": "https://localhost:8080/",
          "height": 609
        },
        "outputId": "7b82b724-360d-41c5-a626-eff22490521b"
      },
      "source": [
        "# 시각화\n",
        "plt.figure(figsize=(10, 10))\n",
        "sns.heatmap(conf_matrix, annot=True, annot_kws={'size':15})     # annot=True: 각 셀에 숫자 입력\n",
        "plt.title('GloVe 300d 256 adam confusion matrix', fontsize=15)\n",
        "plt.show()"
      ],
      "execution_count": null,
      "outputs": [
        {
          "output_type": "display_data",
          "data": {
            "image/png": "[encoded data removed]",
            "text/plain": [
              "<Figure size 720x720 with 2 Axes>"
            ]
          },
          "metadata": {
            "tags": [],
            "needs_background": "light"
          }
        }
      ]
    },
    {
      "cell_type": "markdown",
      "metadata": {
        "id": "9yPJodCjkgWq"
      },
      "source": [
        "### 512"
      ]
    },
    {
      "cell_type": "code",
      "metadata": {
        "id": "LuUw-RFBkgDH"
      },
      "source": [
        "# 모델 만들기\n",
        "model_300d_3 = Sequential()\n",
        "# 사전훈련된 임베딩을 사용하므로 별도의 훈련을 하지 않기 위해 trainable=False\n",
        "model_300d_3.add(Embedding(vocab_size, embedding_dim, weights=[embedding_matrix], input_length=100, trainable=False))    # 100=maxlen\n",
        "model_300d_3.add(Flatten())\n",
        "model_300d_3.add(Dense(32, activation='relu'))\n",
        "model_300d_3.add(Dense(1, activation='sigmoid'))"
      ],
      "execution_count": null,
      "outputs": []
    },
    {
      "cell_type": "code",
      "metadata": {
        "id": "s1r5HUz6C3y1"
      },
      "source": [
        "es = EarlyStopping(monitor='val_loss', mode='min', verbose=1, patience=4)\n",
        "mc = ModelCheckpoint('best_model10.h5', monitor='val_acc', mode='max', verbose=1, save_best_only=True)"
      ],
      "execution_count": null,
      "outputs": []
    },
    {
      "cell_type": "code",
      "metadata": {
        "id": "Jvz7MCMAkj9B",
        "colab": {
          "base_uri": "https://localhost:8080/"
        },
        "outputId": "cc89315e-5227-4368-cfd1-7b448fbd39de"
      },
      "source": [
        "model_300d_3.compile(optimizer='adam', loss='binary_crossentropy', metrics='acc')\n",
        "history_300d_3 = model_300d_3.fit(X_train, y_train, epochs=100, callbacks=[es, mc], batch_size=512, validation_split=0.2)"
      ],
      "execution_count": null,
      "outputs": [
        {
          "output_type": "stream",
          "text": [
            "Epoch 1/100\n",
            "821/821 [==============================] - 18s 22ms/step - loss: 0.3084 - acc: 0.8634 - val_loss: 0.2324 - val_acc: 0.9025\n",
            "\n",
            "Epoch 00001: val_acc improved from -inf to 0.90251, saving model to best_model10.h5\n",
            "Epoch 2/100\n",
            "821/821 [==============================] - 18s 21ms/step - loss: 0.1979 - acc: 0.9200 - val_loss: 0.2223 - val_acc: 0.9073\n",
            "\n",
            "Epoch 00002: val_acc improved from 0.90251 to 0.90735, saving model to best_model10.h5\n",
            "Epoch 3/100\n",
            "821/821 [==============================] - 18s 21ms/step - loss: 0.1672 - acc: 0.9339 - val_loss: 0.2304 - val_acc: 0.9074\n",
            "\n",
            "Epoch 00003: val_acc improved from 0.90735 to 0.90744, saving model to best_model10.h5\n",
            "Epoch 4/100\n",
            "821/821 [==============================] - 18s 21ms/step - loss: 0.1389 - acc: 0.9461 - val_loss: 0.2452 - val_acc: 0.9065\n",
            "\n",
            "Epoch 00004: val_acc did not improve from 0.90744\n",
            "Epoch 5/100\n",
            "821/821 [==============================] - 17s 21ms/step - loss: 0.1159 - acc: 0.9561 - val_loss: 0.2683 - val_acc: 0.9045\n",
            "\n",
            "Epoch 00005: val_acc did not improve from 0.90744\n",
            "Epoch 6/100\n",
            "821/821 [==============================] - 18s 21ms/step - loss: 0.0954 - acc: 0.9647 - val_loss: 0.2977 - val_acc: 0.9013\n",
            "\n",
            "Epoch 00006: val_acc did not improve from 0.90744\n",
            "Epoch 00006: early stopping\n"
          ],
          "name": "stdout"
        }
      ]
    },
    {
      "cell_type": "code",
      "metadata": {
        "id": "0RGuMiCSkoKl",
        "colab": {
          "base_uri": "https://localhost:8080/"
        },
        "outputId": "70425550-1bf0-4466-8c8b-83b6c8519c63"
      },
      "source": [
        "best_model_300d_3 = load_model('best_model10.h5')\n",
        "print('accuracy:', best_model_300d_3.evaluate(X_test, y_test)[1])"
      ],
      "execution_count": null,
      "outputs": [
        {
          "output_type": "stream",
          "text": [
            "5469/5469 [==============================] - 14s 3ms/step - loss: 0.2277 - acc: 0.9084\n",
            "accuracy: 0.9084181189537048\n"
          ],
          "name": "stdout"
        }
      ]
    },
    {
      "cell_type": "code",
      "metadata": {
        "id": "mBAuFOObksLC"
      },
      "source": [
        "hist_300d_3 = pd.DataFrame(history_300d_3.history)"
      ],
      "execution_count": null,
      "outputs": []
    },
    {
      "cell_type": "code",
      "metadata": {
        "id": "Knl7Jv_HkwH6",
        "colab": {
          "base_uri": "https://localhost:8080/",
          "height": 281
        },
        "outputId": "23848b42-626c-4753-a9e4-eb714ef8076f"
      },
      "source": [
        "hist_300d_3[['loss', 'val_loss']].plot()\n",
        "plt.title('GloVe 300d 512 loss')\n",
        "plt.grid()\n",
        "plt.show()"
      ],
      "execution_count": null,
      "outputs": [
        {
          "output_type": "display_data",
          "data": {
            "image/png": "[encoded data removed]",
            "text/plain": [
              "<Figure size 432x288 with 1 Axes>"
            ]
          },
          "metadata": {
            "tags": [],
            "needs_background": "light"
          }
        }
      ]
    },
    {
      "cell_type": "code",
      "metadata": {
        "id": "-wFi6bVVkzys",
        "colab": {
          "base_uri": "https://localhost:8080/",
          "height": 281
        },
        "outputId": "a70ea4ee-d10e-4d28-9ce7-93155cc45400"
      },
      "source": [
        "hist_300d_3[['acc', 'val_acc']].plot()\n",
        "plt.title('GloVe 300d 512 accuracy')\n",
        "plt.grid()\n",
        "plt.show()"
      ],
      "execution_count": null,
      "outputs": [
        {
          "output_type": "display_data",
          "data": {
            "image/png": "[encoded data removed]",
            "text/plain": [
              "<Figure size 432x288 with 1 Axes>"
            ]
          },
          "metadata": {
            "tags": [],
            "needs_background": "light"
          }
        }
      ]
    },
    {
      "cell_type": "code",
      "metadata": {
        "id": "UJBdWMNGk44K",
        "colab": {
          "base_uri": "https://localhost:8080/"
        },
        "outputId": "e008cad7-dc3f-4ccd-c841-abbbf69b5ada"
      },
      "source": [
        "test_loss, test_acc = best_model_300d_3.evaluate(X_test, y_test, verbose=1)\n",
        "pred = best_model_300d_3.predict(X_test)\n",
        "print('model accuracy:', test_acc)"
      ],
      "execution_count": null,
      "outputs": [
        {
          "output_type": "stream",
          "text": [
            "5469/5469 [==============================] - 14s 3ms/step - loss: 0.2277 - acc: 0.9084\n",
            "model accuracy: 0.9084181189537048\n"
          ],
          "name": "stdout"
        }
      ]
    },
    {
      "cell_type": "code",
      "metadata": {
        "id": "rge7Vy46k89T"
      },
      "source": [
        "a = y_test.to_numpy(int)\n",
        "b = np.around(pred, 0).astype(int).reshape(-1,)\n",
        "# confusion matrix 만들기\n",
        "conf_matrix = pd.DataFrame(confusion_matrix(a, b), index = ['bad', 'good'], columns=['bad', 'good'])\n",
        "# normalize\n",
        "conf_matrix = conf_matrix.astype('float') / conf_matrix.sum(axis=1)[:, np.newaxis]"
      ],
      "execution_count": null,
      "outputs": []
    },
    {
      "cell_type": "code",
      "metadata": {
        "id": "3dm1nB5Xk_li",
        "colab": {
          "base_uri": "https://localhost:8080/",
          "height": 609
        },
        "outputId": "dae594a8-5b53-4568-ea1a-18614d212fb2"
      },
      "source": [
        "# 시각화\n",
        "plt.figure(figsize=(10, 10))\n",
        "sns.heatmap(conf_matrix, annot=True, annot_kws={'size':15})     # annot=True: 각 셀에 숫자 입력\n",
        "plt.title('GloVe 300d 512 adam confusion matrix', fontsize=15)\n",
        "plt.show()"
      ],
      "execution_count": null,
      "outputs": [
        {
          "output_type": "display_data",
          "data": {
            "image/png": "[encoded data removed]",
            "text/plain": [
              "<Figure size 720x720 with 2 Axes>"
            ]
          },
          "metadata": {
            "tags": [],
            "needs_background": "light"
          }
        }
      ]
    },
    {
      "cell_type": "markdown",
      "metadata": {
        "id": "YvvMMMQZXxXc"
      },
      "source": [
        "# 사전훈련된 Word2Vec"
      ]
    },
    {
      "cell_type": "code",
      "metadata": {
        "id": "mgj1Jg27X1dz"
      },
      "source": [
        "# 구글의 사전훈련된 모델 로드\n",
        "# 여러 개 있다고 하는데 300을 많이들 사용하는 것 같아서 그거로\n",
        "word2vec_model = gensim.models.KeyedVectors.load_word2vec_format('/content/drive/MyDrive/Colab Notebooks/project/data/GoogleNews-vectors-negative300.bin.gz', binary=True)"
      ],
      "execution_count": null,
      "outputs": []
    },
    {
      "cell_type": "code",
      "metadata": {
        "colab": {
          "base_uri": "https://localhost:8080/"
        },
        "id": "9_VAicEUaWGu",
        "outputId": "16c3faed-251f-4494-fc1c-22661851c581"
      },
      "source": [
        "word2vec_model.vectors.shape"
      ],
      "execution_count": null,
      "outputs": [
        {
          "output_type": "execute_result",
          "data": {
            "text/plain": [
              "(3000000, 300)"
            ]
          },
          "metadata": {
            "tags": []
          },
          "execution_count": 117
        }
      ]
    },
    {
      "cell_type": "code",
      "metadata": {
        "id": "8tx8VH8ApswQ"
      },
      "source": [
        "# Word2Vec 단어 임베딩 행렬 준비\n",
        "embedding_dim = 300\n",
        "\n",
        "embedding_matrix = np.zeros((vocab_size, embedding_dim))\n",
        "for word, i in tokenizer.word_index.items():\n",
        "    embedding_vector = embeddings_index.get(word)\n",
        "    if i < vocab_size:\n",
        "        if embedding_vector is not None:\n",
        "            # 임베딩 인덱스에 없는 단어는 모두 0이 된다.\n",
        "            embedding_matrix[i] = embedding_vector"
      ],
      "execution_count": null,
      "outputs": []
    },
    {
      "cell_type": "code",
      "metadata": {
        "colab": {
          "base_uri": "https://localhost:8080/"
        },
        "id": "gBN7QucDqC3F",
        "outputId": "828cef1c-e1b1-4923-d7c1-b51ce2263ee8"
      },
      "source": [
        "embedding_matrix.shape"
      ],
      "execution_count": null,
      "outputs": [
        {
          "output_type": "execute_result",
          "data": {
            "text/plain": [
              "(13155, 300)"
            ]
          },
          "metadata": {
            "tags": []
          },
          "execution_count": 119
        }
      ]
    },
    {
      "cell_type": "markdown",
      "metadata": {
        "id": "0bVHN8CVvgIe"
      },
      "source": [
        "### 32"
      ]
    },
    {
      "cell_type": "code",
      "metadata": {
        "id": "vtJcVZfjvhYv"
      },
      "source": [
        "model_w2v_32 = Sequential()\n",
        "model_w2v_32.add(Embedding(vocab_size, embedding_dim, weights=[embedding_matrix], input_length=100, trainable=False))\n",
        "model_w2v_32.add(Bidirectional(LSTM(100)))\n",
        "model_w2v_32.add(Dense(1, activation='sigmoid'))"
      ],
      "execution_count": null,
      "outputs": []
    },
    {
      "cell_type": "code",
      "metadata": {
        "id": "FrjDoyQGDAQ3"
      },
      "source": [
        "es = EarlyStopping(monitor='val_loss', mode='min', verbose=1, patience=4)\n",
        "mc = ModelCheckpoint('best_model11.h5', monitor='val_acc', mode='max', verbose=1, save_best_only=True)"
      ],
      "execution_count": null,
      "outputs": []
    },
    {
      "cell_type": "code",
      "metadata": {
        "colab": {
          "base_uri": "https://localhost:8080/"
        },
        "id": "ecyTvq3xvnKu",
        "outputId": "ef07a518-20df-41a0-b646-f0934604b983"
      },
      "source": [
        "model_w2v_32.compile(optimizer='adam', loss='binary_crossentropy', metrics='acc')\n",
        "history_w2v_32 = model_w2v_32.fit(X_train, y_train, epochs=100, callbacks=[es, mc], batch_size=32, validation_split=0.2)"
      ],
      "execution_count": null,
      "outputs": [
        {
          "output_type": "stream",
          "text": [
            "Epoch 1/100\n",
            "13125/13125 [==============================] - 183s 14ms/step - loss: 0.1942 - acc: 0.9211 - val_loss: 0.1502 - val_acc: 0.9406\n",
            "\n",
            "Epoch 00001: val_acc improved from -inf to 0.94057, saving model to best_model11.h5\n",
            "Epoch 2/100\n",
            "13125/13125 [==============================] - 178s 14ms/step - loss: 0.1354 - acc: 0.9476 - val_loss: 0.1382 - val_acc: 0.9462\n",
            "\n",
            "Epoch 00002: val_acc improved from 0.94057 to 0.94623, saving model to best_model11.h5\n",
            "Epoch 3/100\n",
            "13125/13125 [==============================] - 177s 14ms/step - loss: 0.1213 - acc: 0.9539 - val_loss: 0.1389 - val_acc: 0.9464\n",
            "\n",
            "Epoch 00003: val_acc improved from 0.94623 to 0.94644, saving model to best_model11.h5\n",
            "Epoch 4/100\n",
            "13125/13125 [==============================] - 177s 14ms/step - loss: 0.1065 - acc: 0.9598 - val_loss: 0.1427 - val_acc: 0.9458\n",
            "\n",
            "Epoch 00004: val_acc did not improve from 0.94644\n",
            "Epoch 5/100\n",
            "13125/13125 [==============================] - 178s 14ms/step - loss: 0.0941 - acc: 0.9649 - val_loss: 0.1472 - val_acc: 0.9443\n",
            "\n",
            "Epoch 00005: val_acc did not improve from 0.94644\n",
            "Epoch 6/100\n",
            "13125/13125 [==============================] - 177s 14ms/step - loss: 0.0823 - acc: 0.9696 - val_loss: 0.1586 - val_acc: 0.9430\n",
            "\n",
            "Epoch 00006: val_acc did not improve from 0.94644\n",
            "Epoch 00006: early stopping\n"
          ],
          "name": "stdout"
        }
      ]
    },
    {
      "cell_type": "code",
      "metadata": {
        "colab": {
          "base_uri": "https://localhost:8080/"
        },
        "id": "tJqqmtTavxIm",
        "outputId": "855473ab-26c5-4523-b545-0f0535518aef"
      },
      "source": [
        "best_model_w2v_32 = load_model('best_model11.h5')\n",
        "print('accuracy:', best_model_w2v_32.evaluate(X_test, y_test)[1])\n",
        "print('loss:', best_model_w2v_32.evaluate(X_test, y_test)[0])"
      ],
      "execution_count": null,
      "outputs": [
        {
          "output_type": "stream",
          "text": [
            "5469/5469 [==============================] - 34s 6ms/step - loss: 0.1381 - acc: 0.9468\n",
            "accuracy: 0.9467572569847107\n",
            "5469/5469 [==============================] - 34s 6ms/step - loss: 0.1381 - acc: 0.9468\n",
            "loss: 0.13812299072742462\n"
          ],
          "name": "stdout"
        }
      ]
    },
    {
      "cell_type": "code",
      "metadata": {
        "id": "yd4048m-v51w"
      },
      "source": [
        "hist_w2v_32 = pd.DataFrame(history_w2v_32.history)"
      ],
      "execution_count": null,
      "outputs": []
    },
    {
      "cell_type": "code",
      "metadata": {
        "colab": {
          "base_uri": "https://localhost:8080/",
          "height": 281
        },
        "id": "VyyldXC9wABO",
        "outputId": "00f8299b-585f-4517-a83a-288cc953057b"
      },
      "source": [
        "hist_w2v_32[['loss', 'val_loss']].plot()\n",
        "plt.title('pre-trained w2v 32 loss')\n",
        "plt.grid()\n",
        "plt.show()"
      ],
      "execution_count": null,
      "outputs": [
        {
          "output_type": "display_data",
          "data": {
            "image/png": "[encoded data removed]",
            "text/plain": [
              "<Figure size 432x288 with 1 Axes>"
            ]
          },
          "metadata": {
            "tags": [],
            "needs_background": "light"
          }
        }
      ]
    },
    {
      "cell_type": "code",
      "metadata": {
        "colab": {
          "base_uri": "https://localhost:8080/",
          "height": 281
        },
        "id": "FKZyu4FOwDce",
        "outputId": "cb38ce96-701d-45b8-9766-1b50ac583d69"
      },
      "source": [
        "hist_w2v_32[['acc', 'val_acc']].plot()\n",
        "plt.title('pre-trained w2v 32 accuracy')\n",
        "plt.grid()\n",
        "plt.show()"
      ],
      "execution_count": null,
      "outputs": [
        {
          "output_type": "display_data",
          "data": {
            "image/png": "[encoded data removed]",
            "text/plain": [
              "<Figure size 432x288 with 1 Axes>"
            ]
          },
          "metadata": {
            "tags": [],
            "needs_background": "light"
          }
        }
      ]
    },
    {
      "cell_type": "code",
      "metadata": {
        "colab": {
          "base_uri": "https://localhost:8080/"
        },
        "id": "Nuhv8i4rwLB2",
        "outputId": "fcc38429-68e8-4564-9bb5-9887addef21c"
      },
      "source": [
        "test_loss, test_acc = best_model_w2v_32.evaluate(X_test, y_test, verbose=1)\n",
        "pred = best_model_w2v_32.predict(X_test)\n",
        "print('model accuracy:', test_acc)\n",
        "print('model loss:', test_loss)"
      ],
      "execution_count": null,
      "outputs": [
        {
          "output_type": "stream",
          "text": [
            "5469/5469 [==============================] - 34s 6ms/step - loss: 0.1381 - acc: 0.9468\n",
            "model accuracy: 0.9467572569847107\n",
            "model loss: 0.13812299072742462\n"
          ],
          "name": "stdout"
        }
      ]
    },
    {
      "cell_type": "code",
      "metadata": {
        "id": "PkZBPB_jwOvG"
      },
      "source": [
        "a = y_test.to_numpy(int)\n",
        "b = np.around(pred, 0).astype(int).reshape(-1,)\n",
        "# confusion matrix 만들기\n",
        "conf_matrix = pd.DataFrame(confusion_matrix(a, b), index = ['bad', 'good'], columns=['bad', 'good'])\n",
        "# normalize\n",
        "conf_matrix = conf_matrix.astype('float') / conf_matrix.sum(axis=1)[:, np.newaxis]"
      ],
      "execution_count": null,
      "outputs": []
    },
    {
      "cell_type": "code",
      "metadata": {
        "colab": {
          "base_uri": "https://localhost:8080/",
          "height": 609
        },
        "id": "jy7DWZ7xwTcG",
        "outputId": "67a24615-0179-4120-9a86-a8382b93e663"
      },
      "source": [
        "# 시각화\n",
        "plt.figure(figsize=(10, 10))\n",
        "sns.heatmap(conf_matrix, annot=True, annot_kws={'size':15})     # annot=True: 각 셀에 숫자 입력\n",
        "plt.title('pre-trained w2v 32 adam confusion matrix', fontsize=15)\n",
        "plt.show()"
      ],
      "execution_count": null,
      "outputs": [
        {
          "output_type": "display_data",
          "data": {
            "image/png": "[encoded data removed]",
            "text/plain": [
              "<Figure size 720x720 with 2 Axes>"
            ]
          },
          "metadata": {
            "tags": [],
            "needs_background": "light"
          }
        }
      ]
    },
    {
      "cell_type": "markdown",
      "metadata": {
        "id": "Ts8oG9FLofzN"
      },
      "source": [
        "### 256"
      ]
    },
    {
      "cell_type": "code",
      "metadata": {
        "id": "p7uPHdZ-d0yZ"
      },
      "source": [
        "# 모델에 적용(BiLSTM이 지금까지 결과가 제일 좋았던 것 같아서 그거로 해보겠음)\n",
        "model_w2v = Sequential()\n",
        "model_w2v.add(Embedding(vocab_size, embedding_dim, weights=[embedding_matrix], input_length=100, trainable=False))\n",
        "model_w2v.add(Bidirectional(LSTM(100)))\n",
        "model_w2v.add(Dense(1, activation='sigmoid'))"
      ],
      "execution_count": null,
      "outputs": []
    },
    {
      "cell_type": "code",
      "metadata": {
        "id": "sSqAyj4pDLKg"
      },
      "source": [
        "es = EarlyStopping(monitor='val_loss', mode='min', verbose=1, patience=4)\n",
        "mc = ModelCheckpoint('best_model12.h5', monitor='val_acc', mode='max', verbose=1, save_best_only=True)"
      ],
      "execution_count": null,
      "outputs": []
    },
    {
      "cell_type": "code",
      "metadata": {
        "colab": {
          "base_uri": "https://localhost:8080/"
        },
        "id": "PIzZ1Ifcev3K",
        "outputId": "2e667acb-5f8a-4070-ed37-552450488e11"
      },
      "source": [
        "# 근데 위에서는 rmsprop으로 했지만 adam으로 하겠음\n",
        "model_w2v.compile(optimizer='adam', loss='binary_crossentropy', metrics='acc')\n",
        "history_w2v = model_w2v.fit(X_train, y_train, epochs=100, callbacks=[es, mc], batch_size=256, validation_split=0.2)"
      ],
      "execution_count": null,
      "outputs": [
        {
          "output_type": "stream",
          "text": [
            "Epoch 1/100\n",
            "1641/1641 [==============================] - 65s 38ms/step - loss: 0.2371 - acc: 0.9008 - val_loss: 0.1543 - val_acc: 0.9393\n",
            "\n",
            "Epoch 00001: val_acc improved from -inf to 0.93935, saving model to best_model12.h5\n",
            "Epoch 2/100\n",
            "1641/1641 [==============================] - 62s 38ms/step - loss: 0.1476 - acc: 0.9423 - val_loss: 0.1433 - val_acc: 0.9436\n",
            "\n",
            "Epoch 00002: val_acc improved from 0.93935 to 0.94364, saving model to best_model12.h5\n",
            "Epoch 3/100\n",
            "1641/1641 [==============================] - 62s 38ms/step - loss: 0.1336 - acc: 0.9483 - val_loss: 0.1411 - val_acc: 0.9451\n",
            "\n",
            "Epoch 00003: val_acc improved from 0.94364 to 0.94507, saving model to best_model12.h5\n",
            "Epoch 4/100\n",
            "1641/1641 [==============================] - 63s 38ms/step - loss: 0.1242 - acc: 0.9522 - val_loss: 0.1450 - val_acc: 0.9431\n",
            "\n",
            "Epoch 00004: val_acc did not improve from 0.94507\n",
            "Epoch 5/100\n",
            "1641/1641 [==============================] - 63s 38ms/step - loss: 0.1139 - acc: 0.9567 - val_loss: 0.1402 - val_acc: 0.9463\n",
            "\n",
            "Epoch 00005: val_acc improved from 0.94507 to 0.94626, saving model to best_model12.h5\n",
            "Epoch 6/100\n",
            "1641/1641 [==============================] - 62s 38ms/step - loss: 0.1063 - acc: 0.9596 - val_loss: 0.1428 - val_acc: 0.9457\n",
            "\n",
            "Epoch 00006: val_acc did not improve from 0.94626\n",
            "Epoch 7/100\n",
            "1641/1641 [==============================] - 63s 39ms/step - loss: 0.0972 - acc: 0.9638 - val_loss: 0.1486 - val_acc: 0.9448\n",
            "\n",
            "Epoch 00007: val_acc did not improve from 0.94626\n",
            "Epoch 8/100\n",
            "1641/1641 [==============================] - 63s 38ms/step - loss: 0.0890 - acc: 0.9666 - val_loss: 0.1562 - val_acc: 0.9446\n",
            "\n",
            "Epoch 00008: val_acc did not improve from 0.94626\n",
            "Epoch 9/100\n",
            "1641/1641 [==============================] - 63s 38ms/step - loss: 0.0814 - acc: 0.9702 - val_loss: 0.1625 - val_acc: 0.9436\n",
            "\n",
            "Epoch 00009: val_acc did not improve from 0.94626\n",
            "Epoch 00009: early stopping\n"
          ],
          "name": "stdout"
        }
      ]
    },
    {
      "cell_type": "code",
      "metadata": {
        "colab": {
          "base_uri": "https://localhost:8080/"
        },
        "id": "-JAzSx8ge30B",
        "outputId": "27c2c2ad-9f6c-438a-94d3-6c2a7db95c82"
      },
      "source": [
        "best_model_w2v = load_model('best_model12.h5')\n",
        "print('accuracy:', best_model_w2v.evaluate(X_test, y_test)[1])"
      ],
      "execution_count": null,
      "outputs": [
        {
          "output_type": "stream",
          "text": [
            "5469/5469 [==============================] - 35s 6ms/step - loss: 0.1380 - acc: 0.9470\n",
            "accuracy: 0.9470487236976624\n"
          ],
          "name": "stdout"
        }
      ]
    },
    {
      "cell_type": "code",
      "metadata": {
        "id": "_bBlxQice-Ho"
      },
      "source": [
        "hist_w2v = pd.DataFrame(history_w2v.history)"
      ],
      "execution_count": null,
      "outputs": []
    },
    {
      "cell_type": "code",
      "metadata": {
        "colab": {
          "base_uri": "https://localhost:8080/",
          "height": 281
        },
        "id": "6PQp2VNQfB-t",
        "outputId": "dafb2899-55b6-48ca-f9e5-a8fec2c886de"
      },
      "source": [
        "hist_w2v[['loss', 'val_loss']].plot()\n",
        "plt.title('pre-trained w2v 256 loss')\n",
        "plt.grid()\n",
        "plt.show()"
      ],
      "execution_count": null,
      "outputs": [
        {
          "output_type": "display_data",
          "data": {
            "image/png": "[encoded data removed]",
            "text/plain": [
              "<Figure size 432x288 with 1 Axes>"
            ]
          },
          "metadata": {
            "tags": [],
            "needs_background": "light"
          }
        }
      ]
    },
    {
      "cell_type": "code",
      "metadata": {
        "colab": {
          "base_uri": "https://localhost:8080/",
          "height": 281
        },
        "id": "2Lf5cVwofJ9h",
        "outputId": "4651886b-2c56-4475-84d6-a10f5a5f8e3d"
      },
      "source": [
        "hist_w2v[['acc', 'val_acc']].plot()\n",
        "plt.title('pre-trained w2v 256 accuracy')\n",
        "plt.grid()\n",
        "plt.show()"
      ],
      "execution_count": null,
      "outputs": [
        {
          "output_type": "display_data",
          "data": {
            "image/png": "[encoded data removed]",
            "text/plain": [
              "<Figure size 432x288 with 1 Axes>"
            ]
          },
          "metadata": {
            "tags": [],
            "needs_background": "light"
          }
        }
      ]
    },
    {
      "cell_type": "code",
      "metadata": {
        "colab": {
          "base_uri": "https://localhost:8080/"
        },
        "id": "1_CpbxYltgQW",
        "outputId": "b8a6f253-e519-4444-be70-77d7e193efc3"
      },
      "source": [
        "test_loss, test_acc = best_model_w2v.evaluate(X_test, y_test, verbose=1)\n",
        "pred = best_model_w2v.predict(X_test)\n",
        "print('model accuracy:', test_acc)\n",
        "print('model loss:', test_loss)"
      ],
      "execution_count": null,
      "outputs": [
        {
          "output_type": "stream",
          "text": [
            "5469/5469 [==============================] - 35s 6ms/step - loss: 0.1380 - acc: 0.9470\n",
            "model accuracy: 0.9470487236976624\n",
            "model loss: 0.13801932334899902\n"
          ],
          "name": "stdout"
        }
      ]
    },
    {
      "cell_type": "code",
      "metadata": {
        "id": "4gZPjU4Gtz-G"
      },
      "source": [
        "a = y_test.to_numpy(int)\n",
        "b = np.around(pred, 0).astype(int).reshape(-1,)"
      ],
      "execution_count": null,
      "outputs": []
    },
    {
      "cell_type": "code",
      "metadata": {
        "id": "4w8H5bQ1t8JF"
      },
      "source": [
        "# confusion matrix 만들기\n",
        "conf_matrix = pd.DataFrame(confusion_matrix(a, b), index = ['bad', 'good'], columns=['bad', 'good'])\n",
        "\n",
        "# normalize\n",
        "conf_matrix = conf_matrix.astype('float') / conf_matrix.sum(axis=1)[:, np.newaxis]"
      ],
      "execution_count": null,
      "outputs": []
    },
    {
      "cell_type": "code",
      "metadata": {
        "colab": {
          "base_uri": "https://localhost:8080/",
          "height": 609
        },
        "id": "W8Nm4-Zct8l7",
        "outputId": "26ef2e83-ed16-4580-eccd-1a7959280266"
      },
      "source": [
        "# 시각화\n",
        "plt.figure(figsize=(10, 10))\n",
        "sns.heatmap(conf_matrix, annot=True, annot_kws={'size':15})     # annot=True: 각 셀에 숫자 입력\n",
        "plt.title('pre-trained w2v 256 adam confusion matrix', fontsize=15)\n",
        "plt.show()"
      ],
      "execution_count": null,
      "outputs": [
        {
          "output_type": "display_data",
          "data": {
            "image/png": "[encoded data removed]",
            "text/plain": [
              "<Figure size 720x720 with 2 Axes>"
            ]
          },
          "metadata": {
            "tags": [],
            "needs_background": "light"
          }
        }
      ]
    },
    {
      "cell_type": "markdown",
      "metadata": {
        "id": "J9b__Zqfok4Y"
      },
      "source": [
        "### 512"
      ]
    },
    {
      "cell_type": "code",
      "metadata": {
        "id": "ngYcI10juILV"
      },
      "source": [
        "model_w2v_512 = Sequential()\n",
        "model_w2v_512.add(Embedding(vocab_size, embedding_dim, weights=[embedding_matrix], input_length=100, trainable=False))\n",
        "model_w2v_512.add(Bidirectional(LSTM(100)))\n",
        "model_w2v_512.add(Dense(1, activation='sigmoid'))"
      ],
      "execution_count": null,
      "outputs": []
    },
    {
      "cell_type": "code",
      "metadata": {
        "id": "3ABJTNz9Df-s"
      },
      "source": [
        "es = EarlyStopping(monitor='val_loss', mode='min', verbose=1, patience=4)\n",
        "mc = ModelCheckpoint('best_model13.h5', monitor='val_acc', mode='max', verbose=1, save_best_only=True)"
      ],
      "execution_count": null,
      "outputs": []
    },
    {
      "cell_type": "code",
      "metadata": {
        "colab": {
          "base_uri": "https://localhost:8080/"
        },
        "id": "LMyK47jJoqeY",
        "outputId": "5816b09d-d152-401d-d746-93ef70d8ec35"
      },
      "source": [
        "model_w2v_512.compile(optimizer='adam', loss='binary_crossentropy', metrics='acc')\n",
        "history_w2v_512 = model_w2v_512.fit(X_train, y_train, epochs=100, callbacks=[es, mc], batch_size=512, validation_split=0.2)"
      ],
      "execution_count": null,
      "outputs": [
        {
          "output_type": "stream",
          "text": [
            "Epoch 1/100\n",
            "821/821 [==============================] - 59s 68ms/step - loss: 0.2544 - acc: 0.8932 - val_loss: 0.1577 - val_acc: 0.9378\n",
            "\n",
            "Epoch 00001: val_acc improved from -inf to 0.93783, saving model to best_model13.h5\n",
            "Epoch 2/100\n",
            "821/821 [==============================] - 55s 67ms/step - loss: 0.1524 - acc: 0.9408 - val_loss: 0.1474 - val_acc: 0.9425\n",
            "\n",
            "Epoch 00002: val_acc improved from 0.93783 to 0.94249, saving model to best_model13.h5\n",
            "Epoch 3/100\n",
            "821/821 [==============================] - 55s 67ms/step - loss: 0.1400 - acc: 0.9454 - val_loss: 0.1424 - val_acc: 0.9443\n",
            "\n",
            "Epoch 00003: val_acc improved from 0.94249 to 0.94425, saving model to best_model13.h5\n",
            "Epoch 4/100\n",
            "821/821 [==============================] - 55s 67ms/step - loss: 0.1296 - acc: 0.9499 - val_loss: 0.1420 - val_acc: 0.9446\n",
            "\n",
            "Epoch 00004: val_acc improved from 0.94425 to 0.94456, saving model to best_model13.h5\n",
            "Epoch 5/100\n",
            "821/821 [==============================] - 55s 67ms/step - loss: 0.1236 - acc: 0.9524 - val_loss: 0.1401 - val_acc: 0.9453\n",
            "\n",
            "Epoch 00005: val_acc improved from 0.94456 to 0.94529, saving model to best_model13.h5\n",
            "Epoch 6/100\n",
            "821/821 [==============================] - 55s 67ms/step - loss: 0.1158 - acc: 0.9557 - val_loss: 0.1412 - val_acc: 0.9454\n",
            "\n",
            "Epoch 00006: val_acc improved from 0.94529 to 0.94536, saving model to best_model13.h5\n",
            "Epoch 7/100\n",
            "821/821 [==============================] - 56s 68ms/step - loss: 0.1089 - acc: 0.9580 - val_loss: 0.1415 - val_acc: 0.9457\n",
            "\n",
            "Epoch 00007: val_acc improved from 0.94536 to 0.94574, saving model to best_model13.h5\n",
            "Epoch 8/100\n",
            "821/821 [==============================] - 56s 68ms/step - loss: 0.1034 - acc: 0.9607 - val_loss: 0.1524 - val_acc: 0.9437\n",
            "\n",
            "Epoch 00008: val_acc did not improve from 0.94574\n",
            "Epoch 9/100\n",
            "821/821 [==============================] - 55s 67ms/step - loss: 0.0954 - acc: 0.9642 - val_loss: 0.1535 - val_acc: 0.9428\n",
            "\n",
            "Epoch 00009: val_acc did not improve from 0.94574\n",
            "Epoch 00009: early stopping\n"
          ],
          "name": "stdout"
        }
      ]
    },
    {
      "cell_type": "code",
      "metadata": {
        "colab": {
          "base_uri": "https://localhost:8080/"
        },
        "id": "8Jil3mcRo06J",
        "outputId": "f0ca318b-6d8c-4f17-fc6b-3d7ab0993fb9"
      },
      "source": [
        "best_model_w2v_512 = load_model('best_model13.h5')\n",
        "print('accuracy:', best_model_w2v_512.evaluate(X_test, y_test)[1])"
      ],
      "execution_count": null,
      "outputs": [
        {
          "output_type": "stream",
          "text": [
            "5469/5469 [==============================] - 35s 6ms/step - loss: 0.1403 - acc: 0.9461\n",
            "accuracy: 0.9461172223091125\n"
          ],
          "name": "stdout"
        }
      ]
    },
    {
      "cell_type": "code",
      "metadata": {
        "id": "W6KpwuVEo4sR"
      },
      "source": [
        "hist_w2v_512 = pd.DataFrame(history_w2v_512.history)"
      ],
      "execution_count": null,
      "outputs": []
    },
    {
      "cell_type": "code",
      "metadata": {
        "colab": {
          "base_uri": "https://localhost:8080/",
          "height": 281
        },
        "id": "-5fHc9v9o8E4",
        "outputId": "028483f3-52bf-4f55-fcd9-d5ecb7fb0e80"
      },
      "source": [
        "hist_w2v_512[['loss', 'val_loss']].plot()\n",
        "plt.title('pre-trained w2v 512 loss')\n",
        "plt.grid()\n",
        "plt.show()"
      ],
      "execution_count": null,
      "outputs": [
        {
          "output_type": "display_data",
          "data": {
            "image/png": "[encoded data removed]",
            "text/plain": [
              "<Figure size 432x288 with 1 Axes>"
            ]
          },
          "metadata": {
            "tags": [],
            "needs_background": "light"
          }
        }
      ]
    },
    {
      "cell_type": "code",
      "metadata": {
        "colab": {
          "base_uri": "https://localhost:8080/",
          "height": 281
        },
        "id": "MCIsDjftpAKA",
        "outputId": "ffdc189e-f7ea-4dc2-b124-e389c4115191"
      },
      "source": [
        "hist_w2v_512[['acc', 'val_acc']].plot()\n",
        "plt.title('pre-trained w2v 512 accuracy')\n",
        "plt.grid()\n",
        "plt.show()"
      ],
      "execution_count": null,
      "outputs": [
        {
          "output_type": "display_data",
          "data": {
            "image/png": "[encoded data removed]",
            "text/plain": [
              "<Figure size 432x288 with 1 Axes>"
            ]
          },
          "metadata": {
            "tags": [],
            "needs_background": "light"
          }
        }
      ]
    },
    {
      "cell_type": "code",
      "metadata": {
        "colab": {
          "base_uri": "https://localhost:8080/"
        },
        "id": "0aMTMZm7pDRg",
        "outputId": "45c12f7a-4661-42d3-d007-c7767bde5eca"
      },
      "source": [
        "test_loss, test_acc = best_model_w2v_512.evaluate(X_test, y_test, verbose=1)\n",
        "pred = best_model_w2v_512.predict(X_test)\n",
        "print('model accuracy:', test_acc)"
      ],
      "execution_count": null,
      "outputs": [
        {
          "output_type": "stream",
          "text": [
            "5469/5469 [==============================] - 34s 6ms/step - loss: 0.1403 - acc: 0.9461\n",
            "model accuracy: 0.9461172223091125\n"
          ],
          "name": "stdout"
        }
      ]
    },
    {
      "cell_type": "code",
      "metadata": {
        "id": "6fozzGW2pGNx"
      },
      "source": [
        "a = y_test.to_numpy(int)\n",
        "b = np.around(pred, 0).astype(int).reshape(-1,)\n",
        "# confusion matrix 만들기\n",
        "conf_matrix = pd.DataFrame(confusion_matrix(a, b), index = ['bad', 'good'], columns=['bad', 'good'])\n",
        "# normalize\n",
        "conf_matrix = conf_matrix.astype('float') / conf_matrix.sum(axis=1)[:, np.newaxis]"
      ],
      "execution_count": null,
      "outputs": []
    },
    {
      "cell_type": "code",
      "metadata": {
        "colab": {
          "base_uri": "https://localhost:8080/",
          "height": 609
        },
        "id": "iJzev3l9pK17",
        "outputId": "cd451020-e0c4-4086-95e8-6557c0503ae1"
      },
      "source": [
        "# 시각화\n",
        "plt.figure(figsize=(10, 10))\n",
        "sns.heatmap(conf_matrix, annot=True, annot_kws={'size':15})     # annot=True: 각 셀에 숫자 입력\n",
        "plt.title('pre-trained w2v 512 adam confusion matrix', fontsize=15)\n",
        "plt.show()"
      ],
      "execution_count": null,
      "outputs": [
        {
          "output_type": "display_data",
          "data": {
            "image/png": "[encoded data removed]",
            "text/plain": [
              "<Figure size 720x720 with 2 Axes>"
            ]
          },
          "metadata": {
            "tags": [],
            "needs_background": "light"
          }
        }
      ]
    },
    {
      "cell_type": "code",
      "metadata": {
        "id": "twMtpG0BwIIp"
      },
      "source": [
        ""
      ],
      "execution_count": null,
      "outputs": []
    }
  ]
}
