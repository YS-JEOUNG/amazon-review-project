{
  "nbformat": 4,
  "nbformat_minor": 0,
  "metadata": {
    "colab": {
      "name": "category_price.ipynb",
      "provenance": [],
      "collapsed_sections": [],
      "include_colab_link": true
    },
    "kernelspec": {
      "name": "python3",
      "display_name": "Python 3"
    },
    "language_info": {
      "name": "python"
    }
  },
  "cells": [
    {
      "cell_type": "markdown",
      "metadata": {
        "id": "view-in-github",
        "colab_type": "text"
      },
      "source": [
        "<a href=\"https://colab.research.google.com/github/YS-JEOUNG/amazon-review-project/blob/main/code/category_price.ipynb\" target=\"_parent\"><img src=\"https://colab.research.google.com/assets/colab-badge.svg\" alt=\"Open In Colab\"/></a>"
      ]
    },
    {
      "cell_type": "markdown",
      "metadata": {
        "id": "XNgRVjiU0gPN"
      },
      "source": [
        "# Import"
      ]
    },
    {
      "cell_type": "code",
      "metadata": {
        "colab": {
          "base_uri": "https://localhost:8080/"
        },
        "id": "73kwwDzgUHu5",
        "outputId": "eba5ed67-7978-4e26-d8ca-1b51c4249f2f"
      },
      "source": [
        "from google.colab import drive\n",
        "drive.mount('/content/drive')"
      ],
      "execution_count": null,
      "outputs": [
        {
          "output_type": "stream",
          "text": [
            "Drive already mounted at /content/drive; to attempt to forcibly remount, call drive.mount(\"/content/drive\", force_remount=True).\n"
          ],
          "name": "stdout"
        }
      ]
    },
    {
      "cell_type": "code",
      "metadata": {
        "id": "nRtVE5rNvC5E"
      },
      "source": [
        "# 기본\n",
        "import pandas as pd\n",
        "import numpy as np\n",
        "\n",
        "# 파일 오픈\n",
        "import gzip\n",
        "import json\n",
        "\n",
        "# datetime\n",
        "from datetime import datetime\n",
        "\n",
        "# Warnings       ###### 왜 넣지?\n",
        "import warnings\n",
        "from scipy import stats\n",
        "warnings.filterwarnings('ignore')"
      ],
      "execution_count": null,
      "outputs": []
    },
    {
      "cell_type": "code",
      "metadata": {
        "id": "j7XXoUdjQnSc"
      },
      "source": [
        "from collections import Counter"
      ],
      "execution_count": null,
      "outputs": []
    },
    {
      "cell_type": "markdown",
      "metadata": {
        "id": "lCqQH1ly0lgE"
      },
      "source": [
        "# Data"
      ]
    },
    {
      "cell_type": "code",
      "metadata": {
        "id": "ihSxCaPTvJKH"
      },
      "source": [
        "def parse(path):\n",
        "    g = gzip.open(path, 'rb')\n",
        "    for l in g:\n",
        "        yield json.loads(l)\n",
        "\n",
        "def getDF(path):\n",
        "    i = 0\n",
        "    df = {}\n",
        "    for d in parse(path):\n",
        "        df[i] = d\n",
        "        i += 1\n",
        "    return pd.DataFrame.from_dict(df, orient='index')"
      ],
      "execution_count": null,
      "outputs": []
    },
    {
      "cell_type": "code",
      "metadata": {
        "id": "FkfPNMOevKvU"
      },
      "source": [
        "df = getDF('/content/drive/MyDrive/Colab Notebooks/project/data/Arts_Crafts_and_Sewing.json.gz')"
      ],
      "execution_count": null,
      "outputs": []
    },
    {
      "cell_type": "code",
      "metadata": {
        "id": "yodV_IhHvMVk"
      },
      "source": [
        "metadf = getDF('/content/drive/MyDrive/Colab Notebooks/project/data/meta_Arts_Crafts_and_Sewing.json.gz')"
      ],
      "execution_count": null,
      "outputs": []
    },
    {
      "cell_type": "code",
      "metadata": {
        "id": "1whMERKOvOS3"
      },
      "source": [
        "total = pd.merge(df, metadf, how='left', on='asin')"
      ],
      "execution_count": null,
      "outputs": []
    },
    {
      "cell_type": "markdown",
      "metadata": {
        "id": "rLNP0BbtUVSD"
      },
      "source": [
        "# Category"
      ]
    },
    {
      "cell_type": "code",
      "metadata": {
        "id": "g1VH33X8WFo6"
      },
      "source": [
        "crop = pd.DataFrame(total['category'])"
      ],
      "execution_count": null,
      "outputs": []
    },
    {
      "cell_type": "code",
      "metadata": {
        "colab": {
          "base_uri": "https://localhost:8080/"
        },
        "id": "s5ts1TvFWIgE",
        "outputId": "7ae0e0a8-0e6c-4da5-cf75-2483e4941b84"
      },
      "source": [
        "# null값을 찾아줍니다.\n",
        "crop.isnull().sum()"
      ],
      "execution_count": null,
      "outputs": [
        {
          "output_type": "execute_result",
          "data": {
            "text/plain": [
              "category    8668\n",
              "dtype: int64"
            ]
          },
          "metadata": {
            "tags": []
          },
          "execution_count": 118
        }
      ]
    },
    {
      "cell_type": "code",
      "metadata": {
        "id": "PfoK_sm5Do5T"
      },
      "source": [
        "# 꼭 변수를 저장하자...\n",
        "crop = crop.fillna('n')"
      ],
      "execution_count": null,
      "outputs": []
    },
    {
      "cell_type": "code",
      "metadata": {
        "colab": {
          "base_uri": "https://localhost:8080/"
        },
        "id": "TW0MLzbq4mJU",
        "outputId": "e0bf0887-7843-4c35-a3a6-a9aab1dc110c"
      },
      "source": [
        "crop.isnull().sum()"
      ],
      "execution_count": null,
      "outputs": [
        {
          "output_type": "execute_result",
          "data": {
            "text/plain": [
              "category    0\n",
              "dtype: int64"
            ]
          },
          "metadata": {
            "tags": []
          },
          "execution_count": 102
        }
      ]
    },
    {
      "cell_type": "code",
      "metadata": {
        "id": "HyfOVRTKww52"
      },
      "source": [
        "# 데이터프레임을 리스트로 바꿉니다.\n",
        "crop = crop['category'].tolist()"
      ],
      "execution_count": null,
      "outputs": []
    },
    {
      "cell_type": "code",
      "metadata": {
        "colab": {
          "base_uri": "https://localhost:8080/"
        },
        "id": "2UcIbs4cBLyk",
        "outputId": "a97f97bd-8ed6-48b0-d2fd-e12e604bcc42"
      },
      "source": [
        "type(crop[2])"
      ],
      "execution_count": null,
      "outputs": [
        {
          "output_type": "execute_result",
          "data": {
            "text/plain": [
              "str"
            ]
          },
          "metadata": {
            "tags": []
          },
          "execution_count": 90
        }
      ]
    },
    {
      "cell_type": "code",
      "metadata": {
        "colab": {
          "base_uri": "https://localhost:8080/"
        },
        "id": "X9E3TzQAW2rx",
        "outputId": "dd69c0b7-41ca-4615-9385-1843c87c5193"
      },
      "source": [
        "len(crop)"
      ],
      "execution_count": null,
      "outputs": [
        {
          "output_type": "execute_result",
          "data": {
            "text/plain": [
              "2911389"
            ]
          },
          "metadata": {
            "tags": []
          },
          "execution_count": 121
        }
      ]
    },
    {
      "cell_type": "markdown",
      "metadata": {
        "id": "U-XcaAfZYeCx"
      },
      "source": [
        "## unique category"
      ]
    },
    {
      "cell_type": "code",
      "metadata": {
        "id": "f1hRdnlZxhzI"
      },
      "source": [
        "# 리스트에서 unique한 값만 뽑아줍니다.\n",
        "crop_unique = [list(x) for x in set(tuple(x) for x in crop)]"
      ],
      "execution_count": null,
      "outputs": []
    },
    {
      "cell_type": "code",
      "metadata": {
        "colab": {
          "base_uri": "https://localhost:8080/"
        },
        "id": "tlXXftz7yNb-",
        "outputId": "97aa866e-abaf-4a18-ffd3-14efebe97c68"
      },
      "source": [
        "# 왜 할 때마다 달라지는지... 왜...\n",
        "crop_unique[:2]"
      ],
      "execution_count": null,
      "outputs": [
        {
          "output_type": "execute_result",
          "data": {
            "text/plain": [
              "[['Arts, Crafts & Sewing',\n",
              "  'Beading & Jewelry Making',\n",
              "  'Beads & Bead Assortments',\n",
              "  '100% Brand New And High Quality',\n",
              "  'Material:Alloy&Rhinestone',\n",
              "  'Color: Show as the picture (sent in random)',\n",
              "  'Include packages: 1pair x Earrings'],\n",
              " ['Arts, Crafts & Sewing',\n",
              "  'Beading & Jewelry Making',\n",
              "  'Beads & Bead Assortments',\n",
              "  '44 mm Height - 15 mm Width',\n",
              "  '12 gms']]"
            ]
          },
          "metadata": {
            "tags": []
          },
          "execution_count": 106
        }
      ]
    },
    {
      "cell_type": "code",
      "metadata": {
        "colab": {
          "base_uri": "https://localhost:8080/"
        },
        "id": "XmMsJSedjKfL",
        "outputId": "dd28f5c3-b9a1-4a8b-e790-c61acac8fe0d"
      },
      "source": [
        "# 원래 4153개였는데 왜 하나가 늘어났는지... 'o'는 어디서 나왔는지...\n",
        "len(crop_unique)"
      ],
      "execution_count": null,
      "outputs": [
        {
          "output_type": "execute_result",
          "data": {
            "text/plain": [
              "4154"
            ]
          },
          "metadata": {
            "tags": []
          },
          "execution_count": 107
        }
      ]
    },
    {
      "cell_type": "code",
      "metadata": {
        "colab": {
          "base_uri": "https://localhost:8080/"
        },
        "id": "LpEh8hwLL33I",
        "outputId": "8557a4dc-b716-439e-ea70-4243b3f09775"
      },
      "source": [
        "len(crop_unique[0])"
      ],
      "execution_count": null,
      "outputs": [
        {
          "output_type": "execute_result",
          "data": {
            "text/plain": [
              "7"
            ]
          },
          "metadata": {
            "tags": []
          },
          "execution_count": 95
        }
      ]
    },
    {
      "cell_type": "code",
      "metadata": {
        "id": "m5tCxgATJDVG"
      },
      "source": [
        "# 2번째 카테고리만 뽑아줍니다.\n",
        "crop_one = []\n",
        "for x in range(len(crop_unique)):\n",
        "    if len(crop_unique[x]) >= 2:\n",
        "        crop_one.append(crop_unique[x][1])\n",
        "    else:\n",
        "        crop_one.append('no')"
      ],
      "execution_count": null,
      "outputs": []
    },
    {
      "cell_type": "code",
      "metadata": {
        "colab": {
          "base_uri": "https://localhost:8080/"
        },
        "id": "eiY6LKdYQp_U",
        "outputId": "642ff83d-9293-414f-cd8b-8c4c7814eb63"
      },
      "source": [
        "# unique한 2번째 카테고리 개수를 셉니다. 여러번 해도 이건 똑같으니 괜찮겠지.\n",
        "Counter(crop_one)"
      ],
      "execution_count": null,
      "outputs": [
        {
          "output_type": "execute_result",
          "data": {
            "text/plain": [
              "Counter({'Beading & Jewelry Making': 2099,\n",
              "         'Crafting': 231,\n",
              "         'Fabric': 11,\n",
              "         'Fabric Decorating': 7,\n",
              "         'Knitting & Crochet': 31,\n",
              "         'Needlework': 33,\n",
              "         'Organization, Storage & Transport': 38,\n",
              "         'Painting, Drawing & Art Supplies': 135,\n",
              "         'Printmaking': 19,\n",
              "         'Scrapbooking & Stamping': 40,\n",
              "         'Sewing': 1508,\n",
              "         'no': 2})"
            ]
          },
          "metadata": {
            "tags": []
          },
          "execution_count": 124
        }
      ]
    },
    {
      "cell_type": "code",
      "metadata": {
        "colab": {
          "base_uri": "https://localhost:8080/"
        },
        "id": "KRPek0EMP8_M",
        "outputId": "9a41dd65-26c1-4292-ef62-a44130b29849"
      },
      "source": [
        "# 이건 그냥 unique한 카테고리만 모은 리스트.\n",
        "crop_one_u = []\n",
        "for x in crop_one:\n",
        "    if x not in crop_one_u:\n",
        "        crop_one_u.append(x)\n",
        "crop_one_u     # 'o'는 뭔지 모르겠다."
      ],
      "execution_count": null,
      "outputs": [
        {
          "output_type": "execute_result",
          "data": {
            "text/plain": [
              "['Beading & Jewelry Making',\n",
              " 'Sewing',\n",
              " 'Crafting',\n",
              " 'Knitting & Crochet',\n",
              " 'Printmaking',\n",
              " 'Scrapbooking & Stamping',\n",
              " 'Needlework',\n",
              " 'Painting, Drawing & Art Supplies',\n",
              " 'Fabric',\n",
              " 'Organization, Storage & Transport',\n",
              " 'Fabric Decorating',\n",
              " 'no']"
            ]
          },
          "metadata": {
            "tags": []
          },
          "execution_count": 125
        }
      ]
    },
    {
      "cell_type": "markdown",
      "metadata": {
        "id": "7ZuWwkY4Yis8"
      },
      "source": [
        "## 전체 카테고리"
      ]
    },
    {
      "cell_type": "code",
      "metadata": {
        "colab": {
          "base_uri": "https://localhost:8080/"
        },
        "id": "7e-o6lfjFPH7",
        "outputId": "21d28988-685b-4315-d274-b28eb0cd33b3"
      },
      "source": [
        "crop[:10]"
      ],
      "execution_count": null,
      "outputs": [
        {
          "output_type": "execute_result",
          "data": {
            "text/plain": [
              "['no', 'no', 'no', 'no', 'no', 'no', 'no', 'no', 'no', 'no']"
            ]
          },
          "metadata": {
            "tags": []
          },
          "execution_count": 111
        }
      ]
    },
    {
      "cell_type": "code",
      "metadata": {
        "colab": {
          "base_uri": "https://localhost:8080/"
        },
        "id": "gKXVSpHPYliZ",
        "outputId": "fb4576a1-42cc-4f75-88a5-3ce646456093"
      },
      "source": [
        "crop[9000:9003]"
      ],
      "execution_count": null,
      "outputs": [
        {
          "output_type": "execute_result",
          "data": {
            "text/plain": [
              "[['Arts, Crafts & Sewing',\n",
              "  'Painting, Drawing & Art Supplies',\n",
              "  'Painting',\n",
              "  'Paints'],\n",
              " ['Arts, Crafts & Sewing',\n",
              "  'Painting, Drawing & Art Supplies',\n",
              "  'Painting',\n",
              "  'Paints'],\n",
              " ['Arts, Crafts & Sewing',\n",
              "  'Painting, Drawing & Art Supplies',\n",
              "  'Painting',\n",
              "  'Paints']]"
            ]
          },
          "metadata": {
            "tags": []
          },
          "execution_count": 76
        }
      ]
    },
    {
      "cell_type": "code",
      "metadata": {
        "id": "n0JlWCEwdizI"
      },
      "source": [
        "crop_total = []\n",
        "for x in range(len(crop)):\n",
        "    if len(crop[x]) >= 2:\n",
        "        crop_total.append(crop[x][1])\n",
        "    else:\n",
        "        crop_total.append('o')"
      ],
      "execution_count": null,
      "outputs": []
    },
    {
      "cell_type": "code",
      "metadata": {
        "colab": {
          "base_uri": "https://localhost:8080/"
        },
        "id": "EC2eFbi1dt4I",
        "outputId": "880c59fa-57c0-4507-d2da-4e1611c06e67"
      },
      "source": [
        "crop_total[9000:9003]"
      ],
      "execution_count": null,
      "outputs": [
        {
          "output_type": "execute_result",
          "data": {
            "text/plain": [
              "['Painting, Drawing & Art Supplies',\n",
              " 'Painting, Drawing & Art Supplies',\n",
              " 'Painting, Drawing & Art Supplies']"
            ]
          },
          "metadata": {
            "tags": []
          },
          "execution_count": 81
        }
      ]
    },
    {
      "cell_type": "code",
      "metadata": {
        "colab": {
          "base_uri": "https://localhost:8080/"
        },
        "id": "Ih97tWajeaEm",
        "outputId": "c42855b7-c6f6-4282-df45-72d38e654bc7"
      },
      "source": [
        "len(crop_total)"
      ],
      "execution_count": null,
      "outputs": [
        {
          "output_type": "execute_result",
          "data": {
            "text/plain": [
              "2911389"
            ]
          },
          "metadata": {
            "tags": []
          },
          "execution_count": 82
        }
      ]
    },
    {
      "cell_type": "code",
      "metadata": {
        "id": "hXiHjG3webdo"
      },
      "source": [
        "# 원본 데이터셋에 'cat' 컬럼 추가\n",
        "total['cat'] = crop_total"
      ],
      "execution_count": null,
      "outputs": []
    },
    {
      "cell_type": "code",
      "metadata": {
        "colab": {
          "base_uri": "https://localhost:8080/",
          "height": 468
        },
        "id": "sLXHu-APeyjf",
        "outputId": "8e6fe9e6-86d6-4066-c84f-f8ec091936f9"
      },
      "source": [
        "total[9000:9003]"
      ],
      "execution_count": null,
      "outputs": [
        {
          "output_type": "execute_result",
          "data": {
            "text/html": [
              "<div>\n",
              "<style scoped>\n",
              "    .dataframe tbody tr th:only-of-type {\n",
              "        vertical-align: middle;\n",
              "    }\n",
              "\n",
              "    .dataframe tbody tr th {\n",
              "        vertical-align: top;\n",
              "    }\n",
              "\n",
              "    .dataframe thead th {\n",
              "        text-align: right;\n",
              "    }\n",
              "</style>\n",
              "<table border=\"1\" class=\"dataframe\">\n",
              "  <thead>\n",
              "    <tr style=\"text-align: right;\">\n",
              "      <th></th>\n",
              "      <th>overall</th>\n",
              "      <th>vote</th>\n",
              "      <th>verified</th>\n",
              "      <th>reviewTime</th>\n",
              "      <th>reviewerID</th>\n",
              "      <th>asin</th>\n",
              "      <th>style</th>\n",
              "      <th>reviewerName</th>\n",
              "      <th>reviewText</th>\n",
              "      <th>summary</th>\n",
              "      <th>unixReviewTime</th>\n",
              "      <th>image_x</th>\n",
              "      <th>category</th>\n",
              "      <th>tech1</th>\n",
              "      <th>description</th>\n",
              "      <th>fit</th>\n",
              "      <th>title</th>\n",
              "      <th>also_buy</th>\n",
              "      <th>image_y</th>\n",
              "      <th>tech2</th>\n",
              "      <th>brand</th>\n",
              "      <th>feature</th>\n",
              "      <th>rank</th>\n",
              "      <th>also_view</th>\n",
              "      <th>details</th>\n",
              "      <th>main_cat</th>\n",
              "      <th>similar_item</th>\n",
              "      <th>date</th>\n",
              "      <th>price</th>\n",
              "      <th>cat</th>\n",
              "    </tr>\n",
              "  </thead>\n",
              "  <tbody>\n",
              "    <tr>\n",
              "      <th>9000</th>\n",
              "      <td>4.0</td>\n",
              "      <td>NaN</td>\n",
              "      <td>True</td>\n",
              "      <td>04 11, 2017</td>\n",
              "      <td>A17Q5SJG2VOILV</td>\n",
              "      <td>B00004THXH</td>\n",
              "      <td>{'Style Name:': ' Field Box 12 Half Pans'}</td>\n",
              "      <td>Dsolo</td>\n",
              "      <td>The product is good and the price is great. I ...</td>\n",
              "      <td>Four Stars</td>\n",
              "      <td>1491868800</td>\n",
              "      <td>NaN</td>\n",
              "      <td>[Arts, Crafts &amp; Sewing, Painting, Drawing &amp; Ar...</td>\n",
              "      <td></td>\n",
              "      <td>[This Winsor &amp; Newton pocket-sized lightweight...</td>\n",
              "      <td></td>\n",
              "      <td>Winsor &amp;amp; Newton Cotman Water Colour Paint ...</td>\n",
              "      <td>[B004M59O4C, B018QCQONA, B015ZBIME4, B00AX31TZ...</td>\n",
              "      <td>[https://images-na.ssl-images-amazon.com/image...</td>\n",
              "      <td></td>\n",
              "      <td>Winsor &amp;amp; Newton</td>\n",
              "      <td>[Pocket-sized lightweight box is ideal for the...</td>\n",
              "      <td>[&gt;#12,020 in Arts, Crafts &amp; Sewing (See Top 10...</td>\n",
              "      <td>[B000M53R62, B001OVG40E, B000N85WVQ, B001M6VMT...</td>\n",
              "      <td>{}</td>\n",
              "      <td>Amazon Home</td>\n",
              "      <td></td>\n",
              "      <td></td>\n",
              "      <td>$16.50</td>\n",
              "      <td>Painting, Drawing &amp; Art Supplies</td>\n",
              "    </tr>\n",
              "    <tr>\n",
              "      <th>9001</th>\n",
              "      <td>4.0</td>\n",
              "      <td>NaN</td>\n",
              "      <td>True</td>\n",
              "      <td>04 11, 2017</td>\n",
              "      <td>A17Q5SJG2VOILV</td>\n",
              "      <td>B00004THXH</td>\n",
              "      <td>{'Style Name:': ' Field Box 12 Half Pans'}</td>\n",
              "      <td>Dsolo</td>\n",
              "      <td>The product is good and the price is great. I ...</td>\n",
              "      <td>Four Stars</td>\n",
              "      <td>1491868800</td>\n",
              "      <td>NaN</td>\n",
              "      <td>[Arts, Crafts &amp; Sewing, Painting, Drawing &amp; Ar...</td>\n",
              "      <td></td>\n",
              "      <td>[This Winsor &amp; Newton pocket-sized lightweight...</td>\n",
              "      <td></td>\n",
              "      <td>Winsor &amp;amp; Newton Cotman Water Colour Paint ...</td>\n",
              "      <td>[B004M59O4C, B018QCQONA, B015ZBIME4, B00AX31TZ...</td>\n",
              "      <td>[https://images-na.ssl-images-amazon.com/image...</td>\n",
              "      <td></td>\n",
              "      <td>Winsor &amp;amp; Newton</td>\n",
              "      <td>[Pocket-sized lightweight box is ideal for the...</td>\n",
              "      <td>[&gt;#12,020 in Arts, Crafts &amp; Sewing (See Top 10...</td>\n",
              "      <td>[B000M53R62, B001OVG40E, B000N85WVQ, B001M6VMT...</td>\n",
              "      <td>{}</td>\n",
              "      <td>Amazon Home</td>\n",
              "      <td></td>\n",
              "      <td></td>\n",
              "      <td>$16.50</td>\n",
              "      <td>Painting, Drawing &amp; Art Supplies</td>\n",
              "    </tr>\n",
              "    <tr>\n",
              "      <th>9002</th>\n",
              "      <td>5.0</td>\n",
              "      <td>3</td>\n",
              "      <td>True</td>\n",
              "      <td>04 11, 2017</td>\n",
              "      <td>A397RJMNAF5SHO</td>\n",
              "      <td>B00004THXH</td>\n",
              "      <td>{'Style Name:': ' Sketchers Pocket Box'}</td>\n",
              "      <td>Diego Acosta</td>\n",
              "      <td>I'm a beginner to the watercolor medium, as a ...</td>\n",
              "      <td>Great Beginner start up</td>\n",
              "      <td>1491868800</td>\n",
              "      <td>[https://images-na.ssl-images-amazon.com/image...</td>\n",
              "      <td>[Arts, Crafts &amp; Sewing, Painting, Drawing &amp; Ar...</td>\n",
              "      <td></td>\n",
              "      <td>[This Winsor &amp; Newton pocket-sized lightweight...</td>\n",
              "      <td></td>\n",
              "      <td>Winsor &amp;amp; Newton Cotman Water Colour Paint ...</td>\n",
              "      <td>[B004M59O4C, B018QCQONA, B015ZBIME4, B00AX31TZ...</td>\n",
              "      <td>[https://images-na.ssl-images-amazon.com/image...</td>\n",
              "      <td></td>\n",
              "      <td>Winsor &amp;amp; Newton</td>\n",
              "      <td>[Pocket-sized lightweight box is ideal for the...</td>\n",
              "      <td>[&gt;#12,020 in Arts, Crafts &amp; Sewing (See Top 10...</td>\n",
              "      <td>[B000M53R62, B001OVG40E, B000N85WVQ, B001M6VMT...</td>\n",
              "      <td>{}</td>\n",
              "      <td>Amazon Home</td>\n",
              "      <td></td>\n",
              "      <td></td>\n",
              "      <td>$16.50</td>\n",
              "      <td>Painting, Drawing &amp; Art Supplies</td>\n",
              "    </tr>\n",
              "  </tbody>\n",
              "</table>\n",
              "</div>"
            ],
            "text/plain": [
              "      overall vote  verified  ... date   price                               cat\n",
              "9000      4.0  NaN      True  ...       $16.50  Painting, Drawing & Art Supplies\n",
              "9001      4.0  NaN      True  ...       $16.50  Painting, Drawing & Art Supplies\n",
              "9002      5.0    3      True  ...       $16.50  Painting, Drawing & Art Supplies\n",
              "\n",
              "[3 rows x 30 columns]"
            ]
          },
          "metadata": {
            "tags": []
          },
          "execution_count": 87
        }
      ]
    },
    {
      "cell_type": "markdown",
      "metadata": {
        "id": "sJfaFmr8UXVk"
      },
      "source": [
        "# Price"
      ]
    },
    {
      "cell_type": "code",
      "metadata": {
        "id": "6bFT1sWVfqOi"
      },
      "source": [
        "# price 컬럼에서 na값 제거\n",
        "total2 = total.dropna(subset=['price'])\n",
        "total2['price'] = total2['price'].str.replace('$', '')"
      ],
      "execution_count": null,
      "outputs": []
    },
    {
      "cell_type": "code",
      "metadata": {
        "id": "5C9XfJzVgDoE"
      },
      "source": [
        "drop_values = ['a', 'A', '-', '<']\n",
        "total3 = total2[~total2.price.str.contains('|'.join(drop_values))]\n",
        "total3['price'] = total3['price'].str.replace(',', '')\n",
        "total3 = total3.dropna(subset=['price'])"
      ],
      "execution_count": null,
      "outputs": []
    },
    {
      "cell_type": "code",
      "metadata": {
        "colab": {
          "base_uri": "https://localhost:8080/"
        },
        "id": "c9HJOv9al0Ad",
        "outputId": "22387c30-a761-4927-c28e-8d2862c2aa20"
      },
      "source": [
        "# price 전처리를 하고 나니 공백인 cell이 있어서 공백을 0으로 대체\n",
        "total3['price'].replace('', '0')"
      ],
      "execution_count": null,
      "outputs": [
        {
          "output_type": "execute_result",
          "data": {
            "text/plain": [
              "2041        6.41\n",
              "2042        6.41\n",
              "2043        6.41\n",
              "2044        6.41\n",
              "2045           0\n",
              "           ...  \n",
              "2911384    10.99\n",
              "2911385    10.99\n",
              "2911386    10.99\n",
              "2911387    10.99\n",
              "2911388    10.99\n",
              "Name: price, Length: 2855995, dtype: object"
            ]
          },
          "metadata": {
            "tags": []
          },
          "execution_count": 43
        }
      ]
    },
    {
      "cell_type": "code",
      "metadata": {
        "id": "iiD9a_hJgS4f"
      },
      "source": [
        "# 전처리 끝난 문자열들을 실수타입으로 변환\n",
        "total3['price'] = total3['price'].replace('', '0').astype('float')"
      ],
      "execution_count": null,
      "outputs": []
    },
    {
      "cell_type": "code",
      "metadata": {
        "id": "9zysEnbJ5otv"
      },
      "source": [
        "total3 = total3.drop(total3[total3['price'] == 0].index)      # inplace=False 그대로 둬야 함."
      ],
      "execution_count": null,
      "outputs": []
    },
    {
      "cell_type": "code",
      "metadata": {
        "colab": {
          "base_uri": "https://localhost:8080/",
          "height": 1000
        },
        "id": "FjipNa415-Bn",
        "outputId": "a395cdc0-69a5-4ebd-e9ee-d8e5a2fb9ea5"
      },
      "source": [
        "total3"
      ],
      "execution_count": null,
      "outputs": [
        {
          "output_type": "execute_result",
          "data": {
            "text/html": [
              "<div>\n",
              "<style scoped>\n",
              "    .dataframe tbody tr th:only-of-type {\n",
              "        vertical-align: middle;\n",
              "    }\n",
              "\n",
              "    .dataframe tbody tr th {\n",
              "        vertical-align: top;\n",
              "    }\n",
              "\n",
              "    .dataframe thead th {\n",
              "        text-align: right;\n",
              "    }\n",
              "</style>\n",
              "<table border=\"1\" class=\"dataframe\">\n",
              "  <thead>\n",
              "    <tr style=\"text-align: right;\">\n",
              "      <th></th>\n",
              "      <th>overall</th>\n",
              "      <th>vote</th>\n",
              "      <th>verified</th>\n",
              "      <th>reviewTime</th>\n",
              "      <th>reviewerID</th>\n",
              "      <th>asin</th>\n",
              "      <th>style</th>\n",
              "      <th>reviewerName</th>\n",
              "      <th>reviewText</th>\n",
              "      <th>summary</th>\n",
              "      <th>unixReviewTime</th>\n",
              "      <th>image_x</th>\n",
              "      <th>category</th>\n",
              "      <th>tech1</th>\n",
              "      <th>description</th>\n",
              "      <th>fit</th>\n",
              "      <th>title</th>\n",
              "      <th>also_buy</th>\n",
              "      <th>image_y</th>\n",
              "      <th>tech2</th>\n",
              "      <th>brand</th>\n",
              "      <th>feature</th>\n",
              "      <th>rank</th>\n",
              "      <th>also_view</th>\n",
              "      <th>details</th>\n",
              "      <th>main_cat</th>\n",
              "      <th>similar_item</th>\n",
              "      <th>date</th>\n",
              "      <th>price</th>\n",
              "    </tr>\n",
              "  </thead>\n",
              "  <tbody>\n",
              "    <tr>\n",
              "      <th>2041</th>\n",
              "      <td>5.0</td>\n",
              "      <td>NaN</td>\n",
              "      <td>True</td>\n",
              "      <td>03 13, 2017</td>\n",
              "      <td>A3DKYRF9YGF6A6</td>\n",
              "      <td>6665560953</td>\n",
              "      <td>NaN</td>\n",
              "      <td>Amazon Customer</td>\n",
              "      <td>Great quality product, and top notch service f...</td>\n",
              "      <td>Five Stars</td>\n",
              "      <td>1489363200</td>\n",
              "      <td>NaN</td>\n",
              "      <td>[Arts, Crafts &amp; Sewing, Sewing, Trim &amp; Embelli...</td>\n",
              "      <td></td>\n",
              "      <td>[The patch features the sweaty masculine hands...</td>\n",
              "      <td></td>\n",
              "      <td>You Son of a Bitch! 1987 Embroidered Patch</td>\n",
              "      <td>[6665562336, B072JVTJL5, B073SF9S8Y, B07H2V9DS...</td>\n",
              "      <td>[https://images-na.ssl-images-amazon.com/image...</td>\n",
              "      <td></td>\n",
              "      <td>Honchosfx</td>\n",
              "      <td>[You son of a bitch patch - exclusive to Honch...</td>\n",
              "      <td>122,174 in Clothing, Shoes &amp; Jewelry (</td>\n",
              "      <td>[B073SF9S8Y, B07JMVMJT7, B0773TCDKV, B074MFG4C...</td>\n",
              "      <td>{}</td>\n",
              "      <td>&lt;img src=\"https://images-na.ssl-images-amazon....</td>\n",
              "      <td></td>\n",
              "      <td>&lt;div class=\"a-fixed-left-grid a-spacing-none\"&gt;...</td>\n",
              "      <td>6.41</td>\n",
              "    </tr>\n",
              "    <tr>\n",
              "      <th>2042</th>\n",
              "      <td>5.0</td>\n",
              "      <td>NaN</td>\n",
              "      <td>True</td>\n",
              "      <td>02 6, 2017</td>\n",
              "      <td>A1I2TJ3PQ4WHK1</td>\n",
              "      <td>6665560953</td>\n",
              "      <td>NaN</td>\n",
              "      <td>Eric Breneman</td>\n",
              "      <td>details on this patch are very good, def a fav...</td>\n",
              "      <td>don't push too many pencils</td>\n",
              "      <td>1486339200</td>\n",
              "      <td>NaN</td>\n",
              "      <td>[Arts, Crafts &amp; Sewing, Sewing, Trim &amp; Embelli...</td>\n",
              "      <td></td>\n",
              "      <td>[The patch features the sweaty masculine hands...</td>\n",
              "      <td></td>\n",
              "      <td>You Son of a Bitch! 1987 Embroidered Patch</td>\n",
              "      <td>[6665562336, B072JVTJL5, B073SF9S8Y, B07H2V9DS...</td>\n",
              "      <td>[https://images-na.ssl-images-amazon.com/image...</td>\n",
              "      <td></td>\n",
              "      <td>Honchosfx</td>\n",
              "      <td>[You son of a bitch patch - exclusive to Honch...</td>\n",
              "      <td>122,174 in Clothing, Shoes &amp; Jewelry (</td>\n",
              "      <td>[B073SF9S8Y, B07JMVMJT7, B0773TCDKV, B074MFG4C...</td>\n",
              "      <td>{}</td>\n",
              "      <td>&lt;img src=\"https://images-na.ssl-images-amazon....</td>\n",
              "      <td></td>\n",
              "      <td>&lt;div class=\"a-fixed-left-grid a-spacing-none\"&gt;...</td>\n",
              "      <td>6.41</td>\n",
              "    </tr>\n",
              "    <tr>\n",
              "      <th>2043</th>\n",
              "      <td>5.0</td>\n",
              "      <td>NaN</td>\n",
              "      <td>True</td>\n",
              "      <td>12 23, 2016</td>\n",
              "      <td>A1ZDJ2BYZXZHLQ</td>\n",
              "      <td>6665560953</td>\n",
              "      <td>NaN</td>\n",
              "      <td>Kirkja</td>\n",
              "      <td>Bought these as a gifts for friends and really...</td>\n",
              "      <td>Great deal if you buy in bulk!</td>\n",
              "      <td>1482451200</td>\n",
              "      <td>NaN</td>\n",
              "      <td>[Arts, Crafts &amp; Sewing, Sewing, Trim &amp; Embelli...</td>\n",
              "      <td></td>\n",
              "      <td>[The patch features the sweaty masculine hands...</td>\n",
              "      <td></td>\n",
              "      <td>You Son of a Bitch! 1987 Embroidered Patch</td>\n",
              "      <td>[6665562336, B072JVTJL5, B073SF9S8Y, B07H2V9DS...</td>\n",
              "      <td>[https://images-na.ssl-images-amazon.com/image...</td>\n",
              "      <td></td>\n",
              "      <td>Honchosfx</td>\n",
              "      <td>[You son of a bitch patch - exclusive to Honch...</td>\n",
              "      <td>122,174 in Clothing, Shoes &amp; Jewelry (</td>\n",
              "      <td>[B073SF9S8Y, B07JMVMJT7, B0773TCDKV, B074MFG4C...</td>\n",
              "      <td>{}</td>\n",
              "      <td>&lt;img src=\"https://images-na.ssl-images-amazon....</td>\n",
              "      <td></td>\n",
              "      <td>&lt;div class=\"a-fixed-left-grid a-spacing-none\"&gt;...</td>\n",
              "      <td>6.41</td>\n",
              "    </tr>\n",
              "    <tr>\n",
              "      <th>2044</th>\n",
              "      <td>5.0</td>\n",
              "      <td>NaN</td>\n",
              "      <td>True</td>\n",
              "      <td>12 14, 2016</td>\n",
              "      <td>A1RW3PF3UTARAV</td>\n",
              "      <td>6665560953</td>\n",
              "      <td>NaN</td>\n",
              "      <td>Brian K.</td>\n",
              "      <td>The photo's really didn't do this patch justic...</td>\n",
              "      <td>It's made extremely well and looks GREAT! I've...</td>\n",
              "      <td>1481673600</td>\n",
              "      <td>NaN</td>\n",
              "      <td>[Arts, Crafts &amp; Sewing, Sewing, Trim &amp; Embelli...</td>\n",
              "      <td></td>\n",
              "      <td>[The patch features the sweaty masculine hands...</td>\n",
              "      <td></td>\n",
              "      <td>You Son of a Bitch! 1987 Embroidered Patch</td>\n",
              "      <td>[6665562336, B072JVTJL5, B073SF9S8Y, B07H2V9DS...</td>\n",
              "      <td>[https://images-na.ssl-images-amazon.com/image...</td>\n",
              "      <td></td>\n",
              "      <td>Honchosfx</td>\n",
              "      <td>[You son of a bitch patch - exclusive to Honch...</td>\n",
              "      <td>122,174 in Clothing, Shoes &amp; Jewelry (</td>\n",
              "      <td>[B073SF9S8Y, B07JMVMJT7, B0773TCDKV, B074MFG4C...</td>\n",
              "      <td>{}</td>\n",
              "      <td>&lt;img src=\"https://images-na.ssl-images-amazon....</td>\n",
              "      <td></td>\n",
              "      <td>&lt;div class=\"a-fixed-left-grid a-spacing-none\"&gt;...</td>\n",
              "      <td>6.41</td>\n",
              "    </tr>\n",
              "    <tr>\n",
              "      <th>2046</th>\n",
              "      <td>4.0</td>\n",
              "      <td>69</td>\n",
              "      <td>True</td>\n",
              "      <td>03 4, 2010</td>\n",
              "      <td>A3BQSWC3801JNI</td>\n",
              "      <td>8862933177</td>\n",
              "      <td>{'Format:': ' Hardcover'}</td>\n",
              "      <td>Stacy A. Jones</td>\n",
              "      <td>I have to be honest - I already have quite a c...</td>\n",
              "      <td>Solid buy, few small gripes about page layout</td>\n",
              "      <td>1267660800</td>\n",
              "      <td>NaN</td>\n",
              "      <td>[Arts, Crafts &amp; Sewing, Crafting, Paper &amp; Pape...</td>\n",
              "      <td>class=\"a-keyvalue prodDetTable\" role=\"present...</td>\n",
              "      <td>[Build your very own film archive. Fully embos...</td>\n",
              "      <td></td>\n",
              "      <td>Moleskine Passion Journal - Film, Large, Hard ...</td>\n",
              "      <td>[1926892801, 8862933193, 8862933118]</td>\n",
              "      <td>[https://images-na.ssl-images-amazon.com/image...</td>\n",
              "      <td></td>\n",
              "      <td>Moleskine</td>\n",
              "      <td>[Used Book in Good Condition]</td>\n",
              "      <td>[&gt;#229,441 in Office Products (See top 100), &gt;...</td>\n",
              "      <td>[8862933193, B001KN2B08, 1948713047, 886293315...</td>\n",
              "      <td>{}</td>\n",
              "      <td>Office Products</td>\n",
              "      <td></td>\n",
              "      <td>November 3, 2009</td>\n",
              "      <td>137.58</td>\n",
              "    </tr>\n",
              "    <tr>\n",
              "      <th>...</th>\n",
              "      <td>...</td>\n",
              "      <td>...</td>\n",
              "      <td>...</td>\n",
              "      <td>...</td>\n",
              "      <td>...</td>\n",
              "      <td>...</td>\n",
              "      <td>...</td>\n",
              "      <td>...</td>\n",
              "      <td>...</td>\n",
              "      <td>...</td>\n",
              "      <td>...</td>\n",
              "      <td>...</td>\n",
              "      <td>...</td>\n",
              "      <td>...</td>\n",
              "      <td>...</td>\n",
              "      <td>...</td>\n",
              "      <td>...</td>\n",
              "      <td>...</td>\n",
              "      <td>...</td>\n",
              "      <td>...</td>\n",
              "      <td>...</td>\n",
              "      <td>...</td>\n",
              "      <td>...</td>\n",
              "      <td>...</td>\n",
              "      <td>...</td>\n",
              "      <td>...</td>\n",
              "      <td>...</td>\n",
              "      <td>...</td>\n",
              "      <td>...</td>\n",
              "    </tr>\n",
              "    <tr>\n",
              "      <th>2911384</th>\n",
              "      <td>3.0</td>\n",
              "      <td>2</td>\n",
              "      <td>True</td>\n",
              "      <td>12 5, 2016</td>\n",
              "      <td>A3DBSNSXS3HLW2</td>\n",
              "      <td>B01HJHR2PM</td>\n",
              "      <td>NaN</td>\n",
              "      <td>Amazon Customer</td>\n",
              "      <td>The pens took weeks to arrive and ran out of i...</td>\n",
              "      <td>... took weeks to arrive and ran out of ink pr...</td>\n",
              "      <td>1480896000</td>\n",
              "      <td>NaN</td>\n",
              "      <td>[Arts, Crafts &amp; Sewing, Painting, Drawing &amp; Ar...</td>\n",
              "      <td></td>\n",
              "      <td>[&lt;b&gt;Features:&lt;/b&gt;&lt;br&gt; - Color: 12 colors.&lt;br&gt; ...</td>\n",
              "      <td></td>\n",
              "      <td>Mural Art 12 Colors Waterproof Metal Glass Fin...</td>\n",
              "      <td>[]</td>\n",
              "      <td>[https://images-na.ssl-images-amazon.com/image...</td>\n",
              "      <td></td>\n",
              "      <td>Mural Art</td>\n",
              "      <td>[Oil-based ink, writing smooth, waterproof, do...</td>\n",
              "      <td>[&gt;#1,395,108 in Home &amp; Kitchen (See Top 100 in...</td>\n",
              "      <td>[]</td>\n",
              "      <td>{}</td>\n",
              "      <td>Amazon Home</td>\n",
              "      <td></td>\n",
              "      <td></td>\n",
              "      <td>10.99</td>\n",
              "    </tr>\n",
              "    <tr>\n",
              "      <th>2911385</th>\n",
              "      <td>5.0</td>\n",
              "      <td>NaN</td>\n",
              "      <td>True</td>\n",
              "      <td>12 1, 2016</td>\n",
              "      <td>A335NB837Q8LWN</td>\n",
              "      <td>B01HJHR2PM</td>\n",
              "      <td>NaN</td>\n",
              "      <td>Kendra Swain</td>\n",
              "      <td>Used these on our wedding canvas guest book, t...</td>\n",
              "      <td>Great product!!</td>\n",
              "      <td>1480550400</td>\n",
              "      <td>NaN</td>\n",
              "      <td>[Arts, Crafts &amp; Sewing, Painting, Drawing &amp; Ar...</td>\n",
              "      <td></td>\n",
              "      <td>[&lt;b&gt;Features:&lt;/b&gt;&lt;br&gt; - Color: 12 colors.&lt;br&gt; ...</td>\n",
              "      <td></td>\n",
              "      <td>Mural Art 12 Colors Waterproof Metal Glass Fin...</td>\n",
              "      <td>[]</td>\n",
              "      <td>[https://images-na.ssl-images-amazon.com/image...</td>\n",
              "      <td></td>\n",
              "      <td>Mural Art</td>\n",
              "      <td>[Oil-based ink, writing smooth, waterproof, do...</td>\n",
              "      <td>[&gt;#1,395,108 in Home &amp; Kitchen (See Top 100 in...</td>\n",
              "      <td>[]</td>\n",
              "      <td>{}</td>\n",
              "      <td>Amazon Home</td>\n",
              "      <td></td>\n",
              "      <td></td>\n",
              "      <td>10.99</td>\n",
              "    </tr>\n",
              "    <tr>\n",
              "      <th>2911386</th>\n",
              "      <td>5.0</td>\n",
              "      <td>NaN</td>\n",
              "      <td>True</td>\n",
              "      <td>10 25, 2016</td>\n",
              "      <td>AKWXQAVB2U5ME</td>\n",
              "      <td>B01HJHR2PM</td>\n",
              "      <td>NaN</td>\n",
              "      <td>Fastfinal6565</td>\n",
              "      <td>LOVE LOVE LOVE</td>\n",
              "      <td>Five Stars</td>\n",
              "      <td>1477353600</td>\n",
              "      <td>NaN</td>\n",
              "      <td>[Arts, Crafts &amp; Sewing, Painting, Drawing &amp; Ar...</td>\n",
              "      <td></td>\n",
              "      <td>[&lt;b&gt;Features:&lt;/b&gt;&lt;br&gt; - Color: 12 colors.&lt;br&gt; ...</td>\n",
              "      <td></td>\n",
              "      <td>Mural Art 12 Colors Waterproof Metal Glass Fin...</td>\n",
              "      <td>[]</td>\n",
              "      <td>[https://images-na.ssl-images-amazon.com/image...</td>\n",
              "      <td></td>\n",
              "      <td>Mural Art</td>\n",
              "      <td>[Oil-based ink, writing smooth, waterproof, do...</td>\n",
              "      <td>[&gt;#1,395,108 in Home &amp; Kitchen (See Top 100 in...</td>\n",
              "      <td>[]</td>\n",
              "      <td>{}</td>\n",
              "      <td>Amazon Home</td>\n",
              "      <td></td>\n",
              "      <td></td>\n",
              "      <td>10.99</td>\n",
              "    </tr>\n",
              "    <tr>\n",
              "      <th>2911387</th>\n",
              "      <td>1.0</td>\n",
              "      <td>3</td>\n",
              "      <td>True</td>\n",
              "      <td>10 24, 2016</td>\n",
              "      <td>A2CWSI0186P0AY</td>\n",
              "      <td>B01HJHR2PM</td>\n",
              "      <td>NaN</td>\n",
              "      <td>Oscar</td>\n",
              "      <td>color won't stop running once you activate the...</td>\n",
              "      <td>One Star</td>\n",
              "      <td>1477267200</td>\n",
              "      <td>NaN</td>\n",
              "      <td>[Arts, Crafts &amp; Sewing, Painting, Drawing &amp; Ar...</td>\n",
              "      <td></td>\n",
              "      <td>[&lt;b&gt;Features:&lt;/b&gt;&lt;br&gt; - Color: 12 colors.&lt;br&gt; ...</td>\n",
              "      <td></td>\n",
              "      <td>Mural Art 12 Colors Waterproof Metal Glass Fin...</td>\n",
              "      <td>[]</td>\n",
              "      <td>[https://images-na.ssl-images-amazon.com/image...</td>\n",
              "      <td></td>\n",
              "      <td>Mural Art</td>\n",
              "      <td>[Oil-based ink, writing smooth, waterproof, do...</td>\n",
              "      <td>[&gt;#1,395,108 in Home &amp; Kitchen (See Top 100 in...</td>\n",
              "      <td>[]</td>\n",
              "      <td>{}</td>\n",
              "      <td>Amazon Home</td>\n",
              "      <td></td>\n",
              "      <td></td>\n",
              "      <td>10.99</td>\n",
              "    </tr>\n",
              "    <tr>\n",
              "      <th>2911388</th>\n",
              "      <td>1.0</td>\n",
              "      <td>3</td>\n",
              "      <td>True</td>\n",
              "      <td>09 21, 2016</td>\n",
              "      <td>A172Y8313QKCNZ</td>\n",
              "      <td>B01HJHR2PM</td>\n",
              "      <td>NaN</td>\n",
              "      <td>spartacus</td>\n",
              "      <td>I received these earlier than expected. Have r...</td>\n",
              "      <td>One color</td>\n",
              "      <td>1474416000</td>\n",
              "      <td>NaN</td>\n",
              "      <td>[Arts, Crafts &amp; Sewing, Painting, Drawing &amp; Ar...</td>\n",
              "      <td></td>\n",
              "      <td>[&lt;b&gt;Features:&lt;/b&gt;&lt;br&gt; - Color: 12 colors.&lt;br&gt; ...</td>\n",
              "      <td></td>\n",
              "      <td>Mural Art 12 Colors Waterproof Metal Glass Fin...</td>\n",
              "      <td>[]</td>\n",
              "      <td>[https://images-na.ssl-images-amazon.com/image...</td>\n",
              "      <td></td>\n",
              "      <td>Mural Art</td>\n",
              "      <td>[Oil-based ink, writing smooth, waterproof, do...</td>\n",
              "      <td>[&gt;#1,395,108 in Home &amp; Kitchen (See Top 100 in...</td>\n",
              "      <td>[]</td>\n",
              "      <td>{}</td>\n",
              "      <td>Amazon Home</td>\n",
              "      <td></td>\n",
              "      <td></td>\n",
              "      <td>10.99</td>\n",
              "    </tr>\n",
              "  </tbody>\n",
              "</table>\n",
              "<p>2286798 rows × 29 columns</p>\n",
              "</div>"
            ],
            "text/plain": [
              "         overall  ...   price\n",
              "2041         5.0  ...    6.41\n",
              "2042         5.0  ...    6.41\n",
              "2043         5.0  ...    6.41\n",
              "2044         5.0  ...    6.41\n",
              "2046         4.0  ...  137.58\n",
              "...          ...  ...     ...\n",
              "2911384      3.0  ...   10.99\n",
              "2911385      5.0  ...   10.99\n",
              "2911386      5.0  ...   10.99\n",
              "2911387      1.0  ...   10.99\n",
              "2911388      1.0  ...   10.99\n",
              "\n",
              "[2286798 rows x 29 columns]"
            ]
          },
          "metadata": {
            "tags": []
          },
          "execution_count": 46
        }
      ]
    },
    {
      "cell_type": "code",
      "metadata": {
        "colab": {
          "base_uri": "https://localhost:8080/"
        },
        "id": "UdGvdkXwot_D",
        "outputId": "525819b4-13f4-4299-a6d9-88f34add6375"
      },
      "source": [
        "# 가격 최대/최소\n",
        "price_sort = total3['price'].unique()\n",
        "print(price_sort.max(), price_sort.min())"
      ],
      "execution_count": null,
      "outputs": [
        {
          "output_type": "stream",
          "text": [
            "14845.95 0.01\n"
          ],
          "name": "stdout"
        }
      ]
    },
    {
      "cell_type": "code",
      "metadata": {
        "colab": {
          "base_uri": "https://localhost:8080/"
        },
        "id": "4Xpv9ZMCsy87",
        "outputId": "c6b91efb-fee9-4ff7-b759-3d742b0b965f"
      },
      "source": [
        "# 가격 통계\n",
        "round(total3['price'].describe(), 3)"
      ],
      "execution_count": null,
      "outputs": [
        {
          "output_type": "execute_result",
          "data": {
            "text/plain": [
              "count    2286798.000\n",
              "mean          16.111\n",
              "std           42.178\n",
              "min            0.010\n",
              "25%            6.680\n",
              "50%            9.950\n",
              "75%           15.990\n",
              "max        14845.950\n",
              "Name: price, dtype: float64"
            ]
          },
          "metadata": {
            "tags": []
          },
          "execution_count": 48
        }
      ]
    },
    {
      "cell_type": "code",
      "metadata": {
        "colab": {
          "base_uri": "https://localhost:8080/"
        },
        "id": "4Az-9Ikkp6a0",
        "outputId": "3973fb17-60a7-4a28-b0dd-fa413d235c9c"
      },
      "source": [
        "total3[total3['price'] == 14845.95]['title'].tolist()"
      ],
      "execution_count": null,
      "outputs": [
        {
          "output_type": "execute_result",
          "data": {
            "text/plain": [
              "['CLEARSNAP Clear Scraps Border Stencils, 3 x 12, Waves']"
            ]
          },
          "metadata": {
            "tags": []
          },
          "execution_count": 49
        }
      ]
    },
    {
      "cell_type": "code",
      "metadata": {
        "colab": {
          "base_uri": "https://localhost:8080/"
        },
        "id": "y7xxlZVvvJQD",
        "outputId": "8469f60f-19f5-4ab2-9734-12d6164f8985"
      },
      "source": [
        "price_desc = np.sort(total3['price'])[::-1]\n",
        "price_desc[:5]"
      ],
      "execution_count": null,
      "outputs": [
        {
          "output_type": "execute_result",
          "data": {
            "text/plain": [
              "array([14845.95, 10995.  ,  9999.  ,  9999.  ,  9999.  ])"
            ]
          },
          "metadata": {
            "tags": []
          },
          "execution_count": 50
        }
      ]
    },
    {
      "cell_type": "code",
      "metadata": {
        "colab": {
          "base_uri": "https://localhost:8080/",
          "height": 185
        },
        "id": "89p7eqi0vejh",
        "outputId": "91446402-06de-4d5e-cda5-04d1e21a7ae2"
      },
      "source": [
        "total3[total3['price'] == 10995.00]"
      ],
      "execution_count": null,
      "outputs": [
        {
          "output_type": "execute_result",
          "data": {
            "text/html": [
              "<div>\n",
              "<style scoped>\n",
              "    .dataframe tbody tr th:only-of-type {\n",
              "        vertical-align: middle;\n",
              "    }\n",
              "\n",
              "    .dataframe tbody tr th {\n",
              "        vertical-align: top;\n",
              "    }\n",
              "\n",
              "    .dataframe thead th {\n",
              "        text-align: right;\n",
              "    }\n",
              "</style>\n",
              "<table border=\"1\" class=\"dataframe\">\n",
              "  <thead>\n",
              "    <tr style=\"text-align: right;\">\n",
              "      <th></th>\n",
              "      <th>overall</th>\n",
              "      <th>vote</th>\n",
              "      <th>verified</th>\n",
              "      <th>reviewTime</th>\n",
              "      <th>reviewerID</th>\n",
              "      <th>asin</th>\n",
              "      <th>style</th>\n",
              "      <th>reviewerName</th>\n",
              "      <th>reviewText</th>\n",
              "      <th>summary</th>\n",
              "      <th>unixReviewTime</th>\n",
              "      <th>image_x</th>\n",
              "      <th>category</th>\n",
              "      <th>tech1</th>\n",
              "      <th>description</th>\n",
              "      <th>fit</th>\n",
              "      <th>title</th>\n",
              "      <th>also_buy</th>\n",
              "      <th>image_y</th>\n",
              "      <th>tech2</th>\n",
              "      <th>brand</th>\n",
              "      <th>feature</th>\n",
              "      <th>rank</th>\n",
              "      <th>also_view</th>\n",
              "      <th>details</th>\n",
              "      <th>main_cat</th>\n",
              "      <th>similar_item</th>\n",
              "      <th>date</th>\n",
              "      <th>price</th>\n",
              "    </tr>\n",
              "  </thead>\n",
              "  <tbody>\n",
              "    <tr>\n",
              "      <th>2595876</th>\n",
              "      <td>5.0</td>\n",
              "      <td>NaN</td>\n",
              "      <td>False</td>\n",
              "      <td>08 31, 2015</td>\n",
              "      <td>A23ATE2DRL0EWU</td>\n",
              "      <td>B00OXFHNF8</td>\n",
              "      <td>NaN</td>\n",
              "      <td>SignSmoker</td>\n",
              "      <td>We have had one for years and love it! Great f...</td>\n",
              "      <td>We have had one for years and love it! Great f...</td>\n",
              "      <td>1440979200</td>\n",
              "      <td>NaN</td>\n",
              "      <td>[Arts, Crafts &amp; Sewing, Crafting, Craft Suppli...</td>\n",
              "      <td></td>\n",
              "      <td>[EGX-400 NO RETUNS Max. cutting area 16\"(X) x ...</td>\n",
              "      <td></td>\n",
              "      <td>EGX-400 Computer Engraver</td>\n",
              "      <td>[]</td>\n",
              "      <td>[https://images-na.ssl-images-amazon.com/image...</td>\n",
              "      <td></td>\n",
              "      <td>Roland DGA</td>\n",
              "      <td>[EGX-400 COMPUTER ENGRAVER, This Machine is no...</td>\n",
              "      <td>[&gt;#2,603,221 in Arts, Crafts &amp; Sewing (See Top...</td>\n",
              "      <td>[B07KYH6BTK, B00I0DGX0U, B07HP4LMN2, B00BKWOSL...</td>\n",
              "      <td>{}</td>\n",
              "      <td>Arts, Crafts &amp; Sewing</td>\n",
              "      <td></td>\n",
              "      <td></td>\n",
              "      <td>10995.0</td>\n",
              "    </tr>\n",
              "  </tbody>\n",
              "</table>\n",
              "</div>"
            ],
            "text/plain": [
              "         overall vote  verified  ... similar_item date    price\n",
              "2595876      5.0  NaN     False  ...                    10995.0\n",
              "\n",
              "[1 rows x 29 columns]"
            ]
          },
          "metadata": {
            "tags": []
          },
          "execution_count": 28
        }
      ]
    },
    {
      "cell_type": "code",
      "metadata": {
        "id": "SwEuFiqUopV8"
      },
      "source": [
        "def price_selector(a=0, b=0):\n",
        "  if a > 0 and b > 0:\n",
        "    review_df_x = total3[(total3.price > a) & (total3.price < b)]\n",
        "  elif b == 0:\n",
        "    review_df_x = total3[total3.price > a]\n",
        "  elif a == 0:\n",
        "    review_df_x = total3[total3.price < b]\n",
        "\n",
        "  return review_df_x"
      ],
      "execution_count": null,
      "outputs": []
    },
    {
      "cell_type": "code",
      "metadata": {
        "colab": {
          "base_uri": "https://localhost:8080/",
          "height": 1000
        },
        "id": "Bb4C9q5roq6E",
        "outputId": "2d34f2e7-6926-42fa-8173-ba377d0409b1"
      },
      "source": [
        "review_ex = price_selector(0, 1)\n",
        "review_ex"
      ],
      "execution_count": null,
      "outputs": [
        {
          "output_type": "execute_result",
          "data": {
            "text/html": [
              "<div>\n",
              "<style scoped>\n",
              "    .dataframe tbody tr th:only-of-type {\n",
              "        vertical-align: middle;\n",
              "    }\n",
              "\n",
              "    .dataframe tbody tr th {\n",
              "        vertical-align: top;\n",
              "    }\n",
              "\n",
              "    .dataframe thead th {\n",
              "        text-align: right;\n",
              "    }\n",
              "</style>\n",
              "<table border=\"1\" class=\"dataframe\">\n",
              "  <thead>\n",
              "    <tr style=\"text-align: right;\">\n",
              "      <th></th>\n",
              "      <th>overall</th>\n",
              "      <th>vote</th>\n",
              "      <th>verified</th>\n",
              "      <th>reviewTime</th>\n",
              "      <th>reviewerID</th>\n",
              "      <th>asin</th>\n",
              "      <th>style</th>\n",
              "      <th>reviewerName</th>\n",
              "      <th>reviewText</th>\n",
              "      <th>summary</th>\n",
              "      <th>unixReviewTime</th>\n",
              "      <th>image_x</th>\n",
              "      <th>category</th>\n",
              "      <th>tech1</th>\n",
              "      <th>description</th>\n",
              "      <th>fit</th>\n",
              "      <th>title</th>\n",
              "      <th>also_buy</th>\n",
              "      <th>image_y</th>\n",
              "      <th>tech2</th>\n",
              "      <th>brand</th>\n",
              "      <th>feature</th>\n",
              "      <th>rank</th>\n",
              "      <th>also_view</th>\n",
              "      <th>details</th>\n",
              "      <th>main_cat</th>\n",
              "      <th>similar_item</th>\n",
              "      <th>date</th>\n",
              "      <th>price</th>\n",
              "    </tr>\n",
              "  </thead>\n",
              "  <tbody>\n",
              "    <tr>\n",
              "      <th>2535</th>\n",
              "      <td>5.0</td>\n",
              "      <td>NaN</td>\n",
              "      <td>False</td>\n",
              "      <td>08 26, 2014</td>\n",
              "      <td>ANHBDJMK3M5RB</td>\n",
              "      <td>B000003OP3</td>\n",
              "      <td>{'Format:': ' Audio CD'}</td>\n",
              "      <td>Vernon L Hershberger</td>\n",
              "      <td>ok</td>\n",
              "      <td>Five Stars</td>\n",
              "      <td>1409011200</td>\n",
              "      <td>NaN</td>\n",
              "      <td>[Arts, Crafts &amp; Sewing, Needlework, Cross-Stit...</td>\n",
              "      <td></td>\n",
              "      <td>[Carl Butler and Pearl were an American countr...</td>\n",
              "      <td></td>\n",
              "      <td>Don't Let Me Cross Over</td>\n",
              "      <td>[B01LTHP1GA, B0000282TN, B07G1SFVT1, B000C3GWG...</td>\n",
              "      <td>[]</td>\n",
              "      <td></td>\n",
              "      <td>Carl &amp; Pearl Butler</td>\n",
              "      <td>[]</td>\n",
              "      <td>2,210,579 in CDs &amp; Vinyl (</td>\n",
              "      <td>[B0000282TN, B01LTHP1GA, B07G1SFVT1, B000003OO...</td>\n",
              "      <td>{'Audio CD': '(May 6, 1997)', 'Number of Discs...</td>\n",
              "      <td>&lt;img src=\"https://images-na.ssl-images-amazon....</td>\n",
              "      <td></td>\n",
              "      <td></td>\n",
              "      <td>0.70</td>\n",
              "    </tr>\n",
              "    <tr>\n",
              "      <th>2536</th>\n",
              "      <td>5.0</td>\n",
              "      <td>NaN</td>\n",
              "      <td>True</td>\n",
              "      <td>08 6, 2014</td>\n",
              "      <td>A14VKCD3KUFIK9</td>\n",
              "      <td>B000003OP3</td>\n",
              "      <td>{'Format:': ' Audio CD'}</td>\n",
              "      <td>LINDA L LEWIS</td>\n",
              "      <td>My husband loves this</td>\n",
              "      <td>Five Stars</td>\n",
              "      <td>1407283200</td>\n",
              "      <td>NaN</td>\n",
              "      <td>[Arts, Crafts &amp; Sewing, Needlework, Cross-Stit...</td>\n",
              "      <td></td>\n",
              "      <td>[Carl Butler and Pearl were an American countr...</td>\n",
              "      <td></td>\n",
              "      <td>Don't Let Me Cross Over</td>\n",
              "      <td>[B01LTHP1GA, B0000282TN, B07G1SFVT1, B000C3GWG...</td>\n",
              "      <td>[]</td>\n",
              "      <td></td>\n",
              "      <td>Carl &amp; Pearl Butler</td>\n",
              "      <td>[]</td>\n",
              "      <td>2,210,579 in CDs &amp; Vinyl (</td>\n",
              "      <td>[B0000282TN, B01LTHP1GA, B07G1SFVT1, B000003OO...</td>\n",
              "      <td>{'Audio CD': '(May 6, 1997)', 'Number of Discs...</td>\n",
              "      <td>&lt;img src=\"https://images-na.ssl-images-amazon....</td>\n",
              "      <td></td>\n",
              "      <td></td>\n",
              "      <td>0.70</td>\n",
              "    </tr>\n",
              "    <tr>\n",
              "      <th>2537</th>\n",
              "      <td>2.0</td>\n",
              "      <td>NaN</td>\n",
              "      <td>True</td>\n",
              "      <td>12 13, 2013</td>\n",
              "      <td>A38W15EVNZKC78</td>\n",
              "      <td>B000003OP3</td>\n",
              "      <td>{'Format:': ' Audio CD'}</td>\n",
              "      <td>Ann</td>\n",
              "      <td>I was disappointed in Don't Let Me Cross Over....</td>\n",
              "      <td>Disappointed in Don't Let Me Cross Over.</td>\n",
              "      <td>1386892800</td>\n",
              "      <td>NaN</td>\n",
              "      <td>[Arts, Crafts &amp; Sewing, Needlework, Cross-Stit...</td>\n",
              "      <td></td>\n",
              "      <td>[Carl Butler and Pearl were an American countr...</td>\n",
              "      <td></td>\n",
              "      <td>Don't Let Me Cross Over</td>\n",
              "      <td>[B01LTHP1GA, B0000282TN, B07G1SFVT1, B000C3GWG...</td>\n",
              "      <td>[]</td>\n",
              "      <td></td>\n",
              "      <td>Carl &amp; Pearl Butler</td>\n",
              "      <td>[]</td>\n",
              "      <td>2,210,579 in CDs &amp; Vinyl (</td>\n",
              "      <td>[B0000282TN, B01LTHP1GA, B07G1SFVT1, B000003OO...</td>\n",
              "      <td>{'Audio CD': '(May 6, 1997)', 'Number of Discs...</td>\n",
              "      <td>&lt;img src=\"https://images-na.ssl-images-amazon....</td>\n",
              "      <td></td>\n",
              "      <td></td>\n",
              "      <td>0.70</td>\n",
              "    </tr>\n",
              "    <tr>\n",
              "      <th>2538</th>\n",
              "      <td>5.0</td>\n",
              "      <td>NaN</td>\n",
              "      <td>True</td>\n",
              "      <td>05 9, 2013</td>\n",
              "      <td>A394T02VQOKZJ2</td>\n",
              "      <td>B000003OP3</td>\n",
              "      <td>{'Format:': ' Audio CD'}</td>\n",
              "      <td>Dudley K Sluder</td>\n",
              "      <td>I love duets from the 60's and this is right u...</td>\n",
              "      <td>50's and 60\"s country at its best.</td>\n",
              "      <td>1368057600</td>\n",
              "      <td>NaN</td>\n",
              "      <td>[Arts, Crafts &amp; Sewing, Needlework, Cross-Stit...</td>\n",
              "      <td></td>\n",
              "      <td>[Carl Butler and Pearl were an American countr...</td>\n",
              "      <td></td>\n",
              "      <td>Don't Let Me Cross Over</td>\n",
              "      <td>[B01LTHP1GA, B0000282TN, B07G1SFVT1, B000C3GWG...</td>\n",
              "      <td>[]</td>\n",
              "      <td></td>\n",
              "      <td>Carl &amp; Pearl Butler</td>\n",
              "      <td>[]</td>\n",
              "      <td>2,210,579 in CDs &amp; Vinyl (</td>\n",
              "      <td>[B0000282TN, B01LTHP1GA, B07G1SFVT1, B000003OO...</td>\n",
              "      <td>{'Audio CD': '(May 6, 1997)', 'Number of Discs...</td>\n",
              "      <td>&lt;img src=\"https://images-na.ssl-images-amazon....</td>\n",
              "      <td></td>\n",
              "      <td></td>\n",
              "      <td>0.70</td>\n",
              "    </tr>\n",
              "    <tr>\n",
              "      <th>2539</th>\n",
              "      <td>5.0</td>\n",
              "      <td>NaN</td>\n",
              "      <td>True</td>\n",
              "      <td>02 10, 2013</td>\n",
              "      <td>A1QVJLIANHN54P</td>\n",
              "      <td>B000003OP3</td>\n",
              "      <td>{'Format:': ' Audio CD'}</td>\n",
              "      <td>Raymond E. Marshall</td>\n",
              "      <td>I greatly enjoy this classic country music and...</td>\n",
              "      <td>Great</td>\n",
              "      <td>1360454400</td>\n",
              "      <td>NaN</td>\n",
              "      <td>[Arts, Crafts &amp; Sewing, Needlework, Cross-Stit...</td>\n",
              "      <td></td>\n",
              "      <td>[Carl Butler and Pearl were an American countr...</td>\n",
              "      <td></td>\n",
              "      <td>Don't Let Me Cross Over</td>\n",
              "      <td>[B01LTHP1GA, B0000282TN, B07G1SFVT1, B000C3GWG...</td>\n",
              "      <td>[]</td>\n",
              "      <td></td>\n",
              "      <td>Carl &amp; Pearl Butler</td>\n",
              "      <td>[]</td>\n",
              "      <td>2,210,579 in CDs &amp; Vinyl (</td>\n",
              "      <td>[B0000282TN, B01LTHP1GA, B07G1SFVT1, B000003OO...</td>\n",
              "      <td>{'Audio CD': '(May 6, 1997)', 'Number of Discs...</td>\n",
              "      <td>&lt;img src=\"https://images-na.ssl-images-amazon....</td>\n",
              "      <td></td>\n",
              "      <td></td>\n",
              "      <td>0.70</td>\n",
              "    </tr>\n",
              "    <tr>\n",
              "      <th>...</th>\n",
              "      <td>...</td>\n",
              "      <td>...</td>\n",
              "      <td>...</td>\n",
              "      <td>...</td>\n",
              "      <td>...</td>\n",
              "      <td>...</td>\n",
              "      <td>...</td>\n",
              "      <td>...</td>\n",
              "      <td>...</td>\n",
              "      <td>...</td>\n",
              "      <td>...</td>\n",
              "      <td>...</td>\n",
              "      <td>...</td>\n",
              "      <td>...</td>\n",
              "      <td>...</td>\n",
              "      <td>...</td>\n",
              "      <td>...</td>\n",
              "      <td>...</td>\n",
              "      <td>...</td>\n",
              "      <td>...</td>\n",
              "      <td>...</td>\n",
              "      <td>...</td>\n",
              "      <td>...</td>\n",
              "      <td>...</td>\n",
              "      <td>...</td>\n",
              "      <td>...</td>\n",
              "      <td>...</td>\n",
              "      <td>...</td>\n",
              "      <td>...</td>\n",
              "    </tr>\n",
              "    <tr>\n",
              "      <th>2899904</th>\n",
              "      <td>5.0</td>\n",
              "      <td>NaN</td>\n",
              "      <td>True</td>\n",
              "      <td>12 25, 2016</td>\n",
              "      <td>A2WLAJYAP9P995</td>\n",
              "      <td>B01GM7Y9TC</td>\n",
              "      <td>NaN</td>\n",
              "      <td>SandyS</td>\n",
              "      <td>excellent product AS PROMISED</td>\n",
              "      <td>Five Stars</td>\n",
              "      <td>1482624000</td>\n",
              "      <td>NaN</td>\n",
              "      <td>[Arts, Crafts &amp; Sewing, Fabric]</td>\n",
              "      <td></td>\n",
              "      <td>[Nickel-Copper Rip-Stop (Anti-Rip) RF Shieldin...</td>\n",
              "      <td></td>\n",
              "      <td>Faraday Defense RFID Shielding Nickel Copper R...</td>\n",
              "      <td>[]</td>\n",
              "      <td>[https://images-na.ssl-images-amazon.com/image...</td>\n",
              "      <td></td>\n",
              "      <td>Faraday Defense</td>\n",
              "      <td>[High Performance Copper Nickel Anti-Rip Rip-S...</td>\n",
              "      <td>[&gt;#221,979 in Electronics (See Top 100 in Elec...</td>\n",
              "      <td>[B01M294MGK, B01HPFAV6K, B075WCRP1V, B01LBFCJ7...</td>\n",
              "      <td>{}</td>\n",
              "      <td>Computers</td>\n",
              "      <td></td>\n",
              "      <td>June 28, 2016</td>\n",
              "      <td>0.37</td>\n",
              "    </tr>\n",
              "    <tr>\n",
              "      <th>2903707</th>\n",
              "      <td>5.0</td>\n",
              "      <td>NaN</td>\n",
              "      <td>True</td>\n",
              "      <td>04 2, 2018</td>\n",
              "      <td>A325V74R30F56O</td>\n",
              "      <td>B01GYES8F4</td>\n",
              "      <td>{'Size:': ' 39x7mm'}</td>\n",
              "      <td>T. Lewis</td>\n",
              "      <td>These make great shoelace tags that don't rust...</td>\n",
              "      <td>Great quality and size. I've ordered several t...</td>\n",
              "      <td>1522627200</td>\n",
              "      <td>NaN</td>\n",
              "      <td>[Arts, Crafts &amp; Sewing, Beading &amp; Jewelry Maki...</td>\n",
              "      <td></td>\n",
              "      <td>[&lt;b&gt;Description&lt;/b&gt;&lt;br&gt;&lt;br&gt;*100% brand new ite...</td>\n",
              "      <td></td>\n",
              "      <td>HooAMI 15pcs Stainless Steel ID Tag Connector ...</td>\n",
              "      <td>[B0154AVSK6, B018GLUCS4]</td>\n",
              "      <td>[https://images-na.ssl-images-amazon.com/image...</td>\n",
              "      <td></td>\n",
              "      <td>HooAMI</td>\n",
              "      <td>[Material: Stainless Steel, Quantity:15pcs, Le...</td>\n",
              "      <td>[&gt;#332,134 in Arts, Crafts &amp; Sewing (See Top 1...</td>\n",
              "      <td>[B07KD4SB8M, B01DMD4VRY, B06XJ8CFFH]</td>\n",
              "      <td>{}</td>\n",
              "      <td>Arts, Crafts &amp; Sewing</td>\n",
              "      <td></td>\n",
              "      <td></td>\n",
              "      <td>0.59</td>\n",
              "    </tr>\n",
              "    <tr>\n",
              "      <th>2903708</th>\n",
              "      <td>1.0</td>\n",
              "      <td>NaN</td>\n",
              "      <td>True</td>\n",
              "      <td>06 14, 2017</td>\n",
              "      <td>A3JW1U3AL9CEFF</td>\n",
              "      <td>B01GYES8F4</td>\n",
              "      <td>{'Size:': ' 39x10mm'}</td>\n",
              "      <td>Roberta Raban</td>\n",
              "      <td>These were very hard to imprint on!</td>\n",
              "      <td>One Star</td>\n",
              "      <td>1497398400</td>\n",
              "      <td>NaN</td>\n",
              "      <td>[Arts, Crafts &amp; Sewing, Beading &amp; Jewelry Maki...</td>\n",
              "      <td></td>\n",
              "      <td>[&lt;b&gt;Description&lt;/b&gt;&lt;br&gt;&lt;br&gt;*100% brand new ite...</td>\n",
              "      <td></td>\n",
              "      <td>HooAMI 15pcs Stainless Steel ID Tag Connector ...</td>\n",
              "      <td>[B0154AVSK6, B018GLUCS4]</td>\n",
              "      <td>[https://images-na.ssl-images-amazon.com/image...</td>\n",
              "      <td></td>\n",
              "      <td>HooAMI</td>\n",
              "      <td>[Material: Stainless Steel, Quantity:15pcs, Le...</td>\n",
              "      <td>[&gt;#332,134 in Arts, Crafts &amp; Sewing (See Top 1...</td>\n",
              "      <td>[B07KD4SB8M, B01DMD4VRY, B06XJ8CFFH]</td>\n",
              "      <td>{}</td>\n",
              "      <td>Arts, Crafts &amp; Sewing</td>\n",
              "      <td></td>\n",
              "      <td></td>\n",
              "      <td>0.59</td>\n",
              "    </tr>\n",
              "    <tr>\n",
              "      <th>2903709</th>\n",
              "      <td>3.0</td>\n",
              "      <td>NaN</td>\n",
              "      <td>True</td>\n",
              "      <td>06 13, 2017</td>\n",
              "      <td>AJWPVGK6L2ZGE</td>\n",
              "      <td>B01GYES8F4</td>\n",
              "      <td>{'Size:': ' 39x10mm'}</td>\n",
              "      <td>Mike/Dave</td>\n",
              "      <td>They are ok</td>\n",
              "      <td>Three Stars</td>\n",
              "      <td>1497312000</td>\n",
              "      <td>NaN</td>\n",
              "      <td>[Arts, Crafts &amp; Sewing, Beading &amp; Jewelry Maki...</td>\n",
              "      <td></td>\n",
              "      <td>[&lt;b&gt;Description&lt;/b&gt;&lt;br&gt;&lt;br&gt;*100% brand new ite...</td>\n",
              "      <td></td>\n",
              "      <td>HooAMI 15pcs Stainless Steel ID Tag Connector ...</td>\n",
              "      <td>[B0154AVSK6, B018GLUCS4]</td>\n",
              "      <td>[https://images-na.ssl-images-amazon.com/image...</td>\n",
              "      <td></td>\n",
              "      <td>HooAMI</td>\n",
              "      <td>[Material: Stainless Steel, Quantity:15pcs, Le...</td>\n",
              "      <td>[&gt;#332,134 in Arts, Crafts &amp; Sewing (See Top 1...</td>\n",
              "      <td>[B07KD4SB8M, B01DMD4VRY, B06XJ8CFFH]</td>\n",
              "      <td>{}</td>\n",
              "      <td>Arts, Crafts &amp; Sewing</td>\n",
              "      <td></td>\n",
              "      <td></td>\n",
              "      <td>0.59</td>\n",
              "    </tr>\n",
              "    <tr>\n",
              "      <th>2910358</th>\n",
              "      <td>4.0</td>\n",
              "      <td>NaN</td>\n",
              "      <td>True</td>\n",
              "      <td>01 12, 2017</td>\n",
              "      <td>A35ZZV2LVZEJC8</td>\n",
              "      <td>B01HGGCT6S</td>\n",
              "      <td>NaN</td>\n",
              "      <td>Beth Gomez</td>\n",
              "      <td>on time and represented well</td>\n",
              "      <td>Four Stars</td>\n",
              "      <td>1484179200</td>\n",
              "      <td>NaN</td>\n",
              "      <td>[Arts, Crafts &amp; Sewing, Beading &amp; Jewelry Maki...</td>\n",
              "      <td></td>\n",
              "      <td>[Hellocrafts Store supplies various jewelry ac...</td>\n",
              "      <td></td>\n",
              "      <td>Souarts Women Random Mixed Bronze Color Hamsa ...</td>\n",
              "      <td>[B01HGGCWTC, B01EIW1LCQ, B00OHRMP6Y]</td>\n",
              "      <td>[https://images-na.ssl-images-amazon.com/image...</td>\n",
              "      <td></td>\n",
              "      <td>Souarts</td>\n",
              "      <td>[The hole size is 1mm to 3.5mm, The material i...</td>\n",
              "      <td>[&gt;#151,647 in Arts, Crafts &amp; Sewing (See Top 1...</td>\n",
              "      <td>[B01HGGCWTC, B01N20RIW1, B07BGW8H6P, B01LI57LA...</td>\n",
              "      <td>{}</td>\n",
              "      <td>Arts, Crafts &amp; Sewing</td>\n",
              "      <td></td>\n",
              "      <td></td>\n",
              "      <td>0.01</td>\n",
              "    </tr>\n",
              "  </tbody>\n",
              "</table>\n",
              "<p>3319 rows × 29 columns</p>\n",
              "</div>"
            ],
            "text/plain": [
              "         overall vote  verified  ... similar_item           date price\n",
              "2535         5.0  NaN     False  ...                              0.70\n",
              "2536         5.0  NaN      True  ...                              0.70\n",
              "2537         2.0  NaN      True  ...                              0.70\n",
              "2538         5.0  NaN      True  ...                              0.70\n",
              "2539         5.0  NaN      True  ...                              0.70\n",
              "...          ...  ...       ...  ...          ...            ...   ...\n",
              "2899904      5.0  NaN      True  ...               June 28, 2016  0.37\n",
              "2903707      5.0  NaN      True  ...                              0.59\n",
              "2903708      1.0  NaN      True  ...                              0.59\n",
              "2903709      3.0  NaN      True  ...                              0.59\n",
              "2910358      4.0  NaN      True  ...                              0.01\n",
              "\n",
              "[3319 rows x 29 columns]"
            ]
          },
          "metadata": {
            "tags": []
          },
          "execution_count": 53
        }
      ]
    },
    {
      "cell_type": "code",
      "metadata": {
        "colab": {
          "base_uri": "https://localhost:8080/",
          "height": 592
        },
        "id": "OuVXtsuy6X5z",
        "outputId": "2138ed0d-cd16-495a-e7f2-1cf4f4e8bb1b"
      },
      "source": [
        "review_ex['title'][293707]"
      ],
      "execution_count": null,
      "outputs": [
        {
          "output_type": "error",
          "ename": "KeyError",
          "evalue": "ignored",
          "traceback": [
            "\u001b[0;31m---------------------------------------------------------------------------\u001b[0m",
            "\u001b[0;31mKeyError\u001b[0m                                  Traceback (most recent call last)",
            "\u001b[0;32m/usr/local/lib/python3.7/dist-packages/pandas/core/indexes/base.py\u001b[0m in \u001b[0;36mget_loc\u001b[0;34m(self, key, method, tolerance)\u001b[0m\n\u001b[1;32m   2897\u001b[0m             \u001b[0;32mtry\u001b[0m\u001b[0;34m:\u001b[0m\u001b[0;34m\u001b[0m\u001b[0;34m\u001b[0m\u001b[0m\n\u001b[0;32m-> 2898\u001b[0;31m                 \u001b[0;32mreturn\u001b[0m \u001b[0mself\u001b[0m\u001b[0;34m.\u001b[0m\u001b[0m_engine\u001b[0m\u001b[0;34m.\u001b[0m\u001b[0mget_loc\u001b[0m\u001b[0;34m(\u001b[0m\u001b[0mcasted_key\u001b[0m\u001b[0;34m)\u001b[0m\u001b[0;34m\u001b[0m\u001b[0;34m\u001b[0m\u001b[0m\n\u001b[0m\u001b[1;32m   2899\u001b[0m             \u001b[0;32mexcept\u001b[0m \u001b[0mKeyError\u001b[0m \u001b[0;32mas\u001b[0m \u001b[0merr\u001b[0m\u001b[0;34m:\u001b[0m\u001b[0;34m\u001b[0m\u001b[0;34m\u001b[0m\u001b[0m\n",
            "\u001b[0;32mpandas/_libs/index.pyx\u001b[0m in \u001b[0;36mpandas._libs.index.IndexEngine.get_loc\u001b[0;34m()\u001b[0m\n",
            "\u001b[0;32mpandas/_libs/index.pyx\u001b[0m in \u001b[0;36mpandas._libs.index.IndexEngine.get_loc\u001b[0;34m()\u001b[0m\n",
            "\u001b[0;32mpandas/_libs/hashtable_class_helper.pxi\u001b[0m in \u001b[0;36mpandas._libs.hashtable.Int64HashTable.get_item\u001b[0;34m()\u001b[0m\n",
            "\u001b[0;32mpandas/_libs/hashtable_class_helper.pxi\u001b[0m in \u001b[0;36mpandas._libs.hashtable.Int64HashTable.get_item\u001b[0;34m()\u001b[0m\n",
            "\u001b[0;31mKeyError\u001b[0m: 293707",
            "\nThe above exception was the direct cause of the following exception:\n",
            "\u001b[0;31mKeyError\u001b[0m                                  Traceback (most recent call last)",
            "\u001b[0;32m<ipython-input-73-1b7df75b3073>\u001b[0m in \u001b[0;36m<module>\u001b[0;34m()\u001b[0m\n\u001b[0;32m----> 1\u001b[0;31m \u001b[0mreview_ex\u001b[0m\u001b[0;34m[\u001b[0m\u001b[0;34m'title'\u001b[0m\u001b[0;34m]\u001b[0m\u001b[0;34m[\u001b[0m\u001b[0;36m293707\u001b[0m\u001b[0;34m]\u001b[0m\u001b[0;34m\u001b[0m\u001b[0;34m\u001b[0m\u001b[0m\n\u001b[0m",
            "\u001b[0;32m/usr/local/lib/python3.7/dist-packages/pandas/core/series.py\u001b[0m in \u001b[0;36m__getitem__\u001b[0;34m(self, key)\u001b[0m\n\u001b[1;32m    880\u001b[0m \u001b[0;34m\u001b[0m\u001b[0m\n\u001b[1;32m    881\u001b[0m         \u001b[0;32melif\u001b[0m \u001b[0mkey_is_scalar\u001b[0m\u001b[0;34m:\u001b[0m\u001b[0;34m\u001b[0m\u001b[0;34m\u001b[0m\u001b[0m\n\u001b[0;32m--> 882\u001b[0;31m             \u001b[0;32mreturn\u001b[0m \u001b[0mself\u001b[0m\u001b[0;34m.\u001b[0m\u001b[0m_get_value\u001b[0m\u001b[0;34m(\u001b[0m\u001b[0mkey\u001b[0m\u001b[0;34m)\u001b[0m\u001b[0;34m\u001b[0m\u001b[0;34m\u001b[0m\u001b[0m\n\u001b[0m\u001b[1;32m    883\u001b[0m \u001b[0;34m\u001b[0m\u001b[0m\n\u001b[1;32m    884\u001b[0m         \u001b[0;32mif\u001b[0m \u001b[0mis_hashable\u001b[0m\u001b[0;34m(\u001b[0m\u001b[0mkey\u001b[0m\u001b[0;34m)\u001b[0m\u001b[0;34m:\u001b[0m\u001b[0;34m\u001b[0m\u001b[0;34m\u001b[0m\u001b[0m\n",
            "\u001b[0;32m/usr/local/lib/python3.7/dist-packages/pandas/core/series.py\u001b[0m in \u001b[0;36m_get_value\u001b[0;34m(self, label, takeable)\u001b[0m\n\u001b[1;32m    988\u001b[0m \u001b[0;34m\u001b[0m\u001b[0m\n\u001b[1;32m    989\u001b[0m         \u001b[0;31m# Similar to Index.get_value, but we do not fall back to positional\u001b[0m\u001b[0;34m\u001b[0m\u001b[0;34m\u001b[0m\u001b[0;34m\u001b[0m\u001b[0m\n\u001b[0;32m--> 990\u001b[0;31m         \u001b[0mloc\u001b[0m \u001b[0;34m=\u001b[0m \u001b[0mself\u001b[0m\u001b[0;34m.\u001b[0m\u001b[0mindex\u001b[0m\u001b[0;34m.\u001b[0m\u001b[0mget_loc\u001b[0m\u001b[0;34m(\u001b[0m\u001b[0mlabel\u001b[0m\u001b[0;34m)\u001b[0m\u001b[0;34m\u001b[0m\u001b[0;34m\u001b[0m\u001b[0m\n\u001b[0m\u001b[1;32m    991\u001b[0m         \u001b[0;32mreturn\u001b[0m \u001b[0mself\u001b[0m\u001b[0;34m.\u001b[0m\u001b[0mindex\u001b[0m\u001b[0;34m.\u001b[0m\u001b[0m_get_values_for_loc\u001b[0m\u001b[0;34m(\u001b[0m\u001b[0mself\u001b[0m\u001b[0;34m,\u001b[0m \u001b[0mloc\u001b[0m\u001b[0;34m,\u001b[0m \u001b[0mlabel\u001b[0m\u001b[0;34m)\u001b[0m\u001b[0;34m\u001b[0m\u001b[0;34m\u001b[0m\u001b[0m\n\u001b[1;32m    992\u001b[0m \u001b[0;34m\u001b[0m\u001b[0m\n",
            "\u001b[0;32m/usr/local/lib/python3.7/dist-packages/pandas/core/indexes/base.py\u001b[0m in \u001b[0;36mget_loc\u001b[0;34m(self, key, method, tolerance)\u001b[0m\n\u001b[1;32m   2898\u001b[0m                 \u001b[0;32mreturn\u001b[0m \u001b[0mself\u001b[0m\u001b[0;34m.\u001b[0m\u001b[0m_engine\u001b[0m\u001b[0;34m.\u001b[0m\u001b[0mget_loc\u001b[0m\u001b[0;34m(\u001b[0m\u001b[0mcasted_key\u001b[0m\u001b[0;34m)\u001b[0m\u001b[0;34m\u001b[0m\u001b[0;34m\u001b[0m\u001b[0m\n\u001b[1;32m   2899\u001b[0m             \u001b[0;32mexcept\u001b[0m \u001b[0mKeyError\u001b[0m \u001b[0;32mas\u001b[0m \u001b[0merr\u001b[0m\u001b[0;34m:\u001b[0m\u001b[0;34m\u001b[0m\u001b[0;34m\u001b[0m\u001b[0m\n\u001b[0;32m-> 2900\u001b[0;31m                 \u001b[0;32mraise\u001b[0m \u001b[0mKeyError\u001b[0m\u001b[0;34m(\u001b[0m\u001b[0mkey\u001b[0m\u001b[0;34m)\u001b[0m \u001b[0;32mfrom\u001b[0m \u001b[0merr\u001b[0m\u001b[0;34m\u001b[0m\u001b[0;34m\u001b[0m\u001b[0m\n\u001b[0m\u001b[1;32m   2901\u001b[0m \u001b[0;34m\u001b[0m\u001b[0m\n\u001b[1;32m   2902\u001b[0m         \u001b[0;32mif\u001b[0m \u001b[0mtolerance\u001b[0m \u001b[0;32mis\u001b[0m \u001b[0;32mnot\u001b[0m \u001b[0;32mNone\u001b[0m\u001b[0;34m:\u001b[0m\u001b[0;34m\u001b[0m\u001b[0;34m\u001b[0m\u001b[0m\n",
            "\u001b[0;31mKeyError\u001b[0m: 293707"
          ]
        }
      ]
    }
  ]
}
