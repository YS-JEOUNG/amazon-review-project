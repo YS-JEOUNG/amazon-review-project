{
  "nbformat": 4,
  "nbformat_minor": 0,
  "metadata": {
    "colab": {
      "name": "artscrafts_wordvec.ipynb",
      "provenance": [],
      "mount_file_id": "1V_7tMnV4cdPyLCUbwTWMzDUCZDDbYhrC",
      "authorship_tag": "ABX9TyMD8LPgTtIKzDIy2qjPMuRt",
      "include_colab_link": true
    },
    "kernelspec": {
      "name": "python3",
      "display_name": "Python 3"
    },
    "language_info": {
      "name": "python"
    },
    "accelerator": "GPU"
  },
  "cells": [
    {
      "cell_type": "markdown",
      "metadata": {
        "id": "view-in-github",
        "colab_type": "text"
      },
      "source": [
        "<a href=\"https://colab.research.google.com/github/YS-JEOUNG/amazon-review-project/blob/main/code/artscrafts_wordvec.ipynb\" target=\"_parent\"><img src=\"https://colab.research.google.com/assets/colab-badge.svg\" alt=\"Open In Colab\"/></a>"
      ]
    },
    {
      "cell_type": "markdown",
      "metadata": {
        "id": "Heb8nFJMY-Ri"
      },
      "source": [
        "# Imports"
      ]
    },
    {
      "cell_type": "code",
      "metadata": {
        "colab": {
          "base_uri": "https://localhost:8080/"
        },
        "id": "yvFsPqleYCDF",
        "outputId": "4ffd34de-c070-4de7-a206-fd787b57c4fa"
      },
      "source": [
        "import pandas as pd\n",
        "import numpy as np\n",
        "from sklearn.model_selection import train_test_split\n",
        "from keras.preprocessing.text import Tokenizer\n",
        "from keras.preprocessing import sequence\n",
        "from keras.preprocessing.sequence import pad_sequences\n",
        "from keras.utils import np_utils\n",
        "import gensim\n",
        "import nltk\n",
        "from gensim.models.word2vec import Word2Vec\n",
        "import tensorflow as tf\n",
        "from tqdm import tqdm\n",
        "tqdm.pandas(desc='progress-bar')\n",
        "nltk.download('stopwords')\n",
        "import re\n",
        "import matplotlib.pyplot as plt"
      ],
      "execution_count": null,
      "outputs": [
        {
          "output_type": "stream",
          "text": [
            "[nltk_data] Downloading package stopwords to /root/nltk_data...\n",
            "[nltk_data]   Unzipping corpora/stopwords.zip.\n"
          ],
          "name": "stdout"
        },
        {
          "output_type": "stream",
          "text": [
            "/usr/local/lib/python3.7/dist-packages/tqdm/std.py:658: FutureWarning: The Panel class is removed from pandas. Accessing it from the top-level namespace will also be removed in the next version\n",
            "  from pandas import Panel\n"
          ],
          "name": "stderr"
        }
      ]
    },
    {
      "cell_type": "markdown",
      "metadata": {
        "id": "1C0l3pIfaCka"
      },
      "source": [
        "# Data"
      ]
    },
    {
      "cell_type": "code",
      "metadata": {
        "id": "utLjF_mBZdSZ"
      },
      "source": [
        "df = pd.read_csv('/content/drive/MyDrive/Colab Notebooks/project/arts_total_cleaned.csv')"
      ],
      "execution_count": null,
      "outputs": []
    },
    {
      "cell_type": "code",
      "metadata": {
        "colab": {
          "base_uri": "https://localhost:8080/"
        },
        "id": "46sMvVQSZwYF",
        "outputId": "5826f193-5e38-45a2-ab59-b3ec8d74e330"
      },
      "source": [
        "df.info()"
      ],
      "execution_count": null,
      "outputs": [
        {
          "output_type": "stream",
          "text": [
            "<class 'pandas.core.frame.DataFrame'>\n",
            "RangeIndex: 130133 entries, 0 to 130132\n",
            "Data columns (total 20 columns):\n",
            " #   Column            Non-Null Count   Dtype  \n",
            "---  ------            --------------   -----  \n",
            " 0   overall           130133 non-null  float64\n",
            " 1   vote              130133 non-null  int64  \n",
            " 2   verified          130133 non-null  bool   \n",
            " 3   reviewer_id       130133 non-null  object \n",
            " 4   asin              130133 non-null  object \n",
            " 5   style             130133 non-null  object \n",
            " 6   reviewer_name     130128 non-null  object \n",
            " 7   unix_review_time  130133 non-null  int64  \n",
            " 8   category          130133 non-null  object \n",
            " 9   description       130133 non-null  object \n",
            " 10  title             130133 non-null  object \n",
            " 11  brand             129770 non-null  object \n",
            " 12  rank              130133 non-null  object \n",
            " 13  main_cat          129791 non-null  object \n",
            " 14  date              20908 non-null   object \n",
            " 15  price             115105 non-null  object \n",
            " 16  review_text       130133 non-null  object \n",
            " 17  rating_class      130133 non-null  object \n",
            " 18  time              130133 non-null  object \n",
            " 19  clean_text        130133 non-null  object \n",
            "dtypes: bool(1), float64(1), int64(2), object(16)\n",
            "memory usage: 19.0+ MB\n"
          ],
          "name": "stdout"
        }
      ]
    },
    {
      "cell_type": "code",
      "metadata": {
        "id": "51hzFom4Zynf"
      },
      "source": [
        "df['rating_class'] = df['rating_class'].apply(lambda x: 0 if x == 'bad' else 1)\n",
        "X = df['clean_text']\n",
        "y = df['rating_class']"
      ],
      "execution_count": null,
      "outputs": []
    },
    {
      "cell_type": "markdown",
      "metadata": {
        "id": "uGTOoPNfaAwD"
      },
      "source": [
        "# Tokenizer"
      ]
    },
    {
      "cell_type": "code",
      "metadata": {
        "colab": {
          "base_uri": "https://localhost:8080/"
        },
        "id": "2DVjLpLSZ_sF",
        "outputId": "2a5dca5b-9ada-4320-bca0-9479a216b01d"
      },
      "source": [
        "samples = X\n",
        "tokenizer = Tokenizer(lower=True, split=' ')\n",
        "tokenizer.fit_on_texts(samples)\n",
        "sequences = tokenizer.texts_to_sequences(samples)\n",
        "word_index = tokenizer.word_index\n",
        "print(f'Found {len(word_index)} unique tokens.')"
      ],
      "execution_count": null,
      "outputs": [
        {
          "output_type": "stream",
          "text": [
            "Found 71148 unique tokens.\n"
          ],
          "name": "stdout"
        }
      ]
    },
    {
      "cell_type": "code",
      "metadata": {
        "colab": {
          "base_uri": "https://localhost:8080/"
        },
        "id": "DWB2QHdaaUEA",
        "outputId": "438b723e-db10-4dfd-f9d7-f24e7199a35f"
      },
      "source": [
        "sequences[0]"
      ],
      "execution_count": null,
      "outputs": [
        {
          "output_type": "execute_result",
          "data": {
            "text/plain": [
              "[30,\n",
              " 44,\n",
              " 1933,\n",
              " 191,\n",
              " 189,\n",
              " 56,\n",
              " 533,\n",
              " 1096,\n",
              " 343,\n",
              " 6086,\n",
              " 1933,\n",
              " 223,\n",
              " 8,\n",
              " 8,\n",
              " 3219,\n",
              " 15850,\n",
              " 343,\n",
              " 60,\n",
              " 3177,\n",
              " 2855,\n",
              " 129,\n",
              " 301,\n",
              " 930,\n",
              " 151,\n",
              " 8]"
            ]
          },
          "metadata": {
            "tags": []
          },
          "execution_count": 6
        }
      ]
    },
    {
      "cell_type": "code",
      "metadata": {
        "id": "ZY20LIxRac3W"
      },
      "source": [
        "reverse_word_index = dict([(value, key) for (key, value) in word_index.items()])\n",
        "decoded_review = ' '.join([reverse_word_index.get(i-3, '?') for i in sequences[0]])"
      ],
      "execution_count": null,
      "outputs": []
    },
    {
      "cell_type": "code",
      "metadata": {
        "id": "4gFPD7t9be2m"
      },
      "source": [
        "def sequence_to_text(sequence):\n",
        "    words = [reverse_word_index.get(letter) for letter in sequence]\n",
        "    return words"
      ],
      "execution_count": null,
      "outputs": []
    },
    {
      "cell_type": "code",
      "metadata": {
        "id": "gb7RVvtcblsl"
      },
      "source": [
        "my_text = list(map(sequence_to_text, sequences))"
      ],
      "execution_count": null,
      "outputs": []
    },
    {
      "cell_type": "code",
      "metadata": {
        "colab": {
          "base_uri": "https://localhost:8080/"
        },
        "id": "ulR6oiUUbodC",
        "outputId": "edbcc37c-78d9-475e-c44a-f48dd624bac2"
      },
      "source": [
        "sequences[0]"
      ],
      "execution_count": null,
      "outputs": [
        {
          "output_type": "execute_result",
          "data": {
            "text/plain": [
              "[30,\n",
              " 44,\n",
              " 1933,\n",
              " 191,\n",
              " 189,\n",
              " 56,\n",
              " 533,\n",
              " 1096,\n",
              " 343,\n",
              " 6086,\n",
              " 1933,\n",
              " 223,\n",
              " 8,\n",
              " 8,\n",
              " 3219,\n",
              " 15850,\n",
              " 343,\n",
              " 60,\n",
              " 3177,\n",
              " 2855,\n",
              " 129,\n",
              " 301,\n",
              " 930,\n",
              " 151,\n",
              " 8]"
            ]
          },
          "metadata": {
            "tags": []
          },
          "execution_count": 10
        }
      ]
    },
    {
      "cell_type": "markdown",
      "metadata": {
        "id": "3fdqr8XvbtLg"
      },
      "source": [
        "# Word2Vec and Simple Neural Network"
      ]
    },
    {
      "cell_type": "code",
      "metadata": {
        "id": "BxiSDIwAbqgJ"
      },
      "source": [
        "word2vec = gensim.models.Word2Vec(my_text, size=100, window=10, min_count=1)"
      ],
      "execution_count": null,
      "outputs": []
    },
    {
      "cell_type": "code",
      "metadata": {
        "colab": {
          "base_uri": "https://localhost:8080/"
        },
        "id": "SuNpXFPRf-F5",
        "outputId": "39a67b48-478f-45a9-e8af-66b8277a4689"
      },
      "source": [
        "from nltk import word_tokenize, sent_tokenize\n",
        "nltk.download('punkt')\n",
        "nltk.download('stopwords')\n",
        "nltk.download('wordnet')"
      ],
      "execution_count": null,
      "outputs": [
        {
          "output_type": "stream",
          "text": [
            "[nltk_data] Downloading package punkt to /root/nltk_data...\n",
            "[nltk_data]   Package punkt is already up-to-date!\n",
            "[nltk_data] Downloading package stopwords to /root/nltk_data...\n",
            "[nltk_data]   Package stopwords is already up-to-date!\n",
            "[nltk_data] Downloading package wordnet to /root/nltk_data...\n",
            "[nltk_data]   Package wordnet is already up-to-date!\n"
          ],
          "name": "stdout"
        },
        {
          "output_type": "execute_result",
          "data": {
            "text/plain": [
              "True"
            ]
          },
          "metadata": {
            "tags": []
          },
          "execution_count": 17
        }
      ]
    },
    {
      "cell_type": "code",
      "metadata": {
        "colab": {
          "base_uri": "https://localhost:8080/"
        },
        "id": "dIVapASBfmFK",
        "outputId": "5b9f51f4-38e8-484f-af1f-4d3e258acd94"
      },
      "source": [
        "# word2vec에서 total_examples 혹은 total_words 파라미터를 필수로 줘야 하는데\n",
        "# 그 개수가 뭔지 몰라서 total_words(raw tokens) 개수 찾기\n",
        "raw_tokens = len([w for t in (df['clean_text'].apply(word_tokenize)) for w in t])\n",
        "print(f'number of raw tokens: {raw_tokens}')"
      ],
      "execution_count": null,
      "outputs": [
        {
          "output_type": "stream",
          "text": [
            "number of raw tokens: 5260371\n"
          ],
          "name": "stdout"
        }
      ]
    },
    {
      "cell_type": "code",
      "metadata": {
        "colab": {
          "base_uri": "https://localhost:8080/"
        },
        "id": "S1BQUy0zgyrd",
        "outputId": "8189bc64-97bd-4326-921f-f83406336180"
      },
      "source": [
        "# 같은 방법으로 문장개수(total_examples) 찾아보기\n",
        "raw_sent = len([w for t in (df['clean_text'].apply(sent_tokenize)) for w in t])\n",
        "print(f'number of raw sent: {raw_sent}')"
      ],
      "execution_count": null,
      "outputs": [
        {
          "output_type": "stream",
          "text": [
            "number of raw sent: 130133\n"
          ],
          "name": "stdout"
        }
      ]
    },
    {
      "cell_type": "code",
      "metadata": {
        "colab": {
          "base_uri": "https://localhost:8080/"
        },
        "id": "VehtQovLcP7l",
        "outputId": "e281203b-cf18-47f0-a3fd-8de968932119"
      },
      "source": [
        "word2vec.train(my_text, total_examples=130133, epochs=10)"
      ],
      "execution_count": null,
      "outputs": [
        {
          "output_type": "execute_result",
          "data": {
            "text/plain": [
              "(46504884, 52607720)"
            ]
          },
          "metadata": {
            "tags": []
          },
          "execution_count": 20
        }
      ]
    },
    {
      "cell_type": "code",
      "metadata": {
        "colab": {
          "base_uri": "https://localhost:8080/"
        },
        "id": "HHalWq6nhLN0",
        "outputId": "fb47e4a7-878c-44a5-a2d8-87b32792652a"
      },
      "source": [
        "# 예시 단어들은 이전에 wordcloud에서 본 긍정리뷰와 부정리뷰 단어들 좀더 뽑아서 해도 될 듯. 분야마다 쓰이는 단어가 다르니까.\n",
        "similar_words = {search_term: [item[0] for item in word2vec.wv.most_similar([search_term], topn=5)]\n",
        "                 for search_term in ['feel', 'good', 'product', 'cheap', 'junk', 'bad', 'great', 'price', 'love']}\n",
        "similar_words"
      ],
      "execution_count": null,
      "outputs": [
        {
          "output_type": "execute_result",
          "data": {
            "text/plain": [
              "{'bad': ['terrible', 'good', 'unlucky', 'ok', 'poor'],\n",
              " 'cheap': ['flimsy', 'cheep', 'cheaply', 'crappy', 'cheapo'],\n",
              " 'feel': ['texture', 'scratchy', 'felt', 'slippery', 'clearlays'],\n",
              " 'good': ['great', 'decent', 'nice', 'excellent', 'bad'],\n",
              " 'great': ['good', 'excellent', 'fantastic', 'awesome', 'wonderful'],\n",
              " 'junk': ['crap', 'garbage', 'worthless', 'utter', 'rubbish'],\n",
              " 'love': ['awesome', 'wonderful', 'adore', 'amaze', 'favorite'],\n",
              " 'price': ['cost', 'prise', 'sale', 'pricey', 'expensive'],\n",
              " 'product': ['itehem', 'products', 'seller', 'vendor', 'turnaroundtime']}"
            ]
          },
          "metadata": {
            "tags": []
          },
          "execution_count": 21
        }
      ]
    },
    {
      "cell_type": "code",
      "metadata": {
        "id": "y1pOOIPOh3WJ"
      },
      "source": [
        "from sklearn.manifold import TSNE"
      ],
      "execution_count": null,
      "outputs": []
    },
    {
      "cell_type": "code",
      "metadata": {
        "id": "eUX1iw00iARd"
      },
      "source": [
        "words = sum([[k] + v for k, v in similar_words.items()], [])\n",
        "wvs = word2vec.wv[words]\n",
        "\n",
        "tsne = TSNE(n_components=2, random_state=42, n_iter=10_000, perplexity=2)\n",
        "np.set_printoptions(suppress=True)\n",
        "T = tsne.fit_transform(wvs)\n",
        "labels = words"
      ],
      "execution_count": null,
      "outputs": []
    },
    {
      "cell_type": "code",
      "metadata": {
        "colab": {
          "base_uri": "https://localhost:8080/",
          "height": 442
        },
        "id": "npZJDpGIiREr",
        "outputId": "f1ff6418-f2b1-412d-df50-d346f0d6d5ea"
      },
      "source": [
        "plt.figure(figsize=(15, 10))\n",
        "plt.scatter(T[:, 0], T[:, 1], c='orange', edgecolors='r')\n",
        "for label, x, yt in zip(labels, T[:, 0], T[:, 1]):\n",
        "    plt.annotate(label, xy=(x+1, yt+1), xytext=(0, 0), textcoords='offset points')"
      ],
      "execution_count": null,
      "outputs": [
        {
          "output_type": "display_data",
          "data": {
            "image/png": "[encoded data removed]",
            "text/plain": [
              "<Figure size 1080x720 with 1 Axes>"
            ]
          },
          "metadata": {
            "tags": [],
            "needs_background": "light"
          }
        }
      ]
    },
    {
      "cell_type": "code",
      "metadata": {
        "colab": {
          "base_uri": "https://localhost:8080/"
        },
        "id": "6wlQvVdCihGE",
        "outputId": "dc9971b2-ae5e-421c-f46c-13c4cc116f72"
      },
      "source": [
        "len(word_index.keys())"
      ],
      "execution_count": null,
      "outputs": [
        {
          "output_type": "execute_result",
          "data": {
            "text/plain": [
              "71148"
            ]
          },
          "metadata": {
            "tags": []
          },
          "execution_count": 28
        }
      ]
    },
    {
      "cell_type": "code",
      "metadata": {
        "colab": {
          "base_uri": "https://localhost:8080/"
        },
        "id": "w2yPanpvi0Ke",
        "outputId": "8cb146de-55ee-406c-c44d-9a87e70bce03"
      },
      "source": [
        "len(word2vec.wv.vocab)"
      ],
      "execution_count": null,
      "outputs": [
        {
          "output_type": "execute_result",
          "data": {
            "text/plain": [
              "71148"
            ]
          },
          "metadata": {
            "tags": []
          },
          "execution_count": 29
        }
      ]
    },
    {
      "cell_type": "code",
      "metadata": {
        "id": "GeB73RJgi1Vo"
      },
      "source": [
        "from keras.preprocessing.sequence import pad_sequences"
      ],
      "execution_count": null,
      "outputs": []
    },
    {
      "cell_type": "code",
      "metadata": {
        "colab": {
          "base_uri": "https://localhost:8080/"
        },
        "id": "E7mUcKc3i9sZ",
        "outputId": "787f6b05-1cdf-44e7-ca13-f1c472805b15"
      },
      "source": [
        "max_length = 200\n",
        "max_words = len(word_index.keys())\n",
        "\n",
        "# 원본에는 6000, 2933이라고 나와있는데 어디서 나온 숫자????\n",
        "# 내맘대로 6000과 3000으로 해보겠음.\n",
        "training_samples = 6000\n",
        "validation_samples = 3000\n",
        "data = pad_sequences(sequences, maxlen=max_length)\n",
        "\n",
        "print('Shape of data tensor:', data.shape)\n",
        "print('Shape of label tensor:', y.shape)"
      ],
      "execution_count": null,
      "outputs": [
        {
          "output_type": "stream",
          "text": [
            "Shape of data tensor: (130133, 200)\n",
            "Shape of label tensor: (130133,)\n"
          ],
          "name": "stdout"
        }
      ]
    },
    {
      "cell_type": "code",
      "metadata": {
        "colab": {
          "base_uri": "https://localhost:8080/"
        },
        "id": "DxvEhAHhkX_L",
        "outputId": "3ec7daf7-76a6-4ebb-dbfa-31a79b812ade"
      },
      "source": [
        "# shuffle and split the data\n",
        "indices = np.arange(data.shape[0])\n",
        "np.random.shuffle(indices)\n",
        "data = data[indices]\n",
        "labels = y[indices]\n",
        "\n",
        "x_train = data[:training_samples]\n",
        "y_train = y[:training_samples]\n",
        "x_val = data[training_samples: training_samples+validation_samples]\n",
        "y_val = y[training_samples: training_samples+validation_samples]\n",
        "\n",
        "print('shape of training data:', x_train.shape)\n",
        "print('shape of validation data:', x_val.shape)"
      ],
      "execution_count": null,
      "outputs": [
        {
          "output_type": "stream",
          "text": [
            "shape of training data: (6000, 200)\n",
            "shape of validation data: (3000, 200)\n"
          ],
          "name": "stdout"
        }
      ]
    },
    {
      "cell_type": "code",
      "metadata": {
        "colab": {
          "base_uri": "https://localhost:8080/"
        },
        "id": "kCyoGHCrlAqc",
        "outputId": "736ec34e-f13c-4d64-edb5-08ad941bb3f4"
      },
      "source": [
        "embedding_dim = 100\n",
        "\n",
        "embedding_matrix = np.zeros((max_words+1, embedding_dim))\n",
        "for word, i in word_index.items():\n",
        "    embedding_vector = word2vec.wv[word]\n",
        "    if embedding_vector is not None:\n",
        "        embedding_matrix[i] = embedding_vector\n",
        "\n",
        "embedding_matrix.shape"
      ],
      "execution_count": null,
      "outputs": [
        {
          "output_type": "execute_result",
          "data": {
            "text/plain": [
              "(71149, 100)"
            ]
          },
          "metadata": {
            "tags": []
          },
          "execution_count": 34
        }
      ]
    },
    {
      "cell_type": "code",
      "metadata": {
        "id": "9DliJNSElP2W"
      },
      "source": [
        "from keras.models import Sequential\n",
        "from keras.layers import Embedding, Flatten, Dense"
      ],
      "execution_count": null,
      "outputs": []
    },
    {
      "cell_type": "code",
      "metadata": {
        "colab": {
          "base_uri": "https://localhost:8080/"
        },
        "id": "jtTW7-lXlehk",
        "outputId": "59667145-c006-472e-c924-4417c3af967c"
      },
      "source": [
        "model = Sequential()\n",
        "model.add(Embedding(max_words+1, embedding_dim, input_length=max_length))\n",
        "model.add(Flatten())\n",
        "model.add(Dense(32, activation='relu'))\n",
        "model.add(Dense(1, activation='sigmoid'))\n",
        "model.summary()"
      ],
      "execution_count": null,
      "outputs": [
        {
          "output_type": "stream",
          "text": [
            "Model: \"sequential\"\n",
            "_________________________________________________________________\n",
            "Layer (type)                 Output Shape              Param #   \n",
            "=================================================================\n",
            "embedding (Embedding)        (None, 200, 100)          7114900   \n",
            "_________________________________________________________________\n",
            "flatten (Flatten)            (None, 20000)             0         \n",
            "_________________________________________________________________\n",
            "dense (Dense)                (None, 32)                640032    \n",
            "_________________________________________________________________\n",
            "dense_1 (Dense)              (None, 1)                 33        \n",
            "=================================================================\n",
            "Total params: 7,754,965\n",
            "Trainable params: 7,754,965\n",
            "Non-trainable params: 0\n",
            "_________________________________________________________________\n"
          ],
          "name": "stdout"
        }
      ]
    },
    {
      "cell_type": "code",
      "metadata": {
        "id": "PwNQoxE2lrOD"
      },
      "source": [
        "model.layers[0].set_weights([embedding_matrix])\n",
        "model.layers[0].trainable = False"
      ],
      "execution_count": null,
      "outputs": []
    },
    {
      "cell_type": "code",
      "metadata": {
        "colab": {
          "base_uri": "https://localhost:8080/"
        },
        "id": "IlDfHtpZlzFu",
        "outputId": "fc61e117-46d5-4b5a-e0bc-4a2af295f284"
      },
      "source": [
        "model.compile(optimizer='rmsprop',\n",
        "              loss='binary_crossentropy',\n",
        "              metrics=['acc'])\n",
        "history = model.fit(x_train, y_train, epochs=10,\n",
        "                    batch_size=32, validation_data=(x_val, y_val))"
      ],
      "execution_count": null,
      "outputs": [
        {
          "output_type": "stream",
          "text": [
            "Epoch 1/10\n",
            "188/188 [==============================] - 3s 11ms/step - loss: 0.6333 - acc: 0.7183 - val_loss: 0.5433 - val_acc: 0.7940\n",
            "Epoch 2/10\n",
            "188/188 [==============================] - 2s 10ms/step - loss: 0.3884 - acc: 0.8096 - val_loss: 0.6202 - val_acc: 0.7597\n",
            "Epoch 3/10\n",
            "188/188 [==============================] - 2s 10ms/step - loss: 0.2261 - acc: 0.9035 - val_loss: 0.8003 - val_acc: 0.7333\n",
            "Epoch 4/10\n",
            "188/188 [==============================] - 2s 10ms/step - loss: 0.1209 - acc: 0.9552 - val_loss: 1.0265 - val_acc: 0.7060\n",
            "Epoch 5/10\n",
            "188/188 [==============================] - 2s 10ms/step - loss: 0.0574 - acc: 0.9814 - val_loss: 1.3360 - val_acc: 0.7107\n",
            "Epoch 6/10\n",
            "188/188 [==============================] - 2s 10ms/step - loss: 0.0269 - acc: 0.9930 - val_loss: 1.7386 - val_acc: 0.7123\n",
            "Epoch 7/10\n",
            "188/188 [==============================] - 2s 10ms/step - loss: 0.0125 - acc: 0.9960 - val_loss: 2.0543 - val_acc: 0.7070\n",
            "Epoch 8/10\n",
            "188/188 [==============================] - 2s 11ms/step - loss: 0.0077 - acc: 0.9985 - val_loss: 2.3084 - val_acc: 0.6983\n",
            "Epoch 9/10\n",
            "188/188 [==============================] - 2s 10ms/step - loss: 0.0045 - acc: 0.9982 - val_loss: 2.4825 - val_acc: 0.7003\n",
            "Epoch 10/10\n",
            "188/188 [==============================] - 2s 10ms/step - loss: 0.0029 - acc: 0.9990 - val_loss: 2.8233 - val_acc: 0.7030\n"
          ],
          "name": "stdout"
        }
      ]
    },
    {
      "cell_type": "code",
      "metadata": {
        "id": "HxFsqgCnl8sj"
      },
      "source": [
        "acc = history.history['acc']\n",
        "val_acc = history.history['val_acc']\n",
        "loss = history.history['loss']\n",
        "val_loss = history.history['val_loss']\n",
        "\n",
        "epochs = range(1, len(acc)+1)"
      ],
      "execution_count": null,
      "outputs": []
    },
    {
      "cell_type": "code",
      "metadata": {
        "colab": {
          "base_uri": "https://localhost:8080/"
        },
        "id": "LbARmqwJmPTV",
        "outputId": "bf769633-f384-4de8-c7a3-496096a7b270"
      },
      "source": [
        "plt.plot(epochs, acc, 'bo', label='training acc')\n",
        "plt.plot(epochs, val_acc, 'b', label='validation acc')\n",
        "plt.title('training and validation accuracy')\n",
        "plt.legend()\n",
        "\n",
        "plt.figure()\n",
        "\n",
        "plt.plot(epochs, loss, 'bo', label='training loss')\n",
        "plt.plot(epochs, val_loss, 'b', label='validation loss')\n",
        "plt.title('training and validation loss')\n",
        "plt.legend()\n",
        "\n",
        "plt.show()"
      ],
      "execution_count": null,
      "outputs": [
        {
          "output_type": "display_data",
          "data": {
            "image/png": "[encoded data removed]",
            "text/plain": [
              "<Figure size 432x288 with 1 Axes>"
            ]
          },
          "metadata": {
            "tags": [],
            "needs_background": "light"
          }
        },
        {
          "output_type": "display_data",
          "data": {
            "image/png": "[encoded data removed]",
            "text/plain": [
              "<Figure size 432x288 with 1 Axes>"
            ]
          },
          "metadata": {
            "tags": [],
            "needs_background": "light"
          }
        }
      ]
    },
    {
      "cell_type": "code",
      "metadata": {
        "id": "SSB9x6HHmjZx"
      },
      "source": [
        ""
      ],
      "execution_count": null,
      "outputs": []
    }
  ]
}
