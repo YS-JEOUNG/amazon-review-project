{
  "nbformat": 4,
  "nbformat_minor": 0,
  "metadata": {
    "accelerator": "GPU",
    "colab": {
      "name": "final_2_lstm_gru_1dcnn.ipynb",
      "provenance": [],
      "collapsed_sections": [],
      "include_colab_link": true
    },
    "kernelspec": {
      "display_name": "Python 3",
      "name": "python3"
    },
    "language_info": {
      "name": "python"
    }
  },
  "cells": [
    {
      "cell_type": "markdown",
      "metadata": {
        "id": "view-in-github",
        "colab_type": "text"
      },
      "source": [
        "<a href=\"https://colab.research.google.com/github/YS-JEOUNG/amazon-review-project/blob/main/code/final_2_lstm_gru_1dcnn.ipynb\" target=\"_parent\"><img src=\"https://colab.research.google.com/assets/colab-badge.svg\" alt=\"Open In Colab\"/></a>"
      ]
    },
    {
      "cell_type": "markdown",
      "metadata": {
        "id": "MsLqfdBaGzWk"
      },
      "source": [
        "# 토큰화"
      ]
    },
    {
      "cell_type": "markdown",
      "metadata": {
        "id": "cc9kmdp9G1vl"
      },
      "source": [
        "## Import"
      ]
    },
    {
      "cell_type": "code",
      "metadata": {
        "colab": {
          "base_uri": "https://localhost:8080/"
        },
        "id": "8LVe-lyYGb4z",
        "outputId": "2a328d41-d569-43ad-c681-f33bb0f4d9f6"
      },
      "source": [
        "# 기본\n",
        "import pandas as pd\n",
        "import numpy as np\n",
        "\n",
        "# Warnings   \n",
        "import warnings\n",
        "from scipy import stats\n",
        "warnings.filterwarnings('ignore')\n",
        "\n",
        "import re\n",
        "import urllib.request       # 왜 넣는걸까\n",
        "\n",
        "# 시각화\n",
        "%matplotlib inline\n",
        "import matplotlib.pyplot as plt\n",
        "\n",
        "# nltk\n",
        "import nltk\n",
        "nltk.download('punkt')\n",
        "nltk.download('stopwords')\n",
        "nltk.download('wordnet')\n",
        "from nltk import word_tokenize, sent_tokenize, regexp_tokenize\n",
        "from nltk.corpus import stopwords\n",
        "from nltk.stem.lancaster import LancasterStemmer\n",
        "from nltk.stem import WordNetLemmatizer, PorterStemmer\n",
        "\n",
        "import string, unicodedata\n",
        "from bs4 import BeautifulSoup\n",
        "\n",
        "!pip install contractions\n",
        "from contractions import contractions_dict\n",
        "\n",
        "from keras.preprocessing.text import Tokenizer\n",
        "from keras.preprocessing.sequence import pad_sequences\n",
        "from keras.models import Sequential\n",
        "from keras.layers import Embedding, Flatten, Dense"
      ],
      "execution_count": null,
      "outputs": [
        {
          "output_type": "stream",
          "text": [
            "[nltk_data] Downloading package punkt to /root/nltk_data...\n",
            "[nltk_data]   Unzipping tokenizers/punkt.zip.\n",
            "[nltk_data] Downloading package stopwords to /root/nltk_data...\n",
            "[nltk_data]   Unzipping corpora/stopwords.zip.\n",
            "[nltk_data] Downloading package wordnet to /root/nltk_data...\n",
            "[nltk_data]   Unzipping corpora/wordnet.zip.\n",
            "Collecting contractions\n",
            "  Downloading https://files.pythonhosted.org/packages/0a/04/d5e0bb9f2cef5d15616ebf68087a725c5dbdd71bd422bcfb35d709f98ce7/contractions-0.0.48-py2.py3-none-any.whl\n",
            "Collecting textsearch>=0.0.21\n",
            "  Downloading https://files.pythonhosted.org/packages/d3/fe/021d7d76961b5ceb9f8d022c4138461d83beff36c3938dc424586085e559/textsearch-0.0.21-py2.py3-none-any.whl\n",
            "Collecting anyascii\n",
            "\u001b[?25l  Downloading https://files.pythonhosted.org/packages/a3/14/666cd44bf53f36a961544af592cb5c5c800013f9c51a4745af8d7c17362a/anyascii-0.2.0-py3-none-any.whl (283kB)\n",
            "\u001b[K     |████████████████████████████████| 286kB 10.6MB/s \n",
            "\u001b[?25hCollecting pyahocorasick\n",
            "\u001b[?25l  Downloading https://files.pythonhosted.org/packages/7f/c2/eae730037ae1cbbfaa229d27030d1d5e34a1e41114b21447d1202ae9c220/pyahocorasick-1.4.2.tar.gz (321kB)\n",
            "\u001b[K     |████████████████████████████████| 327kB 43.2MB/s \n",
            "\u001b[?25hBuilding wheels for collected packages: pyahocorasick\n",
            "  Building wheel for pyahocorasick (setup.py) ... \u001b[?25l\u001b[?25hdone\n",
            "  Created wheel for pyahocorasick: filename=pyahocorasick-1.4.2-cp37-cp37m-linux_x86_64.whl size=85394 sha256=b3578543d05edad3b2d0c1380001e28a63a152f1a4b29945de37eabedcc1294b\n",
            "  Stored in directory: /root/.cache/pip/wheels/3a/03/34/77e3ece0bba8b86bfac88a79f923b36d805cad63caeba38842\n",
            "Successfully built pyahocorasick\n",
            "Installing collected packages: anyascii, pyahocorasick, textsearch, contractions\n",
            "Successfully installed anyascii-0.2.0 contractions-0.0.48 pyahocorasick-1.4.2 textsearch-0.0.21\n"
          ],
          "name": "stdout"
        }
      ]
    },
    {
      "cell_type": "code",
      "metadata": {
        "id": "dRbV8ekB1Srl"
      },
      "source": [
        "# 훈련 및 모델 생성\n",
        "import sklearn\n",
        "import keras\n",
        "from sklearn.model_selection import train_test_split\n",
        "\n",
        "# LSTM\n",
        "from tensorflow.keras.layers import Embedding, Dense, LSTM\n",
        "from tensorflow.keras.models import Sequential, load_model\n",
        "from tensorflow.keras.callbacks import EarlyStopping, ModelCheckpoint\n",
        "\n",
        "# GRU\n",
        "from tensorflow.keras.layers import GRU\n",
        "\n",
        "# 1D CNN\n",
        "from tensorflow.keras.layers import Conv1D, Dropout, GlobalMaxPool1D"
      ],
      "execution_count": null,
      "outputs": []
    },
    {
      "cell_type": "code",
      "metadata": {
        "id": "bjtIlMnv9-92"
      },
      "source": [
        "# confusion matrix\n",
        "from sklearn.metrics import confusion_matrix     \n",
        "import seaborn as sns"
      ],
      "execution_count": null,
      "outputs": []
    },
    {
      "cell_type": "markdown",
      "metadata": {
        "id": "yr3KRpKRG4wu"
      },
      "source": [
        "## Data"
      ]
    },
    {
      "cell_type": "code",
      "metadata": {
        "id": "AvZmiBy1G67i",
        "colab": {
          "base_uri": "https://localhost:8080/",
          "height": 412
        },
        "outputId": "87163d88-e541-4c9d-a157-3ac86b8fab16"
      },
      "source": [
        "# 파일 불러오기\n",
        "total = pd.read_csv('/content/drive/MyDrive/Colab Notebooks/project/final_data_clean.csv')"
      ],
      "execution_count": null,
      "outputs": [
        {
          "output_type": "error",
          "ename": "FileNotFoundError",
          "evalue": "ignored",
          "traceback": [
            "\u001b[0;31m---------------------------------------------------------------------------\u001b[0m",
            "\u001b[0;31mFileNotFoundError\u001b[0m                         Traceback (most recent call last)",
            "\u001b[0;32m<ipython-input-5-964b35e2ff42>\u001b[0m in \u001b[0;36m<module>\u001b[0;34m()\u001b[0m\n\u001b[1;32m      1\u001b[0m \u001b[0;31m# 파일 불러오기\u001b[0m\u001b[0;34m\u001b[0m\u001b[0;34m\u001b[0m\u001b[0;34m\u001b[0m\u001b[0m\n\u001b[0;32m----> 2\u001b[0;31m \u001b[0mtotal\u001b[0m \u001b[0;34m=\u001b[0m \u001b[0mpd\u001b[0m\u001b[0;34m.\u001b[0m\u001b[0mread_csv\u001b[0m\u001b[0;34m(\u001b[0m\u001b[0;34m'/content/drive/MyDrive/Colab Notebooks/project/final_data_clean.csv'\u001b[0m\u001b[0;34m)\u001b[0m\u001b[0;34m\u001b[0m\u001b[0;34m\u001b[0m\u001b[0m\n\u001b[0m",
            "\u001b[0;32m/usr/local/lib/python3.7/dist-packages/pandas/io/parsers.py\u001b[0m in \u001b[0;36mread_csv\u001b[0;34m(filepath_or_buffer, sep, delimiter, header, names, index_col, usecols, squeeze, prefix, mangle_dupe_cols, dtype, engine, converters, true_values, false_values, skipinitialspace, skiprows, skipfooter, nrows, na_values, keep_default_na, na_filter, verbose, skip_blank_lines, parse_dates, infer_datetime_format, keep_date_col, date_parser, dayfirst, cache_dates, iterator, chunksize, compression, thousands, decimal, lineterminator, quotechar, quoting, doublequote, escapechar, comment, encoding, dialect, error_bad_lines, warn_bad_lines, delim_whitespace, low_memory, memory_map, float_precision)\u001b[0m\n\u001b[1;32m    686\u001b[0m     )\n\u001b[1;32m    687\u001b[0m \u001b[0;34m\u001b[0m\u001b[0m\n\u001b[0;32m--> 688\u001b[0;31m     \u001b[0;32mreturn\u001b[0m \u001b[0m_read\u001b[0m\u001b[0;34m(\u001b[0m\u001b[0mfilepath_or_buffer\u001b[0m\u001b[0;34m,\u001b[0m \u001b[0mkwds\u001b[0m\u001b[0;34m)\u001b[0m\u001b[0;34m\u001b[0m\u001b[0;34m\u001b[0m\u001b[0m\n\u001b[0m\u001b[1;32m    689\u001b[0m \u001b[0;34m\u001b[0m\u001b[0m\n\u001b[1;32m    690\u001b[0m \u001b[0;34m\u001b[0m\u001b[0m\n",
            "\u001b[0;32m/usr/local/lib/python3.7/dist-packages/pandas/io/parsers.py\u001b[0m in \u001b[0;36m_read\u001b[0;34m(filepath_or_buffer, kwds)\u001b[0m\n\u001b[1;32m    452\u001b[0m \u001b[0;34m\u001b[0m\u001b[0m\n\u001b[1;32m    453\u001b[0m     \u001b[0;31m# Create the parser.\u001b[0m\u001b[0;34m\u001b[0m\u001b[0;34m\u001b[0m\u001b[0;34m\u001b[0m\u001b[0m\n\u001b[0;32m--> 454\u001b[0;31m     \u001b[0mparser\u001b[0m \u001b[0;34m=\u001b[0m \u001b[0mTextFileReader\u001b[0m\u001b[0;34m(\u001b[0m\u001b[0mfp_or_buf\u001b[0m\u001b[0;34m,\u001b[0m \u001b[0;34m**\u001b[0m\u001b[0mkwds\u001b[0m\u001b[0;34m)\u001b[0m\u001b[0;34m\u001b[0m\u001b[0;34m\u001b[0m\u001b[0m\n\u001b[0m\u001b[1;32m    455\u001b[0m \u001b[0;34m\u001b[0m\u001b[0m\n\u001b[1;32m    456\u001b[0m     \u001b[0;32mif\u001b[0m \u001b[0mchunksize\u001b[0m \u001b[0;32mor\u001b[0m \u001b[0miterator\u001b[0m\u001b[0;34m:\u001b[0m\u001b[0;34m\u001b[0m\u001b[0;34m\u001b[0m\u001b[0m\n",
            "\u001b[0;32m/usr/local/lib/python3.7/dist-packages/pandas/io/parsers.py\u001b[0m in \u001b[0;36m__init__\u001b[0;34m(self, f, engine, **kwds)\u001b[0m\n\u001b[1;32m    946\u001b[0m             \u001b[0mself\u001b[0m\u001b[0;34m.\u001b[0m\u001b[0moptions\u001b[0m\u001b[0;34m[\u001b[0m\u001b[0;34m\"has_index_names\"\u001b[0m\u001b[0;34m]\u001b[0m \u001b[0;34m=\u001b[0m \u001b[0mkwds\u001b[0m\u001b[0;34m[\u001b[0m\u001b[0;34m\"has_index_names\"\u001b[0m\u001b[0;34m]\u001b[0m\u001b[0;34m\u001b[0m\u001b[0;34m\u001b[0m\u001b[0m\n\u001b[1;32m    947\u001b[0m \u001b[0;34m\u001b[0m\u001b[0m\n\u001b[0;32m--> 948\u001b[0;31m         \u001b[0mself\u001b[0m\u001b[0;34m.\u001b[0m\u001b[0m_make_engine\u001b[0m\u001b[0;34m(\u001b[0m\u001b[0mself\u001b[0m\u001b[0;34m.\u001b[0m\u001b[0mengine\u001b[0m\u001b[0;34m)\u001b[0m\u001b[0;34m\u001b[0m\u001b[0;34m\u001b[0m\u001b[0m\n\u001b[0m\u001b[1;32m    949\u001b[0m \u001b[0;34m\u001b[0m\u001b[0m\n\u001b[1;32m    950\u001b[0m     \u001b[0;32mdef\u001b[0m \u001b[0mclose\u001b[0m\u001b[0;34m(\u001b[0m\u001b[0mself\u001b[0m\u001b[0;34m)\u001b[0m\u001b[0;34m:\u001b[0m\u001b[0;34m\u001b[0m\u001b[0;34m\u001b[0m\u001b[0m\n",
            "\u001b[0;32m/usr/local/lib/python3.7/dist-packages/pandas/io/parsers.py\u001b[0m in \u001b[0;36m_make_engine\u001b[0;34m(self, engine)\u001b[0m\n\u001b[1;32m   1178\u001b[0m     \u001b[0;32mdef\u001b[0m \u001b[0m_make_engine\u001b[0m\u001b[0;34m(\u001b[0m\u001b[0mself\u001b[0m\u001b[0;34m,\u001b[0m \u001b[0mengine\u001b[0m\u001b[0;34m=\u001b[0m\u001b[0;34m\"c\"\u001b[0m\u001b[0;34m)\u001b[0m\u001b[0;34m:\u001b[0m\u001b[0;34m\u001b[0m\u001b[0;34m\u001b[0m\u001b[0m\n\u001b[1;32m   1179\u001b[0m         \u001b[0;32mif\u001b[0m \u001b[0mengine\u001b[0m \u001b[0;34m==\u001b[0m \u001b[0;34m\"c\"\u001b[0m\u001b[0;34m:\u001b[0m\u001b[0;34m\u001b[0m\u001b[0;34m\u001b[0m\u001b[0m\n\u001b[0;32m-> 1180\u001b[0;31m             \u001b[0mself\u001b[0m\u001b[0;34m.\u001b[0m\u001b[0m_engine\u001b[0m \u001b[0;34m=\u001b[0m \u001b[0mCParserWrapper\u001b[0m\u001b[0;34m(\u001b[0m\u001b[0mself\u001b[0m\u001b[0;34m.\u001b[0m\u001b[0mf\u001b[0m\u001b[0;34m,\u001b[0m \u001b[0;34m**\u001b[0m\u001b[0mself\u001b[0m\u001b[0;34m.\u001b[0m\u001b[0moptions\u001b[0m\u001b[0;34m)\u001b[0m\u001b[0;34m\u001b[0m\u001b[0;34m\u001b[0m\u001b[0m\n\u001b[0m\u001b[1;32m   1181\u001b[0m         \u001b[0;32melse\u001b[0m\u001b[0;34m:\u001b[0m\u001b[0;34m\u001b[0m\u001b[0;34m\u001b[0m\u001b[0m\n\u001b[1;32m   1182\u001b[0m             \u001b[0;32mif\u001b[0m \u001b[0mengine\u001b[0m \u001b[0;34m==\u001b[0m \u001b[0;34m\"python\"\u001b[0m\u001b[0;34m:\u001b[0m\u001b[0;34m\u001b[0m\u001b[0;34m\u001b[0m\u001b[0m\n",
            "\u001b[0;32m/usr/local/lib/python3.7/dist-packages/pandas/io/parsers.py\u001b[0m in \u001b[0;36m__init__\u001b[0;34m(self, src, **kwds)\u001b[0m\n\u001b[1;32m   2008\u001b[0m         \u001b[0mkwds\u001b[0m\u001b[0;34m[\u001b[0m\u001b[0;34m\"usecols\"\u001b[0m\u001b[0;34m]\u001b[0m \u001b[0;34m=\u001b[0m \u001b[0mself\u001b[0m\u001b[0;34m.\u001b[0m\u001b[0musecols\u001b[0m\u001b[0;34m\u001b[0m\u001b[0;34m\u001b[0m\u001b[0m\n\u001b[1;32m   2009\u001b[0m \u001b[0;34m\u001b[0m\u001b[0m\n\u001b[0;32m-> 2010\u001b[0;31m         \u001b[0mself\u001b[0m\u001b[0;34m.\u001b[0m\u001b[0m_reader\u001b[0m \u001b[0;34m=\u001b[0m \u001b[0mparsers\u001b[0m\u001b[0;34m.\u001b[0m\u001b[0mTextReader\u001b[0m\u001b[0;34m(\u001b[0m\u001b[0msrc\u001b[0m\u001b[0;34m,\u001b[0m \u001b[0;34m**\u001b[0m\u001b[0mkwds\u001b[0m\u001b[0;34m)\u001b[0m\u001b[0;34m\u001b[0m\u001b[0;34m\u001b[0m\u001b[0m\n\u001b[0m\u001b[1;32m   2011\u001b[0m         \u001b[0mself\u001b[0m\u001b[0;34m.\u001b[0m\u001b[0munnamed_cols\u001b[0m \u001b[0;34m=\u001b[0m \u001b[0mself\u001b[0m\u001b[0;34m.\u001b[0m\u001b[0m_reader\u001b[0m\u001b[0;34m.\u001b[0m\u001b[0munnamed_cols\u001b[0m\u001b[0;34m\u001b[0m\u001b[0;34m\u001b[0m\u001b[0m\n\u001b[1;32m   2012\u001b[0m \u001b[0;34m\u001b[0m\u001b[0m\n",
            "\u001b[0;32mpandas/_libs/parsers.pyx\u001b[0m in \u001b[0;36mpandas._libs.parsers.TextReader.__cinit__\u001b[0;34m()\u001b[0m\n",
            "\u001b[0;32mpandas/_libs/parsers.pyx\u001b[0m in \u001b[0;36mpandas._libs.parsers.TextReader._setup_parser_source\u001b[0;34m()\u001b[0m\n",
            "\u001b[0;31mFileNotFoundError\u001b[0m: [Errno 2] No such file or directory: '/content/drive/MyDrive/Colab Notebooks/project/final_data_clean.csv'"
          ]
        }
      ]
    },
    {
      "cell_type": "markdown",
      "metadata": {
        "id": "P_fXG2n1G7-u"
      },
      "source": [
        "## 토큰화"
      ]
    },
    {
      "cell_type": "code",
      "metadata": {
        "colab": {
          "base_uri": "https://localhost:8080/"
        },
        "id": "AW3Wki6SHqKK",
        "outputId": "58940781-f5ea-4a90-e7e9-f96144757f23"
      },
      "source": [
        "# good/bad 개수 확인\n",
        "total['rating_class'].value_counts()"
      ],
      "execution_count": null,
      "outputs": [
        {
          "output_type": "execute_result",
          "data": {
            "text/plain": [
              "good    2407786\n",
              "bad      315538\n",
              "Name: rating_class, dtype: int64"
            ]
          },
          "metadata": {
            "tags": []
          },
          "execution_count": 3
        }
      ]
    },
    {
      "cell_type": "code",
      "metadata": {
        "colab": {
          "base_uri": "https://localhost:8080/",
          "height": 289
        },
        "id": "1npnv4UwHrJ0",
        "outputId": "7f0cc921-5574-4923-c91a-4230db687e95"
      },
      "source": [
        "# good/bad 비율 맞추기 위해 bad 개수에 맞춰서 good 자르기\n",
        "total = total.sort_values(by='rating_class')\n",
        "total.head()"
      ],
      "execution_count": null,
      "outputs": [
        {
          "output_type": "execute_result",
          "data": {
            "text/html": [
              "<div>\n",
              "<style scoped>\n",
              "    .dataframe tbody tr th:only-of-type {\n",
              "        vertical-align: middle;\n",
              "    }\n",
              "\n",
              "    .dataframe tbody tr th {\n",
              "        vertical-align: top;\n",
              "    }\n",
              "\n",
              "    .dataframe thead th {\n",
              "        text-align: right;\n",
              "    }\n",
              "</style>\n",
              "<table border=\"1\" class=\"dataframe\">\n",
              "  <thead>\n",
              "    <tr style=\"text-align: right;\">\n",
              "      <th></th>\n",
              "      <th>ratings</th>\n",
              "      <th>vote</th>\n",
              "      <th>verified</th>\n",
              "      <th>reviewer_id</th>\n",
              "      <th>prod_id</th>\n",
              "      <th>reviewer_name</th>\n",
              "      <th>unix_review_time</th>\n",
              "      <th>prod_name</th>\n",
              "      <th>price</th>\n",
              "      <th>review_text</th>\n",
              "      <th>rating_class</th>\n",
              "      <th>time</th>\n",
              "      <th>clean_text</th>\n",
              "    </tr>\n",
              "  </thead>\n",
              "  <tbody>\n",
              "    <tr>\n",
              "      <th>2723323</th>\n",
              "      <td>1.0</td>\n",
              "      <td>3</td>\n",
              "      <td>True</td>\n",
              "      <td>A172Y8313QKCNZ</td>\n",
              "      <td>B01HJHR2PM</td>\n",
              "      <td>spartacus</td>\n",
              "      <td>1474416000</td>\n",
              "      <td>Mural Art 12 Colors Waterproof Metal Glass Fin...</td>\n",
              "      <td>$10.99</td>\n",
              "      <td>One color I received these earlier than expect...</td>\n",
              "      <td>bad</td>\n",
              "      <td>2016-09-21</td>\n",
              "      <td>one color receive earlier expect request refun...</td>\n",
              "    </tr>\n",
              "    <tr>\n",
              "      <th>425653</th>\n",
              "      <td>1.0</td>\n",
              "      <td>0</td>\n",
              "      <td>True</td>\n",
              "      <td>A1URY8FPOSN4XF</td>\n",
              "      <td>B001UAUI88</td>\n",
              "      <td>Trish Wilson</td>\n",
              "      <td>1476576000</td>\n",
              "      <td>Stakich Pure White BEESWAX Pellets - 100% Nat...</td>\n",
              "      <td>$81.95</td>\n",
              "      <td>Not  As Advertized. The package did not weigh ...</td>\n",
              "      <td>bad</td>\n",
              "      <td>2016-10-16</td>\n",
              "      <td>not advertize package not weigh ounces adverti...</td>\n",
              "    </tr>\n",
              "    <tr>\n",
              "      <th>2344252</th>\n",
              "      <td>1.0</td>\n",
              "      <td>3</td>\n",
              "      <td>True</td>\n",
              "      <td>A1E3GZTNFSM5D2</td>\n",
              "      <td>B00L6JSXSU</td>\n",
              "      <td>Paul</td>\n",
              "      <td>1510272000</td>\n",
              "      <td>Bernat Blanket Big Ball Yarn (10044) Dark Grey</td>\n",
              "      <td>$21.12</td>\n",
              "      <td>... in the store so i found this and was happy...</td>\n",
              "      <td>bad</td>\n",
              "      <td>2017-11-10</td>\n",
              "      <td>store find happy find skinnier blanket get yar...</td>\n",
              "    </tr>\n",
              "    <tr>\n",
              "      <th>1735919</th>\n",
              "      <td>2.0</td>\n",
              "      <td>0</td>\n",
              "      <td>True</td>\n",
              "      <td>A1HPP2D0V5TN4Q</td>\n",
              "      <td>B000A56PUO</td>\n",
              "      <td>Jen</td>\n",
              "      <td>1340150400</td>\n",
              "      <td>THE PAPER COMPANY, P62526, White Cardstock Val...</td>\n",
              "      <td>$14.94</td>\n",
              "      <td>thin This is not as thick as cardstock I am us...</td>\n",
              "      <td>bad</td>\n",
              "      <td>2012-06-20</td>\n",
              "      <td>thin not thick cardstock use not actually use ...</td>\n",
              "    </tr>\n",
              "    <tr>\n",
              "      <th>2344261</th>\n",
              "      <td>1.0</td>\n",
              "      <td>0</td>\n",
              "      <td>False</td>\n",
              "      <td>A3HTN8YLEEZRJ5</td>\n",
              "      <td>B00L6FKI8C</td>\n",
              "      <td>C. Zellmer</td>\n",
              "      <td>1442016000</td>\n",
              "      <td>Corset Tie Lace-up Replacement Pale Ivory Sati...</td>\n",
              "      <td>$24.95</td>\n",
              "      <td>I am pretty disappointed. I ordered directly f...</td>\n",
              "      <td>bad</td>\n",
              "      <td>2015-09-12</td>\n",
              "      <td>pretty disappoint order directly website prett...</td>\n",
              "    </tr>\n",
              "  </tbody>\n",
              "</table>\n",
              "</div>"
            ],
            "text/plain": [
              "         ratings  ...                                         clean_text\n",
              "2723323      1.0  ...  one color receive earlier expect request refun...\n",
              "425653       1.0  ...  not advertize package not weigh ounces adverti...\n",
              "2344252      1.0  ...  store find happy find skinnier blanket get yar...\n",
              "1735919      2.0  ...  thin not thick cardstock use not actually use ...\n",
              "2344261      1.0  ...  pretty disappoint order directly website prett...\n",
              "\n",
              "[5 rows x 13 columns]"
            ]
          },
          "metadata": {
            "tags": []
          },
          "execution_count": 4
        }
      ]
    },
    {
      "cell_type": "code",
      "metadata": {
        "colab": {
          "base_uri": "https://localhost:8080/"
        },
        "id": "7Vbd6jqOHvjO",
        "outputId": "6c477c40-55ae-4938-f1a4-efa6c90dcaca"
      },
      "source": [
        "total = total[:700_000]\n",
        "total['rating_class'].value_counts()"
      ],
      "execution_count": null,
      "outputs": [
        {
          "output_type": "execute_result",
          "data": {
            "text/plain": [
              "good    384462\n",
              "bad     315538\n",
              "Name: rating_class, dtype: int64"
            ]
          },
          "metadata": {
            "tags": []
          },
          "execution_count": 5
        }
      ]
    },
    {
      "cell_type": "code",
      "metadata": {
        "colab": {
          "base_uri": "https://localhost:8080/"
        },
        "id": "xBoe0EHDHztf",
        "outputId": "54369c18-4d56-4f41-ca0b-7ca088fd4111"
      },
      "source": [
        "total.isnull().sum()"
      ],
      "execution_count": null,
      "outputs": [
        {
          "output_type": "execute_result",
          "data": {
            "text/plain": [
              "ratings                  0\n",
              "vote                     0\n",
              "verified                 0\n",
              "reviewer_id              0\n",
              "prod_id                  0\n",
              "reviewer_name           23\n",
              "unix_review_time         0\n",
              "prod_name                0\n",
              "price               147506\n",
              "review_text              0\n",
              "rating_class             0\n",
              "time                     0\n",
              "clean_text              38\n",
              "dtype: int64"
            ]
          },
          "metadata": {
            "tags": []
          },
          "execution_count": 6
        }
      ]
    },
    {
      "cell_type": "code",
      "metadata": {
        "colab": {
          "base_uri": "https://localhost:8080/",
          "height": 142
        },
        "id": "M8WjTCePH2nE",
        "outputId": "537f665a-ed4f-48d3-fd91-a2443008f448"
      },
      "source": [
        "# 귀찮으니 필요정보인 rating_class와 clean_text만 남기고 드랍하자.\n",
        "total = total[['clean_text', 'rating_class']]\n",
        "total.head(3)"
      ],
      "execution_count": null,
      "outputs": [
        {
          "output_type": "execute_result",
          "data": {
            "text/html": [
              "<div>\n",
              "<style scoped>\n",
              "    .dataframe tbody tr th:only-of-type {\n",
              "        vertical-align: middle;\n",
              "    }\n",
              "\n",
              "    .dataframe tbody tr th {\n",
              "        vertical-align: top;\n",
              "    }\n",
              "\n",
              "    .dataframe thead th {\n",
              "        text-align: right;\n",
              "    }\n",
              "</style>\n",
              "<table border=\"1\" class=\"dataframe\">\n",
              "  <thead>\n",
              "    <tr style=\"text-align: right;\">\n",
              "      <th></th>\n",
              "      <th>clean_text</th>\n",
              "      <th>rating_class</th>\n",
              "    </tr>\n",
              "  </thead>\n",
              "  <tbody>\n",
              "    <tr>\n",
              "      <th>2723323</th>\n",
              "      <td>one color receive earlier expect request refun...</td>\n",
              "      <td>bad</td>\n",
              "    </tr>\n",
              "    <tr>\n",
              "      <th>425653</th>\n",
              "      <td>not advertize package not weigh ounces adverti...</td>\n",
              "      <td>bad</td>\n",
              "    </tr>\n",
              "    <tr>\n",
              "      <th>2344252</th>\n",
              "      <td>store find happy find skinnier blanket get yar...</td>\n",
              "      <td>bad</td>\n",
              "    </tr>\n",
              "  </tbody>\n",
              "</table>\n",
              "</div>"
            ],
            "text/plain": [
              "                                                clean_text rating_class\n",
              "2723323  one color receive earlier expect request refun...          bad\n",
              "425653   not advertize package not weigh ounces adverti...          bad\n",
              "2344252  store find happy find skinnier blanket get yar...          bad"
            ]
          },
          "metadata": {
            "tags": []
          },
          "execution_count": 7
        }
      ]
    },
    {
      "cell_type": "code",
      "metadata": {
        "id": "qNfK5tGXH8fH"
      },
      "source": [
        "# rating_class를 숫자화하자. good 1, bad 0\n",
        "total['rating_class'] = total['rating_class'].apply(lambda x: 0 if x == 'bad' else 1)"
      ],
      "execution_count": null,
      "outputs": []
    },
    {
      "cell_type": "code",
      "metadata": {
        "id": "XkYCeqOSH-eu"
      },
      "source": [
        "# clean_text에 null값이 있으니 드랍하자.\n",
        "total = total.dropna(subset=['clean_text'])"
      ],
      "execution_count": null,
      "outputs": []
    },
    {
      "cell_type": "code",
      "metadata": {
        "colab": {
          "base_uri": "https://localhost:8080/"
        },
        "id": "cAmuJ-QFIMei",
        "outputId": "d9a52b2c-affd-48c4-a9f9-13d3f56d1090"
      },
      "source": [
        "total.info()"
      ],
      "execution_count": null,
      "outputs": [
        {
          "output_type": "stream",
          "text": [
            "<class 'pandas.core.frame.DataFrame'>\n",
            "Int64Index: 699962 entries, 2723323 to 1764020\n",
            "Data columns (total 2 columns):\n",
            " #   Column        Non-Null Count   Dtype \n",
            "---  ------        --------------   ----- \n",
            " 0   clean_text    699962 non-null  object\n",
            " 1   rating_class  699962 non-null  int64 \n",
            "dtypes: int64(1), object(1)\n",
            "memory usage: 16.0+ MB\n"
          ],
          "name": "stdout"
        }
      ]
    },
    {
      "cell_type": "code",
      "metadata": {
        "colab": {
          "base_uri": "https://localhost:8080/",
          "height": 204
        },
        "id": "e1yglW1V6iHu",
        "outputId": "3be41af5-d878-4bef-9bef-2749653ed3e0"
      },
      "source": [
        "total.head()"
      ],
      "execution_count": null,
      "outputs": [
        {
          "output_type": "execute_result",
          "data": {
            "text/html": [
              "<div>\n",
              "<style scoped>\n",
              "    .dataframe tbody tr th:only-of-type {\n",
              "        vertical-align: middle;\n",
              "    }\n",
              "\n",
              "    .dataframe tbody tr th {\n",
              "        vertical-align: top;\n",
              "    }\n",
              "\n",
              "    .dataframe thead th {\n",
              "        text-align: right;\n",
              "    }\n",
              "</style>\n",
              "<table border=\"1\" class=\"dataframe\">\n",
              "  <thead>\n",
              "    <tr style=\"text-align: right;\">\n",
              "      <th></th>\n",
              "      <th>clean_text</th>\n",
              "      <th>rating_class</th>\n",
              "    </tr>\n",
              "  </thead>\n",
              "  <tbody>\n",
              "    <tr>\n",
              "      <th>2723323</th>\n",
              "      <td>one color receive earlier expect request refun...</td>\n",
              "      <td>0</td>\n",
              "    </tr>\n",
              "    <tr>\n",
              "      <th>425653</th>\n",
              "      <td>not advertize package not weigh ounces adverti...</td>\n",
              "      <td>0</td>\n",
              "    </tr>\n",
              "    <tr>\n",
              "      <th>2344252</th>\n",
              "      <td>store find happy find skinnier blanket get yar...</td>\n",
              "      <td>0</td>\n",
              "    </tr>\n",
              "    <tr>\n",
              "      <th>1735919</th>\n",
              "      <td>thin not thick cardstock use not actually use ...</td>\n",
              "      <td>0</td>\n",
              "    </tr>\n",
              "    <tr>\n",
              "      <th>2344261</th>\n",
              "      <td>pretty disappoint order directly website prett...</td>\n",
              "      <td>0</td>\n",
              "    </tr>\n",
              "  </tbody>\n",
              "</table>\n",
              "</div>"
            ],
            "text/plain": [
              "                                                clean_text  rating_class\n",
              "2723323  one color receive earlier expect request refun...             0\n",
              "425653   not advertize package not weigh ounces adverti...             0\n",
              "2344252  store find happy find skinnier blanket get yar...             0\n",
              "1735919  thin not thick cardstock use not actually use ...             0\n",
              "2344261  pretty disappoint order directly website prett...             0"
            ]
          },
          "metadata": {
            "tags": []
          },
          "execution_count": 11
        }
      ]
    },
    {
      "cell_type": "code",
      "metadata": {
        "colab": {
          "base_uri": "https://localhost:8080/",
          "height": 204
        },
        "id": "PaXJYuR_6l0u",
        "outputId": "c0772a0b-7095-4591-89ae-dacaef5ec4c5"
      },
      "source": [
        "# bad / good 순서로 되어 있으므로 랜덤으로 섞자.\n",
        "total = sklearn.utils.shuffle(total)\n",
        "total.head()"
      ],
      "execution_count": null,
      "outputs": [
        {
          "output_type": "execute_result",
          "data": {
            "text/html": [
              "<div>\n",
              "<style scoped>\n",
              "    .dataframe tbody tr th:only-of-type {\n",
              "        vertical-align: middle;\n",
              "    }\n",
              "\n",
              "    .dataframe tbody tr th {\n",
              "        vertical-align: top;\n",
              "    }\n",
              "\n",
              "    .dataframe thead th {\n",
              "        text-align: right;\n",
              "    }\n",
              "</style>\n",
              "<table border=\"1\" class=\"dataframe\">\n",
              "  <thead>\n",
              "    <tr style=\"text-align: right;\">\n",
              "      <th></th>\n",
              "      <th>clean_text</th>\n",
              "      <th>rating_class</th>\n",
              "    </tr>\n",
              "  </thead>\n",
              "  <tbody>\n",
              "    <tr>\n",
              "      <th>1988609</th>\n",
              "      <td>awful hoop hoop much cheaper name brand hoop w...</td>\n",
              "      <td>0</td>\n",
              "    </tr>\n",
              "    <tr>\n",
              "      <th>2459426</th>\n",
              "      <td>bad design not fan keep fall apart lock systeh...</td>\n",
              "      <td>0</td>\n",
              "    </tr>\n",
              "    <tr>\n",
              "      <th>1896429</th>\n",
              "      <td>five star soft</td>\n",
              "      <td>1</td>\n",
              "    </tr>\n",
              "    <tr>\n",
              "      <th>911607</th>\n",
              "      <td>not satisfy product one write one use company ...</td>\n",
              "      <td>0</td>\n",
              "    </tr>\n",
              "    <tr>\n",
              "      <th>1954217</th>\n",
              "      <td>small not worth price inaccurate dimension lis...</td>\n",
              "      <td>1</td>\n",
              "    </tr>\n",
              "  </tbody>\n",
              "</table>\n",
              "</div>"
            ],
            "text/plain": [
              "                                                clean_text  rating_class\n",
              "1988609  awful hoop hoop much cheaper name brand hoop w...             0\n",
              "2459426  bad design not fan keep fall apart lock systeh...             0\n",
              "1896429                                     five star soft             1\n",
              "911607   not satisfy product one write one use company ...             0\n",
              "1954217  small not worth price inaccurate dimension lis...             1"
            ]
          },
          "metadata": {
            "tags": []
          },
          "execution_count": 12
        }
      ]
    },
    {
      "cell_type": "code",
      "metadata": {
        "id": "9_FvRoyYIPWy"
      },
      "source": [
        "X = total['clean_text']\n",
        "y = total['rating_class']"
      ],
      "execution_count": null,
      "outputs": []
    },
    {
      "cell_type": "code",
      "metadata": {
        "id": "LOLt8gTKIWRh"
      },
      "source": [
        "tokenizer = Tokenizer(split=' ')\n",
        "tokenizer.fit_on_texts(X)"
      ],
      "execution_count": null,
      "outputs": []
    },
    {
      "cell_type": "code",
      "metadata": {
        "id": "SPrpd1lPIckb"
      },
      "source": [
        "sequences = tokenizer.texts_to_sequences(X)\n",
        "word_index = tokenizer.word_index"
      ],
      "execution_count": null,
      "outputs": []
    },
    {
      "cell_type": "code",
      "metadata": {
        "colab": {
          "base_uri": "https://localhost:8080/"
        },
        "id": "5xyjwFnxIhHX",
        "outputId": "a2e24941-231e-40e6-b323-a0a273b88898"
      },
      "source": [
        "len(word_index)"
      ],
      "execution_count": null,
      "outputs": [
        {
          "output_type": "execute_result",
          "data": {
            "text/plain": [
              "132670"
            ]
          },
          "metadata": {
            "tags": []
          },
          "execution_count": 16
        }
      ]
    },
    {
      "cell_type": "code",
      "metadata": {
        "colab": {
          "base_uri": "https://localhost:8080/"
        },
        "id": "1wlPAZWHIjmM",
        "outputId": "d64bc552-ce13-4cfd-8e25-774d0f40dd96"
      },
      "source": [
        "sequences[0]"
      ],
      "execution_count": null,
      "outputs": [
        {
          "output_type": "execute_result",
          "data": {
            "text/plain": [
              "[509,\n",
              " 730,\n",
              " 730,\n",
              " 41,\n",
              " 595,\n",
              " 462,\n",
              " 131,\n",
              " 730,\n",
              " 5,\n",
              " 102,\n",
              " 21,\n",
              " 61,\n",
              " 372,\n",
              " 730,\n",
              " 730,\n",
              " 3,\n",
              " 717,\n",
              " 117,\n",
              " 5,\n",
              " 227,\n",
              " 68,\n",
              " 111,\n",
              " 61,\n",
              " 435,\n",
              " 502]"
            ]
          },
          "metadata": {
            "tags": []
          },
          "execution_count": 17
        }
      ]
    },
    {
      "cell_type": "code",
      "metadata": {
        "colab": {
          "base_uri": "https://localhost:8080/"
        },
        "id": "XRii-hlIIn-s",
        "outputId": "091f1dcb-42cf-4b75-d591-e77f9f325d4f"
      },
      "source": [
        "# 등장 빈도수가 15 미만인 단어들이 차지하는 비중\n",
        "threshold = 15\n",
        "total_cnt = len(word_index)\n",
        "rare_cnt = 0      # 등장 빈도수가 threshold보다 작은 단어의 개수를 카운트\n",
        "total_freq = 0    # 훈련 데이터의 전체 단어 빈도수 총합\n",
        "rare_freq = 0     # 등장 빈도수가 threshold보다 작은 단어의 등장 빈도수의 총합\n",
        "\n",
        "# 단어와 빈도수 > key, value\n",
        "for key, value in tokenizer.word_counts.items():\n",
        "    total_freq = total_freq + value\n",
        "\n",
        "    # 단어 등장 빈도수가 threshold보다 작으면\n",
        "    if value < threshold:\n",
        "        rare_cnt = rare_cnt + 1\n",
        "        rare_freq = rare_freq + value\n",
        "\n",
        "print('단어 집합의 크기:', total_cnt)\n",
        "print(f'등장 빈도가 {threshold}번 미만인 희귀 단어의 수:', rare_cnt)\n",
        "print('단어 집합에서 희귀 단어의 비율:', (rare_cnt / total_cnt) * 100)\n",
        "print('전체 등장 빈도에서 희귀 단어 등장 빈도 비율:', (rare_freq / total_freq) * 100)"
      ],
      "execution_count": null,
      "outputs": [
        {
          "output_type": "stream",
          "text": [
            "단어 집합의 크기: 132670\n",
            "등장 빈도가 15번 미만인 희귀 단어의 수: 119516\n",
            "단어 집합에서 희귀 단어의 비율: 90.08517373935328\n",
            "전체 등장 빈도에서 희귀 단어 등장 빈도 비율: 1.7197218589865317\n"
          ],
          "name": "stdout"
        }
      ]
    },
    {
      "cell_type": "code",
      "metadata": {
        "colab": {
          "base_uri": "https://localhost:8080/"
        },
        "id": "CwrBtjdaIv9q",
        "outputId": "b4c6a8db-58a2-425d-e960-cafd92013a12"
      },
      "source": [
        "# 등장 빈도수가 15 미만인 단어는 제거\n",
        "# 0번 패딩 토큰을 고려하여 +1\n",
        "vocab_size = total_cnt - rare_cnt + 1\n",
        "print('단어 집합의 크기:', vocab_size)"
      ],
      "execution_count": null,
      "outputs": [
        {
          "output_type": "stream",
          "text": [
            "단어 집합의 크기: 13155\n"
          ],
          "name": "stdout"
        }
      ]
    },
    {
      "cell_type": "code",
      "metadata": {
        "id": "iCt5-uFjI1IO"
      },
      "source": [
        "tokenizer = Tokenizer(vocab_size)\n",
        "tokenizer.fit_on_texts(X)\n",
        "X = tokenizer.texts_to_sequences(X)"
      ],
      "execution_count": null,
      "outputs": []
    },
    {
      "cell_type": "code",
      "metadata": {
        "colab": {
          "base_uri": "https://localhost:8080/"
        },
        "id": "hYt17wWJI3H3",
        "outputId": "6cf62312-83e8-43f1-d27a-247b30ddc91a"
      },
      "source": [
        "# 빈도수가 낮은 단어들이 삭제되었으므로 빈 샘플들이 존재할 것. 빈 샘플 제거.\n",
        "# >>>>>>> 문제: 그러면 너무 많은 리뷰가 삭제될 것 같은데?\n",
        "drop_train = [index for index, sentence in enumerate(X) if len(sentence) < 1]\n",
        "drop_train\n",
        "# >>>>>>> 해결: 아니다. 고작 32개밖에 안 된다. 밑에서 X, y에서 삭제할 때 에러만 계속 뜨므로 굳이 삭제하지 않아도 될 것 같다."
      ],
      "execution_count": null,
      "outputs": [
        {
          "output_type": "execute_result",
          "data": {
            "text/plain": [
              "[17980,\n",
              " 48292,\n",
              " 52033,\n",
              " 78494,\n",
              " 82467,\n",
              " 140923,\n",
              " 144312,\n",
              " 165878,\n",
              " 189433,\n",
              " 201996,\n",
              " 218567,\n",
              " 227294,\n",
              " 259097,\n",
              " 263964,\n",
              " 297700,\n",
              " 324652,\n",
              " 327484,\n",
              " 348980,\n",
              " 379384,\n",
              " 385436,\n",
              " 393981,\n",
              " 400096,\n",
              " 415852,\n",
              " 416208,\n",
              " 432049,\n",
              " 438269,\n",
              " 448679,\n",
              " 455195,\n",
              " 482533,\n",
              " 520307,\n",
              " 535911,\n",
              " 673842]"
            ]
          },
          "metadata": {
            "tags": []
          },
          "execution_count": 21
        }
      ]
    },
    {
      "cell_type": "code",
      "metadata": {
        "colab": {
          "base_uri": "https://localhost:8080/"
        },
        "id": "6pDZNPUXI5r4",
        "outputId": "ffda8a43-200e-4596-8f1d-4254971bd359"
      },
      "source": [
        "total.info()"
      ],
      "execution_count": null,
      "outputs": [
        {
          "output_type": "stream",
          "text": [
            "<class 'pandas.core.frame.DataFrame'>\n",
            "Int64Index: 699962 entries, 1988609 to 1680812\n",
            "Data columns (total 2 columns):\n",
            " #   Column        Non-Null Count   Dtype \n",
            "---  ------        --------------   ----- \n",
            " 0   clean_text    699962 non-null  object\n",
            " 1   rating_class  699962 non-null  int64 \n",
            "dtypes: int64(1), object(1)\n",
            "memory usage: 16.0+ MB\n"
          ],
          "name": "stdout"
        }
      ]
    },
    {
      "cell_type": "markdown",
      "metadata": {
        "id": "WVP7vPxuJDlz"
      },
      "source": [
        "## 패딩"
      ]
    },
    {
      "cell_type": "code",
      "metadata": {
        "colab": {
          "base_uri": "https://localhost:8080/",
          "height": 315
        },
        "id": "21u7HQvEJArd",
        "outputId": "1cfb3569-bbae-42ae-c8cc-ead5f363b111"
      },
      "source": [
        "# 가장 길이가 긴 리뷰와 전체 데이터의 길이 분포 확인\n",
        "print('리뷰의 최대 길이:', max(len(l) for l in X))\n",
        "print('리뷰의 평균 길이:', sum(map(len, X)) / len(X))\n",
        "plt.hist([len(s) for s in X], bins=100)\n",
        "plt.xlabel('length of samples')\n",
        "plt.ylabel('number of samples')\n",
        "plt.show()"
      ],
      "execution_count": null,
      "outputs": [
        {
          "output_type": "stream",
          "text": [
            "리뷰의 최대 길이: 1339\n",
            "리뷰의 평균 길이: 19.380012057797423\n"
          ],
          "name": "stdout"
        },
        {
          "output_type": "display_data",
          "data": {
            "image/png": "[encoded data removed]",
            "text/plain": [
              "<Figure size 432x288 with 1 Axes>"
            ]
          },
          "metadata": {
            "tags": [],
            "needs_background": "light"
          }
        }
      ]
    },
    {
      "cell_type": "code",
      "metadata": {
        "id": "Hl_caXrsJFkw"
      },
      "source": [
        "# 전체 샘플 중 길이가 max_len 이하인 샘플의 비율이 몇%인지 확인\n",
        "def below_threshold_len(max_len, nested_list):\n",
        "    cnt = 0\n",
        "    for s in nested_list:\n",
        "        if len(s) <= max_len:\n",
        "            cnt = cnt + 1\n",
        "    print(f'전체 샘플 중 길이가 {max_len} 이하인 샘플의 비율:', (cnt/len(nested_list))*100, '%')"
      ],
      "execution_count": null,
      "outputs": []
    },
    {
      "cell_type": "code",
      "metadata": {
        "colab": {
          "base_uri": "https://localhost:8080/"
        },
        "id": "chHHdAA0JJUV",
        "outputId": "a032fad1-6b1c-4253-a5d4-5790948ccf41"
      },
      "source": [
        "max_len = 100\n",
        "below_threshold_len(max_len, X)"
      ],
      "execution_count": null,
      "outputs": [
        {
          "output_type": "stream",
          "text": [
            "전체 샘플 중 길이가 100 이하인 샘플의 비율: 98.68850023286979 %\n"
          ],
          "name": "stdout"
        }
      ]
    },
    {
      "cell_type": "code",
      "metadata": {
        "id": "jZOWRVI9JLZS"
      },
      "source": [
        "# 그러면 모든 샘플의 길이를 100으로 맞추자.\n",
        "X = pad_sequences(X, maxlen=max_len)"
      ],
      "execution_count": null,
      "outputs": []
    },
    {
      "cell_type": "markdown",
      "metadata": {
        "id": "CAYIYpuqJWO_"
      },
      "source": [
        "# 훈련"
      ]
    },
    {
      "cell_type": "code",
      "metadata": {
        "colab": {
          "base_uri": "https://localhost:8080/"
        },
        "id": "Y5t8xIn3JaNV",
        "outputId": "e90ad0ac-32c3-4ca4-aa9b-564d8817899f"
      },
      "source": [
        "X_train, X_test, y_train, y_test = train_test_split(X, y, test_size=0.25, stratify=y)\n",
        "X_train.shape, X_test.shape"
      ],
      "execution_count": null,
      "outputs": [
        {
          "output_type": "execute_result",
          "data": {
            "text/plain": [
              "((524971, 100), (174991, 100))"
            ]
          },
          "metadata": {
            "tags": []
          },
          "execution_count": 28
        }
      ]
    },
    {
      "cell_type": "code",
      "metadata": {
        "colab": {
          "base_uri": "https://localhost:8080/"
        },
        "id": "lZdBp2IiJfbu",
        "outputId": "2f0d95e4-68eb-441a-828f-a056905eaa97"
      },
      "source": [
        "y_train.shape, y_test.shape"
      ],
      "execution_count": null,
      "outputs": [
        {
          "output_type": "execute_result",
          "data": {
            "text/plain": [
              "((524971,), (174991,))"
            ]
          },
          "metadata": {
            "tags": []
          },
          "execution_count": 29
        }
      ]
    },
    {
      "cell_type": "markdown",
      "metadata": {
        "id": "qXkMWLvLJjXe"
      },
      "source": [
        "# LSTM"
      ]
    },
    {
      "cell_type": "code",
      "metadata": {
        "id": "76hpPmOiJtd_"
      },
      "source": [
        "model = Sequential()\n",
        "model.add(Embedding(vocab_size, 100))\n",
        "model.add(LSTM(units=128, return_sequences=True))\n",
        "model.add(Dense(units=1, activation='sigmoid'))"
      ],
      "execution_count": null,
      "outputs": []
    },
    {
      "cell_type": "code",
      "metadata": {
        "colab": {
          "base_uri": "https://localhost:8080/"
        },
        "id": "irQO3Cd1z34o",
        "outputId": "5331cf5c-2c46-4d15-c989-74264d17610c"
      },
      "source": [
        "model.summary()"
      ],
      "execution_count": null,
      "outputs": [
        {
          "output_type": "stream",
          "text": [
            "Model: \"sequential_1\"\n",
            "_________________________________________________________________\n",
            "Layer (type)                 Output Shape              Param #   \n",
            "=================================================================\n",
            "embedding_1 (Embedding)      (None, None, 100)         1315500   \n",
            "_________________________________________________________________\n",
            "lstm (LSTM)                  (None, None, 128)         117248    \n",
            "_________________________________________________________________\n",
            "dense_1 (Dense)              (None, None, 1)           129       \n",
            "=================================================================\n",
            "Total params: 1,432,877\n",
            "Trainable params: 1,432,877\n",
            "Non-trainable params: 0\n",
            "_________________________________________________________________\n"
          ],
          "name": "stdout"
        }
      ]
    },
    {
      "cell_type": "code",
      "metadata": {
        "id": "GhLlxSvJJxtD"
      },
      "source": [
        "es = EarlyStopping(monitor='val_loss', verbose=1, patience=4)\n",
        "mc = ModelCheckpoint('best_model.h5', monitor='val_acc', mode='max', verbose=1, save_best_only=True)"
      ],
      "execution_count": null,
      "outputs": []
    },
    {
      "cell_type": "code",
      "metadata": {
        "colab": {
          "base_uri": "https://localhost:8080/"
        },
        "id": "EyYo3VqjJ4Be",
        "outputId": "73b350ef-41d7-4538-b4c0-8208982e22cb"
      },
      "source": [
        "model.compile(optimizer='adam', loss='binary_crossentropy', metrics='acc')\n",
        "history = model.fit(X_train, y_train, epochs=100, callbacks=[es, mc], batch_size=512, validation_split=0.2)"
      ],
      "execution_count": null,
      "outputs": [
        {
          "output_type": "stream",
          "text": [
            "Epoch 1/100\n",
            "821/821 [==============================] - 77s 82ms/step - loss: 0.6360 - acc: 0.6082 - val_loss: 0.6110 - val_acc: 0.6243\n",
            "\n",
            "Epoch 00001: val_acc improved from -inf to 0.62430, saving model to best_model.h5\n",
            "Epoch 2/100\n",
            "821/821 [==============================] - 67s 82ms/step - loss: 0.6069 - acc: 0.6258 - val_loss: 0.6090 - val_acc: 0.6251\n",
            "\n",
            "Epoch 00002: val_acc improved from 0.62430 to 0.62507, saving model to best_model.h5\n",
            "Epoch 3/100\n",
            "821/821 [==============================] - 66s 81ms/step - loss: 0.6014 - acc: 0.6293 - val_loss: 0.6085 - val_acc: 0.6253\n",
            "\n",
            "Epoch 00003: val_acc improved from 0.62507 to 0.62533, saving model to best_model.h5\n",
            "Epoch 4/100\n",
            "821/821 [==============================] - 65s 80ms/step - loss: 0.5984 - acc: 0.6290 - val_loss: 0.6074 - val_acc: 0.6254\n",
            "\n",
            "Epoch 00004: val_acc improved from 0.62533 to 0.62543, saving model to best_model.h5\n",
            "Epoch 5/100\n",
            "821/821 [==============================] - 65s 80ms/step - loss: 0.5950 - acc: 0.6312 - val_loss: 0.6101 - val_acc: 0.6253\n",
            "\n",
            "Epoch 00005: val_acc did not improve from 0.62543\n",
            "Epoch 6/100\n",
            "821/821 [==============================] - 65s 80ms/step - loss: 0.5920 - acc: 0.6326 - val_loss: 0.6124 - val_acc: 0.6251\n",
            "\n",
            "Epoch 00006: val_acc did not improve from 0.62543\n",
            "Epoch 7/100\n",
            "821/821 [==============================] - 66s 80ms/step - loss: 0.5908 - acc: 0.6323 - val_loss: 0.6137 - val_acc: 0.6250\n",
            "\n",
            "Epoch 00007: val_acc did not improve from 0.62543\n",
            "Epoch 8/100\n",
            "821/821 [==============================] - 66s 80ms/step - loss: 0.5889 - acc: 0.6335 - val_loss: 0.6183 - val_acc: 0.6247\n",
            "\n",
            "Epoch 00008: val_acc did not improve from 0.62543\n",
            "Epoch 00008: early stopping\n"
          ],
          "name": "stdout"
        }
      ]
    },
    {
      "cell_type": "code",
      "metadata": {
        "id": "Re2Fg9BcKEPJ"
      },
      "source": [
        "hist = pd.DataFrame(history.history)"
      ],
      "execution_count": null,
      "outputs": []
    },
    {
      "cell_type": "code",
      "metadata": {
        "id": "vElI8Pv10QCk",
        "colab": {
          "base_uri": "https://localhost:8080/",
          "height": 281
        },
        "outputId": "65297cec-68fb-40c0-9541-61363d1cf2ff"
      },
      "source": [
        "hist[['loss', 'val_loss']].plot()\n",
        "plt.title('LSTM loss')\n",
        "plt.grid()\n",
        "plt.show()"
      ],
      "execution_count": null,
      "outputs": [
        {
          "output_type": "display_data",
          "data": {
            "image/png": "[encoded data removed]",
            "text/plain": [
              "<Figure size 432x288 with 1 Axes>"
            ]
          },
          "metadata": {
            "tags": [],
            "needs_background": "light"
          }
        }
      ]
    },
    {
      "cell_type": "code",
      "metadata": {
        "id": "9r1Do_5T0ev3",
        "colab": {
          "base_uri": "https://localhost:8080/",
          "height": 281
        },
        "outputId": "491943a0-5a39-41bd-8e2e-1f1168ed229b"
      },
      "source": [
        "hist[['acc', 'val_acc']].plot()\n",
        "plt.title('LSTM accuracy')\n",
        "plt.grid()\n",
        "plt.show()"
      ],
      "execution_count": null,
      "outputs": [
        {
          "output_type": "display_data",
          "data": {
            "image/png": "[encoded data removed]",
            "text/plain": [
              "<Figure size 432x288 with 1 Axes>"
            ]
          },
          "metadata": {
            "tags": [],
            "needs_background": "light"
          }
        }
      ]
    },
    {
      "cell_type": "code",
      "metadata": {
        "id": "TMffVxGV4_RD"
      },
      "source": [
        "import keras"
      ],
      "execution_count": null,
      "outputs": []
    },
    {
      "cell_type": "code",
      "metadata": {
        "id": "ggLb4sbo0rK-",
        "colab": {
          "base_uri": "https://localhost:8080/"
        },
        "outputId": "78558a08-9d2b-42f2-f4cb-b4aa8516ad44"
      },
      "source": [
        "best_model = keras.models.load_model('best_model.h5')\n",
        "test_loss, test_acc = best_model.evaluate(X_test, y_test, verbose=1)\n",
        "pred = best_model.predict(X_test)\n",
        "print('model accuracy:', test_acc)"
      ],
      "execution_count": null,
      "outputs": [
        {
          "output_type": "stream",
          "text": [
            "5469/5469 [==============================] - 61s 11ms/step - loss: 0.6066 - acc: 0.6259\n",
            "model accuracy: 0.6258820295333862\n"
          ],
          "name": "stdout"
        }
      ]
    },
    {
      "cell_type": "markdown",
      "metadata": {
        "id": "tYZOsrOZCDmf"
      },
      "source": [
        "## confusion matrix"
      ]
    },
    {
      "cell_type": "code",
      "metadata": {
        "id": "D0-p7AHb0ub7",
        "colab": {
          "base_uri": "https://localhost:8080/"
        },
        "outputId": "3ed3db73-1d28-4753-b0f5-472c0f3ebc02"
      },
      "source": [
        "# series를 1차원 array로 바꾸고 정수로 맞춰주기\n",
        "a = y_test.to_numpy(int)\n",
        "a"
      ],
      "execution_count": null,
      "outputs": [
        {
          "output_type": "execute_result",
          "data": {
            "text/plain": [
              "array([1, 1, 0, ..., 1, 1, 0])"
            ]
          },
          "metadata": {
            "tags": []
          },
          "execution_count": 39
        }
      ]
    },
    {
      "cell_type": "code",
      "metadata": {
        "colab": {
          "base_uri": "https://localhost:8080/"
        },
        "id": "Xqqr-1b2rI60",
        "outputId": "3cedceb8-6619-4b39-919c-ca01ec2dd3c4"
      },
      "source": [
        "a.shape"
      ],
      "execution_count": null,
      "outputs": [
        {
          "output_type": "execute_result",
          "data": {
            "text/plain": [
              "(174991,)"
            ]
          },
          "metadata": {
            "tags": []
          },
          "execution_count": 42
        }
      ]
    },
    {
      "cell_type": "code",
      "metadata": {
        "id": "RmNZ_6JF0u6i",
        "colab": {
          "base_uri": "https://localhost:8080/"
        },
        "outputId": "6b5c9b74-dc81-4a32-a6d1-e5cb7ab4e1d9"
      },
      "source": [
        "# 2차원 array를 1차원 array로 바꾸고 정수로 맞춰주기\n",
        "# GRU 할 때는 이것까지만 하고도 아무 문제 없이 confusion matrix를 만들 수 있었으나\n",
        "# LSTM은 b가 (174991, 100, 1)이라 reshape하면 (17499100, 1)이 되어버림\n",
        "# 왜 그런건지는 모르겠으나 일단 b를 (174991, 1)로 만들어주겠다\n",
        "b = np.around(pred, 0).astype(int).reshape(-1,)\n",
        "b"
      ],
      "execution_count": null,
      "outputs": [
        {
          "output_type": "execute_result",
          "data": {
            "text/plain": [
              "array([1, 1, 1, ..., 0, 0, 0])"
            ]
          },
          "metadata": {
            "tags": []
          },
          "execution_count": 40
        }
      ]
    },
    {
      "cell_type": "code",
      "metadata": {
        "id": "ycF_HW7z6Fd0",
        "colab": {
          "base_uri": "https://localhost:8080/"
        },
        "outputId": "2e0329f8-1c29-4f5c-b8aa-21dc0825a962"
      },
      "source": [
        "# 이렇게 되어버린다는 뜻이다\n",
        "np.around(pred, 0).astype(int).shape"
      ],
      "execution_count": null,
      "outputs": [
        {
          "output_type": "execute_result",
          "data": {
            "text/plain": [
              "(174991, 100, 1)"
            ]
          },
          "metadata": {
            "tags": []
          },
          "execution_count": 41
        }
      ]
    },
    {
      "cell_type": "code",
      "metadata": {
        "id": "J1Z9eF5z7Ye5",
        "colab": {
          "base_uri": "https://localhost:8080/"
        },
        "outputId": "c6f51983-4c59-41f0-d565-e40538712807"
      },
      "source": [
        "# [[[1 or 0]이 100개 들어있는 리스트]가 100개 들어 있는 리스트]이므로\n",
        "# 제일 안쪽 원소 1개짜리 리스트 100개를 하나의 리스트에 집어넣어 버리고\n",
        "# 리스트 안의 숫자를 다 합하고 100으로 나누면 0 이상 1 이하의 1차원 배열이 됨\n",
        "# 리스트와 배열을 혼용해서 말하고 있지만 대충 그렇다고 하자 아마 배열이 맞는 말이겠지...?\n",
        "b = np.around(pred, 0).astype(int).reshape(-1, 100).sum(axis=1)\n",
        "b = b/100\n",
        "b"
      ],
      "execution_count": null,
      "outputs": [
        {
          "output_type": "execute_result",
          "data": {
            "text/plain": [
              "array([0.99, 1.  , 0.41, ..., 1.  , 1.  , 0.73])"
            ]
          },
          "metadata": {
            "tags": []
          },
          "execution_count": 44
        }
      ]
    },
    {
      "cell_type": "code",
      "metadata": {
        "id": "PifxIqEg6RBf",
        "colab": {
          "base_uri": "https://localhost:8080/"
        },
        "outputId": "96ded457-0661-41b8-fb5f-80380709f706"
      },
      "source": [
        "# a랑 맞추기 위해 숫자가 1인 건 1로 놔두고 소수점이 있거나 0인 건 다 0으로 버리자\n",
        "# 그러면 0, 1이 대충 a에서랑 비슷하게 나와서 그렇게 해보긴 했는데\n",
        "# 왜 그러는 건지는 잘 모르겠다\n",
        "b = np.floor(b).astype(int)\n",
        "b"
      ],
      "execution_count": null,
      "outputs": [
        {
          "output_type": "execute_result",
          "data": {
            "text/plain": [
              "array([0, 1, 0, ..., 1, 1, 0])"
            ]
          },
          "metadata": {
            "tags": []
          },
          "execution_count": 45
        }
      ]
    },
    {
      "cell_type": "code",
      "metadata": {
        "id": "Zk8NqUES0xEs"
      },
      "source": [
        "# confusion matrix 만들기\n",
        "conf_matrix = pd.DataFrame(confusion_matrix(a, b), index = ['bad', 'good'], columns=['bad', 'good'])\n",
        "\n",
        "# normalize\n",
        "conf_matrix = conf_matrix.astype('float') / conf_matrix.sum(axis=1)[:, np.newaxis]"
      ],
      "execution_count": null,
      "outputs": []
    },
    {
      "cell_type": "code",
      "metadata": {
        "id": "F8luAldl0zaS",
        "colab": {
          "base_uri": "https://localhost:8080/",
          "height": 609
        },
        "outputId": "8fac242a-2aad-433d-da4b-dd5302a2e80a"
      },
      "source": [
        "# 조금 당황스럽다 위에서 정확도 이렇게 안나왔으면서 왜 cf_mt에서는 정확도가 더 좋지?\n",
        "# a, b 처리할 때 뭐가 바뀐건가?\n",
        "# 시각화\n",
        "plt.figure(figsize=(10, 10))\n",
        "sns.heatmap(conf_matrix, annot=True, annot_kws={'size':15})     # annot=True: 각 셀에 숫자 입력\n",
        "plt.title('LSTM confusion matrix', fontsize=15)\n",
        "plt.show()"
      ],
      "execution_count": null,
      "outputs": [
        {
          "output_type": "display_data",
          "data": {
            "image/png": "[encoded data removed]",
            "text/plain": [
              "<Figure size 720x720 with 2 Axes>"
            ]
          },
          "metadata": {
            "tags": [],
            "needs_background": "light"
          }
        }
      ]
    },
    {
      "cell_type": "code",
      "metadata": {
        "id": "YsA4BKjj_9Fn",
        "colab": {
          "base_uri": "https://localhost:8080/"
        },
        "outputId": "52eb5d6b-3772-4b5e-f02d-291780c01629"
      },
      "source": [
        "# 1과 0이 되게 소수점을 버려버린 게 문제인가 싶어서 반올림을 사용해봤다\n",
        "b = np.around(pred, 0).astype(int).reshape(-1, 100).sum(axis=1)\n",
        "b = b/100\n",
        "b"
      ],
      "execution_count": null,
      "outputs": [
        {
          "output_type": "execute_result",
          "data": {
            "text/plain": [
              "array([0.99, 1.  , 0.41, ..., 1.  , 1.  , 0.73])"
            ]
          },
          "metadata": {
            "tags": []
          },
          "execution_count": 48
        }
      ]
    },
    {
      "cell_type": "code",
      "metadata": {
        "id": "LlrmmtT7__8f",
        "colab": {
          "base_uri": "https://localhost:8080/"
        },
        "outputId": "097b219b-7c99-47c7-f290-18e67dfde530"
      },
      "source": [
        "b = np.round(b).astype(int)\n",
        "b"
      ],
      "execution_count": null,
      "outputs": [
        {
          "output_type": "execute_result",
          "data": {
            "text/plain": [
              "array([1, 1, 0, ..., 1, 1, 1])"
            ]
          },
          "metadata": {
            "tags": []
          },
          "execution_count": 49
        }
      ]
    },
    {
      "cell_type": "code",
      "metadata": {
        "id": "o5uTRfnjAEQg"
      },
      "source": [
        "# confusion matrix 만들기\n",
        "conf_matrix = pd.DataFrame(confusion_matrix(a, b), index = ['bad', 'good'], columns=['bad', 'good'])\n",
        "\n",
        "# normalize\n",
        "conf_matrix = conf_matrix.astype('float') / conf_matrix.sum(axis=1)[:, np.newaxis]"
      ],
      "execution_count": null,
      "outputs": []
    },
    {
      "cell_type": "code",
      "metadata": {
        "id": "VDIoVXokAGvo",
        "colab": {
          "base_uri": "https://localhost:8080/",
          "height": 609
        },
        "outputId": "c81117dc-7ea2-4c07-d6ca-2f05fbdd05cc"
      },
      "source": [
        "# 이 결과는 뭘까 이해할 수 없다 아마 b가 다 1이 되어버린 것 같다\n",
        "# 이건 틀린 것 같다\n",
        "# 시각화\n",
        "plt.figure(figsize=(10, 10))\n",
        "sns.heatmap(conf_matrix, annot=True, annot_kws={'size':15})     # annot=True: 각 셀에 숫자 입력\n",
        "plt.title('LSTM confusion matrix', fontsize=15)\n",
        "plt.show()"
      ],
      "execution_count": null,
      "outputs": [
        {
          "output_type": "display_data",
          "data": {
            "image/png": "[encoded data removed]",
            "text/plain": [
              "<Figure size 720x720 with 2 Axes>"
            ]
          },
          "metadata": {
            "tags": [],
            "needs_background": "light"
          }
        }
      ]
    },
    {
      "cell_type": "code",
      "metadata": {
        "id": "9WVGv1lYBWxP"
      },
      "source": [
        "# 총평:\n",
        "# GRU는 멀쩡하게 잘만 돌아가는데 LSTM은 왜 차원도 이상하게 나오고 결과도 이상하게 나올까 뭔가 잘못한 게 있는걸까 뭐가 잘못된 걸까"
      ],
      "execution_count": null,
      "outputs": []
    },
    {
      "cell_type": "markdown",
      "metadata": {
        "id": "HS-teEvRJU0u"
      },
      "source": [
        "# GRU"
      ]
    },
    {
      "cell_type": "markdown",
      "metadata": {
        "id": "F896XU7505gp"
      },
      "source": [
        "## 60"
      ]
    },
    {
      "cell_type": "code",
      "metadata": {
        "id": "yQMRcmffJfHp"
      },
      "source": [
        "model2 = Sequential()\n",
        "model2.add(Embedding(vocab_size, 100))\n",
        "model2.add(GRU(128))\n",
        "model2.add(Dense(1, activation='sigmoid'))"
      ],
      "execution_count": null,
      "outputs": []
    },
    {
      "cell_type": "code",
      "metadata": {
        "id": "AJNvOqXO01V7"
      },
      "source": [
        "es = EarlyStopping(monitor='val_loss', verbose=1, patience=4)\n",
        "mc = ModelCheckpoint('best_model.h5', monitor='val_acc', mode='max', verbose=1, save_best_only=True)"
      ],
      "execution_count": null,
      "outputs": []
    },
    {
      "cell_type": "code",
      "metadata": {
        "colab": {
          "base_uri": "https://localhost:8080/"
        },
        "id": "0Hmb4K8BJsuF",
        "outputId": "ffc1f16d-6fa2-463b-e9b9-6b3bd697bddd"
      },
      "source": [
        "model2.compile(optimizer='adam', loss='binary_crossentropy', metrics='acc')\n",
        "history2 = model2.fit(X_train, y_train, epochs=100, callbacks=[es, mc], batch_size=60, validation_split=0.2)"
      ],
      "execution_count": null,
      "outputs": [
        {
          "output_type": "stream",
          "text": [
            "Epoch 1/100\n",
            "7000/7000 [==============================] - 320s 41ms/step - loss: 0.1922 - acc: 0.9208 - val_loss: 0.1388 - val_acc: 0.9473\n",
            "\n",
            "Epoch 00001: val_acc improved from -inf to 0.94726, saving model to best_model.h5\n",
            "Epoch 2/100\n",
            "7000/7000 [==============================] - 291s 42ms/step - loss: 0.1257 - acc: 0.9519 - val_loss: 0.1354 - val_acc: 0.9483\n",
            "\n",
            "Epoch 00002: val_acc improved from 0.94726 to 0.94831, saving model to best_model.h5\n",
            "Epoch 3/100\n",
            "7000/7000 [==============================] - 288s 41ms/step - loss: 0.1060 - acc: 0.9606 - val_loss: 0.1373 - val_acc: 0.9479\n",
            "\n",
            "Epoch 00003: val_acc did not improve from 0.94831\n",
            "Epoch 4/100\n",
            "7000/7000 [==============================] - 285s 41ms/step - loss: 0.0891 - acc: 0.9666 - val_loss: 0.1515 - val_acc: 0.9447\n",
            "\n",
            "Epoch 00004: val_acc did not improve from 0.94831\n",
            "Epoch 5/100\n",
            "7000/7000 [==============================] - 286s 41ms/step - loss: 0.0728 - acc: 0.9733 - val_loss: 0.1645 - val_acc: 0.9449\n",
            "\n",
            "Epoch 00005: val_acc did not improve from 0.94831\n",
            "Epoch 6/100\n",
            "7000/7000 [==============================] - 290s 41ms/step - loss: 0.0592 - acc: 0.9786 - val_loss: 0.1901 - val_acc: 0.9418\n",
            "\n",
            "Epoch 00006: val_acc did not improve from 0.94831\n",
            "Epoch 00006: early stopping\n"
          ],
          "name": "stdout"
        }
      ]
    },
    {
      "cell_type": "code",
      "metadata": {
        "id": "FXcvw8DNJ_KA"
      },
      "source": [
        "hist2 = pd.DataFrame(history2.history)"
      ],
      "execution_count": null,
      "outputs": []
    },
    {
      "cell_type": "code",
      "metadata": {
        "colab": {
          "base_uri": "https://localhost:8080/",
          "height": 281
        },
        "id": "tFeR3fSdKL39",
        "outputId": "647cc7f3-4820-44ec-955e-6b87687dd689"
      },
      "source": [
        "hist2[['loss', 'val_loss']].plot()\n",
        "plt.title('GRU 60 loss')\n",
        "plt.grid()\n",
        "plt.show()"
      ],
      "execution_count": null,
      "outputs": [
        {
          "output_type": "display_data",
          "data": {
            "image/png": "[encoded data removed]",
            "text/plain": [
              "<Figure size 432x288 with 1 Axes>"
            ]
          },
          "metadata": {
            "tags": [],
            "needs_background": "light"
          }
        }
      ]
    },
    {
      "cell_type": "code",
      "metadata": {
        "colab": {
          "base_uri": "https://localhost:8080/",
          "height": 281
        },
        "id": "88f40OHtKOI4",
        "outputId": "a626e475-792d-45f9-d485-1f775de38454"
      },
      "source": [
        "hist2[['acc', 'val_acc']].plot()\n",
        "plt.title('GRU 60 accuracy')\n",
        "plt.grid()\n",
        "plt.show()"
      ],
      "execution_count": null,
      "outputs": [
        {
          "output_type": "display_data",
          "data": {
            "image/png": "[encoded data removed]",
            "text/plain": [
              "<Figure size 432x288 with 1 Axes>"
            ]
          },
          "metadata": {
            "tags": [],
            "needs_background": "light"
          }
        }
      ]
    },
    {
      "cell_type": "code",
      "metadata": {
        "colab": {
          "base_uri": "https://localhost:8080/"
        },
        "id": "NtM7qSfsKUXS",
        "outputId": "71271a64-3c44-4e27-ea89-c13636f258e9"
      },
      "source": [
        "best_model = keras.models.load_model('best_model.h5')\n",
        "test_loss, test_acc = best_model.evaluate(X_test, y_test, verbose=1)\n",
        "pred = best_model.predict(X_test)\n",
        "print('model accuracy:', test_acc)"
      ],
      "execution_count": null,
      "outputs": [
        {
          "output_type": "stream",
          "text": [
            "5469/5469 [==============================] - 57s 10ms/step - loss: 0.1359 - acc: 0.9474\n",
            "model accuracy: 0.9473801255226135\n"
          ],
          "name": "stdout"
        }
      ]
    },
    {
      "cell_type": "markdown",
      "metadata": {
        "id": "QG9aSnT8u22B"
      },
      "source": [
        "### confusion matrix"
      ]
    },
    {
      "cell_type": "code",
      "metadata": {
        "colab": {
          "base_uri": "https://localhost:8080/"
        },
        "id": "I-LesPuqwmLd",
        "outputId": "e3477d62-2ee1-4c37-a507-2c5d43e6f3f8"
      },
      "source": [
        "# series를 1차원 array로 바꾸고 정수로 맞춰주기\n",
        "a = y_test.to_numpy(int)\n",
        "a"
      ],
      "execution_count": null,
      "outputs": [
        {
          "output_type": "execute_result",
          "data": {
            "text/plain": [
              "array([1, 1, 1, ..., 1, 0, 1])"
            ]
          },
          "metadata": {
            "tags": []
          },
          "execution_count": 38
        }
      ]
    },
    {
      "cell_type": "code",
      "metadata": {
        "colab": {
          "base_uri": "https://localhost:8080/"
        },
        "id": "pfg92Za-wpMN",
        "outputId": "bc352f2f-62e9-4891-b141-3d46eff0b7ad"
      },
      "source": [
        "# 2차원 array를 1차원 array로 바꾸고 정수로 맞춰주기\n",
        "b = np.around(pred, 0).astype(int).reshape(-1,)\n",
        "b"
      ],
      "execution_count": null,
      "outputs": [
        {
          "output_type": "execute_result",
          "data": {
            "text/plain": [
              "array([1, 1, 1, ..., 1, 0, 1])"
            ]
          },
          "metadata": {
            "tags": []
          },
          "execution_count": 39
        }
      ]
    },
    {
      "cell_type": "code",
      "metadata": {
        "id": "q7W48cpDyJWa"
      },
      "source": [
        "# confusion matrix 만들기\n",
        "conf_matrix = pd.DataFrame(confusion_matrix(a, b), index = ['bad', 'good'], columns=['bad', 'good'])\n",
        "\n",
        "# normalize\n",
        "conf_matrix = conf_matrix.astype('float') / conf_matrix.sum(axis=1)[:, np.newaxis]"
      ],
      "execution_count": null,
      "outputs": []
    },
    {
      "cell_type": "code",
      "metadata": {
        "colab": {
          "base_uri": "https://localhost:8080/",
          "height": 609
        },
        "id": "Cox590XRyAMT",
        "outputId": "f827758b-6a05-40dc-b7b8-f1276c76ef50"
      },
      "source": [
        "# 시각화\n",
        "plt.figure(figsize=(10, 10))\n",
        "sns.heatmap(conf_matrix, annot=True, annot_kws={'size':15})     # annot=True: 각 셀에 숫자 입력\n",
        "plt.title('GRU 60 confusion matrix', fontsize=15)\n",
        "plt.show()"
      ],
      "execution_count": null,
      "outputs": [
        {
          "output_type": "display_data",
          "data": {
            "image/png": "[encoded data removed]",
            "text/plain": [
              "<Figure size 720x720 with 2 Axes>"
            ]
          },
          "metadata": {
            "tags": [],
            "needs_background": "light"
          }
        }
      ]
    },
    {
      "cell_type": "markdown",
      "metadata": {
        "id": "inxoP16crtid"
      },
      "source": [
        "### 실제 샘플 예측"
      ]
    },
    {
      "cell_type": "markdown",
      "metadata": {
        "id": "hCcoC9p-ufv0"
      },
      "source": [
        "#### 토큰화, 불용어 제거 등을 위한 import와 함수 정의(앞의 것과 동일)"
      ]
    },
    {
      "cell_type": "code",
      "metadata": {
        "colab": {
          "base_uri": "https://localhost:8080/"
        },
        "id": "HbFqYRB8rsx-",
        "outputId": "db56ce0a-d2f2-4c77-f0cd-0e131107942d"
      },
      "source": [
        "import re\n",
        "import urllib.request       # 왜 넣는걸까\n",
        "\n",
        "# 시각화\n",
        "%matplotlib inline\n",
        "import matplotlib.pyplot as plt\n",
        "\n",
        "# nltk\n",
        "import nltk\n",
        "nltk.download('punkt')\n",
        "nltk.download('stopwords')\n",
        "nltk.download('wordnet')\n",
        "from nltk import word_tokenize, sent_tokenize, regexp_tokenize\n",
        "from nltk.corpus import stopwords\n",
        "from nltk.stem.lancaster import LancasterStemmer\n",
        "from nltk.stem import WordNetLemmatizer, PorterStemmer\n",
        "\n",
        "import string, unicodedata\n",
        "from bs4 import BeautifulSoup\n",
        "\n",
        "!pip install contractions\n",
        "from contractions import contractions_dict"
      ],
      "execution_count": null,
      "outputs": [
        {
          "output_type": "stream",
          "text": [
            "[nltk_data] Downloading package punkt to /root/nltk_data...\n",
            "[nltk_data]   Package punkt is already up-to-date!\n",
            "[nltk_data] Downloading package stopwords to /root/nltk_data...\n",
            "[nltk_data]   Package stopwords is already up-to-date!\n",
            "[nltk_data] Downloading package wordnet to /root/nltk_data...\n",
            "[nltk_data]   Package wordnet is already up-to-date!\n",
            "Requirement already satisfied: contractions in /usr/local/lib/python3.7/dist-packages (0.0.48)\n",
            "Requirement already satisfied: textsearch>=0.0.21 in /usr/local/lib/python3.7/dist-packages (from contractions) (0.0.21)\n",
            "Requirement already satisfied: anyascii in /usr/local/lib/python3.7/dist-packages (from textsearch>=0.0.21->contractions) (0.2.0)\n",
            "Requirement already satisfied: pyahocorasick in /usr/local/lib/python3.7/dist-packages (from textsearch>=0.0.21->contractions) (1.4.2)\n"
          ],
          "name": "stdout"
        }
      ]
    },
    {
      "cell_type": "code",
      "metadata": {
        "id": "6FN8KjGRrxFT"
      },
      "source": [
        "def strip_html(text):\n",
        "  # html코드 제거 함수\n",
        "    soup = BeautifulSoup(text, \"html.parser\")\n",
        "    return soup.get_text()\n",
        "\n",
        "def remove_between_square_brackets(text):\n",
        "  # 괄호로 묶여있는 단어 제거\n",
        "    return re.sub('\\[[^]]*\\]', '', text)\n",
        "\n",
        "def denoise_text(text):\n",
        "  # 위에 함수 두개 과정 진행하는 함수\n",
        "    text = strip_html(text)\n",
        "    text = remove_between_square_brackets(text)\n",
        "    return text\n",
        "\n",
        "\n",
        "# Define function to expand contractions\n",
        "def expand_contractions(text):\n",
        "  # IGNORECASE =  대소문자 관련 없이, DOTALL = 줄바꿈기호 상관없이 매칭해달라는 의미\n",
        "  # re를 이용하여 정규표현식으로 매칭을 할 때 contractions_dict의 키를   \n",
        "  # 찾고자 하는 형태를 만든뒤 매칭하여 축약문들을 확장 시키는 과정인듯\n",
        "    contractions_pattern = re.compile('({})'.format('|'.join(contractions_dict.keys())),flags=re.IGNORECASE|re.DOTALL)\n",
        "    def expand_match(contraction):\n",
        "        match = contraction.group(0)\n",
        "        first_char = match[0]\n",
        "        expanded_contraction = contractions_dict.get(match)\\\n",
        "                        if contractions_dict.get(match)\\\n",
        "                        else contractions_dict.get(match.lower())\n",
        "        expanded_contraction = first_char+expanded_contraction[1:]\n",
        "        return expanded_contraction\n",
        "    \n",
        "    try:\n",
        "      expanded_text = contractions_pattern.sub(expand_match, text)\n",
        "      expanded_text = re.sub(\"'\", \"\", expanded_text)\n",
        "    except:\n",
        "      return text\n",
        "    return expanded_text\n",
        "\n",
        "\n",
        "# special_characters removal\n",
        "def remove_special_characters(text, remove_digits=True):\n",
        "  # 문자, 숫자가 아닌것들을 제거\n",
        "  # r은 정규 표현식을 쓸 때 가독성을 위한 장치 raw string이라는 의미\n",
        "    pattern = r'[^a-zA-z0-9\\s]' if not remove_digits else r'[^a-zA-z\\s]'\n",
        "    text = re.sub(pattern, '', text)\n",
        "    return text\n",
        "\n",
        "\n",
        "def remove_non_ascii(words):\n",
        "    \"\"\"Remove non-ASCII characters from list of tokenized words\"\"\"\n",
        "    new_words = []\n",
        "    for word in words:\n",
        "        new_word = unicodedata.normalize('NFKD', word).encode('ascii', 'ignore').decode('utf-8', 'ignore')\n",
        "        new_words.append(new_word)\n",
        "    return new_words\n",
        "\n",
        "def to_lowercase(words):\n",
        "    \"\"\"Convert all characters to lowercase from list of tokenized words\"\"\"\n",
        "    new_words = []\n",
        "    for word in words:\n",
        "        new_word = word.lower()\n",
        "        new_words.append(new_word)\n",
        "    return new_words\n",
        "\n",
        "\n",
        "def remove_punctuation_and_splchars(words):\n",
        "    \"\"\"Remove punctuation from list of tokenized words\"\"\"\n",
        "    new_words = []\n",
        "    for word in words:\n",
        "        new_word = re.sub(r'[^\\w\\s]', '', word)\n",
        "        if new_word != '':\n",
        "            new_word = remove_special_characters(new_word, True)\n",
        "            new_words.append(new_word)\n",
        "    return new_words\n",
        "\n",
        "def replace_numbers(words):\n",
        "    \"\"\"Replace all interger occurrences in list of tokenized words with textual representation\"\"\"\n",
        "    p = inflect.engine()\n",
        "    new_words = []\n",
        "    for word in words:\n",
        "        if word.isdigit():\n",
        "            new_word = p.number_to_words(word)\n",
        "            new_words.append(new_word)\n",
        "        else:\n",
        "            new_words.append(word)\n",
        "    return new_words\n",
        "\n",
        "stopword_list= stopwords.words('english')\n",
        "stopword_list.remove('no')\n",
        "stopword_list.remove('not')\n",
        "#stopword_list.remove('headphone')\n",
        "#stopword_list.remove('headphones')\n",
        "#stopword_list.remove('earbuds')\n",
        "#stopword_list.remove('bud')\n",
        "#stopword_list.remove('ear')\n",
        "#stopword_list.remove('sony')\n",
        "#stopword_list.remove('product')\n",
        "\n",
        "\n",
        "def remove_stopwords(words):\n",
        "    \"\"\"Remove stop words from list of tokenized words\"\"\"\n",
        "    new_words = []\n",
        "    for word in words:\n",
        "        if word not in stopword_list:\n",
        "            new_words.append(word)\n",
        "    return new_words\n",
        "\n",
        "# 어간 추출\n",
        "def stem_words(words):      \n",
        "    \"\"\"Stem words in list of tokenized words\"\"\"\n",
        "    stemmer = LancasterStemmer()\n",
        "    stems = []\n",
        "    for word in words:\n",
        "        stem = stemmer.stem(word)\n",
        "        stems.append(stem)\n",
        "    return stems\n",
        "\n",
        "# 표제어 추출\n",
        "def lemmatize_verbs(words): \n",
        "    \"\"\"Lemmatize verbs in list of tokenized words\"\"\"\n",
        "    lemmatizer = WordNetLemmatizer()\n",
        "    lemmas = []\n",
        "    for word in words:\n",
        "        lemma = lemmatizer.lemmatize(word, pos='v')\n",
        "        lemmas.append(lemma)\n",
        "    return lemmas"
      ],
      "execution_count": null,
      "outputs": []
    },
    {
      "cell_type": "code",
      "metadata": {
        "id": "QoephodVr1Fq"
      },
      "source": [
        "def normalize(words):\n",
        "    words = remove_non_ascii(words)\n",
        "    words = to_lowercase(words)\n",
        "    words = remove_punctuation_and_splchars(words)\n",
        "    words = remove_stopwords(words)\n",
        "    return words\n",
        "\n",
        "def lemmatize(words):\n",
        "    lemmas = lemmatize_verbs(words)\n",
        "    return lemmas"
      ],
      "execution_count": null,
      "outputs": []
    },
    {
      "cell_type": "code",
      "metadata": {
        "id": "vc9r6TJdr2YR"
      },
      "source": [
        "def normalize_and_lemmatize(input):\n",
        "    sample = denoise_text(input)\n",
        "    sample = expand_contractions(sample)\n",
        "    sample = remove_special_characters(sample)\n",
        "    words = nltk.word_tokenize(sample)\n",
        "    words = normalize(words)\n",
        "    lemmas = lemmatize(words)\n",
        "    return ' '.join(lemmas)"
      ],
      "execution_count": null,
      "outputs": []
    },
    {
      "cell_type": "markdown",
      "metadata": {
        "id": "SRLZRsm_usp6"
      },
      "source": [
        "#### 샘플 예측"
      ]
    },
    {
      "cell_type": "code",
      "metadata": {
        "id": "UAF6OharKU7X"
      },
      "source": [
        "def sentiment_predict(new_sentence):\n",
        "    encoded = tokenizer.texts_to_sequences([new_sentence])    # 정수 인코딩\n",
        "    pad_new = pad_sequences(encoded, maxlen = max_len)     # 패딩\n",
        "    score = float(best_model.predict(pad_new))   # 예측\n",
        "    if score > 0.5:\n",
        "        print(f'{score*100}% 확률로 긍정 리뷰입니다.')\n",
        "    else:\n",
        "        print(f'{(1-score)*100}% 확률로 부정 리뷰입니다.')"
      ],
      "execution_count": null,
      "outputs": []
    },
    {
      "cell_type": "code",
      "metadata": {
        "colab": {
          "base_uri": "https://localhost:8080/"
        },
        "id": "MxDxwTC8t1hM",
        "outputId": "7d7002e9-c8a9-40a7-b03b-527ba332058f"
      },
      "source": [
        "sentiment_predict(\"I purchased my first laminator and had no idea what thermal pouches to purchase. I was not sure what brand would be best and what thickness would be most effective, the 3mil or 5mil. After much thought I finally decided to give these a try and I'm really glad I did! I don't have anything to compare them to as this was my first time using these; however, they worked great and I didn't have any issues. These are the 3mil. When I run out I will be purchasing more!\")"
      ],
      "execution_count": null,
      "outputs": [
        {
          "output_type": "stream",
          "text": [
            "50.45440196990967% 확률로 긍정 리뷰입니다.\n"
          ],
          "name": "stdout"
        }
      ]
    },
    {
      "cell_type": "code",
      "metadata": {
        "colab": {
          "base_uri": "https://localhost:8080/"
        },
        "id": "rLHXJkCeuQ51",
        "outputId": "7576df04-c3d5-4773-e111-4b57308f0b20"
      },
      "source": [
        "sentiment_predict(\"Waste of time and money. I had been using Scotch brand which worked beautifully. Then I switched to these. Not one thing laminated was right. What I laminated was ruined, it was to late to be able to return the pouches because I ordered them at the same time as the Scotch ones which I used first. So waste of money and huge waste of my time trying to laminate things and then fix them.\")"
      ],
      "execution_count": null,
      "outputs": [
        {
          "output_type": "stream",
          "text": [
            "99.57830305211246% 확률로 부정 리뷰입니다.\n"
          ],
          "name": "stdout"
        }
      ]
    },
    {
      "cell_type": "code",
      "metadata": {
        "id": "nBxuCGd2uZNp"
      },
      "source": [
        "# 맞췄다!!!"
      ],
      "execution_count": null,
      "outputs": []
    },
    {
      "cell_type": "code",
      "metadata": {
        "id": "Bhe3IWY6BdoG"
      },
      "source": [
        "# 총평:\n",
        "# 만족"
      ],
      "execution_count": null,
      "outputs": []
    },
    {
      "cell_type": "markdown",
      "metadata": {
        "id": "11uCle9c1BV0"
      },
      "source": [
        "## 256"
      ]
    },
    {
      "cell_type": "code",
      "metadata": {
        "id": "zwmXmMhO1Dxb"
      },
      "source": [
        "model3 = Sequential()\n",
        "model3.add(Embedding(vocab_size, 100))\n",
        "model3.add(GRU(128))\n",
        "model3.add(Dense(1, activation='sigmoid'))"
      ],
      "execution_count": null,
      "outputs": []
    },
    {
      "cell_type": "code",
      "metadata": {
        "id": "GOwnKPdp2K31"
      },
      "source": [
        "es = EarlyStopping(monitor='val_loss', verbose=1, patience=4)\n",
        "mc = ModelCheckpoint('best_model3.h5', monitor='val_acc', mode='max', verbose=1, save_best_only=True)"
      ],
      "execution_count": null,
      "outputs": []
    },
    {
      "cell_type": "code",
      "metadata": {
        "colab": {
          "base_uri": "https://localhost:8080/"
        },
        "id": "BnC9LSOA2Oto",
        "outputId": "fbe52e80-a2e2-41b2-d238-d7224dd10567"
      },
      "source": [
        "model3.compile(optimizer='adam', loss='binary_crossentropy', metrics='acc')\n",
        "history3 = model3.fit(X_train, y_train, epochs=100, callbacks=[es, mc], batch_size=256, validation_split=0.2)"
      ],
      "execution_count": null,
      "outputs": [
        {
          "output_type": "stream",
          "text": [
            "Epoch 1/100\n",
            "1641/1641 [==============================] - 108s 64ms/step - loss: 0.2261 - acc: 0.9006 - val_loss: 0.1500 - val_acc: 0.9417\n",
            "\n",
            "Epoch 00001: val_acc improved from -inf to 0.94167, saving model to best_model3.h5\n",
            "Epoch 2/100\n",
            "1641/1641 [==============================] - 101s 61ms/step - loss: 0.1335 - acc: 0.9491 - val_loss: 0.1391 - val_acc: 0.9460\n",
            "\n",
            "Epoch 00002: val_acc improved from 0.94167 to 0.94599, saving model to best_model3.h5\n",
            "Epoch 3/100\n",
            "1641/1641 [==============================] - 101s 62ms/step - loss: 0.1138 - acc: 0.9570 - val_loss: 0.1445 - val_acc: 0.9461\n",
            "\n",
            "Epoch 00003: val_acc improved from 0.94599 to 0.94614, saving model to best_model3.h5\n",
            "Epoch 4/100\n",
            "1641/1641 [==============================] - 104s 64ms/step - loss: 0.1002 - acc: 0.9628 - val_loss: 0.1468 - val_acc: 0.9441\n",
            "\n",
            "Epoch 00004: val_acc did not improve from 0.94614\n",
            "Epoch 5/100\n",
            "1641/1641 [==============================] - 101s 62ms/step - loss: 0.0876 - acc: 0.9680 - val_loss: 0.1554 - val_acc: 0.9434\n",
            "\n",
            "Epoch 00005: val_acc did not improve from 0.94614\n",
            "Epoch 6/100\n",
            "1641/1641 [==============================] - 103s 63ms/step - loss: 0.0760 - acc: 0.9724 - val_loss: 0.1771 - val_acc: 0.9431\n",
            "\n",
            "Epoch 00006: val_acc did not improve from 0.94614\n",
            "Epoch 00006: early stopping\n"
          ],
          "name": "stdout"
        }
      ]
    },
    {
      "cell_type": "code",
      "metadata": {
        "id": "uDTPcAit2UR4"
      },
      "source": [
        "hist3 = pd.DataFrame(history3.history)"
      ],
      "execution_count": null,
      "outputs": []
    },
    {
      "cell_type": "code",
      "metadata": {
        "colab": {
          "base_uri": "https://localhost:8080/",
          "height": 281
        },
        "id": "yjDgxZ2G2Z3Q",
        "outputId": "82031023-ee56-4315-c89f-6639fea86d93"
      },
      "source": [
        "hist3[['loss', 'val_loss']].plot()\n",
        "plt.title('GRU 256 loss')\n",
        "plt.grid()\n",
        "plt.show()"
      ],
      "execution_count": null,
      "outputs": [
        {
          "output_type": "display_data",
          "data": {
            "image/png": "[encoded data removed]",
            "text/plain": [
              "<Figure size 432x288 with 1 Axes>"
            ]
          },
          "metadata": {
            "tags": [],
            "needs_background": "light"
          }
        }
      ]
    },
    {
      "cell_type": "code",
      "metadata": {
        "colab": {
          "base_uri": "https://localhost:8080/",
          "height": 281
        },
        "id": "3IRTNlJx2gbI",
        "outputId": "25831a43-3da7-4927-9771-290c3d6f1492"
      },
      "source": [
        "hist3[['acc', 'val_acc']].plot()\n",
        "plt.title('GRU 256 accuracy')\n",
        "plt.grid()\n",
        "plt.show()"
      ],
      "execution_count": null,
      "outputs": [
        {
          "output_type": "display_data",
          "data": {
            "image/png": "[encoded data removed]",
            "text/plain": [
              "<Figure size 432x288 with 1 Axes>"
            ]
          },
          "metadata": {
            "tags": [],
            "needs_background": "light"
          }
        }
      ]
    },
    {
      "cell_type": "code",
      "metadata": {
        "colab": {
          "base_uri": "https://localhost:8080/"
        },
        "id": "cNKJh7aG2jqY",
        "outputId": "0cc2ee72-1d22-431f-e014-b6fdc4128524"
      },
      "source": [
        "best_model3 = keras.models.load_model('best_model3.h5')\n",
        "test_loss, test_acc = best_model3.evaluate(X_test, y_test, verbose=1)\n",
        "pred = best_model3.predict(X_test)\n",
        "print('model accuracy:', test_acc)"
      ],
      "execution_count": null,
      "outputs": [
        {
          "output_type": "stream",
          "text": [
            "5469/5469 [==============================] - 56s 10ms/step - loss: 0.1459 - acc: 0.9454\n",
            "model accuracy: 0.9454257488250732\n"
          ],
          "name": "stdout"
        }
      ]
    },
    {
      "cell_type": "code",
      "metadata": {
        "colab": {
          "base_uri": "https://localhost:8080/",
          "height": 609
        },
        "id": "ZzRFQMrH2ozQ",
        "outputId": "14f14a31-845a-482f-d861-27d24e0034c2"
      },
      "source": [
        "a = y_test.to_numpy(int)\n",
        "b = np.around(pred, 0).astype(int).reshape(-1,)\n",
        "conf_matrix = pd.DataFrame(confusion_matrix(a, b), index = ['bad', 'good'], columns=['bad', 'good'])\n",
        "conf_matrix = conf_matrix.astype('float') / conf_matrix.sum(axis=1)[:, np.newaxis]\n",
        "\n",
        "plt.figure(figsize=(10, 10))\n",
        "sns.heatmap(conf_matrix, annot=True, annot_kws={'size':15})     # annot=True: 각 셀에 숫자 입력\n",
        "plt.title('GRU 256 confusion matrix', fontsize=15)\n",
        "plt.show()"
      ],
      "execution_count": null,
      "outputs": [
        {
          "output_type": "display_data",
          "data": {
            "image/png": "[encoded data removed]",
            "text/plain": [
              "<Figure size 720x720 with 2 Axes>"
            ]
          },
          "metadata": {
            "tags": [],
            "needs_background": "light"
          }
        }
      ]
    },
    {
      "cell_type": "markdown",
      "metadata": {
        "id": "2gtP8CjX1ER8"
      },
      "source": [
        "## 512"
      ]
    },
    {
      "cell_type": "code",
      "metadata": {
        "id": "KO05jU7c1L6q"
      },
      "source": [
        "model4 = Sequential()\n",
        "model4.add(Embedding(vocab_size, 100))\n",
        "model4.add(GRU(128))\n",
        "model4.add(Dense(1, activation='sigmoid'))"
      ],
      "execution_count": null,
      "outputs": []
    },
    {
      "cell_type": "code",
      "metadata": {
        "id": "pY4Ib-Nw22eQ"
      },
      "source": [
        "es = EarlyStopping(monitor='val_loss', verbose=1, patience=4)\n",
        "mc = ModelCheckpoint('best_model4.h5', monitor='val_acc', mode='max', verbose=1, save_best_only=True)"
      ],
      "execution_count": null,
      "outputs": []
    },
    {
      "cell_type": "code",
      "metadata": {
        "colab": {
          "base_uri": "https://localhost:8080/"
        },
        "id": "FAXnllPN24uB",
        "outputId": "7e566cf0-a3c7-49a9-d1ed-608c9233df34"
      },
      "source": [
        "model4.compile(optimizer='adam', loss='binary_crossentropy', metrics='acc')\n",
        "history4 = model4.fit(X_train, y_train, epochs=100, callbacks=[es, mc], batch_size=512, validation_split=0.2)"
      ],
      "execution_count": null,
      "outputs": [
        {
          "output_type": "stream",
          "text": [
            "Epoch 1/100\n",
            "821/821 [==============================] - 65s 77ms/step - loss: 0.2605 - acc: 0.8786 - val_loss: 0.1521 - val_acc: 0.9411\n",
            "\n",
            "Epoch 00001: val_acc improved from -inf to 0.94115, saving model to best_model4.h5\n",
            "Epoch 2/100\n",
            "821/821 [==============================] - 62s 75ms/step - loss: 0.1399 - acc: 0.9469 - val_loss: 0.1475 - val_acc: 0.9434\n",
            "\n",
            "Epoch 00002: val_acc improved from 0.94115 to 0.94343, saving model to best_model4.h5\n",
            "Epoch 3/100\n",
            "821/821 [==============================] - 62s 75ms/step - loss: 0.1236 - acc: 0.9533 - val_loss: 0.1431 - val_acc: 0.9459\n",
            "\n",
            "Epoch 00003: val_acc improved from 0.94343 to 0.94590, saving model to best_model4.h5\n",
            "Epoch 4/100\n",
            "821/821 [==============================] - 62s 76ms/step - loss: 0.1081 - acc: 0.9602 - val_loss: 0.1461 - val_acc: 0.9454\n",
            "\n",
            "Epoch 00004: val_acc did not improve from 0.94590\n",
            "Epoch 5/100\n",
            "821/821 [==============================] - 62s 75ms/step - loss: 0.0955 - acc: 0.9647 - val_loss: 0.1477 - val_acc: 0.9443\n",
            "\n",
            "Epoch 00005: val_acc did not improve from 0.94590\n",
            "Epoch 6/100\n",
            "821/821 [==============================] - 62s 75ms/step - loss: 0.0870 - acc: 0.9685 - val_loss: 0.1630 - val_acc: 0.9415\n",
            "\n",
            "Epoch 00006: val_acc did not improve from 0.94590\n",
            "Epoch 7/100\n",
            "821/821 [==============================] - 61s 75ms/step - loss: 0.0771 - acc: 0.9720 - val_loss: 0.1809 - val_acc: 0.9423\n",
            "\n",
            "Epoch 00007: val_acc did not improve from 0.94590\n",
            "Epoch 00007: early stopping\n"
          ],
          "name": "stdout"
        }
      ]
    },
    {
      "cell_type": "code",
      "metadata": {
        "id": "2Sq7DTfL29kJ"
      },
      "source": [
        "hist4 = pd.DataFrame(history4.history)"
      ],
      "execution_count": null,
      "outputs": []
    },
    {
      "cell_type": "code",
      "metadata": {
        "colab": {
          "base_uri": "https://localhost:8080/",
          "height": 281
        },
        "id": "tKKCgdK63A3Y",
        "outputId": "a7703385-e22a-469a-d0f9-5841df1d6326"
      },
      "source": [
        "hist4[['loss', 'val_loss']].plot()\n",
        "plt.title('GRU 512 loss')\n",
        "plt.grid()\n",
        "plt.show()"
      ],
      "execution_count": null,
      "outputs": [
        {
          "output_type": "display_data",
          "data": {
            "image/png": "[encoded data removed]",
            "text/plain": [
              "<Figure size 432x288 with 1 Axes>"
            ]
          },
          "metadata": {
            "tags": [],
            "needs_background": "light"
          }
        }
      ]
    },
    {
      "cell_type": "code",
      "metadata": {
        "colab": {
          "base_uri": "https://localhost:8080/",
          "height": 281
        },
        "id": "1hfLgPZp3Axn",
        "outputId": "4b75552b-318b-4e95-bbb7-fa29d6e214f7"
      },
      "source": [
        "hist4[['acc', 'val_acc']].plot()\n",
        "plt.title('GRU 512 accuracy')\n",
        "plt.grid()\n",
        "plt.show()"
      ],
      "execution_count": null,
      "outputs": [
        {
          "output_type": "display_data",
          "data": {
            "image/png": "[encoded data removed]",
            "text/plain": [
              "<Figure size 432x288 with 1 Axes>"
            ]
          },
          "metadata": {
            "tags": [],
            "needs_background": "light"
          }
        }
      ]
    },
    {
      "cell_type": "code",
      "metadata": {
        "colab": {
          "base_uri": "https://localhost:8080/"
        },
        "id": "m6pKJrh63PJ4",
        "outputId": "49600a52-c492-4fb3-a1b4-83bb96b211a1"
      },
      "source": [
        "best_model4 = keras.models.load_model('best_model4.h5')\n",
        "test_loss, test_acc = best_model4.evaluate(X_test, y_test, verbose=1)\n",
        "pred = best_model4.predict(X_test)\n",
        "print('model accuracy:', test_acc)"
      ],
      "execution_count": null,
      "outputs": [
        {
          "output_type": "stream",
          "text": [
            "5469/5469 [==============================] - 55s 10ms/step - loss: 0.1443 - acc: 0.9444\n",
            "model accuracy: 0.9444199800491333\n"
          ],
          "name": "stdout"
        }
      ]
    },
    {
      "cell_type": "code",
      "metadata": {
        "colab": {
          "base_uri": "https://localhost:8080/",
          "height": 609
        },
        "id": "MXYa08PD3SSz",
        "outputId": "676906fc-bb65-448b-86d2-910b5ff23bf4"
      },
      "source": [
        "a = y_test.to_numpy(int)\n",
        "b = np.around(pred, 0).astype(int).reshape(-1,)\n",
        "conf_matrix = pd.DataFrame(confusion_matrix(a, b), index = ['bad', 'good'], columns=['bad', 'good'])\n",
        "conf_matrix = conf_matrix.astype('float') / conf_matrix.sum(axis=1)[:, np.newaxis]\n",
        "\n",
        "plt.figure(figsize=(10, 10))\n",
        "sns.heatmap(conf_matrix, annot=True, annot_kws={'size':15})     # annot=True: 각 셀에 숫자 입력\n",
        "plt.title('GRU 256 confusion matrix', fontsize=15)\n",
        "plt.show()"
      ],
      "execution_count": null,
      "outputs": [
        {
          "output_type": "display_data",
          "data": {
            "image/png": "[encoded data removed]",
            "text/plain": [
              "<Figure size 720x720 with 2 Axes>"
            ]
          },
          "metadata": {
            "tags": [],
            "needs_background": "light"
          }
        }
      ]
    },
    {
      "cell_type": "markdown",
      "metadata": {
        "id": "Cp5nWAYUCGVu"
      },
      "source": [
        "# 1D CNN"
      ]
    },
    {
      "cell_type": "markdown",
      "metadata": {
        "id": "wJH4XenpLN_x"
      },
      "source": [
        "## rmsprop"
      ]
    },
    {
      "cell_type": "code",
      "metadata": {
        "id": "UASbJu4eCOeB"
      },
      "source": [
        "model = Sequential()\n",
        "model.add(Embedding(vocab_size, 256))\n",
        "model.add(Dropout(0.3))\n",
        "model.add(Conv1D(256, 3, padding='valid', activation='relu'))\n",
        "model.add(GlobalMaxPool1D())\n",
        "model.add(Dense(128, activation='relu'))\n",
        "model.add(Dropout(0.5))\n",
        "model.add(Dense(1, activation='sigmoid'))"
      ],
      "execution_count": null,
      "outputs": []
    },
    {
      "cell_type": "code",
      "metadata": {
        "id": "DCLCumUSCf3q"
      },
      "source": [
        "es = EarlyStopping(monitor='val_loss', mode='min', verbose=1, patience=4)\n",
        "mc = ModelCheckpoint('best_model5.h5', monitor='val_acc', mode='max', verbose=1, save_best_only=True)"
      ],
      "execution_count": null,
      "outputs": []
    },
    {
      "cell_type": "code",
      "metadata": {
        "colab": {
          "base_uri": "https://localhost:8080/"
        },
        "id": "MBny0AswCsnT",
        "outputId": "446ba990-5b78-4e34-84e4-dff7c431f375"
      },
      "source": [
        "model.compile(optimizer='rmsprop', loss='binary_crossentropy', metrics='acc')\n",
        "history = model.fit(X_train, y_train, epochs=100, callbacks=[es, mc], validation_split=0.2)"
      ],
      "execution_count": null,
      "outputs": [
        {
          "output_type": "stream",
          "text": [
            "Epoch 1/100\n",
            "13125/13125 [==============================] - 275s 21ms/step - loss: 0.1916 - acc: 0.9258 - val_loss: 0.1537 - val_acc: 0.9425\n",
            "\n",
            "Epoch 00001: val_acc improved from -inf to 0.94252, saving model to best_model5.h5\n",
            "Epoch 2/100\n",
            "13125/13125 [==============================] - 283s 22ms/step - loss: 0.1802 - acc: 0.9410 - val_loss: 0.1541 - val_acc: 0.9453\n",
            "\n",
            "Epoch 00002: val_acc improved from 0.94252 to 0.94527, saving model to best_model5.h5\n",
            "Epoch 3/100\n",
            "13125/13125 [==============================] - 270s 21ms/step - loss: 0.1812 - acc: 0.9427 - val_loss: 0.1612 - val_acc: 0.9453\n",
            "\n",
            "Epoch 00003: val_acc did not improve from 0.94527\n",
            "Epoch 4/100\n",
            "13125/13125 [==============================] - 281s 21ms/step - loss: 0.1910 - acc: 0.9418 - val_loss: 0.1704 - val_acc: 0.9437\n",
            "\n",
            "Epoch 00004: val_acc did not improve from 0.94527\n",
            "Epoch 5/100\n",
            "13125/13125 [==============================] - 280s 21ms/step - loss: 0.1957 - acc: 0.9405 - val_loss: 0.2093 - val_acc: 0.9391\n",
            "\n",
            "Epoch 00005: val_acc did not improve from 0.94527\n",
            "Epoch 00005: early stopping\n"
          ],
          "name": "stdout"
        }
      ]
    },
    {
      "cell_type": "code",
      "metadata": {
        "id": "X3vNYKQAFYwa"
      },
      "source": [
        "hist = pd.DataFrame(history.history)"
      ],
      "execution_count": null,
      "outputs": []
    },
    {
      "cell_type": "code",
      "metadata": {
        "colab": {
          "base_uri": "https://localhost:8080/",
          "height": 281
        },
        "id": "njU2FPljKdxq",
        "outputId": "75241ac5-8b97-4494-f237-ebc1796140e2"
      },
      "source": [
        "hist[['loss', 'val_loss']].plot()\n",
        "plt.title('1D CNN rmsprop loss')\n",
        "plt.grid()\n",
        "plt.show()"
      ],
      "execution_count": null,
      "outputs": [
        {
          "output_type": "display_data",
          "data": {
            "image/png": "[encoded data removed]",
            "text/plain": [
              "<Figure size 432x288 with 1 Axes>"
            ]
          },
          "metadata": {
            "tags": [],
            "needs_background": "light"
          }
        }
      ]
    },
    {
      "cell_type": "code",
      "metadata": {
        "colab": {
          "base_uri": "https://localhost:8080/",
          "height": 281
        },
        "id": "yAMym8qnKm0A",
        "outputId": "5d28aca2-c658-4550-8a41-73216b7b87d9"
      },
      "source": [
        "hist[['acc', 'val_acc']].plot()\n",
        "plt.title('1D CNN rmsprop accuracy')\n",
        "plt.grid()\n",
        "plt.show()"
      ],
      "execution_count": null,
      "outputs": [
        {
          "output_type": "display_data",
          "data": {
            "image/png": "[encoded data removed]",
            "text/plain": [
              "<Figure size 432x288 with 1 Axes>"
            ]
          },
          "metadata": {
            "tags": [],
            "needs_background": "light"
          }
        }
      ]
    },
    {
      "cell_type": "markdown",
      "metadata": {
        "id": "ApIRMQxbKxdK"
      },
      "source": [
        "### confusion matrix"
      ]
    },
    {
      "cell_type": "code",
      "metadata": {
        "colab": {
          "base_uri": "https://localhost:8080/"
        },
        "id": "U_1W55QRKqFZ",
        "outputId": "d432592f-d568-45d1-dcbc-cb5a56521d7b"
      },
      "source": [
        "best_model = keras.models.load_model('best_model5.h5')\n",
        "test_loss, test_acc = best_model.evaluate(X_test, y_test, verbose=1)\n",
        "pred = best_model.predict(X_test)\n",
        "print('model accuracy:', test_acc)"
      ],
      "execution_count": null,
      "outputs": [
        {
          "output_type": "stream",
          "text": [
            "5469/5469 [==============================] - 28s 5ms/step - loss: 0.1560 - acc: 0.9432\n",
            "model accuracy: 0.9432427883148193\n"
          ],
          "name": "stdout"
        }
      ]
    },
    {
      "cell_type": "code",
      "metadata": {
        "id": "9yDwb_khKy8i"
      },
      "source": [
        "a = y_test.to_numpy(int)\n",
        "b = np.around(pred, 0).astype(int).reshape(-1,)"
      ],
      "execution_count": null,
      "outputs": []
    },
    {
      "cell_type": "code",
      "metadata": {
        "id": "-nO1YMp_K6Kx"
      },
      "source": [
        "# confusion matrix 만들기\n",
        "conf_matrix = pd.DataFrame(confusion_matrix(a, b), index = ['bad', 'good'], columns=['bad', 'good'])\n",
        "\n",
        "# normalize\n",
        "conf_matrix = conf_matrix.astype('float') / conf_matrix.sum(axis=1)[:, np.newaxis]"
      ],
      "execution_count": null,
      "outputs": []
    },
    {
      "cell_type": "code",
      "metadata": {
        "colab": {
          "base_uri": "https://localhost:8080/",
          "height": 609
        },
        "id": "oHTjDf7yK9Tb",
        "outputId": "c5c979da-9bb6-482b-9139-27e38a7dc26b"
      },
      "source": [
        "# 시각화\n",
        "plt.figure(figsize=(10, 10))\n",
        "sns.heatmap(conf_matrix, annot=True, annot_kws={'size':15})     # annot=True: 각 셀에 숫자 입력\n",
        "plt.title('1D CNN rmsprop confusion matrix', fontsize=15)\n",
        "plt.show()"
      ],
      "execution_count": null,
      "outputs": [
        {
          "output_type": "display_data",
          "data": {
            "image/png": "[encoded data removed]",
            "text/plain": [
              "<Figure size 720x720 with 2 Axes>"
            ]
          },
          "metadata": {
            "tags": [],
            "needs_background": "light"
          }
        }
      ]
    },
    {
      "cell_type": "markdown",
      "metadata": {
        "id": "Y_LSlBNaLZ1z"
      },
      "source": [
        "### 실제 샘플 예측"
      ]
    },
    {
      "cell_type": "code",
      "metadata": {
        "colab": {
          "base_uri": "https://localhost:8080/"
        },
        "id": "_DpOmIVNLWBv",
        "outputId": "8a6dc73f-b846-409d-e2ea-b7cdeaef745d"
      },
      "source": [
        "sentiment_predict(\"I purchased my first laminator and had no idea what thermal pouches to purchase. I was not sure what brand would be best and what thickness would be most effective, the 3mil or 5mil. After much thought I finally decided to give these a try and I'm really glad I did! I don't have anything to compare them to as this was my first time using these; however, they worked great and I didn't have any issues. These are the 3mil. When I run out I will be purchasing more!\")"
      ],
      "execution_count": null,
      "outputs": [
        {
          "output_type": "stream",
          "text": [
            "85.34034490585327% 확률로 긍정 리뷰입니다.\n"
          ],
          "name": "stdout"
        }
      ]
    },
    {
      "cell_type": "code",
      "metadata": {
        "colab": {
          "base_uri": "https://localhost:8080/"
        },
        "id": "wEL2d0h6LWWF",
        "outputId": "a2ef5b12-7408-47f8-cfcd-65fbc55c155b"
      },
      "source": [
        "sentiment_predict(\"Waste of time and money. I had been using Scotch brand which worked beautifully. Then I switched to these. Not one thing laminated was right. What I laminated was ruined, it was to late to be able to return the pouches because I ordered them at the same time as the Scotch ones which I used first. So waste of money and huge waste of my time trying to laminate things and then fix them.\")"
      ],
      "execution_count": null,
      "outputs": [
        {
          "output_type": "stream",
          "text": [
            "99.97278518567327% 확률로 부정 리뷰입니다.\n"
          ],
          "name": "stdout"
        }
      ]
    },
    {
      "cell_type": "markdown",
      "metadata": {
        "id": "DjGxq9AWLc9D"
      },
      "source": [
        "## adam"
      ]
    },
    {
      "cell_type": "code",
      "metadata": {
        "id": "cq6nBVoxLcZ6"
      },
      "source": [
        "model2 = Sequential()\n",
        "model2.add(Embedding(vocab_size, 256))\n",
        "model2.add(Dropout(0.3))\n",
        "model2.add(Conv1D(256, 3, padding='valid', activation='relu'))\n",
        "model2.add(GlobalMaxPool1D())\n",
        "model2.add(Dense(128, activation='relu'))\n",
        "model2.add(Dropout(0.5))\n",
        "model2.add(Dense(1, activation='sigmoid'))"
      ],
      "execution_count": null,
      "outputs": []
    },
    {
      "cell_type": "code",
      "metadata": {
        "id": "vLAJc1m83y75"
      },
      "source": [
        "es = EarlyStopping(monitor='val_loss', mode='min', verbose=1, patience=4)\n",
        "mc = ModelCheckpoint('best_model6.h5', monitor='val_acc', mode='max', verbose=1, save_best_only=True)"
      ],
      "execution_count": null,
      "outputs": []
    },
    {
      "cell_type": "code",
      "metadata": {
        "colab": {
          "base_uri": "https://localhost:8080/"
        },
        "id": "jnP_lYf8LY0T",
        "outputId": "a4a3f70e-395c-4eeb-b32a-997e98d0c301"
      },
      "source": [
        "model2.compile(optimizer='adam', loss='binary_crossentropy', metrics='acc')\n",
        "history2 = model2.fit(X_train, y_train, epochs=100, callbacks=[es, mc], validation_split=0.2)"
      ],
      "execution_count": null,
      "outputs": [
        {
          "output_type": "stream",
          "text": [
            "Epoch 1/100\n",
            "13125/13125 [==============================] - 568s 43ms/step - loss: 0.1830 - acc: 0.9273 - val_loss: 0.1454 - val_acc: 0.9434\n",
            "\n",
            "Epoch 00001: val_acc improved from -inf to 0.94336, saving model to best_model6.h5\n",
            "Epoch 2/100\n",
            "13125/13125 [==============================] - 569s 43ms/step - loss: 0.1306 - acc: 0.9520 - val_loss: 0.1416 - val_acc: 0.9468\n",
            "\n",
            "Epoch 00002: val_acc improved from 0.94336 to 0.94676, saving model to best_model6.h5\n",
            "Epoch 3/100\n",
            " 8166/13125 [=================>............] - ETA: 3:34 - loss: 0.1111 - acc: 0.9595"
          ],
          "name": "stdout"
        }
      ]
    },
    {
      "cell_type": "code",
      "metadata": {
        "id": "FmyTttyRLsms"
      },
      "source": [
        "hist2 = pd.DataFrame(history2.history)"
      ],
      "execution_count": null,
      "outputs": []
    },
    {
      "cell_type": "code",
      "metadata": {
        "colab": {
          "base_uri": "https://localhost:8080/",
          "height": 281
        },
        "id": "4uceOk2OLyfK",
        "outputId": "180b2f1d-358f-4c02-c44e-b71b1e98171d"
      },
      "source": [
        "hist2[['loss', 'val_loss']].plot()\n",
        "plt.title('1D CNN adam loss')\n",
        "plt.grid()\n",
        "plt.show()"
      ],
      "execution_count": null,
      "outputs": [
        {
          "output_type": "display_data",
          "data": {
            "image/png": "[encoded data removed]",
            "text/plain": [
              "<Figure size 432x288 with 1 Axes>"
            ]
          },
          "metadata": {
            "tags": [],
            "needs_background": "light"
          }
        }
      ]
    },
    {
      "cell_type": "code",
      "metadata": {
        "colab": {
          "base_uri": "https://localhost:8080/",
          "height": 281
        },
        "id": "cYcbEvaDL66i",
        "outputId": "6fecbdaa-97c8-4690-ecf5-70e5c5b3e601"
      },
      "source": [
        "hist2[['acc', 'val_acc']].plot()\n",
        "plt.title('1D CNN adam loss')\n",
        "plt.grid()\n",
        "plt.show()"
      ],
      "execution_count": null,
      "outputs": [
        {
          "output_type": "display_data",
          "data": {
            "image/png": "[encoded data removed]",
            "text/plain": [
              "<Figure size 432x288 with 1 Axes>"
            ]
          },
          "metadata": {
            "tags": [],
            "needs_background": "light"
          }
        }
      ]
    },
    {
      "cell_type": "markdown",
      "metadata": {
        "id": "D4piMKOVMLsh"
      },
      "source": [
        "### confusion matrix"
      ]
    },
    {
      "cell_type": "code",
      "metadata": {
        "colab": {
          "base_uri": "https://localhost:8080/"
        },
        "id": "4ymKYU3cMSxl",
        "outputId": "f1b0a5a0-00de-493b-c009-3533f4f01209"
      },
      "source": [
        "best_model = keras.models.load_model('best_model6.h5')\n",
        "test_loss, test_acc = best_model.evaluate(X_test, y_test, verbose=1)\n",
        "pred = best_model.predict(X_test)\n",
        "print('model accuracy:', test_acc)"
      ],
      "execution_count": null,
      "outputs": [
        {
          "output_type": "stream",
          "text": [
            "5469/5469 [==============================] - 20s 4ms/step - loss: 0.1415 - acc: 0.9466\n",
            "model accuracy: 0.9465915560722351\n"
          ],
          "name": "stdout"
        }
      ]
    },
    {
      "cell_type": "code",
      "metadata": {
        "colab": {
          "base_uri": "https://localhost:8080/"
        },
        "id": "oQGbBxwKunNA",
        "outputId": "9bd34989-86aa-456d-f8eb-425ae6a6b176"
      },
      "source": [
        "from google.colab import drive\n",
        "drive.mount('/content/drive')"
      ],
      "execution_count": null,
      "outputs": [
        {
          "output_type": "stream",
          "text": [
            "Mounted at /content/drive\n"
          ],
          "name": "stdout"
        }
      ]
    },
    {
      "cell_type": "code",
      "metadata": {
        "id": "syUn8-WVMToG"
      },
      "source": [
        "a = y_test.to_numpy(int)\n",
        "b = np.around(pred, 0).astype(int).reshape(-1,)"
      ],
      "execution_count": null,
      "outputs": []
    },
    {
      "cell_type": "code",
      "metadata": {
        "id": "b6Y7JpJcMWT7"
      },
      "source": [
        "# confusion matrix 만들기\n",
        "conf_matrix = pd.DataFrame(confusion_matrix(a, b), index = ['bad', 'good'], columns=['bad', 'good'])\n",
        "\n",
        "# normalize\n",
        "conf_matrix = conf_matrix.astype('float') / conf_matrix.sum(axis=1)[:, np.newaxis]"
      ],
      "execution_count": null,
      "outputs": []
    },
    {
      "cell_type": "code",
      "metadata": {
        "colab": {
          "base_uri": "https://localhost:8080/",
          "height": 609
        },
        "id": "FTSEkBMvMYT0",
        "outputId": "2be63e09-5a6c-48cf-a904-4225b479e684"
      },
      "source": [
        "# 시각화\n",
        "plt.figure(figsize=(10, 10))\n",
        "sns.heatmap(conf_matrix, annot=True, annot_kws={'size':15})     # annot=True: 각 셀에 숫자 입력\n",
        "plt.title('1D CNN adam confusion matrix', fontsize=15)\n",
        "plt.show()"
      ],
      "execution_count": null,
      "outputs": [
        {
          "output_type": "display_data",
          "data": {
            "image/png": "[encoded data removed]",
            "text/plain": [
              "<Figure size 720x720 with 2 Axes>"
            ]
          },
          "metadata": {
            "tags": [],
            "needs_background": "light"
          }
        }
      ]
    },
    {
      "cell_type": "markdown",
      "metadata": {
        "id": "aWXQuOjlb1Zo"
      },
      "source": [
        "### 실제 샘플 예측"
      ]
    },
    {
      "cell_type": "code",
      "metadata": {
        "colab": {
          "base_uri": "https://localhost:8080/"
        },
        "id": "F3Vi3H2TanZb",
        "outputId": "74a53218-b128-4a47-a546-5df8a8ee88de"
      },
      "source": [
        "sentiment_predict(\"I purchased my first laminator and had no idea what thermal pouches to purchase. I was not sure what brand would be best and what thickness would be most effective, the 3mil or 5mil. After much thought I finally decided to give these a try and I'm really glad I did! I don't have anything to compare them to as this was my first time using these; however, they worked great and I didn't have any issues. These are the 3mil. When I run out I will be purchasing more!\")"
      ],
      "execution_count": null,
      "outputs": [
        {
          "output_type": "stream",
          "text": [
            "94.98475193977356% 확률로 긍정 리뷰입니다.\n"
          ],
          "name": "stdout"
        }
      ]
    },
    {
      "cell_type": "code",
      "metadata": {
        "colab": {
          "base_uri": "https://localhost:8080/"
        },
        "id": "Noc2No5tb5jW",
        "outputId": "2578719b-6881-4d4a-e85a-f86b69abb389"
      },
      "source": [
        "sentiment_predict(\"Waste of time and money. I had been using Scotch brand which worked beautifully. Then I switched to these. Not one thing laminated was right. What I laminated was ruined, it was to late to be able to return the pouches because I ordered them at the same time as the Scotch ones which I used first. So waste of money and huge waste of my time trying to laminate things and then fix them.\")"
      ],
      "execution_count": null,
      "outputs": [
        {
          "output_type": "stream",
          "text": [
            "99.74399220664054% 확률로 부정 리뷰입니다.\n"
          ],
          "name": "stdout"
        }
      ]
    },
    {
      "cell_type": "code",
      "metadata": {
        "id": "rBYhwPLPcWEy"
      },
      "source": [
        ""
      ],
      "execution_count": null,
      "outputs": []
    }
  ]
}
