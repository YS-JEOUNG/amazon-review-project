{
  "nbformat": 4,
  "nbformat_minor": 0,
  "metadata": {
    "colab": {
      "name": "surprise_rec.ipynb",
      "provenance": [],
      "collapsed_sections": [],
      "mount_file_id": "1OB27rEhAmqb7Ut7SUa9DULHRtPJpCYbh",
      "authorship_tag": "ABX9TyNWD4Yizxf+QYKsbaHadUxH",
      "include_colab_link": true
    },
    "kernelspec": {
      "name": "python3",
      "display_name": "Python 3"
    },
    "language_info": {
      "name": "python"
    },
    "accelerator": "GPU"
  },
  "cells": [
    {
      "cell_type": "markdown",
      "metadata": {
        "id": "view-in-github",
        "colab_type": "text"
      },
      "source": [
        "<a href=\"https://colab.research.google.com/github/YS-JEOUNG/amazon-review-project/blob/main/code/surprise_rec.ipynb\" target=\"_parent\"><img src=\"https://colab.research.google.com/assets/colab-badge.svg\" alt=\"Open In Colab\"/></a>"
      ]
    },
    {
      "cell_type": "markdown",
      "metadata": {
        "id": "rG8W8WBWYC9u"
      },
      "source": [
        "# Import"
      ]
    },
    {
      "cell_type": "code",
      "metadata": {
        "colab": {
          "base_uri": "https://localhost:8080/"
        },
        "id": "VPgKDVUrX3nf",
        "outputId": "78fbb03d-cb68-400a-d170-9f918d57c1ef"
      },
      "source": [
        "import pandas as pd\n",
        "import numpy as np\n",
        "\n",
        "!pip install surprise"
      ],
      "execution_count": null,
      "outputs": [
        {
          "output_type": "stream",
          "text": [
            "Collecting surprise\n",
            "  Downloading https://files.pythonhosted.org/packages/61/de/e5cba8682201fcf9c3719a6fdda95693468ed061945493dea2dd37c5618b/surprise-0.1-py2.py3-none-any.whl\n",
            "Collecting scikit-surprise\n",
            "\u001b[?25l  Downloading https://files.pythonhosted.org/packages/97/37/5d334adaf5ddd65da99fc65f6507e0e4599d092ba048f4302fe8775619e8/scikit-surprise-1.1.1.tar.gz (11.8MB)\n",
            "\u001b[K     |████████████████████████████████| 11.8MB 27.6MB/s \n",
            "\u001b[?25hRequirement already satisfied: joblib>=0.11 in /usr/local/lib/python3.7/dist-packages (from scikit-surprise->surprise) (1.0.1)\n",
            "Requirement already satisfied: numpy>=1.11.2 in /usr/local/lib/python3.7/dist-packages (from scikit-surprise->surprise) (1.19.5)\n",
            "Requirement already satisfied: scipy>=1.0.0 in /usr/local/lib/python3.7/dist-packages (from scikit-surprise->surprise) (1.4.1)\n",
            "Requirement already satisfied: six>=1.10.0 in /usr/local/lib/python3.7/dist-packages (from scikit-surprise->surprise) (1.15.0)\n",
            "Building wheels for collected packages: scikit-surprise\n",
            "  Building wheel for scikit-surprise (setup.py) ... \u001b[?25l\u001b[?25hdone\n",
            "  Created wheel for scikit-surprise: filename=scikit_surprise-1.1.1-cp37-cp37m-linux_x86_64.whl size=1617611 sha256=80880cba92962077bf94ee48212dea3c6a70c2a07904bfd66150b1b6f2ada8fb\n",
            "  Stored in directory: /root/.cache/pip/wheels/78/9c/3d/41b419c9d2aff5b6e2b4c0fc8d25c538202834058f9ed110d0\n",
            "Successfully built scikit-surprise\n",
            "Installing collected packages: scikit-surprise, surprise\n",
            "Successfully installed scikit-surprise-1.1.1 surprise-0.1\n"
          ],
          "name": "stdout"
        }
      ]
    },
    {
      "cell_type": "code",
      "metadata": {
        "id": "aTfRZQEeYP9h"
      },
      "source": [
        "from surprise import Dataset, Reader, KNNWithMeans\n",
        "from surprise import SVD, accuracy\n",
        "from surprise.model_selection import GridSearchCV, train_test_split"
      ],
      "execution_count": null,
      "outputs": []
    },
    {
      "cell_type": "code",
      "metadata": {
        "id": "Xk52hC76ZqBf"
      },
      "source": [
        "from surprise import SVD, SVDpp, SlopeOne, NMF, NormalPredictor, KNNBasic, KNNBaseline, KNNWithMeans, KNNWithZScore, BaselineOnly, CoClustering\n",
        "from surprise.model_selection import cross_validate"
      ],
      "execution_count": null,
      "outputs": []
    },
    {
      "cell_type": "markdown",
      "metadata": {
        "id": "kFOVnAknZqUc"
      },
      "source": [
        "# Data"
      ]
    },
    {
      "cell_type": "code",
      "metadata": {
        "colab": {
          "base_uri": "https://localhost:8080/",
          "height": 325
        },
        "id": "i76kKhV_Zl__",
        "outputId": "daa19b78-edae-413d-f2eb-c9484a69ae6d"
      },
      "source": [
        "df = pd.read_csv('/content/drive/MyDrive/Colab Notebooks/project/final_data_clean.csv')\n",
        "df.head()"
      ],
      "execution_count": null,
      "outputs": [
        {
          "output_type": "stream",
          "text": [
            "/usr/local/lib/python3.7/dist-packages/IPython/core/interactiveshell.py:2718: DtypeWarning: Columns (1) have mixed types.Specify dtype option on import or set low_memory=False.\n",
            "  interactivity=interactivity, compiler=compiler, result=result)\n"
          ],
          "name": "stderr"
        },
        {
          "output_type": "execute_result",
          "data": {
            "text/html": [
              "<div>\n",
              "<style scoped>\n",
              "    .dataframe tbody tr th:only-of-type {\n",
              "        vertical-align: middle;\n",
              "    }\n",
              "\n",
              "    .dataframe tbody tr th {\n",
              "        vertical-align: top;\n",
              "    }\n",
              "\n",
              "    .dataframe thead th {\n",
              "        text-align: right;\n",
              "    }\n",
              "</style>\n",
              "<table border=\"1\" class=\"dataframe\">\n",
              "  <thead>\n",
              "    <tr style=\"text-align: right;\">\n",
              "      <th></th>\n",
              "      <th>ratings</th>\n",
              "      <th>vote</th>\n",
              "      <th>verified</th>\n",
              "      <th>reviewer_id</th>\n",
              "      <th>prod_id</th>\n",
              "      <th>reviewer_name</th>\n",
              "      <th>unix_review_time</th>\n",
              "      <th>prod_name</th>\n",
              "      <th>price</th>\n",
              "      <th>review_text</th>\n",
              "      <th>rating_class</th>\n",
              "      <th>time</th>\n",
              "      <th>clean_text</th>\n",
              "    </tr>\n",
              "  </thead>\n",
              "  <tbody>\n",
              "    <tr>\n",
              "      <th>0</th>\n",
              "      <td>5.0</td>\n",
              "      <td>0</td>\n",
              "      <td>True</td>\n",
              "      <td>A3DKYRF9YGF6A6</td>\n",
              "      <td>6665560953</td>\n",
              "      <td>Amazon Customer</td>\n",
              "      <td>1489363200</td>\n",
              "      <td>You Son of a Bitch! 1987 Embroidered Patch</td>\n",
              "      <td>$6.41</td>\n",
              "      <td>Five Stars Great quality product, and top notc...</td>\n",
              "      <td>good</td>\n",
              "      <td>2017-03-13</td>\n",
              "      <td>five star great quality product top notch serv...</td>\n",
              "    </tr>\n",
              "    <tr>\n",
              "      <th>1</th>\n",
              "      <td>5.0</td>\n",
              "      <td>0</td>\n",
              "      <td>True</td>\n",
              "      <td>A1I2TJ3PQ4WHK1</td>\n",
              "      <td>6665560953</td>\n",
              "      <td>Eric Breneman</td>\n",
              "      <td>1486339200</td>\n",
              "      <td>You Son of a Bitch! 1987 Embroidered Patch</td>\n",
              "      <td>$6.41</td>\n",
              "      <td>don't push too many pencils details on this pa...</td>\n",
              "      <td>good</td>\n",
              "      <td>2017-02-06</td>\n",
              "      <td>not push many pencil detail patch good def fav...</td>\n",
              "    </tr>\n",
              "    <tr>\n",
              "      <th>2</th>\n",
              "      <td>5.0</td>\n",
              "      <td>0</td>\n",
              "      <td>True</td>\n",
              "      <td>A1ZDJ2BYZXZHLQ</td>\n",
              "      <td>6665560953</td>\n",
              "      <td>Kirkja</td>\n",
              "      <td>1482451200</td>\n",
              "      <td>You Son of a Bitch! 1987 Embroidered Patch</td>\n",
              "      <td>$6.41</td>\n",
              "      <td>Great deal if you buy in bulk! Bought these as...</td>\n",
              "      <td>good</td>\n",
              "      <td>2016-12-23</td>\n",
              "      <td>great deal buy bulk buy gift friends really im...</td>\n",
              "    </tr>\n",
              "    <tr>\n",
              "      <th>3</th>\n",
              "      <td>5.0</td>\n",
              "      <td>0</td>\n",
              "      <td>True</td>\n",
              "      <td>A1RW3PF3UTARAV</td>\n",
              "      <td>6665560953</td>\n",
              "      <td>Brian K.</td>\n",
              "      <td>1481673600</td>\n",
              "      <td>You Son of a Bitch! 1987 Embroidered Patch</td>\n",
              "      <td>$6.41</td>\n",
              "      <td>It's made extremely well and looks GREAT! I've...</td>\n",
              "      <td>good</td>\n",
              "      <td>2016-12-14</td>\n",
              "      <td>make extrehemely well look great see similar p...</td>\n",
              "    </tr>\n",
              "    <tr>\n",
              "      <th>4</th>\n",
              "      <td>5.0</td>\n",
              "      <td>9</td>\n",
              "      <td>True</td>\n",
              "      <td>APVFJYDRTYNK5</td>\n",
              "      <td>886293162X</td>\n",
              "      <td>Mrs. Sally L. C. Marsh</td>\n",
              "      <td>1290816000</td>\n",
              "      <td>Moleskine Volant Address Book, Large, Magenta,...</td>\n",
              "      <td>NaN</td>\n",
              "      <td>Nice and perfect for an address book Thin, you...</td>\n",
              "      <td>good</td>\n",
              "      <td>2010-11-27</td>\n",
              "      <td>nice perfect address book thin could slide dra...</td>\n",
              "    </tr>\n",
              "  </tbody>\n",
              "</table>\n",
              "</div>"
            ],
            "text/plain": [
              "   ratings vote  ...        time                                         clean_text\n",
              "0      5.0    0  ...  2017-03-13  five star great quality product top notch serv...\n",
              "1      5.0    0  ...  2017-02-06  not push many pencil detail patch good def fav...\n",
              "2      5.0    0  ...  2016-12-23  great deal buy bulk buy gift friends really im...\n",
              "3      5.0    0  ...  2016-12-14  make extrehemely well look great see similar p...\n",
              "4      5.0    9  ...  2010-11-27  nice perfect address book thin could slide dra...\n",
              "\n",
              "[5 rows x 13 columns]"
            ]
          },
          "metadata": {
            "tags": []
          },
          "execution_count": 4
        }
      ]
    },
    {
      "cell_type": "code",
      "metadata": {
        "id": "xSc6LXuDg1Fb"
      },
      "source": [
        "# 원하는 품목을 입력하면 데이터 프레임에서 품목만 찾아주는 함수\n",
        "def word_select(word):\n",
        "  words = [word.lower(), word.capitalize(), word.lower()+'s', word.capitalize()+'s']\n",
        "  review_df_x = df[df['prod_name'].str.contains('|'.join(words))]\n",
        "\n",
        "  return review_df_x"
      ],
      "execution_count": null,
      "outputs": []
    },
    {
      "cell_type": "code",
      "metadata": {
        "colab": {
          "base_uri": "https://localhost:8080/",
          "height": 142
        },
        "id": "0IDaJPOMkZrA",
        "outputId": "9519707a-a8a1-4834-de5e-499995494ee9"
      },
      "source": [
        "df[df['prod_name'].isnull()]"
      ],
      "execution_count": null,
      "outputs": [
        {
          "output_type": "execute_result",
          "data": {
            "text/html": [
              "<div>\n",
              "<style scoped>\n",
              "    .dataframe tbody tr th:only-of-type {\n",
              "        vertical-align: middle;\n",
              "    }\n",
              "\n",
              "    .dataframe tbody tr th {\n",
              "        vertical-align: top;\n",
              "    }\n",
              "\n",
              "    .dataframe thead th {\n",
              "        text-align: right;\n",
              "    }\n",
              "</style>\n",
              "<table border=\"1\" class=\"dataframe\">\n",
              "  <thead>\n",
              "    <tr style=\"text-align: right;\">\n",
              "      <th></th>\n",
              "      <th>ratings</th>\n",
              "      <th>vote</th>\n",
              "      <th>verified</th>\n",
              "      <th>reviewer_id</th>\n",
              "      <th>prod_id</th>\n",
              "      <th>reviewer_name</th>\n",
              "      <th>unix_review_time</th>\n",
              "      <th>prod_name</th>\n",
              "      <th>price</th>\n",
              "      <th>review_text</th>\n",
              "      <th>rating_class</th>\n",
              "      <th>time</th>\n",
              "      <th>clean_text</th>\n",
              "    </tr>\n",
              "  </thead>\n",
              "  <tbody>\n",
              "    <tr>\n",
              "      <th>2182926</th>\n",
              "      <td>5.0</td>\n",
              "      <td>0</td>\n",
              "      <td>True</td>\n",
              "      <td>A3I9D3CMM362H0</td>\n",
              "      <td>B00DV92LRM</td>\n",
              "      <td>Catherine Kraft</td>\n",
              "      <td>1487203200</td>\n",
              "      <td>NaN</td>\n",
              "      <td>NaN</td>\n",
              "      <td>Love this die! Love this die. Makes these flow...</td>\n",
              "      <td>good</td>\n",
              "      <td>2017-02-16</td>\n",
              "      <td>love die love die make flower much easier make...</td>\n",
              "    </tr>\n",
              "    <tr>\n",
              "      <th>2376582</th>\n",
              "      <td>5.0</td>\n",
              "      <td>0</td>\n",
              "      <td>True</td>\n",
              "      <td>A323CN1N6FCZKL</td>\n",
              "      <td>B00N2TWI5G</td>\n",
              "      <td>K Cox</td>\n",
              "      <td>1456272000</td>\n",
              "      <td>NaN</td>\n",
              "      <td>$28.32</td>\n",
              "      <td>Five Stars Love these templates!  Best custome...</td>\n",
              "      <td>good</td>\n",
              "      <td>2016-02-24</td>\n",
              "      <td>five star love tehemplates best customer servi...</td>\n",
              "    </tr>\n",
              "    <tr>\n",
              "      <th>2376583</th>\n",
              "      <td>5.0</td>\n",
              "      <td>0</td>\n",
              "      <td>False</td>\n",
              "      <td>A2WD7YVEJWHYY2</td>\n",
              "      <td>B00N2TWI5G</td>\n",
              "      <td>Nora A.</td>\n",
              "      <td>1415664000</td>\n",
              "      <td>NaN</td>\n",
              "      <td>$28.32</td>\n",
              "      <td>Five Stars Excellent product. Cordial owners. ...</td>\n",
              "      <td>good</td>\n",
              "      <td>2014-11-11</td>\n",
              "      <td>five star excellent product cordial owners wel...</td>\n",
              "    </tr>\n",
              "  </tbody>\n",
              "</table>\n",
              "</div>"
            ],
            "text/plain": [
              "         ratings  ...                                         clean_text\n",
              "2182926      5.0  ...  love die love die make flower much easier make...\n",
              "2376582      5.0  ...  five star love tehemplates best customer servi...\n",
              "2376583      5.0  ...  five star excellent product cordial owners wel...\n",
              "\n",
              "[3 rows x 13 columns]"
            ]
          },
          "metadata": {
            "tags": []
          },
          "execution_count": 6
        }
      ]
    },
    {
      "cell_type": "code",
      "metadata": {
        "id": "g-SgxfROlmAH"
      },
      "source": [
        "df = df.drop([2182926, 2376582, 2376583])"
      ],
      "execution_count": null,
      "outputs": []
    },
    {
      "cell_type": "code",
      "metadata": {
        "colab": {
          "base_uri": "https://localhost:8080/",
          "height": 49
        },
        "id": "iSwVtifmmh-p",
        "outputId": "5bf5310c-e22b-4952-9766-d544e34bf837"
      },
      "source": [
        "df[df['prod_name'].isnull()]"
      ],
      "execution_count": null,
      "outputs": [
        {
          "output_type": "execute_result",
          "data": {
            "text/html": [
              "<div>\n",
              "<style scoped>\n",
              "    .dataframe tbody tr th:only-of-type {\n",
              "        vertical-align: middle;\n",
              "    }\n",
              "\n",
              "    .dataframe tbody tr th {\n",
              "        vertical-align: top;\n",
              "    }\n",
              "\n",
              "    .dataframe thead th {\n",
              "        text-align: right;\n",
              "    }\n",
              "</style>\n",
              "<table border=\"1\" class=\"dataframe\">\n",
              "  <thead>\n",
              "    <tr style=\"text-align: right;\">\n",
              "      <th></th>\n",
              "      <th>ratings</th>\n",
              "      <th>vote</th>\n",
              "      <th>verified</th>\n",
              "      <th>reviewer_id</th>\n",
              "      <th>prod_id</th>\n",
              "      <th>reviewer_name</th>\n",
              "      <th>unix_review_time</th>\n",
              "      <th>prod_name</th>\n",
              "      <th>price</th>\n",
              "      <th>review_text</th>\n",
              "      <th>rating_class</th>\n",
              "      <th>time</th>\n",
              "      <th>clean_text</th>\n",
              "    </tr>\n",
              "  </thead>\n",
              "  <tbody>\n",
              "  </tbody>\n",
              "</table>\n",
              "</div>"
            ],
            "text/plain": [
              "Empty DataFrame\n",
              "Columns: [ratings, vote, verified, reviewer_id, prod_id, reviewer_name, unix_review_time, prod_name, price, review_text, rating_class, time, clean_text]\n",
              "Index: []"
            ]
          },
          "metadata": {
            "tags": []
          },
          "execution_count": 8
        }
      ]
    },
    {
      "cell_type": "code",
      "metadata": {
        "id": "tsqGNHuOZ0W8"
      },
      "source": [
        "df = df[['reviewer_id', 'prod_id', 'ratings']]"
      ],
      "execution_count": null,
      "outputs": []
    },
    {
      "cell_type": "code",
      "metadata": {
        "colab": {
          "base_uri": "https://localhost:8080/",
          "height": 204
        },
        "id": "vJqEXB93dSLJ",
        "outputId": "cf7ed9a2-afaa-415a-ff86-ccba1c60546a"
      },
      "source": [
        "df.head()"
      ],
      "execution_count": null,
      "outputs": [
        {
          "output_type": "execute_result",
          "data": {
            "text/html": [
              "<div>\n",
              "<style scoped>\n",
              "    .dataframe tbody tr th:only-of-type {\n",
              "        vertical-align: middle;\n",
              "    }\n",
              "\n",
              "    .dataframe tbody tr th {\n",
              "        vertical-align: top;\n",
              "    }\n",
              "\n",
              "    .dataframe thead th {\n",
              "        text-align: right;\n",
              "    }\n",
              "</style>\n",
              "<table border=\"1\" class=\"dataframe\">\n",
              "  <thead>\n",
              "    <tr style=\"text-align: right;\">\n",
              "      <th></th>\n",
              "      <th>reviewer_id</th>\n",
              "      <th>prod_id</th>\n",
              "      <th>ratings</th>\n",
              "    </tr>\n",
              "  </thead>\n",
              "  <tbody>\n",
              "    <tr>\n",
              "      <th>0</th>\n",
              "      <td>A3DKYRF9YGF6A6</td>\n",
              "      <td>6665560953</td>\n",
              "      <td>5.0</td>\n",
              "    </tr>\n",
              "    <tr>\n",
              "      <th>1</th>\n",
              "      <td>A1I2TJ3PQ4WHK1</td>\n",
              "      <td>6665560953</td>\n",
              "      <td>5.0</td>\n",
              "    </tr>\n",
              "    <tr>\n",
              "      <th>2</th>\n",
              "      <td>A1ZDJ2BYZXZHLQ</td>\n",
              "      <td>6665560953</td>\n",
              "      <td>5.0</td>\n",
              "    </tr>\n",
              "    <tr>\n",
              "      <th>3</th>\n",
              "      <td>A1RW3PF3UTARAV</td>\n",
              "      <td>6665560953</td>\n",
              "      <td>5.0</td>\n",
              "    </tr>\n",
              "    <tr>\n",
              "      <th>4</th>\n",
              "      <td>APVFJYDRTYNK5</td>\n",
              "      <td>886293162X</td>\n",
              "      <td>5.0</td>\n",
              "    </tr>\n",
              "  </tbody>\n",
              "</table>\n",
              "</div>"
            ],
            "text/plain": [
              "      reviewer_id     prod_id  ratings\n",
              "0  A3DKYRF9YGF6A6  6665560953      5.0\n",
              "1  A1I2TJ3PQ4WHK1  6665560953      5.0\n",
              "2  A1ZDJ2BYZXZHLQ  6665560953      5.0\n",
              "3  A1RW3PF3UTARAV  6665560953      5.0\n",
              "4   APVFJYDRTYNK5  886293162X      5.0"
            ]
          },
          "metadata": {
            "tags": []
          },
          "execution_count": 10
        }
      ]
    },
    {
      "cell_type": "code",
      "metadata": {
        "id": "UycifbDbe3SD"
      },
      "source": [
        "reader = Reader(rating_scale=(1, 5))\n",
        "data = Dataset.load_from_df(df[['reviewer_id', 'prod_id', 'ratings']], reader)"
      ],
      "execution_count": null,
      "outputs": []
    },
    {
      "cell_type": "markdown",
      "metadata": {
        "id": "P8ribiGfg9eD"
      },
      "source": [
        "# SVD"
      ]
    },
    {
      "cell_type": "code",
      "metadata": {
        "colab": {
          "base_uri": "https://localhost:8080/"
        },
        "id": "HbXJ3Zw8ZWoe",
        "outputId": "7079eba7-c886-4a15-b94d-0a45b1c13e1d"
      },
      "source": [
        "trainset, testset = train_test_split(data, test_size=0.1)\n",
        "\n",
        "# SVD 알고리즘 피팅\n",
        "algo_svd = SVD(n_epochs=50, lr_all=0.01, reg_all=0.2)\n",
        "algo_svd.fit(trainset)"
      ],
      "execution_count": null,
      "outputs": [
        {
          "output_type": "execute_result",
          "data": {
            "text/plain": [
              "<surprise.prediction_algorithms.matrix_factorization.SVD at 0x7fef6327b750>"
            ]
          },
          "metadata": {
            "tags": []
          },
          "execution_count": 11
        }
      ]
    },
    {
      "cell_type": "code",
      "metadata": {
        "colab": {
          "base_uri": "https://localhost:8080/"
        },
        "id": "zjhQpq-TZc_3",
        "outputId": "c4f2d608-f1a8-461b-c5fb-2f573e609ec1"
      },
      "source": [
        "predictions = algo_svd.test(testset)\n",
        "accuracy.rmse(predictions)\n",
        "# RMSE: 1.1256"
      ],
      "execution_count": null,
      "outputs": [
        {
          "output_type": "stream",
          "text": [
            "RMSE: 1.1256\n"
          ],
          "name": "stdout"
        },
        {
          "output_type": "execute_result",
          "data": {
            "text/plain": [
              "1.1255913888983322"
            ]
          },
          "metadata": {
            "tags": []
          },
          "execution_count": 12
        }
      ]
    },
    {
      "cell_type": "code",
      "metadata": {
        "colab": {
          "base_uri": "https://localhost:8080/"
        },
        "id": "mnH64jzPZfmn",
        "outputId": "cd4be76f-5f70-49fd-bbb0-2c315ae3edfa"
      },
      "source": [
        "# 가상의 id\n",
        "uid = 'A18C6CLQ8LQKEF'\n",
        "iid = 'B000WLEL84'\n",
        "algo_svd.predict(uid, iid)"
      ],
      "execution_count": null,
      "outputs": [
        {
          "output_type": "execute_result",
          "data": {
            "text/plain": [
              "Prediction(uid='A18C6CLQ8LQKEF', iid='B000WLEL84', r_ui=None, est=4.315948915294567, details={'was_impossible': False})"
            ]
          },
          "metadata": {
            "tags": []
          },
          "execution_count": 13
        }
      ]
    },
    {
      "cell_type": "code",
      "metadata": {
        "id": "pMujSoPFZiS2"
      },
      "source": [
        "# UID를 인풋으로 받고 상품을 추천하는 방법은?\n",
        "# 실험대상: 'A1RW3PF3UTARAV' (실제 reviewer_id 중 아무거나 뽑음)\n",
        "product_id = df['prod_id'].unique() # np.ndarray 오브젝트, len=6665\n",
        "# 사용자 리뷰를 빼도 product_id 개수는 동일 (생각해보면 당연한 소리... 그래도 안 겹치게 빼 줍시다)\n",
        "product_id = df[df['reviewer_id'] != 'A1RW3PF3UTARAV']['prod_id'].unique()"
      ],
      "execution_count": null,
      "outputs": []
    },
    {
      "cell_type": "code",
      "metadata": {
        "colab": {
          "base_uri": "https://localhost:8080/"
        },
        "id": "b6wNxNfwZkgG",
        "outputId": "5cc758c5-f029-4857-fb3c-ca732d8d7330"
      },
      "source": [
        "uid = 'A1RW3PF3UTARAV'\n",
        "pred_list = []\n",
        "top_items = 20\n",
        "for iid in product_id:\n",
        "    pred = algo_svd.predict(uid, iid)\n",
        "    pred_list.append((pred[1], pred[3]))\n",
        "def takeSecond(elem):\n",
        "    return elem[1]\n",
        "pred_list.sort(reverse=True, key=takeSecond)\n",
        "reclist = pred_list[:top_items]\n",
        "for i in range(top_items):\n",
        "    print(reclist[i][0])"
      ],
      "execution_count": null,
      "outputs": [
        {
          "output_type": "stream",
          "text": [
            "B00D6D5ADA\n",
            "B00NC56S06\n",
            "B00OPKOXOU\n",
            "B010O7O6BW\n",
            "B00008XPCF\n",
            "B000KNP7X2\n",
            "B000OVK1P4\n",
            "B00153AMEA\n",
            "B001JPF3ZM\n",
            "B001JPMV9S\n",
            "B001M0E5YO\n",
            "B001NVD5O8\n",
            "B001U36A82\n",
            "B001VB4MME\n",
            "B002R8G4YO\n",
            "B002RBB0RW\n",
            "B003AVEROQ\n",
            "B003CU3VEM\n",
            "B003I2HUOQ\n",
            "B0044SB47C\n"
          ],
          "name": "stdout"
        }
      ]
    },
    {
      "cell_type": "code",
      "metadata": {
        "id": "mLhP7Gpcd1Nt"
      },
      "source": [
        "product_id = df['prod_id'].unique() \n",
        "product_id = df[df['reviewer_id'] != 'A3DKYRF9YGF6A6']['prod_id'].unique()"
      ],
      "execution_count": null,
      "outputs": []
    },
    {
      "cell_type": "code",
      "metadata": {
        "colab": {
          "base_uri": "https://localhost:8080/"
        },
        "id": "GDO2NoLmd7Ir",
        "outputId": "370bb125-acb4-4d8e-f2b1-4ced8bc3ab64"
      },
      "source": [
        "uid = 'A3DKYRF9YGF6A6'\n",
        "pred_list = []\n",
        "top_items = 20\n",
        "for iid in product_id:\n",
        "    pred = algo_svd.predict(uid, iid)\n",
        "    pred_list.append((pred[1], pred[3]))\n",
        "def takeSecond(elem):\n",
        "    return elem[1]\n",
        "pred_list.sort(reverse=True, key=takeSecond)\n",
        "reclist = pred_list[:top_items]\n",
        "for i in range(top_items):\n",
        "    print(reclist[i][0])"
      ],
      "execution_count": null,
      "outputs": [
        {
          "output_type": "stream",
          "text": [
            "B003SBLIQS\n",
            "B0017J68WM\n",
            "B001M0E5YO\n",
            "B001U36A82\n",
            "B001VB4MME\n",
            "B002R8G4YO\n",
            "B0032643WA\n",
            "B003I2HUOQ\n",
            "B0046VFGYO\n",
            "B004CYFJ5G\n",
            "B004LE5I4O\n",
            "B004LE2KKY\n",
            "B004UWWL0G\n",
            "B00557D8WU\n",
            "B005HZ2574\n",
            "B006WRZEFG\n",
            "B008VQ25MQ\n",
            "B0090VGMGQ\n",
            "B00936MGRW\n",
            "B009R7JG2A\n"
          ],
          "name": "stdout"
        }
      ]
    },
    {
      "cell_type": "code",
      "metadata": {
        "id": "kgQ5AswefKWk"
      },
      "source": [
        "product_id = df['prod_id'].unique()\n",
        "product_id = df[df['reviewer_id'] != 'A1I2TJ3PQ4WHK1']['prod_id'].unique()"
      ],
      "execution_count": null,
      "outputs": []
    },
    {
      "cell_type": "code",
      "metadata": {
        "colab": {
          "base_uri": "https://localhost:8080/"
        },
        "id": "OAR1Cn7JfUA3",
        "outputId": "abb5195f-6b05-41d5-bb8b-a7facdef8e0e"
      },
      "source": [
        "uid = 'A1I2TJ3PQ4WHK1'\n",
        "pred_list = []\n",
        "top_items = 20\n",
        "for iid in product_id:\n",
        "    pred = algo_svd.predict(uid, iid)\n",
        "    pred_list.append((pred[1], pred[3]))\n",
        "def takeSecond(elem):\n",
        "    return elem[1]\n",
        "pred_list.sort(reverse=True, key=takeSecond)\n",
        "reclist = pred_list[:top_items]\n",
        "for i in range(top_items):\n",
        "    print(reclist[i][0])"
      ],
      "execution_count": null,
      "outputs": [
        {
          "output_type": "stream",
          "text": [
            "B004P3W2SG\n",
            "B00VGU9F7C\n",
            "B00YLNLCDG\n",
            "B000BRMZAK\n",
            "B000I6F9AW\n",
            "B000U0DYVM\n",
            "B001D6KOHO\n",
            "B001EU0RQ2\n",
            "B001VB4MME\n",
            "B002NFK72G\n",
            "B002R8G4YO\n",
            "B003ZSDDYE\n",
            "B0045D1GGU\n",
            "B004AGOXEO\n",
            "B004CYFJ5G\n",
            "B004LE5I4O\n",
            "B004LE2KKY\n",
            "B004OLN1VG\n",
            "B004UWWL0G\n",
            "B004WBY2TI\n"
          ],
          "name": "stdout"
        }
      ]
    },
    {
      "cell_type": "markdown",
      "metadata": {
        "id": "zQP2z3ZUjHv8"
      },
      "source": [
        "#  SVDpp"
      ]
    },
    {
      "cell_type": "code",
      "metadata": {
        "id": "42oSrnyQiq5x"
      },
      "source": [
        "# SVD 활용하는 그리드서치CV만들기\n",
        "# 그리드서치에서 쓸 파라미터 dict 정의\n",
        "param_grid = {\n",
        "    \"n_epochs\": [5, 10, 20, 50],\n",
        "    \"lr_all\": [0.001, 0.002, 0.005, 0.01],\n",
        "    \"reg_all\": [0.2, 0.4, 0.6]\n",
        "}\n",
        "# GridSearchCV\n",
        "gs = GridSearchCV(SVDpp, param_grid, measures=['rmse', 'mae'], cv=3)"
      ],
      "execution_count": null,
      "outputs": []
    },
    {
      "cell_type": "code",
      "metadata": {
        "id": "Axbn9tZtjLJn"
      },
      "source": [
        "# gs 피팅\n",
        "gs.fit(data)\n",
        "print(gs.best_score[\"rmse\"]), print(gs.best_params[\"rmse\"])\n",
        "print(gs.best_score[\"mae\"]), print(gs.best_params[\"mae\"])\n",
        "# rmse: 1.08, n_epochs 50, lr_all 0.01, reg_all 0.2\n",
        "# mae: 0.77, n_epochs 50, lr_all 0.01, reg_all 0.2"
      ],
      "execution_count": null,
      "outputs": []
    },
    {
      "cell_type": "code",
      "metadata": {
        "id": "XFVUCrhzjRDN",
        "colab": {
          "base_uri": "https://localhost:8080/"
        },
        "outputId": "fc0033f6-cab1-4603-dd2e-5cdf6b4a29da"
      },
      "source": [
        "trainset, testset = train_test_split(data, test_size=0.1)\n",
        "\n",
        "# SVD 알고리즘 피팅\n",
        "algo_svdpp = SVDpp(n_epochs=50, lr_all=0.01, reg_all=0.2)\n",
        "algo_svdpp.fit(trainset)"
      ],
      "execution_count": null,
      "outputs": [
        {
          "output_type": "execute_result",
          "data": {
            "text/plain": [
              "<surprise.prediction_algorithms.matrix_factorization.SVDpp at 0x7f88eeb34990>"
            ]
          },
          "metadata": {
            "tags": []
          },
          "execution_count": 12
        }
      ]
    },
    {
      "cell_type": "code",
      "metadata": {
        "colab": {
          "base_uri": "https://localhost:8080/"
        },
        "id": "vc6SE6kknPIx",
        "outputId": "5a9c878f-4ab5-442a-b0ee-50e3e3b06275"
      },
      "source": [
        "predictions = algo_svdpp.test(testset)\n",
        "accuracy.rmse(predictions)\n",
        "# RMSE: 1.1286"
      ],
      "execution_count": null,
      "outputs": [
        {
          "output_type": "stream",
          "text": [
            "RMSE: 1.1286\n"
          ],
          "name": "stdout"
        },
        {
          "output_type": "execute_result",
          "data": {
            "text/plain": [
              "1.1285676260114093"
            ]
          },
          "metadata": {
            "tags": []
          },
          "execution_count": 13
        }
      ]
    },
    {
      "cell_type": "code",
      "metadata": {
        "colab": {
          "base_uri": "https://localhost:8080/"
        },
        "id": "0Hgib477nR9p",
        "outputId": "346a8acd-ad11-4c05-dfe2-2ca2f7257d80"
      },
      "source": [
        "# 가상의 id\n",
        "uid = 'A18C6CLQ8LQKEF'\n",
        "iid = 'B000WLEL84'\n",
        "algo_svdpp.predict(uid, iid)"
      ],
      "execution_count": null,
      "outputs": [
        {
          "output_type": "execute_result",
          "data": {
            "text/plain": [
              "Prediction(uid='A18C6CLQ8LQKEF', iid='B000WLEL84', r_ui=None, est=4.315250013463959, details={'was_impossible': False})"
            ]
          },
          "metadata": {
            "tags": []
          },
          "execution_count": 14
        }
      ]
    },
    {
      "cell_type": "code",
      "metadata": {
        "id": "lZ793wwMnVn8"
      },
      "source": [
        "# UID를 인풋으로 받고 상품을 추천하는 방법은?\n",
        "# 실험대상: 'A1RW3PF3UTARAV' (실제 reviewer_id 중 아무거나 뽑음)\n",
        "product_id = df['prod_id'].unique() # np.ndarray 오브젝트, len=6665\n",
        "# 사용자 리뷰를 빼도 product_id 개수는 동일 (생각해보면 당연한 소리... 그래도 안 겹치게 빼 줍시다)\n",
        "product_id = df[df['reviewer_id'] != 'A1RW3PF3UTARAV']['prod_id'].unique()"
      ],
      "execution_count": null,
      "outputs": []
    },
    {
      "cell_type": "code",
      "metadata": {
        "colab": {
          "base_uri": "https://localhost:8080/"
        },
        "id": "l-GWgDiDnYmv",
        "outputId": "031b104b-09e2-4c1a-f5e4-e341ad6a9486"
      },
      "source": [
        "uid = 'A1RW3PF3UTARAV'\n",
        "pred_list = []\n",
        "top_items = 20\n",
        "for iid in product_id:\n",
        "    pred = algo_svdpp.predict(uid, iid)\n",
        "    pred_list.append((pred[1], pred[3]))\n",
        "def takeSecond(elem):\n",
        "    return elem[1]\n",
        "pred_list.sort(reverse=True, key=takeSecond)\n",
        "reclist = pred_list[:top_items]\n",
        "for i in range(top_items):\n",
        "    print(reclist[i][0])"
      ],
      "execution_count": null,
      "outputs": [
        {
          "output_type": "stream",
          "text": [
            "B00BLO19NQ\n",
            "B00VGU9F7C\n",
            "B01DIBSCRA\n",
            "B01G2IIYCY\n",
            "B0007QO7BK\n",
            "B000FPYPUQ\n",
            "B000I6F9AW\n",
            "B000KNP7X2\n",
            "B000W88U9S\n",
            "B000YQH486\n",
            "B000YZ7EK0\n",
            "B00114OQPY\n",
            "B0015AOL2C\n",
            "B0017J68WM\n",
            "B0017RGKAO\n",
            "B0018HU73E\n",
            "B001CE8J9M\n",
            "B001D6KOHO\n",
            "B001EU0RQ2\n",
            "B001GSHX14\n"
          ],
          "name": "stdout"
        }
      ]
    },
    {
      "cell_type": "code",
      "metadata": {
        "id": "HI3Rc5_znaeA"
      },
      "source": [
        "product_id = df['prod_id'].unique() \n",
        "product_id = df[df['reviewer_id'] != 'A3DKYRF9YGF6A6']['prod_id'].unique()"
      ],
      "execution_count": null,
      "outputs": []
    },
    {
      "cell_type": "code",
      "metadata": {
        "colab": {
          "base_uri": "https://localhost:8080/"
        },
        "id": "Q96Tl8WLnctT",
        "outputId": "e8cf74ba-951c-4e9c-d2dd-df764c80084b"
      },
      "source": [
        "uid = 'A3DKYRF9YGF6A6'\n",
        "pred_list = []\n",
        "top_items = 20\n",
        "for iid in product_id:\n",
        "    pred = algo_svdpp.predict(uid, iid)\n",
        "    pred_list.append((pred[1], pred[3]))\n",
        "def takeSecond(elem):\n",
        "    return elem[1]\n",
        "pred_list.sort(reverse=True, key=takeSecond)\n",
        "reclist = pred_list[:top_items]\n",
        "for i in range(top_items):\n",
        "    print(reclist[i][0])"
      ],
      "execution_count": null,
      "outputs": [
        {
          "output_type": "stream",
          "text": [
            "B004P3W2SG\n",
            "B00MQ95ELS\n",
            "B00P0WU3J6\n",
            "B00VGU9F7C\n",
            "B01G2IIYCY\n",
            "B000I6F9AW\n",
            "B000KNP7X2\n",
            "B000SN170G\n",
            "B000U4CZJK\n",
            "B000W88U9S\n",
            "B000YZ7EK0\n",
            "B00114OOZQ\n",
            "B00114OQPY\n",
            "B0017J68WM\n",
            "B0018HU73E\n",
            "B001D6KOHO\n",
            "B001EU0RQ2\n",
            "B001GSHX14\n",
            "B001UHNI3I\n",
            "B001WOKEAE\n"
          ],
          "name": "stdout"
        }
      ]
    },
    {
      "cell_type": "code",
      "metadata": {
        "id": "SwYmLU-ineqT"
      },
      "source": [
        "product_id = df['prod_id'].unique()\n",
        "product_id = df[df['reviewer_id'] != 'A1I2TJ3PQ4WHK1']['prod_id'].unique()"
      ],
      "execution_count": null,
      "outputs": []
    },
    {
      "cell_type": "code",
      "metadata": {
        "colab": {
          "base_uri": "https://localhost:8080/"
        },
        "id": "wj3m2D8SnhD4",
        "outputId": "0b05be00-4ce3-49a2-cdfe-4afd6d1a9b4e"
      },
      "source": [
        "uid = 'A1I2TJ3PQ4WHK1'\n",
        "pred_list = []\n",
        "top_items = 20\n",
        "for iid in product_id:\n",
        "    pred = algo_svdpp.predict(uid, iid)\n",
        "    pred_list.append((pred[1], pred[3]))\n",
        "def takeSecond(elem):\n",
        "    return elem[1]\n",
        "pred_list.sort(reverse=True, key=takeSecond)\n",
        "reclist = pred_list[:top_items]\n",
        "for i in range(top_items):\n",
        "    print(reclist[i][0])"
      ],
      "execution_count": null,
      "outputs": [
        {
          "output_type": "stream",
          "text": [
            "B000YQCWU6\n",
            "B000YZ7JAA\n",
            "B002FCBS20\n",
            "B005UXIMPC\n",
            "B0069COU4A\n",
            "B009444TNM\n",
            "B00BOG0JK0\n",
            "B00J41VKM8\n",
            "B00K13898G\n",
            "B00MQ95ELS\n",
            "B00P0WU3J6\n",
            "B00VGU9F7C\n",
            "B010O7O6BW\n",
            "B01AVNW1KW\n",
            "B01G2IIYCY\n",
            "B000I6F9AW\n",
            "B000KNP7X2\n",
            "B000W88U9S\n",
            "B00114OOZQ\n",
            "B0015AOL2C\n"
          ],
          "name": "stdout"
        }
      ]
    },
    {
      "cell_type": "code",
      "metadata": {
        "id": "gAuVGaeprhNP"
      },
      "source": [
        ""
      ],
      "execution_count": null,
      "outputs": []
    }
  ]
}