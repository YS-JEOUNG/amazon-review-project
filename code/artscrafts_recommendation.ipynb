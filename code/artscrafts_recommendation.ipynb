{
  "nbformat": 4,
  "nbformat_minor": 0,
  "metadata": {
    "kernelspec": {
      "display_name": "Python 3",
      "language": "python",
      "name": "python3"
    },
    "language_info": {
      "codemirror_mode": {
        "name": "ipython",
        "version": 3
      },
      "file_extension": ".py",
      "mimetype": "text/x-python",
      "name": "python",
      "nbconvert_exporter": "python",
      "pygments_lexer": "ipython3",
      "version": "3.8.5"
    },
    "colab": {
      "name": "artscrafts_recommendation.ipynb",
      "provenance": [],
      "include_colab_link": true
    }
  },
  "cells": [
    {
      "cell_type": "markdown",
      "metadata": {
        "id": "view-in-github",
        "colab_type": "text"
      },
      "source": [
        "<a href=\"https://colab.research.google.com/github/YS-JEOUNG/amazon-review-project/blob/main/code/artscrafts_recommendation.ipynb\" target=\"_parent\"><img src=\"https://colab.research.google.com/assets/colab-badge.svg\" alt=\"Open In Colab\"/></a>"
      ]
    },
    {
      "cell_type": "code",
      "metadata": {
        "id": "nxzxLaSaZspK"
      },
      "source": [
        "%matplotlib inline\n",
        "import pandas as pd\n",
        "import numpy as np\n",
        "import matplotlib.pyplot as plt\n",
        "import time\n",
        "import os\n",
        "import seaborn as sns\n",
        "import joblib\n",
        "from sklearn.model_selection import train_test_split\n",
        "import gzip\n",
        "import dask as dd"
      ],
      "execution_count": null,
      "outputs": []
    },
    {
      "cell_type": "code",
      "metadata": {
        "id": "qhW4RNA2ZspQ"
      },
      "source": [
        "df = pd.read_csv('C:/Users/STU/Desktop/arts_total.csv')"
      ],
      "execution_count": null,
      "outputs": []
    },
    {
      "cell_type": "code",
      "metadata": {
        "id": "-5o3Kve8ZspR",
        "outputId": "b240b19a-fa57-4c98-da7d-b6abc9e257df"
      },
      "source": [
        "df = df.drop(['vote', 'verified', 'style', 'reviewer_name', 'unix_review_time', 'category',\n",
        "              'description', 'brand', 'rank', 'main_cat', 'date', 'price', 'review_text',\n",
        "              'rating_class', 'time'], axis=1)\n",
        "df.info()"
      ],
      "execution_count": null,
      "outputs": [
        {
          "output_type": "stream",
          "text": [
            "<class 'pandas.core.frame.DataFrame'>\n",
            "RangeIndex: 130133 entries, 0 to 130132\n",
            "Data columns (total 4 columns):\n",
            " #   Column       Non-Null Count   Dtype  \n",
            "---  ------       --------------   -----  \n",
            " 0   overall      130133 non-null  float64\n",
            " 1   reviewer_id  130133 non-null  object \n",
            " 2   asin         130133 non-null  object \n",
            " 3   title        130133 non-null  object \n",
            "dtypes: float64(1), object(3)\n",
            "memory usage: 4.0+ MB\n"
          ],
          "name": "stdout"
        }
      ]
    },
    {
      "cell_type": "code",
      "metadata": {
        "id": "OMAL6MhYZspS"
      },
      "source": [
        "counts_reviewer=df['reviewer_id'].value_counts()\n",
        "counts_product=df['asin'].value_counts()"
      ],
      "execution_count": null,
      "outputs": []
    },
    {
      "cell_type": "code",
      "metadata": {
        "id": "enJOy7fjZspS",
        "outputId": "05dab7e0-68f0-41e3-99d9-c6193d7ecb2e"
      },
      "source": [
        "df1 = df[df['asin'].isin(counts_product[counts_product>=50].index)]\n",
        "df1.shape"
      ],
      "execution_count": null,
      "outputs": [
        {
          "output_type": "execute_result",
          "data": {
            "text/plain": [
              "(38597, 4)"
            ]
          },
          "metadata": {
            "tags": []
          },
          "execution_count": 6
        }
      ]
    },
    {
      "cell_type": "code",
      "metadata": {
        "id": "H85i2LXUZspT",
        "outputId": "ccf68fa9-1154-4d51-c161-be7aa9b82d57"
      },
      "source": [
        "ratings_sum = pd.DataFrame(df1.groupby(['asin'])['overall'].sum()).rename(columns = {'overall': 'ratings_sum'})\n",
        "top10 = ratings_sum.sort_values('ratings_sum', ascending=False).head(10)\n",
        "top10"
      ],
      "execution_count": null,
      "outputs": [
        {
          "output_type": "execute_result",
          "data": {
            "text/html": [
              "<div>\n",
              "<style scoped>\n",
              "    .dataframe tbody tr th:only-of-type {\n",
              "        vertical-align: middle;\n",
              "    }\n",
              "\n",
              "    .dataframe tbody tr th {\n",
              "        vertical-align: top;\n",
              "    }\n",
              "\n",
              "    .dataframe thead th {\n",
              "        text-align: right;\n",
              "    }\n",
              "</style>\n",
              "<table border=\"1\" class=\"dataframe\">\n",
              "  <thead>\n",
              "    <tr style=\"text-align: right;\">\n",
              "      <th></th>\n",
              "      <th>ratings_sum</th>\n",
              "    </tr>\n",
              "    <tr>\n",
              "      <th>asin</th>\n",
              "      <th></th>\n",
              "    </tr>\n",
              "  </thead>\n",
              "  <tbody>\n",
              "    <tr>\n",
              "      <th>B003AVMZA4</th>\n",
              "      <td>2956.0</td>\n",
              "    </tr>\n",
              "    <tr>\n",
              "      <th>B004RDH7Y8</th>\n",
              "      <td>2671.0</td>\n",
              "    </tr>\n",
              "    <tr>\n",
              "      <th>B005HR1JMO</th>\n",
              "      <td>2598.0</td>\n",
              "    </tr>\n",
              "    <tr>\n",
              "      <th>B000F7DPEQ</th>\n",
              "      <td>2283.0</td>\n",
              "    </tr>\n",
              "    <tr>\n",
              "      <th>B01D3MWPU4</th>\n",
              "      <td>1483.0</td>\n",
              "    </tr>\n",
              "    <tr>\n",
              "      <th>B00WW8KIRI</th>\n",
              "      <td>1411.0</td>\n",
              "    </tr>\n",
              "    <tr>\n",
              "      <th>B009CCVS4E</th>\n",
              "      <td>1382.0</td>\n",
              "    </tr>\n",
              "    <tr>\n",
              "      <th>B005GXPOAM</th>\n",
              "      <td>1338.0</td>\n",
              "    </tr>\n",
              "    <tr>\n",
              "      <th>B000980L02</th>\n",
              "      <td>1234.0</td>\n",
              "    </tr>\n",
              "    <tr>\n",
              "      <th>B002HR4CW6</th>\n",
              "      <td>1231.0</td>\n",
              "    </tr>\n",
              "  </tbody>\n",
              "</table>\n",
              "</div>"
            ],
            "text/plain": [
              "            ratings_sum\n",
              "asin                   \n",
              "B003AVMZA4       2956.0\n",
              "B004RDH7Y8       2671.0\n",
              "B005HR1JMO       2598.0\n",
              "B000F7DPEQ       2283.0\n",
              "B01D3MWPU4       1483.0\n",
              "B00WW8KIRI       1411.0\n",
              "B009CCVS4E       1382.0\n",
              "B005GXPOAM       1338.0\n",
              "B000980L02       1234.0\n",
              "B002HR4CW6       1231.0"
            ]
          },
          "metadata": {
            "tags": []
          },
          "execution_count": 7
        }
      ]
    },
    {
      "cell_type": "code",
      "metadata": {
        "id": "TUTKzjrhZspT"
      },
      "source": [
        "top10_popular = top10.merge(df1, left_index=True, right_on='asin').drop_duplicates(\n",
        "    ['asin', 'title'])[['asin', 'title', 'ratings_sum']]"
      ],
      "execution_count": null,
      "outputs": []
    },
    {
      "cell_type": "code",
      "metadata": {
        "id": "5rZyZh4rZspT",
        "outputId": "76cf8072-c620-4e17-ecfa-baf8ec21f3e2"
      },
      "source": [
        "ratingsd = pd.pivot_table(data=df1, index='asin', columns='reviewer_id', values='overall').fillna(0)\n",
        "ratingsd.head()"
      ],
      "execution_count": null,
      "outputs": [
        {
          "output_type": "execute_result",
          "data": {
            "text/html": [
              "<div>\n",
              "<style scoped>\n",
              "    .dataframe tbody tr th:only-of-type {\n",
              "        vertical-align: middle;\n",
              "    }\n",
              "\n",
              "    .dataframe tbody tr th {\n",
              "        vertical-align: top;\n",
              "    }\n",
              "\n",
              "    .dataframe thead th {\n",
              "        text-align: right;\n",
              "    }\n",
              "</style>\n",
              "<table border=\"1\" class=\"dataframe\">\n",
              "  <thead>\n",
              "    <tr style=\"text-align: right;\">\n",
              "      <th>reviewer_id</th>\n",
              "      <th>A0193442L7IJXD7HANDM</th>\n",
              "      <th>A02049035W9C30B2NBJM</th>\n",
              "      <th>A0228801ER3IBSLNOT5W</th>\n",
              "      <th>A0345137PWD0TJ09QK1A</th>\n",
              "      <th>A0429690KG9J3JO6LSSH</th>\n",
              "      <th>A04454666ZIS4FUX7ZME</th>\n",
              "      <th>A0479295RXACIYIXRLRF</th>\n",
              "      <th>A0483767C53I9DYB5TMS</th>\n",
              "      <th>A0490453AYGB1BAAOG64</th>\n",
              "      <th>A0516005NLXNKCMT2YI9</th>\n",
              "      <th>...</th>\n",
              "      <th>AZYKTPOHMZX7N</th>\n",
              "      <th>AZYML1QLCY4U8</th>\n",
              "      <th>AZYP4FQ2L2C4O</th>\n",
              "      <th>AZYQ60ZR354HC</th>\n",
              "      <th>AZYW27SS60XQY</th>\n",
              "      <th>AZZ1CC0BCXZ9H</th>\n",
              "      <th>AZZ74XTNQCOS4</th>\n",
              "      <th>AZZXNFW30OVPU</th>\n",
              "      <th>AZZXW4PH4OEEK</th>\n",
              "      <th>AZZZPAB0MBZ69</th>\n",
              "    </tr>\n",
              "    <tr>\n",
              "      <th>asin</th>\n",
              "      <th></th>\n",
              "      <th></th>\n",
              "      <th></th>\n",
              "      <th></th>\n",
              "      <th></th>\n",
              "      <th></th>\n",
              "      <th></th>\n",
              "      <th></th>\n",
              "      <th></th>\n",
              "      <th></th>\n",
              "      <th></th>\n",
              "      <th></th>\n",
              "      <th></th>\n",
              "      <th></th>\n",
              "      <th></th>\n",
              "      <th></th>\n",
              "      <th></th>\n",
              "      <th></th>\n",
              "      <th></th>\n",
              "      <th></th>\n",
              "      <th></th>\n",
              "    </tr>\n",
              "  </thead>\n",
              "  <tbody>\n",
              "    <tr>\n",
              "      <th>B0000302YN</th>\n",
              "      <td>0.0</td>\n",
              "      <td>0.0</td>\n",
              "      <td>0.0</td>\n",
              "      <td>0.0</td>\n",
              "      <td>0.0</td>\n",
              "      <td>0.0</td>\n",
              "      <td>0.0</td>\n",
              "      <td>0.0</td>\n",
              "      <td>0.0</td>\n",
              "      <td>0.0</td>\n",
              "      <td>...</td>\n",
              "      <td>0.0</td>\n",
              "      <td>0.0</td>\n",
              "      <td>0.0</td>\n",
              "      <td>0.0</td>\n",
              "      <td>0.0</td>\n",
              "      <td>0.0</td>\n",
              "      <td>0.0</td>\n",
              "      <td>0.0</td>\n",
              "      <td>0.0</td>\n",
              "      <td>0.0</td>\n",
              "    </tr>\n",
              "    <tr>\n",
              "      <th>B00004THXH</th>\n",
              "      <td>0.0</td>\n",
              "      <td>0.0</td>\n",
              "      <td>0.0</td>\n",
              "      <td>0.0</td>\n",
              "      <td>0.0</td>\n",
              "      <td>0.0</td>\n",
              "      <td>0.0</td>\n",
              "      <td>0.0</td>\n",
              "      <td>0.0</td>\n",
              "      <td>0.0</td>\n",
              "      <td>...</td>\n",
              "      <td>0.0</td>\n",
              "      <td>0.0</td>\n",
              "      <td>0.0</td>\n",
              "      <td>0.0</td>\n",
              "      <td>0.0</td>\n",
              "      <td>0.0</td>\n",
              "      <td>0.0</td>\n",
              "      <td>0.0</td>\n",
              "      <td>0.0</td>\n",
              "      <td>0.0</td>\n",
              "    </tr>\n",
              "    <tr>\n",
              "      <th>B00004Z2UB</th>\n",
              "      <td>0.0</td>\n",
              "      <td>0.0</td>\n",
              "      <td>0.0</td>\n",
              "      <td>0.0</td>\n",
              "      <td>0.0</td>\n",
              "      <td>0.0</td>\n",
              "      <td>0.0</td>\n",
              "      <td>0.0</td>\n",
              "      <td>0.0</td>\n",
              "      <td>0.0</td>\n",
              "      <td>...</td>\n",
              "      <td>0.0</td>\n",
              "      <td>0.0</td>\n",
              "      <td>0.0</td>\n",
              "      <td>0.0</td>\n",
              "      <td>0.0</td>\n",
              "      <td>0.0</td>\n",
              "      <td>0.0</td>\n",
              "      <td>0.0</td>\n",
              "      <td>0.0</td>\n",
              "      <td>0.0</td>\n",
              "    </tr>\n",
              "    <tr>\n",
              "      <th>B00004Z2UD</th>\n",
              "      <td>0.0</td>\n",
              "      <td>0.0</td>\n",
              "      <td>0.0</td>\n",
              "      <td>0.0</td>\n",
              "      <td>0.0</td>\n",
              "      <td>0.0</td>\n",
              "      <td>0.0</td>\n",
              "      <td>0.0</td>\n",
              "      <td>0.0</td>\n",
              "      <td>0.0</td>\n",
              "      <td>...</td>\n",
              "      <td>0.0</td>\n",
              "      <td>0.0</td>\n",
              "      <td>0.0</td>\n",
              "      <td>0.0</td>\n",
              "      <td>0.0</td>\n",
              "      <td>0.0</td>\n",
              "      <td>0.0</td>\n",
              "      <td>0.0</td>\n",
              "      <td>0.0</td>\n",
              "      <td>0.0</td>\n",
              "    </tr>\n",
              "    <tr>\n",
              "      <th>B00006B8FS</th>\n",
              "      <td>0.0</td>\n",
              "      <td>0.0</td>\n",
              "      <td>0.0</td>\n",
              "      <td>0.0</td>\n",
              "      <td>0.0</td>\n",
              "      <td>0.0</td>\n",
              "      <td>0.0</td>\n",
              "      <td>0.0</td>\n",
              "      <td>0.0</td>\n",
              "      <td>0.0</td>\n",
              "      <td>...</td>\n",
              "      <td>0.0</td>\n",
              "      <td>0.0</td>\n",
              "      <td>0.0</td>\n",
              "      <td>0.0</td>\n",
              "      <td>0.0</td>\n",
              "      <td>0.0</td>\n",
              "      <td>0.0</td>\n",
              "      <td>0.0</td>\n",
              "      <td>0.0</td>\n",
              "      <td>0.0</td>\n",
              "    </tr>\n",
              "  </tbody>\n",
              "</table>\n",
              "<p>5 rows × 34594 columns</p>\n",
              "</div>"
            ],
            "text/plain": [
              "reviewer_id  A0193442L7IJXD7HANDM  A02049035W9C30B2NBJM  A0228801ER3IBSLNOT5W  \\\n",
              "asin                                                                            \n",
              "B0000302YN                    0.0                   0.0                   0.0   \n",
              "B00004THXH                    0.0                   0.0                   0.0   \n",
              "B00004Z2UB                    0.0                   0.0                   0.0   \n",
              "B00004Z2UD                    0.0                   0.0                   0.0   \n",
              "B00006B8FS                    0.0                   0.0                   0.0   \n",
              "\n",
              "reviewer_id  A0345137PWD0TJ09QK1A  A0429690KG9J3JO6LSSH  A04454666ZIS4FUX7ZME  \\\n",
              "asin                                                                            \n",
              "B0000302YN                    0.0                   0.0                   0.0   \n",
              "B00004THXH                    0.0                   0.0                   0.0   \n",
              "B00004Z2UB                    0.0                   0.0                   0.0   \n",
              "B00004Z2UD                    0.0                   0.0                   0.0   \n",
              "B00006B8FS                    0.0                   0.0                   0.0   \n",
              "\n",
              "reviewer_id  A0479295RXACIYIXRLRF  A0483767C53I9DYB5TMS  A0490453AYGB1BAAOG64  \\\n",
              "asin                                                                            \n",
              "B0000302YN                    0.0                   0.0                   0.0   \n",
              "B00004THXH                    0.0                   0.0                   0.0   \n",
              "B00004Z2UB                    0.0                   0.0                   0.0   \n",
              "B00004Z2UD                    0.0                   0.0                   0.0   \n",
              "B00006B8FS                    0.0                   0.0                   0.0   \n",
              "\n",
              "reviewer_id  A0516005NLXNKCMT2YI9  ...  AZYKTPOHMZX7N  AZYML1QLCY4U8  \\\n",
              "asin                               ...                                 \n",
              "B0000302YN                    0.0  ...            0.0            0.0   \n",
              "B00004THXH                    0.0  ...            0.0            0.0   \n",
              "B00004Z2UB                    0.0  ...            0.0            0.0   \n",
              "B00004Z2UD                    0.0  ...            0.0            0.0   \n",
              "B00006B8FS                    0.0  ...            0.0            0.0   \n",
              "\n",
              "reviewer_id  AZYP4FQ2L2C4O  AZYQ60ZR354HC  AZYW27SS60XQY  AZZ1CC0BCXZ9H  \\\n",
              "asin                                                                      \n",
              "B0000302YN             0.0            0.0            0.0            0.0   \n",
              "B00004THXH             0.0            0.0            0.0            0.0   \n",
              "B00004Z2UB             0.0            0.0            0.0            0.0   \n",
              "B00004Z2UD             0.0            0.0            0.0            0.0   \n",
              "B00006B8FS             0.0            0.0            0.0            0.0   \n",
              "\n",
              "reviewer_id  AZZ74XTNQCOS4  AZZXNFW30OVPU  AZZXW4PH4OEEK  AZZZPAB0MBZ69  \n",
              "asin                                                                     \n",
              "B0000302YN             0.0            0.0            0.0            0.0  \n",
              "B00004THXH             0.0            0.0            0.0            0.0  \n",
              "B00004Z2UB             0.0            0.0            0.0            0.0  \n",
              "B00004Z2UD             0.0            0.0            0.0            0.0  \n",
              "B00006B8FS             0.0            0.0            0.0            0.0  \n",
              "\n",
              "[5 rows x 34594 columns]"
            ]
          },
          "metadata": {
            "tags": []
          },
          "execution_count": 9
        }
      ]
    },
    {
      "cell_type": "code",
      "metadata": {
        "id": "ibaY-SHCZspU",
        "outputId": "038f8c4c-c751-454f-8ba5-04fbe402f5a5"
      },
      "source": [
        "ratingsd.shape"
      ],
      "execution_count": null,
      "outputs": [
        {
          "output_type": "execute_result",
          "data": {
            "text/plain": [
              "(398, 34594)"
            ]
          },
          "metadata": {
            "tags": []
          },
          "execution_count": 10
        }
      ]
    },
    {
      "cell_type": "code",
      "metadata": {
        "id": "jgpb4CREZspU"
      },
      "source": [
        "traind, testd = train_test_split(ratingsd, test_size=0.3, random_state=42)"
      ],
      "execution_count": null,
      "outputs": []
    },
    {
      "cell_type": "code",
      "metadata": {
        "id": "xTjr36p-ZspU"
      },
      "source": [
        "train = traind.values\n",
        "test = testd.values"
      ],
      "execution_count": null,
      "outputs": []
    },
    {
      "cell_type": "code",
      "metadata": {
        "id": "t6iOJ71LZspU",
        "outputId": "86e1c5e1-5893-47db-9de6-d4966de57a83"
      },
      "source": [
        "sparsity = float(len(train.nonzero()[0]))\n",
        "sparsity /= (train.shape[0]*train.shape[1])\n",
        "sparsity *= 100\n",
        "print(f'sparsity: {sparsity}%')"
      ],
      "execution_count": null,
      "outputs": [
        {
          "output_type": "stream",
          "text": [
            "sparsity: 0.27993792744032214%\n"
          ],
          "name": "stdout"
        }
      ]
    },
    {
      "cell_type": "code",
      "metadata": {
        "id": "PGIjyBHaZspV"
      },
      "source": [
        "def item_similarity(ratings, epsilon=1e-3):\n",
        "    sim = ratings.T.dot(ratings)+epsilon\n",
        "    norms = np.array([np.sqrt(np.diagonal(sim))])\n",
        "    return (sim/norms/norms.T)"
      ],
      "execution_count": null,
      "outputs": []
    },
    {
      "cell_type": "code",
      "metadata": {
        "id": "MHB0S1UgZspV"
      },
      "source": [
        "item_sim = item_similarity(train)"
      ],
      "execution_count": null,
      "outputs": []
    },
    {
      "cell_type": "code",
      "metadata": {
        "id": "XvmvAueaZspV"
      },
      "source": [
        "def predict_item(ratings, similarity):\n",
        "    return ratings.dot(similarity) / np.array([np.abs(similarity).sum(axis=1)])"
      ],
      "execution_count": null,
      "outputs": []
    },
    {
      "cell_type": "code",
      "metadata": {
        "id": "1HJRmgRoZspV"
      },
      "source": [
        "item_prediction = predict_item(train, item_sim)"
      ],
      "execution_count": null,
      "outputs": []
    },
    {
      "cell_type": "code",
      "metadata": {
        "id": "lqwCjN8kZspW",
        "outputId": "c2177f0a-69f3-4b5d-a011-24ec7070928b"
      },
      "source": [
        "item_prediction[:4, :4]"
      ],
      "execution_count": null,
      "outputs": [
        {
          "output_type": "execute_result",
          "data": {
            "text/plain": [
              "array([[3.91055208e-04, 3.91055208e-04, 2.11751229e-04, 1.99216687e-04],\n",
              "       [2.48257030e-04, 2.48257030e-04, 1.34427902e-04, 1.26470488e-04],\n",
              "       [1.79309185e-04, 1.79309185e-04, 9.70935546e-05, 9.13461349e-05],\n",
              "       [2.55752835e-04, 2.55752835e-04, 1.38486781e-04, 1.30289103e-04]])"
            ]
          },
          "metadata": {
            "tags": []
          },
          "execution_count": 18
        }
      ]
    },
    {
      "cell_type": "code",
      "metadata": {
        "id": "kjhZt2gVZspW"
      },
      "source": [
        "from sklearn.metrics import mean_squared_error"
      ],
      "execution_count": null,
      "outputs": []
    },
    {
      "cell_type": "code",
      "metadata": {
        "id": "YAyQOB4bZspW"
      },
      "source": [
        "def get_mse(pred, actual):\n",
        "    pred = pred[actual.nonzero()].flatten()\n",
        "    actual = actual[actual.nonzero()].flatten()\n",
        "    return mean_squared_error(pred, actual)"
      ],
      "execution_count": null,
      "outputs": []
    },
    {
      "cell_type": "code",
      "metadata": {
        "id": "CEKwZkaGZspW",
        "outputId": "a5e159ad-d2e2-4e89-de78-3a0d6c005376"
      },
      "source": [
        "print('item-based CF MSE:', str(get_mse(item_prediction, test)))"
      ],
      "execution_count": null,
      "outputs": [
        {
          "output_type": "stream",
          "text": [
            "item-based CF MSE: 17.369296977860003\n"
          ],
          "name": "stdout"
        }
      ]
    },
    {
      "cell_type": "code",
      "metadata": {
        "id": "xrucJjobZspW"
      },
      "source": [
        "from sklearn.decomposition import TruncatedSVD\n",
        "from sklearn.metrics.pairwise import cosine_similarity"
      ],
      "execution_count": null,
      "outputs": []
    },
    {
      "cell_type": "code",
      "metadata": {
        "id": "mn1WB5U_ZspX",
        "outputId": "8a860c26-97d7-4e00-9f51-64608cf1998b"
      },
      "source": [
        "svd = TruncatedSVD(n_components=50, n_iter=7, random_state=42)\n",
        "r_mat_tr = svd.fit_transform(traind)\n",
        "print(svd.explained_variance_ratio_)\n",
        "print(svd.explained_variance_ratio_.sum())"
      ],
      "execution_count": null,
      "outputs": [
        {
          "output_type": "stream",
          "text": [
            "[0.02992958 0.02614082 0.02482213 0.02280331 0.0139896  0.01313408\n",
            " 0.01243283 0.01114403 0.01082745 0.01086482 0.0102264  0.00967991\n",
            " 0.00949537 0.00947888 0.00944445 0.00931534 0.00817544 0.0078972\n",
            " 0.00777677 0.00772837 0.00725354 0.00720834 0.00690552 0.00686204\n",
            " 0.00680672 0.00603403 0.00626394 0.00625671 0.00606014 0.00598057\n",
            " 0.00594802 0.00580893 0.0057666  0.00560095 0.00539902 0.00534443\n",
            " 0.00523616 0.00518476 0.00506533 0.00483486 0.00478473 0.0047079\n",
            " 0.0045246  0.00454408 0.00452948 0.00449724 0.00447649 0.0043645\n",
            " 0.00431131 0.00423728]\n",
            "0.43010498130926217\n"
          ],
          "name": "stdout"
        }
      ]
    },
    {
      "cell_type": "code",
      "metadata": {
        "id": "xMWukm5TZspX"
      },
      "source": [
        "ctrain = cosine_similarity(r_mat_tr)"
      ],
      "execution_count": null,
      "outputs": []
    },
    {
      "cell_type": "code",
      "metadata": {
        "id": "gsqDVV07ZspY",
        "outputId": "6d624622-f15d-4f92-9050-2e21c9ec10a8"
      },
      "source": [
        "r_mat_tr = svd.fit_transform(testd)\n",
        "print(svd.explained_variance_ratio_)\n",
        "print(svd.explained_variance_ratio_.sum())"
      ],
      "execution_count": null,
      "outputs": [
        {
          "output_type": "stream",
          "text": [
            "[0.03097939 0.03041311 0.0281574  0.02734198 0.02598669 0.02299087\n",
            " 0.0227991  0.0213169  0.02104761 0.02006568 0.01748098 0.01642129\n",
            " 0.01569749 0.01584233 0.01439854 0.01396505 0.01331836 0.01313984\n",
            " 0.01297719 0.01281752 0.01237055 0.01216191 0.01181328 0.01135496\n",
            " 0.01011608 0.00988023 0.00970572 0.00970603 0.00953923 0.00929233\n",
            " 0.00936193 0.00900899 0.00868604 0.00858888 0.00856311 0.00817107\n",
            " 0.00810764 0.00782634 0.00782006 0.00755731 0.00732157 0.00707385\n",
            " 0.00716187 0.00704263 0.00694895 0.00672118 0.00686985 0.0067374\n",
            " 0.00640722 0.00652627]\n",
            "0.6555998450976376\n"
          ],
          "name": "stdout"
        }
      ]
    },
    {
      "cell_type": "code",
      "metadata": {
        "id": "j-FYm3hOZspY"
      },
      "source": [
        "ctest = cosine_similarity(r_mat_tr)"
      ],
      "execution_count": null,
      "outputs": []
    },
    {
      "cell_type": "code",
      "metadata": {
        "id": "B7UtSeeRZspZ",
        "outputId": "9bc1a0cf-ace4-43f4-efed-34e90c4b137e"
      },
      "source": [
        "print('CF MSE:', str(get_mse(ctrain, ctest)))"
      ],
      "execution_count": null,
      "outputs": [
        {
          "output_type": "stream",
          "text": [
            "CF MSE: 0.07154861573382829\n"
          ],
          "name": "stdout"
        }
      ]
    },
    {
      "cell_type": "code",
      "metadata": {
        "id": "B5yqPGf-ZspZ"
      },
      "source": [
        "df1 = df1.sort_values(by='overall')\n",
        "df1 = df1.reset_index(drop=True)\n",
        "count_users = df1.groupby('reviewer_id', as_index=False).count()"
      ],
      "execution_count": null,
      "outputs": []
    },
    {
      "cell_type": "code",
      "metadata": {
        "id": "qZMcrl0UZspZ"
      },
      "source": [
        "count = df1.groupby('asin', as_index=False).mean()"
      ],
      "execution_count": null,
      "outputs": []
    },
    {
      "cell_type": "code",
      "metadata": {
        "id": "Jo8AAgK-Zspa",
        "outputId": "245d40fd-8cae-48d6-ea03-4d71e1316da4"
      },
      "source": [
        "items_df = count[['asin']]\n",
        "print(len(items_df))"
      ],
      "execution_count": null,
      "outputs": [
        {
          "output_type": "stream",
          "text": [
            "398\n"
          ],
          "name": "stdout"
        }
      ]
    },
    {
      "cell_type": "code",
      "metadata": {
        "id": "6MSYn-3LZspa",
        "outputId": "47d8c424-4264-461e-b71d-165e1f06ecc7"
      },
      "source": [
        "users_df = count_users[['reviewer_id']]\n",
        "print(len(users_df))"
      ],
      "execution_count": null,
      "outputs": [
        {
          "output_type": "stream",
          "text": [
            "34594\n"
          ],
          "name": "stdout"
        }
      ]
    },
    {
      "cell_type": "code",
      "metadata": {
        "id": "8cKOXazgZspa",
        "outputId": "c86007af-b6f9-4400-cc3b-55f4d05b9f88"
      },
      "source": [
        "users_list = users_df.values\n",
        "len(users_list)"
      ],
      "execution_count": null,
      "outputs": [
        {
          "output_type": "execute_result",
          "data": {
            "text/plain": [
              "34594"
            ]
          },
          "metadata": {
            "tags": []
          },
          "execution_count": 37
        }
      ]
    },
    {
      "cell_type": "code",
      "metadata": {
        "id": "E9J49hUTZspb",
        "outputId": "f6b06230-9e63-4eab-8065-baddb068662a"
      },
      "source": [
        "# df1.pivot 대신 pd.pivot_table(data=df1) 사용\n",
        "# as_matrix 대신 values 사용\n",
        "df_clean_matrix = pd.pivot_table(data=df1, index='asin', columns='reviewer_id', values='overall').fillna(0)\n",
        "df_clean_matrix = df_clean_matrix.T\n",
        "R = (df_clean_matrix).values\n",
        "R"
      ],
      "execution_count": null,
      "outputs": [
        {
          "output_type": "execute_result",
          "data": {
            "text/plain": [
              "array([[0., 0., 0., ..., 0., 0., 0.],\n",
              "       [0., 0., 0., ..., 0., 0., 0.],\n",
              "       [0., 0., 0., ..., 0., 0., 0.],\n",
              "       ...,\n",
              "       [0., 0., 0., ..., 0., 0., 0.],\n",
              "       [0., 0., 0., ..., 0., 0., 0.],\n",
              "       [0., 0., 0., ..., 0., 0., 0.]])"
            ]
          },
          "metadata": {
            "tags": []
          },
          "execution_count": 41
        }
      ]
    },
    {
      "cell_type": "code",
      "metadata": {
        "id": "jnfCzEP5Zspb",
        "outputId": "6968d2f0-0192-44cd-c9a6-7990ad11c0d5"
      },
      "source": [
        "user_ratings_mean = np.mean(R, axis=1)\n",
        "R_demeaned = R - user_ratings_mean.reshape(-1, 1)\n",
        "R_demeaned"
      ],
      "execution_count": null,
      "outputs": [
        {
          "output_type": "execute_result",
          "data": {
            "text/plain": [
              "array([[-0.00251256, -0.00251256, -0.00251256, ..., -0.00251256,\n",
              "        -0.00251256, -0.00251256],\n",
              "       [-0.00753769, -0.00753769, -0.00753769, ..., -0.00753769,\n",
              "        -0.00753769, -0.00753769],\n",
              "       [-0.01256281, -0.01256281, -0.01256281, ..., -0.01256281,\n",
              "        -0.01256281, -0.01256281],\n",
              "       ...,\n",
              "       [-0.00753769, -0.00753769, -0.00753769, ..., -0.00753769,\n",
              "        -0.00753769, -0.00753769],\n",
              "       [-0.01256281, -0.01256281, -0.01256281, ..., -0.01256281,\n",
              "        -0.01256281, -0.01256281],\n",
              "       [-0.01256281, -0.01256281, -0.01256281, ..., -0.01256281,\n",
              "        -0.01256281, -0.01256281]])"
            ]
          },
          "metadata": {
            "tags": []
          },
          "execution_count": 42
        }
      ]
    },
    {
      "cell_type": "code",
      "metadata": {
        "id": "kL0SR4CBZspb"
      },
      "source": [
        "from scipy.sparse.linalg import svds"
      ],
      "execution_count": null,
      "outputs": []
    },
    {
      "cell_type": "code",
      "metadata": {
        "id": "osxj9C27Zspb"
      },
      "source": [
        "U, sigma, Vt = svds(R_demeaned)"
      ],
      "execution_count": null,
      "outputs": []
    },
    {
      "cell_type": "code",
      "metadata": {
        "id": "pukVir5yZspc"
      },
      "source": [
        "sigma = np.diag(sigma)"
      ],
      "execution_count": null,
      "outputs": []
    },
    {
      "cell_type": "code",
      "metadata": {
        "id": "11P1BQH9Zspc"
      },
      "source": [
        "all_user_predicted_ratings = np.dot(np.dot(U, sigma), Vt) + user_ratings_mean.reshape(-1, 1)\n",
        "preds_df = pd.DataFrame(all_user_predicted_ratings, columns=df_clean_matrix.columns)"
      ],
      "execution_count": null,
      "outputs": []
    },
    {
      "cell_type": "code",
      "metadata": {
        "id": "oMmxs7XOZspc",
        "outputId": "7fc6e2d4-faca-4ce6-8aef-19056a493cc2"
      },
      "source": [
        "preds_df['reviewer_id'] = users_df\n",
        "preds_df.set_index('reviewer_id', inplace=True)\n",
        "preds_df.head()"
      ],
      "execution_count": null,
      "outputs": [
        {
          "output_type": "execute_result",
          "data": {
            "text/html": [
              "<div>\n",
              "<style scoped>\n",
              "    .dataframe tbody tr th:only-of-type {\n",
              "        vertical-align: middle;\n",
              "    }\n",
              "\n",
              "    .dataframe tbody tr th {\n",
              "        vertical-align: top;\n",
              "    }\n",
              "\n",
              "    .dataframe thead th {\n",
              "        text-align: right;\n",
              "    }\n",
              "</style>\n",
              "<table border=\"1\" class=\"dataframe\">\n",
              "  <thead>\n",
              "    <tr style=\"text-align: right;\">\n",
              "      <th>asin</th>\n",
              "      <th>B0000302YN</th>\n",
              "      <th>B00004THXH</th>\n",
              "      <th>B00004Z2UB</th>\n",
              "      <th>B00004Z2UD</th>\n",
              "      <th>B00006B8FS</th>\n",
              "      <th>B00006IC2T</th>\n",
              "      <th>B00006IE1Q</th>\n",
              "      <th>B00006IEFO</th>\n",
              "      <th>B00006IFGJ</th>\n",
              "      <th>B0001DSIHI</th>\n",
              "      <th>...</th>\n",
              "      <th>B01FEI3FI6</th>\n",
              "      <th>B01FIY4IZU</th>\n",
              "      <th>B01FN0XGRU</th>\n",
              "      <th>B01FVAHDKI</th>\n",
              "      <th>B01G3VZ5LS</th>\n",
              "      <th>B01GGQQ8WK</th>\n",
              "      <th>B01GR8TD92</th>\n",
              "      <th>B01GSOMVRG</th>\n",
              "      <th>B01GUFGNG8</th>\n",
              "      <th>B01H64JN6O</th>\n",
              "    </tr>\n",
              "    <tr>\n",
              "      <th>reviewer_id</th>\n",
              "      <th></th>\n",
              "      <th></th>\n",
              "      <th></th>\n",
              "      <th></th>\n",
              "      <th></th>\n",
              "      <th></th>\n",
              "      <th></th>\n",
              "      <th></th>\n",
              "      <th></th>\n",
              "      <th></th>\n",
              "      <th></th>\n",
              "      <th></th>\n",
              "      <th></th>\n",
              "      <th></th>\n",
              "      <th></th>\n",
              "      <th></th>\n",
              "      <th></th>\n",
              "      <th></th>\n",
              "      <th></th>\n",
              "      <th></th>\n",
              "      <th></th>\n",
              "    </tr>\n",
              "  </thead>\n",
              "  <tbody>\n",
              "    <tr>\n",
              "      <th>A0193442L7IJXD7HANDM</th>\n",
              "      <td>0.002560</td>\n",
              "      <td>-0.000022</td>\n",
              "      <td>0.002546</td>\n",
              "      <td>0.002559</td>\n",
              "      <td>0.002561</td>\n",
              "      <td>0.002559</td>\n",
              "      <td>0.002559</td>\n",
              "      <td>0.002562</td>\n",
              "      <td>0.002561</td>\n",
              "      <td>0.002562</td>\n",
              "      <td>...</td>\n",
              "      <td>0.002561</td>\n",
              "      <td>0.002559</td>\n",
              "      <td>0.002557</td>\n",
              "      <td>0.002562</td>\n",
              "      <td>0.002560</td>\n",
              "      <td>0.002563</td>\n",
              "      <td>0.002564</td>\n",
              "      <td>0.002579</td>\n",
              "      <td>0.002560</td>\n",
              "      <td>0.002561</td>\n",
              "    </tr>\n",
              "    <tr>\n",
              "      <th>A02049035W9C30B2NBJM</th>\n",
              "      <td>-0.000896</td>\n",
              "      <td>-0.000476</td>\n",
              "      <td>0.000084</td>\n",
              "      <td>0.000015</td>\n",
              "      <td>-0.000184</td>\n",
              "      <td>0.000038</td>\n",
              "      <td>-0.000509</td>\n",
              "      <td>-0.000533</td>\n",
              "      <td>-0.002215</td>\n",
              "      <td>-0.000422</td>\n",
              "      <td>...</td>\n",
              "      <td>-0.000298</td>\n",
              "      <td>0.000001</td>\n",
              "      <td>-0.000126</td>\n",
              "      <td>-0.000342</td>\n",
              "      <td>-0.000188</td>\n",
              "      <td>-0.000529</td>\n",
              "      <td>-0.000674</td>\n",
              "      <td>-0.002994</td>\n",
              "      <td>-0.000172</td>\n",
              "      <td>-0.000259</td>\n",
              "    </tr>\n",
              "    <tr>\n",
              "      <th>A0228801ER3IBSLNOT5W</th>\n",
              "      <td>0.012818</td>\n",
              "      <td>-0.000307</td>\n",
              "      <td>0.012747</td>\n",
              "      <td>0.012814</td>\n",
              "      <td>0.012823</td>\n",
              "      <td>0.012814</td>\n",
              "      <td>0.012799</td>\n",
              "      <td>0.012831</td>\n",
              "      <td>0.012826</td>\n",
              "      <td>0.012829</td>\n",
              "      <td>...</td>\n",
              "      <td>0.012825</td>\n",
              "      <td>0.012815</td>\n",
              "      <td>0.012801</td>\n",
              "      <td>0.012827</td>\n",
              "      <td>0.012819</td>\n",
              "      <td>0.012833</td>\n",
              "      <td>0.012838</td>\n",
              "      <td>0.012922</td>\n",
              "      <td>0.012821</td>\n",
              "      <td>0.012824</td>\n",
              "    </tr>\n",
              "    <tr>\n",
              "      <th>A0345137PWD0TJ09QK1A</th>\n",
              "      <td>0.012819</td>\n",
              "      <td>-0.000364</td>\n",
              "      <td>0.012748</td>\n",
              "      <td>0.012815</td>\n",
              "      <td>0.012824</td>\n",
              "      <td>0.012815</td>\n",
              "      <td>0.012799</td>\n",
              "      <td>0.012832</td>\n",
              "      <td>0.012827</td>\n",
              "      <td>0.012830</td>\n",
              "      <td>...</td>\n",
              "      <td>0.012826</td>\n",
              "      <td>0.012816</td>\n",
              "      <td>0.012802</td>\n",
              "      <td>0.012828</td>\n",
              "      <td>0.012820</td>\n",
              "      <td>0.012834</td>\n",
              "      <td>0.012839</td>\n",
              "      <td>0.012923</td>\n",
              "      <td>0.012822</td>\n",
              "      <td>0.012825</td>\n",
              "    </tr>\n",
              "    <tr>\n",
              "      <th>A0429690KG9J3JO6LSSH</th>\n",
              "      <td>0.002548</td>\n",
              "      <td>0.000101</td>\n",
              "      <td>0.002536</td>\n",
              "      <td>0.002548</td>\n",
              "      <td>0.002550</td>\n",
              "      <td>0.002548</td>\n",
              "      <td>0.002545</td>\n",
              "      <td>0.002551</td>\n",
              "      <td>0.002547</td>\n",
              "      <td>0.002551</td>\n",
              "      <td>...</td>\n",
              "      <td>0.002550</td>\n",
              "      <td>0.002549</td>\n",
              "      <td>0.002546</td>\n",
              "      <td>0.002550</td>\n",
              "      <td>0.002549</td>\n",
              "      <td>0.002551</td>\n",
              "      <td>0.002552</td>\n",
              "      <td>0.002564</td>\n",
              "      <td>0.002549</td>\n",
              "      <td>0.002550</td>\n",
              "    </tr>\n",
              "  </tbody>\n",
              "</table>\n",
              "<p>5 rows × 398 columns</p>\n",
              "</div>"
            ],
            "text/plain": [
              "asin                  B0000302YN  B00004THXH  B00004Z2UB  B00004Z2UD  \\\n",
              "reviewer_id                                                            \n",
              "A0193442L7IJXD7HANDM    0.002560   -0.000022    0.002546    0.002559   \n",
              "A02049035W9C30B2NBJM   -0.000896   -0.000476    0.000084    0.000015   \n",
              "A0228801ER3IBSLNOT5W    0.012818   -0.000307    0.012747    0.012814   \n",
              "A0345137PWD0TJ09QK1A    0.012819   -0.000364    0.012748    0.012815   \n",
              "A0429690KG9J3JO6LSSH    0.002548    0.000101    0.002536    0.002548   \n",
              "\n",
              "asin                  B00006B8FS  B00006IC2T  B00006IE1Q  B00006IEFO  \\\n",
              "reviewer_id                                                            \n",
              "A0193442L7IJXD7HANDM    0.002561    0.002559    0.002559    0.002562   \n",
              "A02049035W9C30B2NBJM   -0.000184    0.000038   -0.000509   -0.000533   \n",
              "A0228801ER3IBSLNOT5W    0.012823    0.012814    0.012799    0.012831   \n",
              "A0345137PWD0TJ09QK1A    0.012824    0.012815    0.012799    0.012832   \n",
              "A0429690KG9J3JO6LSSH    0.002550    0.002548    0.002545    0.002551   \n",
              "\n",
              "asin                  B00006IFGJ  B0001DSIHI  ...  B01FEI3FI6  B01FIY4IZU  \\\n",
              "reviewer_id                                   ...                           \n",
              "A0193442L7IJXD7HANDM    0.002561    0.002562  ...    0.002561    0.002559   \n",
              "A02049035W9C30B2NBJM   -0.002215   -0.000422  ...   -0.000298    0.000001   \n",
              "A0228801ER3IBSLNOT5W    0.012826    0.012829  ...    0.012825    0.012815   \n",
              "A0345137PWD0TJ09QK1A    0.012827    0.012830  ...    0.012826    0.012816   \n",
              "A0429690KG9J3JO6LSSH    0.002547    0.002551  ...    0.002550    0.002549   \n",
              "\n",
              "asin                  B01FN0XGRU  B01FVAHDKI  B01G3VZ5LS  B01GGQQ8WK  \\\n",
              "reviewer_id                                                            \n",
              "A0193442L7IJXD7HANDM    0.002557    0.002562    0.002560    0.002563   \n",
              "A02049035W9C30B2NBJM   -0.000126   -0.000342   -0.000188   -0.000529   \n",
              "A0228801ER3IBSLNOT5W    0.012801    0.012827    0.012819    0.012833   \n",
              "A0345137PWD0TJ09QK1A    0.012802    0.012828    0.012820    0.012834   \n",
              "A0429690KG9J3JO6LSSH    0.002546    0.002550    0.002549    0.002551   \n",
              "\n",
              "asin                  B01GR8TD92  B01GSOMVRG  B01GUFGNG8  B01H64JN6O  \n",
              "reviewer_id                                                           \n",
              "A0193442L7IJXD7HANDM    0.002564    0.002579    0.002560    0.002561  \n",
              "A02049035W9C30B2NBJM   -0.000674   -0.002994   -0.000172   -0.000259  \n",
              "A0228801ER3IBSLNOT5W    0.012838    0.012922    0.012821    0.012824  \n",
              "A0345137PWD0TJ09QK1A    0.012839    0.012923    0.012822    0.012825  \n",
              "A0429690KG9J3JO6LSSH    0.002552    0.002564    0.002549    0.002550  \n",
              "\n",
              "[5 rows x 398 columns]"
            ]
          },
          "metadata": {
            "tags": []
          },
          "execution_count": 47
        }
      ]
    },
    {
      "cell_type": "code",
      "metadata": {
        "id": "fRGrutwAZspc",
        "outputId": "899226cc-89e4-4aae-e3ff-10db6502014d"
      },
      "source": [
        "preds_df.shape"
      ],
      "execution_count": null,
      "outputs": [
        {
          "output_type": "execute_result",
          "data": {
            "text/plain": [
              "(34594, 398)"
            ]
          },
          "metadata": {
            "tags": []
          },
          "execution_count": 48
        }
      ]
    },
    {
      "cell_type": "code",
      "metadata": {
        "id": "gJoNgapTZspd"
      },
      "source": [
        "def recommend_it(predictions_df, itm_df, original_ratings_df, num_recommendations=10, ruserid='A0193442L7IJXD7HANDM'):\n",
        "    \n",
        "    # Get and sort the user's predictions\n",
        "    sorted_user_predictions = predictions_df.loc[ruserid].sort_values(ascending=False)\n",
        "    \n",
        "    # Get the user's data and merge in the item information\n",
        "    user_data = original_ratings_df[original_ratings_df.reviewer_id == ruserid]\n",
        "    user_full = (user_data.merge(itm_df, how='left', left_on='asin', right_on='asin').\n",
        "                sort_values(['overall'], ascending=False))\n",
        "    print(f'User {ruserid} has already purchased {user_full.shape[0]} items.')\n",
        "    print(f'Recommending the highest {num_recommendations} predicted items not already purchased.')\n",
        "    \n",
        "    # Recommend the highest predicted rating items that the user hasn't bought yet.\n",
        "    recommendations = (itm_df[~itm_df['asin'].isin(user_full['asin'])].\n",
        "                      merge(pd.DataFrame(sorted_user_predictions).reset_index(), how='left',\n",
        "                           left_on='asin', right_on='asin').\n",
        "                      rename(columns= {ruserid: 'predictions'}).\n",
        "                      sort_values('predictions', ascending=False).\n",
        "                      iloc[:num_recommendations, :-1])\n",
        "    topk = recommendations.merge(original_ratings_df, left_index=True, right_on='asin',\n",
        "                                 left_on='asin').drop_duplicates(['asin', 'title'])[['asin', 'title']]\n",
        "    \n",
        "    return topk"
      ],
      "execution_count": null,
      "outputs": []
    },
    {
      "cell_type": "code",
      "metadata": {
        "id": "bt_2NlKfZspd",
        "outputId": "7c3411e7-771a-4d1c-9a66-c5d88a383f91"
      },
      "source": [
        "recommend_it(preds_df, items_df, df1, 5)"
      ],
      "execution_count": null,
      "outputs": [
        {
          "output_type": "stream",
          "text": [
            "User A0193442L7IJXD7HANDM has already purchased 1 items.\n",
            "Recommending the highest 5 predicted items not already purchased.\n"
          ],
          "name": "stdout"
        },
        {
          "output_type": "execute_result",
          "data": {
            "text/html": [
              "<div>\n",
              "<style scoped>\n",
              "    .dataframe tbody tr th:only-of-type {\n",
              "        vertical-align: middle;\n",
              "    }\n",
              "\n",
              "    .dataframe tbody tr th {\n",
              "        vertical-align: top;\n",
              "    }\n",
              "\n",
              "    .dataframe thead th {\n",
              "        text-align: right;\n",
              "    }\n",
              "</style>\n",
              "<table border=\"1\" class=\"dataframe\">\n",
              "  <thead>\n",
              "    <tr style=\"text-align: right;\">\n",
              "      <th></th>\n",
              "      <th>asin</th>\n",
              "      <th>title</th>\n",
              "    </tr>\n",
              "  </thead>\n",
              "  <tbody>\n",
              "    <tr>\n",
              "      <th>450</th>\n",
              "      <td>B001QX2G9S</td>\n",
              "      <td>Rit Dye Liquid Fabric Dye, 8-Ounce,  Black</td>\n",
              "    </tr>\n",
              "    <tr>\n",
              "      <th>3935</th>\n",
              "      <td>B000B7Q9KM</td>\n",
              "      <td>Rit Dye Liquid Fabric Dye, 8-Ounce,  Cocoa Brown</td>\n",
              "    </tr>\n",
              "    <tr>\n",
              "      <th>1802</th>\n",
              "      <td>B00WW8KIRI</td>\n",
              "      <td>Sugru Moldable Glue - Original Formula - New C...</td>\n",
              "    </tr>\n",
              "    <tr>\n",
              "      <th>912</th>\n",
              "      <td>B01D3MWPU4</td>\n",
              "      <td>Singer | Heavy Duty 4411 Sewing Machine with 1...</td>\n",
              "    </tr>\n",
              "    <tr>\n",
              "      <th>3960</th>\n",
              "      <td>B005GXPOAM</td>\n",
              "      <td>Brother XR9500PRW Project Runway Limited Editi...</td>\n",
              "    </tr>\n",
              "  </tbody>\n",
              "</table>\n",
              "</div>"
            ],
            "text/plain": [
              "            asin                                              title\n",
              "450   B001QX2G9S         Rit Dye Liquid Fabric Dye, 8-Ounce,  Black\n",
              "3935  B000B7Q9KM   Rit Dye Liquid Fabric Dye, 8-Ounce,  Cocoa Brown\n",
              "1802  B00WW8KIRI  Sugru Moldable Glue - Original Formula - New C...\n",
              "912   B01D3MWPU4  Singer | Heavy Duty 4411 Sewing Machine with 1...\n",
              "3960  B005GXPOAM  Brother XR9500PRW Project Runway Limited Editi..."
            ]
          },
          "metadata": {
            "tags": []
          },
          "execution_count": 52
        }
      ]
    },
    {
      "cell_type": "code",
      "metadata": {
        "id": "4A-HK9F-Zspe",
        "outputId": "ee2a9018-4663-4107-ff81-e59b74db6e36"
      },
      "source": [
        "# recommend for any user\n",
        "recommend_it(preds_df, items_df, df1, 5, 'A1PAGHECG401K1')"
      ],
      "execution_count": null,
      "outputs": [
        {
          "output_type": "stream",
          "text": [
            "User A1PAGHECG401K1 has already purchased 16 items.\n",
            "Recommending the highest 5 predicted items not already purchased.\n"
          ],
          "name": "stdout"
        },
        {
          "output_type": "execute_result",
          "data": {
            "text/html": [
              "<div>\n",
              "<style scoped>\n",
              "    .dataframe tbody tr th:only-of-type {\n",
              "        vertical-align: middle;\n",
              "    }\n",
              "\n",
              "    .dataframe tbody tr th {\n",
              "        vertical-align: top;\n",
              "    }\n",
              "\n",
              "    .dataframe thead th {\n",
              "        text-align: right;\n",
              "    }\n",
              "</style>\n",
              "<table border=\"1\" class=\"dataframe\">\n",
              "  <thead>\n",
              "    <tr style=\"text-align: right;\">\n",
              "      <th></th>\n",
              "      <th>asin</th>\n",
              "      <th>title</th>\n",
              "    </tr>\n",
              "  </thead>\n",
              "  <tbody>\n",
              "    <tr>\n",
              "      <th>450</th>\n",
              "      <td>B001QX2G9S</td>\n",
              "      <td>Rit Dye Liquid Fabric Dye, 8-Ounce,  Black</td>\n",
              "    </tr>\n",
              "    <tr>\n",
              "      <th>3935</th>\n",
              "      <td>B000B7Q9KM</td>\n",
              "      <td>Rit Dye Liquid Fabric Dye, 8-Ounce,  Cocoa Brown</td>\n",
              "    </tr>\n",
              "    <tr>\n",
              "      <th>1802</th>\n",
              "      <td>B00WW8KIRI</td>\n",
              "      <td>Sugru Moldable Glue - Original Formula - New C...</td>\n",
              "    </tr>\n",
              "    <tr>\n",
              "      <th>3960</th>\n",
              "      <td>B005GXPOAM</td>\n",
              "      <td>Brother XR9500PRW Project Runway Limited Editi...</td>\n",
              "    </tr>\n",
              "    <tr>\n",
              "      <th>912</th>\n",
              "      <td>B01D3MWPU4</td>\n",
              "      <td>Singer | Heavy Duty 4411 Sewing Machine with 1...</td>\n",
              "    </tr>\n",
              "  </tbody>\n",
              "</table>\n",
              "</div>"
            ],
            "text/plain": [
              "            asin                                              title\n",
              "450   B001QX2G9S         Rit Dye Liquid Fabric Dye, 8-Ounce,  Black\n",
              "3935  B000B7Q9KM   Rit Dye Liquid Fabric Dye, 8-Ounce,  Cocoa Brown\n",
              "1802  B00WW8KIRI  Sugru Moldable Glue - Original Formula - New C...\n",
              "3960  B005GXPOAM  Brother XR9500PRW Project Runway Limited Editi...\n",
              "912   B01D3MWPU4  Singer | Heavy Duty 4411 Sewing Machine with 1..."
            ]
          },
          "metadata": {
            "tags": []
          },
          "execution_count": 54
        }
      ]
    },
    {
      "cell_type": "code",
      "metadata": {
        "id": "kM7SINLDZspe",
        "outputId": "9273e311-5a80-4f6f-e04f-62d4605f24c0"
      },
      "source": [
        "recommend_it(preds_df, items_df, df1, 5, 'ALYZJ7W14YS26')"
      ],
      "execution_count": null,
      "outputs": [
        {
          "output_type": "stream",
          "text": [
            "User ALYZJ7W14YS26 has already purchased 17 items.\n",
            "Recommending the highest 5 predicted items not already purchased.\n"
          ],
          "name": "stdout"
        },
        {
          "output_type": "execute_result",
          "data": {
            "text/html": [
              "<div>\n",
              "<style scoped>\n",
              "    .dataframe tbody tr th:only-of-type {\n",
              "        vertical-align: middle;\n",
              "    }\n",
              "\n",
              "    .dataframe tbody tr th {\n",
              "        vertical-align: top;\n",
              "    }\n",
              "\n",
              "    .dataframe thead th {\n",
              "        text-align: right;\n",
              "    }\n",
              "</style>\n",
              "<table border=\"1\" class=\"dataframe\">\n",
              "  <thead>\n",
              "    <tr style=\"text-align: right;\">\n",
              "      <th></th>\n",
              "      <th>asin</th>\n",
              "      <th>title</th>\n",
              "    </tr>\n",
              "  </thead>\n",
              "  <tbody>\n",
              "    <tr>\n",
              "      <th>7418</th>\n",
              "      <td>B004499DT2</td>\n",
              "      <td>Snapware Yarn Tainer Storage Container, Large</td>\n",
              "    </tr>\n",
              "    <tr>\n",
              "      <th>5687</th>\n",
              "      <td>B0042TJGD2</td>\n",
              "      <td>Lion Brand Yarn 825-216 Amazing Yarn, Cobblestone</td>\n",
              "    </tr>\n",
              "    <tr>\n",
              "      <th>2608</th>\n",
              "      <td>B000YZ5IY4</td>\n",
              "      <td>Environmental Technology 00876 16-Ounce Fiber-...</td>\n",
              "    </tr>\n",
              "    <tr>\n",
              "      <th>3585</th>\n",
              "      <td>B004W8PDWQ</td>\n",
              "      <td>K&amp;amp;CompanySmash Folio, Simple Orange</td>\n",
              "    </tr>\n",
              "    <tr>\n",
              "      <th>3734</th>\n",
              "      <td>B00B2CCA6W</td>\n",
              "      <td>Clover 3672 Amour Crochet Hook Set, 10 sizes</td>\n",
              "    </tr>\n",
              "  </tbody>\n",
              "</table>\n",
              "</div>"
            ],
            "text/plain": [
              "            asin                                              title\n",
              "7418  B004499DT2      Snapware Yarn Tainer Storage Container, Large\n",
              "5687  B0042TJGD2  Lion Brand Yarn 825-216 Amazing Yarn, Cobblestone\n",
              "2608  B000YZ5IY4  Environmental Technology 00876 16-Ounce Fiber-...\n",
              "3585  B004W8PDWQ            K&amp;CompanySmash Folio, Simple Orange\n",
              "3734  B00B2CCA6W       Clover 3672 Amour Crochet Hook Set, 10 sizes"
            ]
          },
          "metadata": {
            "tags": []
          },
          "execution_count": 55
        }
      ]
    },
    {
      "cell_type": "code",
      "metadata": {
        "id": "odf8tPxJZspe"
      },
      "source": [
        ""
      ],
      "execution_count": null,
      "outputs": []
    }
  ]
}